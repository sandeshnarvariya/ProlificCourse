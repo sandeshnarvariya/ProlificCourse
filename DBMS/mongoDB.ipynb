{
 "cells": [
  {
   "cell_type": "markdown",
   "id": "79efc3f0",
   "metadata": {},
   "source": [
    "## NOSQL : Not Only SQL\n",
    "#### A NoSQL database provides a mechanism for storage and retrieval of data that is modeled in means other than the tabular relations used in relational databases. Such databases have existed since the late 1960s, but the name \"NoSQL\" was only coined in the early 21st century.\n",
    "\n",
    "* NoSQL databases are increasingly used in big data and real-time web applications.\n",
    "* In sql if you you want some changes in table than you have to create a new table . but in NOSQL you can do it.\n",
    "\n",
    "#### When should NoSQL be used:\n",
    "\n",
    "* When huge amount of data need to be stored and retrieved .\n",
    "* The relationship between the data you store is not that important\n",
    "* The data changing over time and is not structured.\n",
    "* Support of Constraints and Joins is not required at database level\n",
    "* The data is growing continuously and you need to scale the database regular to handle the data."
   ]
  },
  {
   "cell_type": "markdown",
   "id": "24933200",
   "metadata": {},
   "source": [
    "See the following difference between two most popular SQL and NoSQL Dbs-\n",
    "\n",
    "|MySQL|MongoDB|\n",
    "|:-:|:-:|\n",
    "|Matured or stable|Its new and updated frequently|\n",
    "|It follows tabular structure|It follows document structure like JSON format|\n",
    "|It needs a proper schema| Its flexible in nature|\n",
    "|Managing complex relations among different tables is easy|Its not that great in complex managing relationship|\n",
    "|Its scales vertically| Horizontaly scalable|"
   ]
  },
  {
   "cell_type": "markdown",
   "id": "fff162ad",
   "metadata": {},
   "source": [
    "---\n",
    "\n",
    "## 19.3.2 Installing MongoDB (Community Edition) [[Official Documents](https://docs.mongodb.com/manual/administration/install-community/)]\n",
    "\n"
   ]
  },
  {
   "cell_type": "markdown",
   "id": "05d563a2",
   "metadata": {},
   "source": [
    "### 19.3.2.1 For Windows\n",
    "\n",
    "STEP 1: Download the installer file from download center from [here](https://www.mongodb.com/try/download/community?tck=docs_server)\n",
    "> ![mongoDB Community Server](mongo_img/mDBCommServer.JPG)\n",
    "1. Select the Version\n",
    "2. Choose platform as windows\n",
    "3. Select package as msi\n",
    "4. Click on download\n",
    "\n",
    "\n",
    "---\n",
    "\n",
    "\n",
    "STEP 2: Run the installer that you have downloaded\n",
    "\n",
    "1. Double click on the installer for mongoDB (which has .msi extension) from the location where you have downloaded the file\n",
    "\n",
    "> ![installer1](mongo_img/msi1.JPG)\n",
    "\n",
    "---\n",
    "\n",
    "\n",
    "STEP 3: Follow along the installation wizard\n",
    "\n",
    "1. Choose the setup type Complete or Custom (for advance users). The Complete setup option will choose the default location in your PC to install unlike Custom installation which allows you to choose the other location to install.\n",
    "\n",
    "> ![installer3](mongo_img/msi3.JPG)\n",
    "\n",
    "\n",
    "2. Select intall MongoDB as a Service.\n",
    "\n",
    "> ![installer4](mongo_img/msi4.JPG)\n",
    "\n",
    "\n",
    "3. Select Run the service as Network Service user (Default)\n",
    "\n",
    "\n",
    "\n",
    "\n",
    "4. Service Name. Specify the service name. Default name is MongoDB. If you already have a service with the specified name, you must choose another name.\n",
    "\n",
    "\n",
    "5. Data Directory. Specify the data directory, which corresponds to the --dbpath. If the directory does not exist, the installer will create the directory and sets the directory access to the service user.\n",
    "\n",
    "\n",
    "6. Log Directory. Specify the Log directory, which corresponds to the --logpath. If the directory does not exist, the installer will create the directory and sets the directory access to the service user.\n",
    "\n",
    "---\n",
    "\n",
    "\n",
    "STEP 4: Install [MongoDB compass](https://www.mongodb.com/products/compass) (Optional)\n",
    "\n",
    "> ![installer5](mongo_img/msi5.JPG)\n",
    "\n",
    "MongoDB compass is a UI tool for mongoDB. Once Compass is installed you'll see following screens - \n",
    "\n",
    "> ![installed1](mongo_img/installed1.JPG)\n",
    "\n",
    "> ![installed1](mongo_img/compass1.JPG)\n",
    "\n"
   ]
  },
  {
   "cell_type": "code",
   "execution_count": 6,
   "id": "c9d0e42e",
   "metadata": {},
   "outputs": [
    {
     "name": "stdout",
     "output_type": "stream",
     "text": [
      "Collecting pymongo\n",
      "  Downloading pymongo-3.11.4-cp39-cp39-win_amd64.whl (383 kB)\n",
      "Installing collected packages: pymongo\n",
      "Successfully installed pymongo-3.11.4\n"
     ]
    }
   ],
   "source": [
    "!python -m pip install pymongo"
   ]
  },
  {
   "cell_type": "code",
   "execution_count": 2,
   "id": "2880d028",
   "metadata": {},
   "outputs": [
    {
     "data": {
      "text/plain": [
       "'ab'"
      ]
     },
     "execution_count": 2,
     "metadata": {},
     "output_type": "execute_result"
    }
   ],
   "source": [
    "'a'+'b'"
   ]
  },
  {
   "cell_type": "code",
   "execution_count": null,
   "id": "60d45320",
   "metadata": {},
   "outputs": [],
   "source": []
  }
 ],
 "metadata": {
  "kernelspec": {
   "display_name": "Python 3",
   "language": "python",
   "name": "python3"
  },
  "language_info": {
   "codemirror_mode": {
    "name": "ipython",
    "version": 3
   },
   "file_extension": ".py",
   "mimetype": "text/x-python",
   "name": "python",
   "nbconvert_exporter": "python",
   "pygments_lexer": "ipython3",
   "version": "3.9.5"
  }
 },
 "nbformat": 4,
 "nbformat_minor": 5
}
