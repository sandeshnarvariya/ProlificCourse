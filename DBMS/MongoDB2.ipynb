{
 "cells": [
  {
   "cell_type": "code",
   "execution_count": 2,
   "id": "164a5ee2",
   "metadata": {},
   "outputs": [
    {
     "name": "stdout",
     "output_type": "stream",
     "text": [
      "Collecting pymongo\n",
      "  Downloading pymongo-3.11.4-cp38-cp38-win_amd64.whl (383 kB)\n",
      "Installing collected packages: pymongo\n",
      "Successfully installed pymongo-3.11.4\n"
     ]
    }
   ],
   "source": [
    "!python -m pip install pymongo"
   ]
  },
  {
   "cell_type": "code",
   "execution_count": 3,
   "id": "6e0f0f4b",
   "metadata": {},
   "outputs": [
    {
     "data": {
      "text/plain": [
       "MongoClient(host=['localhost:27017'], document_class=dict, tz_aware=False, connect=True)"
      ]
     },
     "execution_count": 3,
     "metadata": {},
     "output_type": "execute_result"
    }
   ],
   "source": [
    "import pymongo\n",
    "# here we are creating connection and this (\"mongodb://localhost:27017/\")\n",
    "# Is the adderess of mongo db database & it will be same for every one . \n",
    "client = pymongo.MongoClient(\"mongodb://localhost:27017/\")\n",
    "client"
   ]
  },
  {
   "cell_type": "code",
   "execution_count": 4,
   "id": "c8812673",
   "metadata": {},
   "outputs": [],
   "source": [
    "# Now i will  try to create a Database\n",
    "db1 = client[\"Prolific_1\"]\n"
   ]
  },
  {
   "cell_type": "code",
   "execution_count": 5,
   "id": "d384668f",
   "metadata": {},
   "outputs": [
    {
     "data": {
      "text/plain": [
       "Database(MongoClient(host=['localhost:27017'], document_class=dict, tz_aware=False, connect=True), 'Prolific_1')"
      ]
     },
     "execution_count": 5,
     "metadata": {},
     "output_type": "execute_result"
    }
   ],
   "source": [
    "db1"
   ]
  },
  {
   "cell_type": "markdown",
   "id": "bc7a84d1",
   "metadata": {},
   "source": [
    "---\n",
    "\n",
    "### Paste the default URL in highlighted area of the Compass tool as shown below and click on connect\n",
    "default URL for local system:- \n",
    "```\n",
    "mongodb://localhost:27017/\n",
    "```\n",
    "\n",
    "> ![new connection](mongo_img/compass/c2.JPG)\n",
    "\n",
    "after you press connect you'll see the following screen which contains already existing databases\n",
    "\n",
    "> ![new connection](mongo_img/compass/c3.JPG)\n",
    "\n",
    "\n",
    "**NOTE** you'll not see your database untill or unless you have created first document inside it. So at present we don't have any document in our DB its name is not visible here \n",
    "\n",
    "You can also create a database by clicking on CREATE DATABSE button. You'll see a below screen (But we'll see eveyrthing using python)\n",
    "\n",
    "> ![new connection](mongo_img/compass/c4.JPG)"
   ]
  },
  {
   "cell_type": "code",
   "execution_count": null,
   "id": "6170a162",
   "metadata": {},
   "outputs": [],
   "source": [
    "# Go and check to mongodb gui, \n",
    "# you will not get 'Prolific' database,\n",
    "# bcoz in mongodb you have to put some data into database"
   ]
  },
  {
   "cell_type": "code",
   "execution_count": 6,
   "id": "cce7ce04",
   "metadata": {},
   "outputs": [
    {
     "data": {
      "text/plain": [
       "['admin', 'config', 'local']"
      ]
     },
     "execution_count": 6,
     "metadata": {},
     "output_type": "execute_result"
    }
   ],
   "source": [
    "# lets see what the existing list of DBs -\n",
    "\n",
    "client.list_database_names()"
   ]
  },
  {
   "cell_type": "code",
   "execution_count": 7,
   "id": "b0f51d33",
   "metadata": {},
   "outputs": [
    {
     "name": "stdout",
     "output_type": "stream",
     "text": [
      "6\n"
     ]
    }
   ],
   "source": [
    "def s(a,b):\n",
    "    print(a+b)\n",
    "# o = s(1,2)\n",
    "# o\n",
    "_ = s(4,2)# I dont want to use it further"
   ]
  },
  {
   "cell_type": "code",
   "execution_count": 8,
   "id": "73d900c3",
   "metadata": {},
   "outputs": [
    {
     "name": "stdout",
     "output_type": "stream",
     "text": [
      "DB: 'Prolific_1' not yet present OR no collection is present in the DB\n"
     ]
    }
   ],
   "source": [
    "# let's verify whether we have our database in the list or not \n",
    "# we'll use the following function:-\n",
    "def checkExistence_DB(DB_NAME, client):\n",
    "    \"\"\"It verifies the existence of DB\"\"\"\n",
    "    DBlist = client.list_database_names()\n",
    "    if DB_NAME in DBlist:\n",
    "        print(f\"DB: '{DB_NAME}' exists\")\n",
    "        return True\n",
    "    print(f\"DB: '{DB_NAME}' not yet present OR no collection is present in the DB\")\n",
    "    return False\n",
    "_ = checkExistence_DB(\"Prolific_1\", client)"
   ]
  },
  {
   "cell_type": "code",
   "execution_count": null,
   "id": "caef4ac7",
   "metadata": {},
   "outputs": [],
   "source": []
  },
  {
   "cell_type": "markdown",
   "id": "a4bae937",
   "metadata": {},
   "source": [
    "###  In MongoDB we have to create 'collection ' inside database (i.e db)\n",
    "* syntax :\n",
    "* * collection = databasename['name of collection']"
   ]
  },
  {
   "cell_type": "code",
   "execution_count": 9,
   "id": "d6f80660",
   "metadata": {},
   "outputs": [
    {
     "data": {
      "text/plain": [
       "Collection(Database(MongoClient(host=['localhost:27017'], document_class=dict, tz_aware=False, connect=True), 'Prolific_1'), 'test1')"
      ]
     },
     "execution_count": 9,
     "metadata": {},
     "output_type": "execute_result"
    }
   ],
   "source": [
    "coll = db1['test1']\n",
    "coll\n",
    "# go back and  check"
   ]
  },
  {
   "cell_type": "markdown",
   "id": "d11aa5da",
   "metadata": {},
   "source": [
    "* Now it will 1st check whether the database 'prolific' exists or not .\n",
    "*  If exists then it will simply create a collection 'test'\n",
    "*  and if not then it will 1st create databse 'prolific' and then it will create the collection inside"
   ]
  },
  {
   "cell_type": "code",
   "execution_count": 20,
   "id": "937eaf14",
   "metadata": {},
   "outputs": [],
   "source": [
    "# creating record \n",
    "record = {'companyName': 'Prolific',\n",
    "         'product': 'Data Science',\n",
    "         'courseOffered': 'Data Science with Python',\n",
    "         'name' : [\"Abhi\",\"Singh\",6100],\n",
    "         \"record_dict\" :{\"name\" :\"Abishake_singh\" , \"mail_id\" : \"abisingh890@gmail.com\",\"ph_number\" :543535}}\n"
   ]
  },
  {
   "cell_type": "code",
   "execution_count": 21,
   "id": "d2c7cc1a",
   "metadata": {},
   "outputs": [
    {
     "data": {
      "text/plain": [
       "<pymongo.results.InsertOneResult at 0x282bdaf9fc0>"
      ]
     },
     "execution_count": 21,
     "metadata": {},
     "output_type": "execute_result"
    }
   ],
   "source": [
    "# Now lets insert something inside collection\n",
    "coll.insert_one(record)\n",
    "# GO back and check"
   ]
  },
  {
   "cell_type": "code",
   "execution_count": 12,
   "id": "4cc1e0e0",
   "metadata": {},
   "outputs": [
    {
     "data": {
      "text/plain": [
       "<pymongo.results.InsertOneResult at 0x282bdaf9d80>"
      ]
     },
     "execution_count": 12,
     "metadata": {},
     "output_type": "execute_result"
    }
   ],
   "source": [
    "# creating record \n",
    "r1 = {'companyName': 'Google',\n",
    "         'product': 'Data Science',\n",
    "         'Salary': '*******',\n",
    "         }\n",
    "coll.insert_one(r1)"
   ]
  },
  {
   "cell_type": "code",
   "execution_count": 13,
   "id": "6e796268",
   "metadata": {},
   "outputs": [
    {
     "data": {
      "text/plain": [
       "['test1']"
      ]
     },
     "execution_count": 13,
     "metadata": {},
     "output_type": "execute_result"
    }
   ],
   "source": [
    "# lets see what the existing list of collections -\n",
    "db1.list_collection_names()"
   ]
  },
  {
   "cell_type": "code",
   "execution_count": 14,
   "id": "a9f97f7d",
   "metadata": {},
   "outputs": [
    {
     "name": "stdout",
     "output_type": "stream",
     "text": [
      "Collection:'test1' in Database:'Database(MongoClient(host=['localhost:27017'], document_class=dict, tz_aware=False, connect=True), 'Prolific_1')' exists\n"
     ]
    }
   ],
   "source": [
    "# let's verify whether we have our database in the list or not \n",
    "# we'll use the following function:-\n",
    "\n",
    "def checkExistence_COL(COLLECTION_NAME, DB_NAME):\n",
    "    \"\"\"It verifies the existence of collection name in a database\"\"\"\n",
    "    collection_list = DB_NAME.list_collection_names()\n",
    "    \n",
    "    if COLLECTION_NAME in collection_list:\n",
    "        print(f\"Collection:'{COLLECTION_NAME}' in Database:'{DB_NAME}' exists\")\n",
    "        return True\n",
    "    \n",
    "    print(f\"Collection:'{COLLECTION_NAME}' in Database:'{DB_NAME}' does not exists OR \\n\\\n",
    "    no documents are present in the collection\")\n",
    "    return False\n",
    "\n",
    "\n",
    "_ = checkExistence_COL('test1', db1)"
   ]
  },
  {
   "cell_type": "markdown",
   "id": "7ba4fb49",
   "metadata": {},
   "source": [
    "### STEP 4: Insert multiple records"
   ]
  },
  {
   "cell_type": "code",
   "execution_count": 15,
   "id": "3e20a606",
   "metadata": {},
   "outputs": [],
   "source": [
    "list_of_records = [\n",
    "    {'companyName': 'Simplilearn',\n",
    "     'product': 'Affordable AI',\n",
    "     'courseOffered': 'Machine Learning with Deployment'},\n",
    "    \n",
    "    {'companyName': 'Edureka',\n",
    "     'product': 'Affordable AI',\n",
    "     'courseOffered': 'Deep Learning for NLP and Computer vision'},\n",
    "    \n",
    "    {'companyName': 'Codebasics',\n",
    "     'product': 'Master Program',\n",
    "     'courseOffered': 'Data Science Masters Program',\n",
    "    \"pass\" : \"ffsdfsffsf\",\n",
    "     \"complex\" : [{\"name\" : \"sudhanshu\",\"list\" : [554,545,454,54,5,4]},{\"email_id\" :\"sudhanshu@dffsf\"},{\"phone_no\":345345345353},[4,54,534,5,45,5,45,4]]\n",
    "\n",
    "    }]\n",
    "    \n",
    "rec = coll.insert_many(list_of_records)"
   ]
  },
  {
   "cell_type": "code",
   "execution_count": 16,
   "id": "c56c4656",
   "metadata": {},
   "outputs": [
    {
     "name": "stdout",
     "output_type": "stream",
     "text": [
      "0. 60caf4dcd1f88f043d237b8a\n",
      "1. 60caf4dcd1f88f043d237b8b\n",
      "2. 60caf4dcd1f88f043d237b8c\n"
     ]
    }
   ],
   "source": [
    "# lets print he unique ID that of the record that we have inserted -\n",
    "inserted_IDs = rec.inserted_ids\n",
    "\n",
    "for idx, unique_ids in enumerate(inserted_IDs):\n",
    "    print(f\"{idx}. {unique_ids}\")"
   ]
  },
  {
   "attachments": {
    "diff_ids.PNG": {
     "image/png": "[encoded data removed]"
    }
   },
   "cell_type": "markdown",
   "id": "b704c083",
   "metadata": {},
   "source": [
    "![diff_ids.PNG](attachment:diff_ids.PNG)"
   ]
  },
  {
   "cell_type": "code",
   "execution_count": 18,
   "id": "75692bda",
   "metadata": {},
   "outputs": [
    {
     "ename": "TypeError",
     "evalue": "'Collection' object is not callable. If you meant to call the 'find_' method on a 'Collection' object it is failing because no such method exists.",
     "output_type": "error",
     "traceback": [
      "\u001b[1;31m---------------------------------------------------------------------------\u001b[0m",
      "\u001b[1;31mTypeError\u001b[0m                                 Traceback (most recent call last)",
      "\u001b[1;32m<ipython-input-18-0a083d23dd9f>\u001b[0m in \u001b[0;36m<module>\u001b[1;34m\u001b[0m\n\u001b[1;32m----> 1\u001b[1;33m \u001b[0mcoll\u001b[0m\u001b[1;33m.\u001b[0m\u001b[0mfind_\u001b[0m\u001b[1;33m(\u001b[0m\u001b[1;33m)\u001b[0m\u001b[1;33m\u001b[0m\u001b[1;33m\u001b[0m\u001b[0m\n\u001b[0m",
      "\u001b[1;32m~\\anaconda3\\lib\\site-packages\\pymongo\\collection.py\u001b[0m in \u001b[0;36m__call__\u001b[1;34m(self, *args, **kwargs)\u001b[0m\n\u001b[0;32m   3443\u001b[0m                             \u001b[1;34m\"exists.\"\u001b[0m \u001b[1;33m%\u001b[0m\u001b[1;33m\u001b[0m\u001b[1;33m\u001b[0m\u001b[0m\n\u001b[0;32m   3444\u001b[0m                             self.__name)\n\u001b[1;32m-> 3445\u001b[1;33m         raise TypeError(\"'Collection' object is not callable. If you meant to \"\n\u001b[0m\u001b[0;32m   3446\u001b[0m                         \u001b[1;34m\"call the '%s' method on a 'Collection' object it is \"\u001b[0m\u001b[1;33m\u001b[0m\u001b[1;33m\u001b[0m\u001b[0m\n\u001b[0;32m   3447\u001b[0m                         \u001b[1;34m\"failing because no such method exists.\"\u001b[0m \u001b[1;33m%\u001b[0m\u001b[1;33m\u001b[0m\u001b[1;33m\u001b[0m\u001b[0m\n",
      "\u001b[1;31mTypeError\u001b[0m: 'Collection' object is not callable. If you meant to call the 'find_' method on a 'Collection' object it is failing because no such method exists."
     ]
    }
   ],
   "source": [
    "coll.find_()"
   ]
  },
  {
   "cell_type": "code",
   "execution_count": null,
   "id": "ea2cfb39",
   "metadata": {},
   "outputs": [],
   "source": []
  },
  {
   "cell_type": "code",
   "execution_count": null,
   "id": "2302ccb1",
   "metadata": {},
   "outputs": [],
   "source": []
  }
 ],
 "metadata": {
  "kernelspec": {
   "display_name": "Python 3",
   "language": "python",
   "name": "python3"
  },
  "language_info": {
   "codemirror_mode": {
    "name": "ipython",
    "version": 3
   },
   "file_extension": ".py",
   "mimetype": "text/x-python",
   "name": "python",
   "nbconvert_exporter": "python",
   "pygments_lexer": "ipython3",
   "version": "3.8.5"
  }
 },
 "nbformat": 4,
 "nbformat_minor": 5
}
