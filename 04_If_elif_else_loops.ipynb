{
 "cells": [
  {
   "cell_type": "markdown",
   "metadata": {},
   "source": [
    "<h1 style='color:purple'> What is Python If Statement?"
   ]
  },
  {
   "cell_type": "markdown",
   "metadata": {},
   "source": [
    "<h2 style='color:purple'> Python if Statement is used for decision-making operations. It contains a body of code which runs only when the condition given in the if statement is true. If the condition is false, then the optional else statement runs which contains some code for the else condition."
   ]
  },
  {
   "attachments": {
    "If-Else-in-Python.jpg": {
     "image/jpeg": "[encoded data removed]"
    }
   },
   "cell_type": "markdown",
   "metadata": {},
   "source": [
    "![If-Else-in-Python.jpg](attachment:If-Else-in-Python.jpg)"
   ]
  },
  {
   "cell_type": "markdown",
   "metadata": {},
   "source": [
    "### Conditional Statements\n",
    "\n",
    "* Keywords:\n",
    "    * if\n",
    "    * else\n",
    "    * elif -> else if ( To check for multiple conditions )\n",
    "    \n",
    "* Blocks:\n",
    "    * if block\n",
    "    * if else block\n",
    "    * nested if else block\n",
    "    * if elif block\n",
    "    * if elif else block"
   ]
  },
  {
   "cell_type": "markdown",
   "metadata": {},
   "source": [
    "#### Syntax\n",
    "\n",
    "if condition:\n",
    "\n",
    "    Body of if\n",
    "   \n",
    "elif condition:\n",
    "\n",
    "    Body of elif\n",
    "    \n",
    "else:\n",
    "\n",
    "    Body of else"
   ]
  },
  {
   "cell_type": "code",
   "execution_count": 5,
   "metadata": {},
   "outputs": [
    {
     "name": "stdout",
     "output_type": "stream",
     "text": [
      "Enter a number : 6\n",
      "You have entered an even number\n"
     ]
    }
   ],
   "source": [
    "# if block\n",
    "\n",
    "a = int(input(\"Enter a number : \"))\n",
    "if a%2 == 0:\n",
    "    print(\"You have entered an even number\")\n"
   ]
  },
  {
   "cell_type": "code",
   "execution_count": 7,
   "metadata": {},
   "outputs": [
    {
     "name": "stdout",
     "output_type": "stream",
     "text": [
      "Enter a number : 4\n",
      "You have entered an even number\n"
     ]
    }
   ],
   "source": [
    "##### if else block\n",
    "\n",
    "a = int(input(\"Enter a number : \"))\n",
    "\n",
    "if a%2 == 0:\n",
    "    print(\"You have entered an even number\")\n",
    "else:\n",
    "    print('You have entered an odd number')\n"
   ]
  },
  {
   "cell_type": "code",
   "execution_count": 9,
   "metadata": {},
   "outputs": [
    {
     "name": "stdout",
     "output_type": "stream",
     "text": [
      "Enter a number : 12\n",
      "12 is divisible by both 2 and 3\n"
     ]
    }
   ],
   "source": [
    "## Nested if-else block\n",
    "\n",
    "a = int(input(\"Enter a number : \"))\n",
    "\n",
    "# Check whether the number user entered is divisibly by:\n",
    "# Both 2 and 3\n",
    "# Only 2\n",
    "# Only 3\n",
    "# Neither 2 nor 3\n",
    "\n",
    "if a%2 == 0:\n",
    "    if a%3 == 0:\n",
    "        print(a,'is divisible by both 2 and 3')\n",
    "    else:\n",
    "        print(a,'is divisible by only 2')\n",
    "else:\n",
    "    if a%3 == 0:\n",
    "        print(a,'is divisble by only 3')\n",
    "    else:\n",
    "        print(a,'is divisible by neither 2 nor 3')"
   ]
  },
  {
   "cell_type": "code",
   "execution_count": 11,
   "metadata": {},
   "outputs": [
    {
     "name": "stdout",
     "output_type": "stream",
     "text": [
      "Enter a number : 5\n",
      "5 is divisible by neither 2 nor 3\n"
     ]
    }
   ],
   "source": [
    "# if elif else block\n",
    "\n",
    "a = int(input(\"Enter a number : \"))\n",
    "\n",
    "if a%2 == 0 and a%3 == 0:\n",
    "    print(a,'is divisible by both 2 and 3')\n",
    "elif a%2 == 0:\n",
    "    print(a,'is divisible by only 2')\n",
    "elif a%3 == 0:\n",
    "    print(a,'is divisble by only 3')\n",
    "else:\n",
    "    print(a,'is divisible by neither 2 nor 3')"
   ]
  },
  {
   "cell_type": "code",
   "execution_count": 12,
   "metadata": {},
   "outputs": [
    {
     "name": "stdout",
     "output_type": "stream",
     "text": [
      "IF\n",
      "IF 2\n"
     ]
    }
   ],
   "source": [
    "a = 10\n",
    "b = 20\n",
    "c = 30\n",
    "d = 40\n",
    "\n",
    "if a+ b == c:\n",
    "    print(\"IF\")\n",
    "elif c>b:\n",
    "    print(\"ELIF 1\")\n",
    "if d == 40:\n",
    "    print(\"IF 2\")\n",
    "else:\n",
    "    print(\"ELSE\")"
   ]
  },
  {
   "cell_type": "code",
   "execution_count": 13,
   "metadata": {},
   "outputs": [
    {
     "name": "stdout",
     "output_type": "stream",
     "text": [
      "IF\n",
      "ELIF 1\n",
      "ELIF 2\n"
     ]
    }
   ],
   "source": [
    "a = 10\n",
    "b = 20\n",
    "c = 30\n",
    "d = 40\n",
    "\n",
    "if a+ b == c:\n",
    "    print(\"IF\")\n",
    "if c>b:\n",
    "    print(\"ELIF 1\")\n",
    "if d == 40:\n",
    "    print(\"ELIF 2\")\n",
    "else:\n",
    "    print(\"ELSE\")"
   ]
  },
  {
   "cell_type": "code",
   "execution_count": 14,
   "metadata": {},
   "outputs": [
    {
     "name": "stdout",
     "output_type": "stream",
     "text": [
      "NO\n"
     ]
    }
   ],
   "source": [
    "a = 0\n",
    "\n",
    "if a:#a=0\n",
    "    print('YES')\n",
    "else:\n",
    "    print('NO')"
   ]
  },
  {
   "cell_type": "code",
   "execution_count": 15,
   "metadata": {},
   "outputs": [
    {
     "name": "stdout",
     "output_type": "stream",
     "text": [
      "NO\n"
     ]
    }
   ],
   "source": [
    "\n",
    "if 0:\n",
    "    print('YES')\n",
    "else:\n",
    "    print('NO')"
   ]
  },
  {
   "cell_type": "code",
   "execution_count": 16,
   "metadata": {},
   "outputs": [
    {
     "name": "stdout",
     "output_type": "stream",
     "text": [
      "YES\n"
     ]
    }
   ],
   "source": [
    "if 1:\n",
    "    print('YES')\n",
    "else:\n",
    "    print('NO')"
   ]
  },
  {
   "cell_type": "code",
   "execution_count": 17,
   "metadata": {},
   "outputs": [
    {
     "name": "stdout",
     "output_type": "stream",
     "text": [
      "YES\n"
     ]
    }
   ],
   "source": [
    "if 'q':\n",
    "    print('YES')\n",
    "else:\n",
    "    print('NO')"
   ]
  },
  {
   "cell_type": "code",
   "execution_count": 18,
   "metadata": {},
   "outputs": [
    {
     "name": "stdout",
     "output_type": "stream",
     "text": [
      "YES\n"
     ]
    }
   ],
   "source": [
    "if -1:\n",
    "    print('YES')\n",
    "else:\n",
    "    print('NO')"
   ]
  },
  {
   "cell_type": "code",
   "execution_count": 20,
   "metadata": {},
   "outputs": [
    {
     "name": "stdout",
     "output_type": "stream",
     "text": [
      "YES\n"
     ]
    }
   ],
   "source": [
    "a=' '\n",
    "if a:\n",
    "    print('YES')\n",
    "else:\n",
    "    print('NO')"
   ]
  },
  {
   "cell_type": "code",
   "execution_count": null,
   "metadata": {},
   "outputs": [],
   "source": [
    "a = 1\n",
    "\n",
    "if a:\n",
    "    print('YES')\n",
    "else:\n",
    "    print('NO')"
   ]
  },
  {
   "cell_type": "code",
   "execution_count": null,
   "metadata": {},
   "outputs": [],
   "source": [
    "a = -1\n",
    "\n",
    "if a:\n",
    "    print('YES')\n",
    "else:\n",
    "    print('NO')"
   ]
  },
  {
   "cell_type": "code",
   "execution_count": 21,
   "metadata": {},
   "outputs": [
    {
     "name": "stdout",
     "output_type": "stream",
     "text": [
      "YES\n"
     ]
    }
   ],
   "source": [
    "#a = ''\n",
    "a = '0'\n",
    "\n",
    "if a:\n",
    "    print('YES')\n",
    "else:\n",
    "    print('NO')"
   ]
  },
  {
   "cell_type": "code",
   "execution_count": 23,
   "metadata": {},
   "outputs": [
    {
     "name": "stdout",
     "output_type": "stream",
     "text": [
      "YES\n",
      "NO\n"
     ]
    }
   ],
   "source": [
    "a = [ '',-1 ]\n",
    "\n",
    "if a[1]:#-1\n",
    "    print('YES')\n",
    "else:\n",
    "    print('NO')\n",
    "    \n",
    "    \n",
    "if a[0]:#\n",
    "    print('YES')\n",
    "else:\n",
    "    print('NO')"
   ]
  },
  {
   "cell_type": "code",
   "execution_count": null,
   "metadata": {},
   "outputs": [],
   "source": [
    "help(print)"
   ]
  },
  {
   "cell_type": "code",
   "execution_count": 26,
   "metadata": {},
   "outputs": [
    {
     "name": "stdout",
     "output_type": "stream",
     "text": [
      "10 20 30\n",
      "10---☻>20---☻>30\n"
     ]
    }
   ],
   "source": [
    "print(10,20,30)\n",
    "print(10,20,30,sep='---☻>')"
   ]
  },
  {
   "cell_type": "code",
   "execution_count": null,
   "metadata": {},
   "outputs": [],
   "source": [
    "print('HELLO')\n",
    "print(\"WORLD\")\n",
    "print('BYE')"
   ]
  },
  {
   "cell_type": "code",
   "execution_count": 27,
   "metadata": {
    "scrolled": true
   },
   "outputs": [
    {
     "name": "stdout",
     "output_type": "stream",
     "text": [
      "HELLO WORLD\n",
      "BYE\n"
     ]
    }
   ],
   "source": [
    "print('HELLO',end=' ')\n",
    "print(\"WORLD\")\n",
    "print('BYE')"
   ]
  },
  {
   "cell_type": "markdown",
   "metadata": {},
   "source": [
    " age = int(input(\"Enter your age :\"))\n",
    "condition1 :age<=18 Not applicable\n",
    "condition2:age >18   \n",
    "condition3: age >45"
   ]
  },
  {
   "cell_type": "markdown",
   "metadata": {},
   "source": [
    "<h2 style='color:green'> Intro of 'while' and 'for' loops"
   ]
  },
  {
   "cell_type": "markdown",
   "metadata": {},
   "source": [
    "# Python While Loops"
   ]
  },
  {
   "cell_type": "markdown",
   "metadata": {},
   "source": [
    "# In Python, While Loops is used to execute a block of statements repeatedly until a given condition is satisfied. And when the condition becomes false, the line immediately comes out of the loop . "
   ]
  },
  {
   "cell_type": "markdown",
   "metadata": {},
   "source": [
    "# Syntax\n",
    "\n",
    " "
   ]
  },
  {
   "cell_type": "raw",
   "metadata": {},
   "source": [
    "while condition:\n",
    "\n",
    "   Body of the Loop"
   ]
  },
  {
   "attachments": {
    "while-loop.jpg": {
     "image/jpeg": "[encoded data removed]"
    }
   },
   "cell_type": "markdown",
   "metadata": {},
   "source": [
    "![while-loop.jpg](attachment:while-loop.jpg)"
   ]
  },
  {
   "cell_type": "code",
   "execution_count": 29,
   "metadata": {},
   "outputs": [
    {
     "name": "stdout",
     "output_type": "stream",
     "text": [
      "1\n",
      "2\n",
      "3\n",
      "4\n",
      "5\n",
      "6\n",
      "7\n",
      "8\n",
      "9\n",
      "10\n"
     ]
    }
   ],
   "source": [
    "a = 1\n",
    "\n",
    "while a<=10:\n",
    "    print(a)\n",
    "    a += 1  # a = a+1"
   ]
  },
  {
   "cell_type": "code",
   "execution_count": 32,
   "metadata": {},
   "outputs": [
    {
     "name": "stdout",
     "output_type": "stream",
     "text": [
      "1 2 3 4 5 6 7 8 9 10 \n",
      "Outside Loop\n"
     ]
    }
   ],
   "source": [
    "a = 1\n",
    "\n",
    "while a<=10:\n",
    "    print(a,end=' ')\n",
    "    a += 1# a = a+1\n",
    "print()\n",
    "print(\"Outside Loop\")"
   ]
  },
  {
   "cell_type": "code",
   "execution_count": 35,
   "metadata": {},
   "outputs": [
    {
     "name": "stdout",
     "output_type": "stream",
     "text": [
      "Hello Python : 1\n",
      "Hello Python : 2\n",
      "Hello Python : 3\n",
      "Hello Python : 4\n",
      "Hello Python : 5\n"
     ]
    }
   ],
   "source": [
    "count = 0\n",
    "while count < 5:      \n",
    "    count = count + 1\n",
    "    print(\"Hello Python :\",count)"
   ]
  },
  {
   "cell_type": "code",
   "execution_count": 36,
   "metadata": {},
   "outputs": [
    {
     "name": "stdout",
     "output_type": "stream",
     "text": [
      "Hello Geek\n",
      "Hello Geek\n",
      "Hello Geek\n",
      "Hello Geek\n",
      "Hello Geek\n"
     ]
    }
   ],
   "source": [
    "# Single statement while block  \n",
    "\n",
    "count = 0\n",
    "while count < 5: count += 1; print(\"Hello Geek\") "
   ]
  },
  {
   "cell_type": "code",
   "execution_count": 37,
   "metadata": {},
   "outputs": [
    {
     "name": "stdout",
     "output_type": "stream",
     "text": [
      "4\n",
      "3\n",
      "2\n",
      "1\n"
     ]
    }
   ],
   "source": [
    "a = [1, 2, 3, 4] \n",
    "while a: \n",
    "    print(a.pop()) "
   ]
  },
  {
   "cell_type": "markdown",
   "metadata": {},
   "source": [
    "## For LOOP\n",
    "\n",
    "#### Syntax\n",
    "\n",
    "for variable in sequence:\n",
    "\n",
    "    Body of the Loop"
   ]
  },
  {
   "attachments": {
    "for-loop-python.jpg": {
     "image/jpeg": "[encoded data removed]"
    }
   },
   "cell_type": "markdown",
   "metadata": {},
   "source": [
    "![for-loop-python.jpg](attachment:for-loop-python.jpg)"
   ]
  },
  {
   "cell_type": "code",
   "execution_count": 38,
   "metadata": {},
   "outputs": [
    {
     "name": "stdout",
     "output_type": "stream",
     "text": [
      "10\n",
      "20\n",
      "30\n"
     ]
    }
   ],
   "source": [
    "for i in [10,20,30]:\n",
    "    print(i)"
   ]
  },
  {
   "cell_type": "code",
   "execution_count": 39,
   "metadata": {
    "scrolled": true
   },
   "outputs": [
    {
     "name": "stdout",
     "output_type": "stream",
     "text": [
      "P\n",
      "Y\n",
      "T\n",
      "H\n",
      "O\n",
      "N\n"
     ]
    }
   ],
   "source": [
    "for j in 'PYTHON':\n",
    "    print(j)"
   ]
  },
  {
   "cell_type": "code",
   "execution_count": 40,
   "metadata": {},
   "outputs": [
    {
     "name": "stdout",
     "output_type": "stream",
     "text": [
      "P Y T H O N "
     ]
    }
   ],
   "source": [
    "for j in 'PYTHON':\n",
    "    print(j,end=' ')"
   ]
  },
  {
   "cell_type": "code",
   "execution_count": 45,
   "metadata": {},
   "outputs": [
    {
     "name": "stdout",
     "output_type": "stream",
     "text": [
      "HELLO\n",
      "H\n",
      "E\n",
      "L\n",
      "L\n",
      "O\n",
      "WORLD\n",
      "W\n",
      "O\n",
      "R\n",
      "L\n",
      "D\n",
      "19\n"
     ]
    }
   ],
   "source": [
    "for i in ['HELLO','WORLD',19]:\n",
    "    print(i)\n",
    "    if type(i) == str:\n",
    "        for j in i:\n",
    "            print(j)"
   ]
  },
  {
   "cell_type": "code",
   "execution_count": 46,
   "metadata": {},
   "outputs": [
    {
     "name": "stdout",
     "output_type": "stream",
     "text": [
      "10 A\n",
      "10 B\n",
      "20 A\n",
      "20 B\n",
      "30 A\n",
      "30 B\n"
     ]
    }
   ],
   "source": [
    "for i in [10,20,30]:\n",
    "    for j in ['A','B']:\n",
    "        print(i,j)"
   ]
  },
  {
   "cell_type": "markdown",
   "metadata": {},
   "source": [
    "## Range Function\n",
    "\n",
    "####  Syntax\n",
    "\n",
    "range(start,stop,step)\n",
    "\n",
    "* Step is by default 1\n",
    "* Start is by default 0 \n",
    "* Stop is mandatory and is not included in the range"
   ]
  },
  {
   "cell_type": "code",
   "execution_count": 48,
   "metadata": {},
   "outputs": [
    {
     "name": "stdout",
     "output_type": "stream",
     "text": [
      "range(0, 5)\n",
      "range(0, 5)\n",
      "range(1, 5)\n",
      "range(1, 5, 2)\n"
     ]
    }
   ],
   "source": [
    "a = range(0,5,1)\n",
    "print(a)\n",
    "a = range(5)\n",
    "print(a)\n",
    "a = range(1,5)\n",
    "print(a)\n",
    "a = range(1,5,2)\n",
    "print(a)"
   ]
  },
  {
   "cell_type": "code",
   "execution_count": 50,
   "metadata": {},
   "outputs": [
    {
     "name": "stdout",
     "output_type": "stream",
     "text": [
      "[0, 1, 2, 3, 4]\n",
      "[0, 1, 2, 3, 4]\n",
      "[1, 2, 3, 4]\n",
      "[1, 3]\n"
     ]
    }
   ],
   "source": [
    "a = list(range(0,5,1))\n",
    "print(a)\n",
    "a = list(range(5))\n",
    "print(a)\n",
    "a = list(range(1,5))\n",
    "print(a)\n",
    "a = list(range(1,5,2))\n",
    "print(a)"
   ]
  },
  {
   "cell_type": "code",
   "execution_count": 51,
   "metadata": {},
   "outputs": [
    {
     "name": "stdout",
     "output_type": "stream",
     "text": [
      "0\n",
      "1\n",
      "2\n",
      "3\n",
      "4\n"
     ]
    }
   ],
   "source": [
    "for i in [0,1,2,3,4]:\n",
    "    print(i)"
   ]
  },
  {
   "cell_type": "code",
   "execution_count": 52,
   "metadata": {},
   "outputs": [
    {
     "name": "stdout",
     "output_type": "stream",
     "text": [
      "0\n",
      "1\n",
      "2\n",
      "3\n",
      "4\n"
     ]
    }
   ],
   "source": [
    "for i in range(5):\n",
    "    print(i)"
   ]
  },
  {
   "cell_type": "code",
   "execution_count": 54,
   "metadata": {},
   "outputs": [
    {
     "name": "stdout",
     "output_type": "stream",
     "text": [
      "P\n",
      "Y\n",
      "T\n",
      "H\n",
      "O\n",
      "N\n",
      "\n",
      "0 P\n",
      "1 Y\n",
      "2 T\n",
      "3 H\n",
      "4 O\n",
      "5 N\n"
     ]
    }
   ],
   "source": [
    "a = 'PYTHON'\n",
    "for i in a:\n",
    "    print(i)\n",
    "print()    \n",
    "for i in range(len(a)):\n",
    "    print(i,a[i])"
   ]
  }
 ],
 "metadata": {
  "kernelspec": {
   "display_name": "Python 3",
   "language": "python",
   "name": "python3"
  },
  "language_info": {
   "codemirror_mode": {
    "name": "ipython",
    "version": 3
   },
   "file_extension": ".py",
   "mimetype": "text/x-python",
   "name": "python",
   "nbconvert_exporter": "python",
   "pygments_lexer": "ipython3",
   "version": "3.8.5"
  }
 },
 "nbformat": 4,
 "nbformat_minor": 2
}
