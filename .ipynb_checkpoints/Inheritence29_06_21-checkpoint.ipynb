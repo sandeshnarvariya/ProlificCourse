{
 "cells": [
  {
   "cell_type": "markdown",
   "id": "fb1758f0",
   "metadata": {},
   "source": [
    "# Python Inheritance :\n",
    "###  Inheritance allows us to define a class that inherits all the methods and properties from another class.\n",
    "\n",
    "###  Parent class is the class being inherited from, also called base class.\n",
    "\n",
    "### Child class is the class that inherits from another class, also called derived class."
   ]
  },
  {
   "cell_type": "code",
   "execution_count": null,
   "id": "d3a5678c",
   "metadata": {},
   "outputs": [],
   "source": [
    "# Base or Parent Class\n",
    "class Animal:\n",
    "    def eat(self):\n",
    "        print(\"It eats insects and grass.\")\n",
    "    def sleep(self):\n",
    "        print(\"It sleeps in the night.\")\n",
    "        \n",
    "# Child class\n",
    "class Bird(Animal):\n",
    "    def fly(self):\n",
    "        print(\"It flies in the sky.\")\n",
    "    def sing(self):\n",
    "        print(\"It sings a song.\")\n"
   ]
  },
  {
   "cell_type": "code",
   "execution_count": null,
   "id": "9470fcc5",
   "metadata": {},
   "outputs": [],
   "source": [
    "Sparrow = Bird()# Making Instance of class ."
   ]
  },
  {
   "cell_type": "code",
   "execution_count": null,
   "id": "ece3a0e7",
   "metadata": {},
   "outputs": [],
   "source": [
    "Sparrow.fly()"
   ]
  },
  {
   "cell_type": "code",
   "execution_count": null,
   "id": "1e908262",
   "metadata": {},
   "outputs": [],
   "source": [
    "Sparrow.sing()"
   ]
  },
  {
   "cell_type": "code",
   "execution_count": null,
   "id": "98070fe9",
   "metadata": {},
   "outputs": [],
   "source": [
    "Sparrow.eat()"
   ]
  },
  {
   "cell_type": "code",
   "execution_count": null,
   "id": "bc198969",
   "metadata": {},
   "outputs": [],
   "source": [
    "Sparrow.sleep()"
   ]
  },
  {
   "cell_type": "code",
   "execution_count": null,
   "id": "97ef7096",
   "metadata": {},
   "outputs": [],
   "source": [
    "Koyal = Bird()\n",
    "\n",
    "Koyal.eat()\n",
    "Koyal.sleep()\n",
    "Koyal.fly()\n",
    "Koyal.sing()"
   ]
  },
  {
   "cell_type": "markdown",
   "id": "5d00147c",
   "metadata": {},
   "source": [
    "# Class with Constructor"
   ]
  },
  {
   "cell_type": "code",
   "execution_count": null,
   "id": "be077e16",
   "metadata": {},
   "outputs": [],
   "source": [
    "class A:\n",
    "      def __init__(self, n = 'Rahul'):\n",
    "              self.n = n\n",
    "class B(A):\n",
    "      def __init__(self, roll):\n",
    "              self.roll = roll\n",
    "\n",
    "                "
   ]
  },
  {
   "cell_type": "code",
   "execution_count": null,
   "id": "94833423",
   "metadata": {},
   "outputs": [],
   "source": [
    "object = B(23)\n",
    "object.roll"
   ]
  },
  {
   "cell_type": "code",
   "execution_count": null,
   "id": "7896ff78",
   "metadata": {
    "scrolled": true
   },
   "outputs": [],
   "source": [
    "object.n"
   ]
  },
  {
   "cell_type": "raw",
   "id": "fe11e8ce",
   "metadata": {},
   "source": [
    "Because we have not invoked constructor of Parent(or A) class"
   ]
  },
  {
   "cell_type": "code",
   "execution_count": null,
   "id": "956efe6e",
   "metadata": {},
   "outputs": [],
   "source": [
    "class A:\n",
    "      def __init__(self, n):\n",
    "              self.n = n\n",
    "class B(A):\n",
    "      def __init__(self,roll,n):\n",
    "            # invoking the __init__ of the parent class \n",
    "            A.__init__(self,n)\n",
    "            self.roll = roll"
   ]
  },
  {
   "cell_type": "code",
   "execution_count": null,
   "id": "f41cb553",
   "metadata": {},
   "outputs": [],
   "source": [
    "o = B(1223,'yyy')"
   ]
  },
  {
   "cell_type": "code",
   "execution_count": null,
   "id": "ea3975ef",
   "metadata": {},
   "outputs": [],
   "source": [
    "o.n"
   ]
  },
  {
   "cell_type": "code",
   "execution_count": null,
   "id": "86162e45",
   "metadata": {},
   "outputs": [],
   "source": [
    "class A:\n",
    "      def __init__(self, n = 'Rahul'):\n",
    "              self.n = n\n",
    "class B(A):\n",
    "      def __init__(self, roll):\n",
    "            # invoking the __init__ of the parent class \n",
    "            A.__init__(self,n = 'Rahul')\n",
    "            self.roll = roll"
   ]
  },
  {
   "cell_type": "code",
   "execution_count": null,
   "id": "32558b97",
   "metadata": {},
   "outputs": [],
   "source": [
    "object = B(23)\n",
    "object.roll"
   ]
  },
  {
   "cell_type": "code",
   "execution_count": null,
   "id": "c7b527f4",
   "metadata": {},
   "outputs": [],
   "source": [
    "object.n"
   ]
  },
  {
   "cell_type": "code",
   "execution_count": null,
   "id": "0c402d29",
   "metadata": {},
   "outputs": [],
   "source": [
    "class Person:    \n",
    "  \n",
    "        # __init__ is known as the constructor . . .          \n",
    "        def __init__(self, name, idnumber):   \n",
    "                self.name = name\n",
    "                self.idnumber = idnumber\n",
    "        def display(self):\n",
    "                print(self.name)\n",
    "                print(self.idnumber)\n",
    "                \n",
    "# child class\n",
    "class Employee( Person ):           \n",
    "        def __init__(self, name, idnumber, salary, post):\n",
    "                self.salary = salary\n",
    "                self.post = post\n",
    "  \n",
    "                # invoking the __init__ of the parent class \n",
    "                Person.__init__(self, name, idnumber) \n",
    "  \n"
   ]
  },
  {
   "cell_type": "code",
   "execution_count": null,
   "id": "2f7649a0",
   "metadata": {},
   "outputs": [],
   "source": [
    "# creation of an object variable or an instance\n",
    "a = Employee('Rahul', 12, 200000, \"Intern\")    \n",
    "  \n",
    "# calling a function of the class Person using its instance\n",
    "a.display() "
   ]
  },
  {
   "cell_type": "code",
   "execution_count": null,
   "id": "8fa25dda",
   "metadata": {},
   "outputs": [],
   "source": [
    "a.salary"
   ]
  },
  {
   "cell_type": "code",
   "execution_count": null,
   "id": "4921ea64",
   "metadata": {},
   "outputs": [],
   "source": [
    "a.post"
   ]
  },
  {
   "cell_type": "markdown",
   "id": "fca22394",
   "metadata": {},
   "source": [
    "## Use of super( keyword)\n",
    "#### By using the super() function, you do not have to use the name of the parent element, it will automatically inherit the methods and properties from its parent."
   ]
  },
  {
   "cell_type": "code",
   "execution_count": null,
   "id": "d709ab2f",
   "metadata": {},
   "outputs": [],
   "source": [
    "# Car class\n",
    "class Car():\n",
    "    def __init__(self,name,model,year):\n",
    "        self.n = name\n",
    "        self.m = model\n",
    "        self.y = year\n",
    "        self.mil = 0 # we want to change it further\n",
    "    def desc(self):\n",
    "        info = print(f\"My car name is {self.n}\\nand model name is {self.m}\\nmade in {self.y}\")\n",
    "        return info\n",
    "\n",
    "    def up_milage(self,m):\n",
    "        self.mil=m\n",
    "        return self.mil\n",
    "# Child class\n",
    "\n",
    "class Electric_car(Car):\n",
    "    def __init__(self,battery_backup,*args):\n",
    "        super().__init__(*args) # This will initilize name ,model ,year of parent class\n",
    "        self.battery_backup = battery_backup\n",
    "         \n",
    "    def battery_backup(self):\n",
    "        return self.battery_backup \n"
   ]
  },
  {
   "cell_type": "code",
   "execution_count": null,
   "id": "fdf0cca3",
   "metadata": {},
   "outputs": [],
   "source": [
    "# lets call it\n",
    "my_tesla = Electric_car('300km','Tesla',3211,2020)\n",
    "my_tesla.desc()"
   ]
  },
  {
   "cell_type": "code",
   "execution_count": null,
   "id": "1e12fd32",
   "metadata": {},
   "outputs": [],
   "source": [
    "my_tesla.battery_backup"
   ]
  },
  {
   "cell_type": "code",
   "execution_count": null,
   "id": "4462d291",
   "metadata": {
    "scrolled": true
   },
   "outputs": [],
   "source": [
    "my_tesla.up_milage(0)"
   ]
  },
  {
   "cell_type": "markdown",
   "id": "69835dab",
   "metadata": {},
   "source": [
    "## Problem is we dont want  milege method in child .  "
   ]
  },
  {
   "cell_type": "markdown",
   "id": "57d9631b",
   "metadata": {},
   "source": [
    "## Overriding method of the parent class\n",
    "* In Python we can override any method from parent class that does not fit with what we are trying to model with .\n",
    "* To do this we define a method in the child class with same name as that method is defined in parent class ."
   ]
  },
  {
   "cell_type": "code",
   "execution_count": null,
   "id": "73a20cfc",
   "metadata": {},
   "outputs": [],
   "source": [
    "# Car class\n",
    "class Car():\n",
    "    \n",
    "    def __init__(self,name,model,year):\n",
    "        self.n = name\n",
    "        self.m = model\n",
    "        self.y = year\n",
    "        self.mil = 0 # we want to change it further\n",
    "    def desc(self):\n",
    "        info = print(f\"My car name is {self.m}\\nand model name is {self.m}\\nmade in {self.y}\")\n",
    "        return info\n",
    "\n",
    "    def milage(self,m):\n",
    "        self.mil=m\n",
    "        return self.mil\n",
    "#child\n",
    "class Electric_car(Car):\n",
    "    \n",
    "    def __init__(self,battery_backup,*args):\n",
    "        super().__init__(*args) # This will initilize name ,model ,year of parent class\n",
    "        self.battery_backup = battery_backup\n",
    "         \n",
    "    def battery_backup(self):\n",
    "        return self.battery_backup \n",
    "    # creating same method name as parent class . .\n",
    "    def milage(self):\n",
    "        return \"Ye to hota hi nahi hai ☻\"\n"
   ]
  },
  {
   "cell_type": "code",
   "execution_count": null,
   "id": "7018ff00",
   "metadata": {},
   "outputs": [],
   "source": [
    "# lets call it\n",
    "my_tesla = Electric_car('600km','Tesla',3211,2020)\n",
    "print(my_tesla.desc())\n",
    "print(my_tesla.battery_backup)\n",
    "print(my_tesla.milage())"
   ]
  },
  {
   "cell_type": "code",
   "execution_count": null,
   "id": "62409160",
   "metadata": {},
   "outputs": [],
   "source": []
  },
  {
   "cell_type": "markdown",
   "id": "09b7e1ae",
   "metadata": {},
   "source": [
    "##  Multiple Inheritence:\n",
    "* When a class is derived from more than one base class then it is called multiple Inheritence .\n",
    "* The derived class inherits all the features of base class .\n",
    "* Syntax: \n"
   ]
  },
  {
   "cell_type": "raw",
   "id": "0bb9035e",
   "metadata": {},
   "source": [
    "class B1:\n",
    "  body \n",
    "class B2:\n",
    "  body \n",
    "class B(B1,B2):\n",
    "  body "
   ]
  },
  {
   "cell_type": "code",
   "execution_count": null,
   "id": "47220938",
   "metadata": {},
   "outputs": [],
   "source": [
    "class B1:\n",
    "    def m(self):\n",
    "        print(\"This is class B1\")\n",
    "class B2:\n",
    "    def m(self):\n",
    "        print(\"This is class B2\")\n",
    "class B(B1):\n",
    "    def m1(self):\n",
    "        print(\"This is class B\")\n"
   ]
  },
  {
   "cell_type": "code",
   "execution_count": null,
   "id": "ac112b47",
   "metadata": {},
   "outputs": [],
   "source": [
    "o1 = B()"
   ]
  },
  {
   "cell_type": "code",
   "execution_count": null,
   "id": "7c2a826b",
   "metadata": {},
   "outputs": [],
   "source": [
    "o1.m()"
   ]
  },
  {
   "cell_type": "code",
   "execution_count": null,
   "id": "c844eda3",
   "metadata": {},
   "outputs": [],
   "source": [
    "o1.m1()"
   ]
  },
  {
   "attachments": {
    "Capture.PNG": {
     "image/png": "[encoded data removed]"
    }
   },
   "cell_type": "markdown",
   "id": "a8991de1",
   "metadata": {},
   "source": [
    "![Capture.PNG](attachment:Capture.PNG)"
   ]
  },
  {
   "cell_type": "code",
   "execution_count": null,
   "id": "f7e46e57",
   "metadata": {},
   "outputs": [],
   "source": [
    "class B1:\n",
    "    def m1(self):\n",
    "        print(\"This is class B1\")\n",
    "class B2:\n",
    "    def m2(self):\n",
    "        print(\"This is class B2\")\n",
    "class BB(B1,B2):\n",
    "    def mBB(self):\n",
    "        print(\"This is class BB\")"
   ]
  },
  {
   "cell_type": "code",
   "execution_count": null,
   "id": "ffab834b",
   "metadata": {},
   "outputs": [],
   "source": [
    "o = BB()"
   ]
  },
  {
   "cell_type": "code",
   "execution_count": null,
   "id": "d1f17b31",
   "metadata": {},
   "outputs": [],
   "source": [
    "o.m1()"
   ]
  },
  {
   "cell_type": "code",
   "execution_count": null,
   "id": "83c4ad8c",
   "metadata": {},
   "outputs": [],
   "source": [
    "o.m2()"
   ]
  },
  {
   "cell_type": "code",
   "execution_count": null,
   "id": "79deb443",
   "metadata": {},
   "outputs": [],
   "source": [
    "o.mBB()"
   ]
  },
  {
   "cell_type": "code",
   "execution_count": null,
   "id": "85839c6e",
   "metadata": {},
   "outputs": [],
   "source": [
    "class B1:\n",
    "    def m1(self):\n",
    "        print(\"This is class B1\")\n",
    "class B2:\n",
    "    def m2(self):\n",
    "        print(\"This is class B2\")\n",
    "        B1.m1(self)\n",
    "class B(B1,B2):\n",
    "    def m3(self):\n",
    "        print(\"This is class B\")"
   ]
  },
  {
   "cell_type": "code",
   "execution_count": null,
   "id": "fe9918f0",
   "metadata": {},
   "outputs": [],
   "source": [
    "o = B()"
   ]
  },
  {
   "cell_type": "code",
   "execution_count": null,
   "id": "0111b491",
   "metadata": {},
   "outputs": [],
   "source": [
    "o.m2()"
   ]
  },
  {
   "cell_type": "code",
   "execution_count": null,
   "id": "f4f82a7b",
   "metadata": {},
   "outputs": [],
   "source": [
    "class B1:\n",
    "    def m(self):\n",
    "        print(\"This is class B1\")\n",
    "class B2:\n",
    "    def m(self):\n",
    "        print(\"This is class B2\")\n",
    "class BB(B1,B2):\n",
    "    def mBB(self):\n",
    "        print(\"This is class BB\")"
   ]
  },
  {
   "cell_type": "code",
   "execution_count": null,
   "id": "82eba043",
   "metadata": {},
   "outputs": [],
   "source": [
    "o = BB()"
   ]
  },
  {
   "cell_type": "code",
   "execution_count": null,
   "id": "23cead2c",
   "metadata": {},
   "outputs": [],
   "source": [
    "o.mBB()"
   ]
  },
  {
   "cell_type": "code",
   "execution_count": null,
   "id": "089149c2",
   "metadata": {},
   "outputs": [],
   "source": [
    "o.m()"
   ]
  },
  {
   "cell_type": "code",
   "execution_count": null,
   "id": "15c6b45d",
   "metadata": {},
   "outputs": [],
   "source": [
    "class B1:\n",
    "    def m(self):\n",
    "        print(\"This is class B1\")\n",
    "class B2:\n",
    "    def m(self):\n",
    "        print(\"This is class B2\")\n",
    "class BB(B2,B1):\n",
    "    def mBB(self):\n",
    "        print(\"This is class BB\")"
   ]
  },
  {
   "cell_type": "code",
   "execution_count": null,
   "id": "8d14e5ad",
   "metadata": {},
   "outputs": [],
   "source": [
    "o = BB()\n",
    "o.m()"
   ]
  },
  {
   "cell_type": "code",
   "execution_count": null,
   "id": "5db256c2",
   "metadata": {},
   "outputs": [],
   "source": [
    "o.mBB()"
   ]
  },
  {
   "cell_type": "code",
   "execution_count": null,
   "id": "f88aabdd",
   "metadata": {},
   "outputs": [],
   "source": [
    "class B1:\n",
    "    pass\n",
    "class B2:\n",
    "    def m(self):\n",
    "        print(\"This is class B2\")\n",
    "class BB(B1,B2):\n",
    "    def mBB(self):\n",
    "        print(\"This is class BB\")"
   ]
  },
  {
   "cell_type": "code",
   "execution_count": null,
   "id": "d85b1519",
   "metadata": {},
   "outputs": [],
   "source": [
    "o = BB()"
   ]
  },
  {
   "cell_type": "code",
   "execution_count": null,
   "id": "a5773954",
   "metadata": {},
   "outputs": [],
   "source": [
    "o.m()"
   ]
  },
  {
   "cell_type": "code",
   "execution_count": null,
   "id": "1fd4054b",
   "metadata": {},
   "outputs": [],
   "source": [
    "#Ex\n",
    "class B1:\n",
    "    def __init__(self):\n",
    "        self.str1 = \"Class_B1\"\n",
    "        print(\"B1\")\n",
    "        \n",
    "class B2:\n",
    "    def __init__(self):\n",
    "        self.str2 = \"Class_B2\"        \n",
    "        print(\"B2\")\n",
    "        \n",
    "class Child(B1, B2):\n",
    "    def __init__(self):\n",
    "          \n",
    "        # Calling constructors of B1 and B2 classes\n",
    "        B1.__init__(self)\n",
    "        B2.__init__(self)\n",
    "        print(\"Child\")\n",
    "          \n",
    "    def printStrs(self):\n",
    "        print(self.str1, self.str2)"
   ]
  },
  {
   "cell_type": "code",
   "execution_count": null,
   "id": "68cde4af",
   "metadata": {},
   "outputs": [],
   "source": [
    "obj = Child()"
   ]
  },
  {
   "cell_type": "code",
   "execution_count": null,
   "id": "7123a517",
   "metadata": {},
   "outputs": [],
   "source": [
    "obj.printStrs()"
   ]
  },
  {
   "cell_type": "markdown",
   "id": "7815ce17",
   "metadata": {},
   "source": [
    "##  Multilevel inheritance:\n",
    "### When we have a child and grandchild relationship. \n",
    "#### or \n",
    "### When a child class inherits from more than one parent class."
   ]
  },
  {
   "attachments": {
    "multiple_inh.png": {
     "image/png": "[encoded data removed]"
    }
   },
   "cell_type": "markdown",
   "id": "c6660751",
   "metadata": {},
   "source": [
    "![multiple_inh.png](attachment:multiple_inh.png)"
   ]
  },
  {
   "cell_type": "code",
   "execution_count": null,
   "id": "270e9edd",
   "metadata": {},
   "outputs": [],
   "source": [
    "class Parent:\n",
    "    def func1(self):\n",
    "        print(\"this is function of Parent class\")\n",
    "class Parent2(Parent):\n",
    "    def func2(self):\n",
    "        print(\"this is function of Intermediate base class\")\n",
    "class Child(Parent2):\n",
    "    def func3(self):\n",
    "        print(\"this is function of child class\")\n",
    "        \n",
    "   "
   ]
  },
  {
   "cell_type": "code",
   "execution_count": null,
   "id": "f5b7eec3",
   "metadata": {},
   "outputs": [],
   "source": [
    "ob = Child()"
   ]
  },
  {
   "cell_type": "code",
   "execution_count": null,
   "id": "1367b947",
   "metadata": {},
   "outputs": [],
   "source": [
    "ob.func3()"
   ]
  },
  {
   "cell_type": "code",
   "execution_count": null,
   "id": "1ff1956f",
   "metadata": {},
   "outputs": [],
   "source": [
    "ob.func2()"
   ]
  },
  {
   "cell_type": "code",
   "execution_count": null,
   "id": "cc7c4672",
   "metadata": {},
   "outputs": [],
   "source": [
    "ob.func1()"
   ]
  },
  {
   "cell_type": "code",
   "execution_count": null,
   "id": "05f5eb2b",
   "metadata": {},
   "outputs": [],
   "source": [
    "#Example\n",
    "class Universe:\n",
    "    pass\n",
    "class Planets(Universe):\n",
    "    pass\n",
    "class Earth(Planet):\n",
    "    pass\n",
    "def Continents(Earth):\n",
    "    pass\n",
    "def Asia(Continents):\n",
    "    pass\n",
    "def India(Asia):\n",
    "    pass\n",
    "    "
   ]
  },
  {
   "cell_type": "code",
   "execution_count": null,
   "id": "3acc298d",
   "metadata": {},
   "outputs": [],
   "source": [
    "class Universe:\n",
    "    def __init__(self):\n",
    "        print(\"The universe is all of space and time and their contents,\\nincluding planets, stars, galaxies, and all other forms of\\n matter and energy\")\n",
    "    def shape(self):\n",
    "        print(\"The three possible options for the shape of the universe:\\n\\t1-Flat,\\n\\t2-Open,\\n\\t3-Close\")\n",
    "class Planets(Universe):\n",
    "    def __init__(self):\n",
    "        Universe. __init__(self)\n",
    "        print(\"A planet is a large object that orbits a star. To be a planet,\\n an object must be massive enough for gravity to have squeezed it into a spherical, \\nor round, shape,.\")\n",
    "    def types(self):\n",
    "        print(\"Planets in the Solar System are divided into two main types:\\n\\t1- large low-density giant planets, and \\n\\t2- smaller rocky terrestrials. \\nThere are eight planets in the Solar System according to the IAU definition.\\n In order of increasing distance from the Sun, \\nthey are the four terrestrials, Mercury, Venus, Earth, and Mars, \\nthen the four giant planets, Jupiter, Saturn, Uranus, and Neptune. \")\n",
    "class Earth(Planets):\n",
    "    def __init__(self):\n",
    "        Planets. __init__(self)\n",
    "        print(\"Earth is the third planet from the Sun and the only astronomical object known to harbor and support life.\")\n",
    "    def about(self):\n",
    "        print(\"Scientists think Earth was formed at roughly the same time as the sun and other planets some 4.6 billion years ago\")\n",
    "        print()\n",
    "        print(\" About 29.2% of Earth's surface is land consisting of continents and islands.\\n The remaining 70.8% is covered with water, mostly by oceans, seas, gulfs, and other salt-water bodies, \\nbut also by lakes, rivers, and other freshwater, which together constitute the hydrosphere.\")\n",
    "        print()\n",
    "    def atmosphere(self):\n",
    "        print(\"Earth's atmosphere is roughly 78 percent nitrogen and 21 percent oxygen, \\nwith trace amounts of water, argon, carbon dioxide and other gases. \")\n",
    "class Continents(Earth):\n",
    "    def __init__(self):\n",
    "        Earth. __init__(self)   \n",
    "        print(\"A continent is one of several large landmasses. Generally identified by convention rather than \\nany strict criteria, up to seven regions are commonly regarded as continents\")\n",
    "    def reagons(self):\n",
    "        print(\"Ordered from largest in area to smallest, these seven regions are\\n\\t-: Asia,\\n\\t- Africa, \\n\\t-North America,\\n\\t South America,\\n\\t\\n\\t Antarctica,\\n\\t Europe, and \\n\\tAustralia.\")\n",
    "class Asia(Continents):\n",
    "    def __init__(self):\n",
    "        print(\"Asia is Earth's largest and most populous continent, located primarily in the\\n Eastern and Northern Hemispheres.\")\n",
    "        Continents. __init__(self)\n",
    "    def contries(self):\n",
    "        print(\"There are 49 countries in Asia today:\")\n",
    "class India(Asia):\n",
    "    def __init__(self):\n",
    "        print(\"India, officially the Republic of India, is a country in South Asia. \\nIt is the second-most populous country, the seventh-largest country by land area,\\n and the most populous democracy in the world.\")\n",
    "        Asia.__init__(self)\n",
    "    def describe_India(self):\n",
    "        print(\"India is a federal union comprising 28 states and 8 union territories .\\n\")"
   ]
  },
  {
   "cell_type": "code",
   "execution_count": null,
   "id": "0038dc61",
   "metadata": {},
   "outputs": [],
   "source": [
    "obj = India()"
   ]
  },
  {
   "cell_type": "code",
   "execution_count": null,
   "id": "12a182d7",
   "metadata": {},
   "outputs": [],
   "source": []
  },
  {
   "cell_type": "code",
   "execution_count": null,
   "id": "c2057e44",
   "metadata": {},
   "outputs": [],
   "source": []
  },
  {
   "attachments": {
    "Diamond1.png": {
     "image/png": "[encoded data removed]"
    }
   },
   "cell_type": "markdown",
   "id": "093a78cb",
   "metadata": {},
   "source": [
    "## When method is overridden in both classes\n",
    "![Diamond1.png](attachment:Diamond1.png)\n"
   ]
  },
  {
   "cell_type": "code",
   "execution_count": null,
   "id": "362fbcc6",
   "metadata": {},
   "outputs": [],
   "source": [
    "class B1:\n",
    "    def m(self):\n",
    "        print(\"This is class B1\")\n",
    "class B2(B1):\n",
    "    def m(self):\n",
    "        print(\"This is class B2\")\n",
    "class B3(B1):\n",
    "    def m(self):\n",
    "        print(\"This is class B3\")\n",
    "class B4(B2,B3):\n",
    "    def m(self):\n",
    "        print(\"This is class B4\")"
   ]
  },
  {
   "cell_type": "code",
   "execution_count": null,
   "id": "5d7e3de9",
   "metadata": {},
   "outputs": [],
   "source": [
    "o = B4()"
   ]
  },
  {
   "cell_type": "code",
   "execution_count": null,
   "id": "8ad9c580",
   "metadata": {},
   "outputs": [],
   "source": [
    "o.m()"
   ]
  },
  {
   "cell_type": "code",
   "execution_count": 1,
   "id": "bfa32566",
   "metadata": {},
   "outputs": [],
   "source": [
    "class B1:\n",
    "    def m1(self):\n",
    "        print(\"This is class B1\")\n",
    "class B2(B1):\n",
    "    def m2(self):\n",
    "        print(\"This is class B2\")\n",
    "class B3(B1):\n",
    "    def m3(self):\n",
    "        print(\"This is class B3\")\n",
    "class B4(B2,B3):\n",
    "    def m4(self):\n",
    "        print(\"This is class B4\")"
   ]
  },
  {
   "cell_type": "code",
   "execution_count": 2,
   "id": "dc0ec20d",
   "metadata": {},
   "outputs": [],
   "source": [
    "o = B4()"
   ]
  },
  {
   "cell_type": "code",
   "execution_count": 3,
   "id": "6ec1b8d4",
   "metadata": {},
   "outputs": [
    {
     "name": "stdout",
     "output_type": "stream",
     "text": [
      "This is class B4\n"
     ]
    }
   ],
   "source": [
    "o.m4()"
   ]
  },
  {
   "cell_type": "code",
   "execution_count": 4,
   "id": "82e39480",
   "metadata": {},
   "outputs": [
    {
     "name": "stdout",
     "output_type": "stream",
     "text": [
      "This is class B3\n"
     ]
    }
   ],
   "source": [
    "o.m3()"
   ]
  },
  {
   "cell_type": "code",
   "execution_count": 5,
   "id": "50836b9e",
   "metadata": {},
   "outputs": [
    {
     "name": "stdout",
     "output_type": "stream",
     "text": [
      "This is class B2\n"
     ]
    }
   ],
   "source": [
    "o.m2()"
   ]
  },
  {
   "cell_type": "code",
   "execution_count": 6,
   "id": "a90f1820",
   "metadata": {},
   "outputs": [
    {
     "name": "stdout",
     "output_type": "stream",
     "text": [
      "This is class B1\n"
     ]
    }
   ],
   "source": [
    "o.m1()"
   ]
  },
  {
   "cell_type": "code",
   "execution_count": null,
   "id": "ce5e124f",
   "metadata": {},
   "outputs": [],
   "source": []
  },
  {
   "cell_type": "code",
   "execution_count": null,
   "id": "ceebdfa5",
   "metadata": {},
   "outputs": [],
   "source": [
    "# Problem\n",
    "class B1:\n",
    "    def m(self):\n",
    "        print(\"This is class B1\")\n",
    "class B2:\n",
    "    def m(self):\n",
    "        print(\"This is class B2\")\n",
    "        B1.m(self)"
   ]
  },
  {
   "cell_type": "code",
   "execution_count": null,
   "id": "901e2cc5",
   "metadata": {},
   "outputs": [],
   "source": [
    "o = B2()"
   ]
  },
  {
   "cell_type": "code",
   "execution_count": null,
   "id": "f2bc7be5",
   "metadata": {},
   "outputs": [],
   "source": [
    "o.m()"
   ]
  },
  {
   "cell_type": "code",
   "execution_count": null,
   "id": "bc0cfe28",
   "metadata": {},
   "outputs": [],
   "source": []
  }
 ],
 "metadata": {
  "kernelspec": {
   "display_name": "Python 3",
   "language": "python",
   "name": "python3"
  },
  "language_info": {
   "codemirror_mode": {
    "name": "ipython",
    "version": 3
   },
   "file_extension": ".py",
   "mimetype": "text/x-python",
   "name": "python",
   "nbconvert_exporter": "python",
   "pygments_lexer": "ipython3",
   "version": "3.8.5"
  }
 },
 "nbformat": 4,
 "nbformat_minor": 5
}
