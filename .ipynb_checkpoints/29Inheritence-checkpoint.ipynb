{
 "cells": [
  {
   "cell_type": "code",
   "execution_count": 1,
   "id": "8452da29",
   "metadata": {},
   "outputs": [],
   "source": [
    "class Animal:\n",
    "    def eat(self):\n",
    "        print(\"It eats grass and insects\")\n",
    "    def sleep(self):\n",
    "        print(\"Isleeps in night\")\n",
    "#child\n",
    "class bird(Animal):\n",
    "    def fly(self):\n",
    "        print(\"It flies in the sky\")\n",
    "    def sing(self):\n",
    "        print(\"it sings a song\")"
   ]
  },
  {
   "cell_type": "code",
   "execution_count": 8,
   "id": "a81d51c6",
   "metadata": {},
   "outputs": [],
   "source": [
    "o1 = Animal()"
   ]
  },
  {
   "cell_type": "code",
   "execution_count": 9,
   "id": "f4327784",
   "metadata": {},
   "outputs": [
    {
     "name": "stdout",
     "output_type": "stream",
     "text": [
      "It eats grass and insects\n"
     ]
    }
   ],
   "source": [
    "o1.eat()"
   ]
  },
  {
   "cell_type": "code",
   "execution_count": 10,
   "id": "00156e5c",
   "metadata": {},
   "outputs": [
    {
     "name": "stdout",
     "output_type": "stream",
     "text": [
      "Isleeps in night\n"
     ]
    }
   ],
   "source": [
    "o1.sleep()"
   ]
  },
  {
   "cell_type": "code",
   "execution_count": 11,
   "id": "02252d2c",
   "metadata": {},
   "outputs": [
    {
     "ename": "AttributeError",
     "evalue": "'Animal' object has no attribute 'fly'",
     "output_type": "error",
     "traceback": [
      "\u001b[1;31m---------------------------------------------------------------------------\u001b[0m",
      "\u001b[1;31mAttributeError\u001b[0m                            Traceback (most recent call last)",
      "\u001b[1;32m<ipython-input-11-06efe75c4876>\u001b[0m in \u001b[0;36m<module>\u001b[1;34m\u001b[0m\n\u001b[1;32m----> 1\u001b[1;33m \u001b[0mo1\u001b[0m\u001b[1;33m.\u001b[0m\u001b[0mfly\u001b[0m\u001b[1;33m(\u001b[0m\u001b[1;33m)\u001b[0m\u001b[1;33m\u001b[0m\u001b[1;33m\u001b[0m\u001b[0m\n\u001b[0m",
      "\u001b[1;31mAttributeError\u001b[0m: 'Animal' object has no attribute 'fly'"
     ]
    }
   ],
   "source": [
    "o1.fly()"
   ]
  },
  {
   "cell_type": "code",
   "execution_count": 2,
   "id": "3b45d78d",
   "metadata": {},
   "outputs": [],
   "source": [
    "sparrow = bird()"
   ]
  },
  {
   "cell_type": "code",
   "execution_count": 4,
   "id": "add3e5ab",
   "metadata": {
    "scrolled": true
   },
   "outputs": [
    {
     "name": "stdout",
     "output_type": "stream",
     "text": [
      "Isleeps in night\n"
     ]
    }
   ],
   "source": [
    "sparrow.sleep()"
   ]
  },
  {
   "cell_type": "code",
   "execution_count": 5,
   "id": "62ab8126",
   "metadata": {},
   "outputs": [
    {
     "name": "stdout",
     "output_type": "stream",
     "text": [
      "It eats grass and insects\n"
     ]
    }
   ],
   "source": [
    "sparrow.eat()"
   ]
  },
  {
   "cell_type": "code",
   "execution_count": 3,
   "id": "2f2686ab",
   "metadata": {},
   "outputs": [
    {
     "name": "stdout",
     "output_type": "stream",
     "text": [
      "It flies in the sky\n"
     ]
    }
   ],
   "source": [
    "sparrow.fly()"
   ]
  },
  {
   "cell_type": "code",
   "execution_count": 6,
   "id": "a9a21abc",
   "metadata": {},
   "outputs": [],
   "source": [
    "#object \n",
    "koyal = bird()"
   ]
  },
  {
   "cell_type": "code",
   "execution_count": 14,
   "id": "8f8c8d07",
   "metadata": {},
   "outputs": [],
   "source": [
    "# constructor\n",
    "class A:\n",
    "    def __init__(self,name = 'HH'):\n",
    "        self.name = name\n",
    "class B(A):\n",
    "    def __init__(self,roll):\n",
    "        self.roll = roll"
   ]
  },
  {
   "cell_type": "code",
   "execution_count": 15,
   "id": "adbfcd71",
   "metadata": {},
   "outputs": [],
   "source": [
    "o = B(2321431432)"
   ]
  },
  {
   "cell_type": "code",
   "execution_count": 16,
   "id": "f2a9ad6c",
   "metadata": {},
   "outputs": [
    {
     "data": {
      "text/plain": [
       "2321431432"
      ]
     },
     "execution_count": 16,
     "metadata": {},
     "output_type": "execute_result"
    }
   ],
   "source": [
    "o.roll"
   ]
  },
  {
   "cell_type": "code",
   "execution_count": 17,
   "id": "b67c6b3d",
   "metadata": {},
   "outputs": [
    {
     "ename": "AttributeError",
     "evalue": "'B' object has no attribute 'name'",
     "output_type": "error",
     "traceback": [
      "\u001b[1;31m---------------------------------------------------------------------------\u001b[0m",
      "\u001b[1;31mAttributeError\u001b[0m                            Traceback (most recent call last)",
      "\u001b[1;32m<ipython-input-17-bb4523c5f640>\u001b[0m in \u001b[0;36m<module>\u001b[1;34m\u001b[0m\n\u001b[1;32m----> 1\u001b[1;33m \u001b[0mo\u001b[0m\u001b[1;33m.\u001b[0m\u001b[0mname\u001b[0m\u001b[1;33m\u001b[0m\u001b[1;33m\u001b[0m\u001b[0m\n\u001b[0m",
      "\u001b[1;31mAttributeError\u001b[0m: 'B' object has no attribute 'name'"
     ]
    }
   ],
   "source": [
    "o.name"
   ]
  },
  {
   "cell_type": "code",
   "execution_count": null,
   "id": "e49c2c4f",
   "metadata": {},
   "outputs": [],
   "source": [
    "bcoz we have not invoked constructor of parent class"
   ]
  },
  {
   "cell_type": "code",
   "execution_count": 19,
   "id": "d0a0cfa3",
   "metadata": {},
   "outputs": [],
   "source": [
    "#Parent\n",
    "class A:\n",
    "    def __init__(self,name = 'HH'):\n",
    "        self.name = name\n",
    "class B(A):\n",
    "    def __init__(self,roll):\n",
    "        A.__init__(self,name = 'HH')\n",
    "        self.roll = roll"
   ]
  },
  {
   "cell_type": "code",
   "execution_count": 20,
   "id": "f86a2a07",
   "metadata": {},
   "outputs": [],
   "source": [
    "obj = B(2312)"
   ]
  },
  {
   "cell_type": "code",
   "execution_count": 21,
   "id": "1ec37927",
   "metadata": {},
   "outputs": [
    {
     "data": {
      "text/plain": [
       "2312"
      ]
     },
     "execution_count": 21,
     "metadata": {},
     "output_type": "execute_result"
    }
   ],
   "source": [
    "obj.roll"
   ]
  },
  {
   "cell_type": "code",
   "execution_count": 22,
   "id": "a3902548",
   "metadata": {},
   "outputs": [
    {
     "data": {
      "text/plain": [
       "'HH'"
      ]
     },
     "execution_count": 22,
     "metadata": {},
     "output_type": "execute_result"
    }
   ],
   "source": [
    "obj.name"
   ]
  },
  {
   "cell_type": "code",
   "execution_count": 33,
   "id": "f6f90200",
   "metadata": {},
   "outputs": [],
   "source": [
    "#Parent\n",
    "class A:\n",
    "    def __init__(self,name):\n",
    "        self.name = name\n",
    "class B(A):\n",
    "    def __init__(self,roll):\n",
    "        A.__init__(self,name = \"HH\")\n",
    "        self.roll = roll"
   ]
  },
  {
   "cell_type": "code",
   "execution_count": 34,
   "id": "5a0bbd16",
   "metadata": {},
   "outputs": [],
   "source": [
    "o1 = B(2321)"
   ]
  },
  {
   "cell_type": "code",
   "execution_count": 35,
   "id": "a96b1404",
   "metadata": {},
   "outputs": [
    {
     "data": {
      "text/plain": [
       "'HH'"
      ]
     },
     "execution_count": 35,
     "metadata": {},
     "output_type": "execute_result"
    }
   ],
   "source": [
    "o1.name"
   ]
  },
  {
   "cell_type": "code",
   "execution_count": 41,
   "id": "6f336c94",
   "metadata": {},
   "outputs": [],
   "source": [
    "#Parent \n",
    "class Person:\n",
    "    def __init__(self,name,idn):\n",
    "        self.name = name\n",
    "        self.idn = idn\n",
    "    def show(self):\n",
    "        return self.name ,self.idn\n",
    "#Child\n",
    "class Lalu(Person):\n",
    "    def __init__(self,name,idn,salary,post):\n",
    "        Person.__init__(self,name,idn)\n",
    "        self.salary = salary\n",
    "        self.post = post\n",
    "        \n",
    "    "
   ]
  },
  {
   "cell_type": "code",
   "execution_count": 42,
   "id": "1a645b11",
   "metadata": {},
   "outputs": [],
   "source": [
    "l = Lalu(\"Chetan\",63,200,'Sr.Engg')"
   ]
  },
  {
   "cell_type": "code",
   "execution_count": 43,
   "id": "0b9b45a4",
   "metadata": {},
   "outputs": [
    {
     "data": {
      "text/plain": [
       "('Chetan', 63)"
      ]
     },
     "execution_count": 43,
     "metadata": {},
     "output_type": "execute_result"
    }
   ],
   "source": [
    "l.show()"
   ]
  },
  {
   "cell_type": "code",
   "execution_count": 44,
   "id": "c6f65e94",
   "metadata": {},
   "outputs": [
    {
     "data": {
      "text/plain": [
       "200"
      ]
     },
     "execution_count": 44,
     "metadata": {},
     "output_type": "execute_result"
    }
   ],
   "source": [
    "l.salary"
   ]
  },
  {
   "cell_type": "code",
   "execution_count": 45,
   "id": "e6dff255",
   "metadata": {},
   "outputs": [
    {
     "data": {
      "text/plain": [
       "'Sr.Engg'"
      ]
     },
     "execution_count": 45,
     "metadata": {},
     "output_type": "execute_result"
    }
   ],
   "source": [
    "l.post"
   ]
  },
  {
   "cell_type": "code",
   "execution_count": null,
   "id": "fcdc7d97",
   "metadata": {},
   "outputs": [],
   "source": [
    "# Use of super keyword"
   ]
  },
  {
   "cell_type": "code",
   "execution_count": 46,
   "id": "dd33641f",
   "metadata": {},
   "outputs": [],
   "source": [
    "# Car class\n",
    "class Car():\n",
    "    def __init__(self,name,model,year):\n",
    "        self.n = name\n",
    "        self.m = model\n",
    "        self.y = year\n",
    "        self.mil = 0 # we want to change it further\n",
    "    def desc(self):\n",
    "        info = print(f\"My car name is {self.n}\\nand model name is {self.m}\\nmade in {self.y}\")\n",
    "        return info\n",
    "\n",
    "    def up_milage(self,m):\n",
    "        self.mil=m\n",
    "        return self.mil\n",
    "# Child class\n",
    "\n",
    "class Electric_car(Car):\n",
    "    def __init__(self,battery_backup,*args):\n",
    "        super().__init__(*args) # This will initilize name ,model ,year of parent class\n",
    "        self.battery_backup = battery_backup\n",
    "         \n",
    "    def battery_backup(self):\n",
    "        return self.battery_backup \n"
   ]
  },
  {
   "cell_type": "code",
   "execution_count": 47,
   "id": "ad92c6d6",
   "metadata": {},
   "outputs": [],
   "source": [
    "obj = Electric_car('200km','Tesla','vdi',2021)"
   ]
  },
  {
   "cell_type": "code",
   "execution_count": 48,
   "id": "92c2af8e",
   "metadata": {},
   "outputs": [
    {
     "data": {
      "text/plain": [
       "'200km'"
      ]
     },
     "execution_count": 48,
     "metadata": {},
     "output_type": "execute_result"
    }
   ],
   "source": [
    "obj.battery_backup"
   ]
  },
  {
   "cell_type": "code",
   "execution_count": 50,
   "id": "1df2b351",
   "metadata": {},
   "outputs": [
    {
     "name": "stdout",
     "output_type": "stream",
     "text": [
      "My car name is Tesla\n",
      "and model name is vdi\n",
      "made in 2021\n"
     ]
    }
   ],
   "source": [
    "obj.desc()"
   ]
  },
  {
   "cell_type": "code",
   "execution_count": 51,
   "id": "ca4ebf3c",
   "metadata": {},
   "outputs": [
    {
     "data": {
      "text/plain": [
       "0"
      ]
     },
     "execution_count": 51,
     "metadata": {},
     "output_type": "execute_result"
    }
   ],
   "source": [
    "obj.mil"
   ]
  },
  {
   "cell_type": "markdown",
   "id": "f0bd7634",
   "metadata": {},
   "source": [
    "# Method Overriding"
   ]
  },
  {
   "cell_type": "code",
   "execution_count": 52,
   "id": "3ee492bd",
   "metadata": {},
   "outputs": [],
   "source": [
    "# Car class\n",
    "class Car():\n",
    "    def __init__(self,name,model,year):\n",
    "        self.n = name\n",
    "        self.m = model\n",
    "        self.y = year\n",
    "        self.mil = 0 # we want to change it further\n",
    "    def desc(self):\n",
    "        info = print(f\"My car name is {self.n}\\nand model name is {self.m}\\nmade in {self.y}\")\n",
    "        return info\n",
    "\n",
    "    def up_milage(self,m):\n",
    "        self.mil=m\n",
    "        return self.mil\n",
    "# Child class\n",
    "\n",
    "class Electric_car(Car):\n",
    "    def __init__(self,battery_backup,*args):\n",
    "        super().__init__(*args) # This will initilize name ,model ,year of parent class\n",
    "        self.battery_backup = battery_backup\n",
    "         \n",
    "    def battery_backup(self):\n",
    "        return self.battery_backup \n",
    "    \n",
    "    def up_milage(self):\n",
    "\n",
    "        return \"Isme hota hi nahi hai ☻\""
   ]
  },
  {
   "cell_type": "code",
   "execution_count": 53,
   "id": "43ddb904",
   "metadata": {},
   "outputs": [],
   "source": [
    "ob = Electric_car('200km','Tesla','vdi',2021)"
   ]
  },
  {
   "cell_type": "code",
   "execution_count": 55,
   "id": "28abcca0",
   "metadata": {},
   "outputs": [
    {
     "data": {
      "text/plain": [
       "'Isme hota hi nahi hai ☻'"
      ]
     },
     "execution_count": 55,
     "metadata": {},
     "output_type": "execute_result"
    }
   ],
   "source": [
    "ob.up_milage()"
   ]
  },
  {
   "cell_type": "code",
   "execution_count": 57,
   "id": "eb2750e6",
   "metadata": {},
   "outputs": [
    {
     "name": "stdout",
     "output_type": "stream",
     "text": [
      "My car name is Tesla\n",
      "and model name is vdi\n",
      "made in 2021\n"
     ]
    }
   ],
   "source": [
    "ob.desc()"
   ]
  },
  {
   "attachments": {
    "Capture.PNG": {
     "image/png": "[encoded data removed]"
    }
   },
   "cell_type": "markdown",
   "id": "95564b4c",
   "metadata": {},
   "source": [
    "# multiple inheritence![Capture.PNG]\n",
    "\n",
    "![Capture.PNG](attachment:Capture.PNG)"
   ]
  },
  {
   "attachments": {
    "Diamond1.png": {
     "image/png": "[encoded data removed]"
    }
   },
   "cell_type": "markdown",
   "id": "26e975d2",
   "metadata": {},
   "source": [
    "![Diamond1.png](attachment:Diamond1.png)"
   ]
  },
  {
   "cell_type": "code",
   "execution_count": 2,
   "id": "53f7ad08",
   "metadata": {},
   "outputs": [],
   "source": [
    "# Problem\n",
    "class A:\n",
    "    def m1(self):\n",
    "        print(\"This is A\")\n",
    "        \n",
    "class B:\n",
    "    def m2(self):\n",
    "        print(\"This is B\")\n",
    "        A.m1(self)"
   ]
  },
  {
   "cell_type": "code",
   "execution_count": 3,
   "id": "5acc3f89",
   "metadata": {},
   "outputs": [],
   "source": [
    "o = B()"
   ]
  },
  {
   "cell_type": "code",
   "execution_count": 4,
   "id": "2d2295d2",
   "metadata": {},
   "outputs": [
    {
     "name": "stdout",
     "output_type": "stream",
     "text": [
      "This is B\n",
      "This is A\n"
     ]
    }
   ],
   "source": [
    "o.m2()"
   ]
  },
  {
   "cell_type": "code",
   "execution_count": null,
   "id": "b7ddb95c",
   "metadata": {},
   "outputs": [],
   "source": []
  }
 ],
 "metadata": {
  "kernelspec": {
   "display_name": "Python 3",
   "language": "python",
   "name": "python3"
  },
  "language_info": {
   "codemirror_mode": {
    "name": "ipython",
    "version": 3
   },
   "file_extension": ".py",
   "mimetype": "text/x-python",
   "name": "python",
   "nbconvert_exporter": "python",
   "pygments_lexer": "ipython3",
   "version": "3.8.5"
  }
 },
 "nbformat": 4,
 "nbformat_minor": 5
}
