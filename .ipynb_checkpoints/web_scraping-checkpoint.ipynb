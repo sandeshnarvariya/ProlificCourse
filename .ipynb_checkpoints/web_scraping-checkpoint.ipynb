{
 "cells": [
  {
   "cell_type": "code",
   "execution_count": 1,
   "metadata": {},
   "outputs": [],
   "source": [
    "from bs4 import BeautifulSoup as bs\n",
    "from urllib.request import urlopen"
   ]
  },
  {
   "cell_type": "code",
   "execution_count": 2,
   "metadata": {},
   "outputs": [],
   "source": [
    "# Now 1st i want a url .\n",
    "url = \"https://www.flipkart.com/laptops/pr?sid=6bo,b5g&otracker=categorytree&fm=neo%2Fmerchandising&iid=M_b99e96e2-a864-4e7c-9b6a-6b0008623752_1_372UD5BXDFYS_MC.34WHNYFH5V2Y&otracker=hp_rich_navigation_13_1.navigationCard.RICH_NAVIGATION_Electronics~Laptop%2Band%2BDesktop_34WHNYFH5V2Y&cid=34WHNYFH5V2Y\"\n",
    "  #and now this variable 'url' has got our link which we want to scrape."
   ]
  },
  {
   "cell_type": "code",
   "execution_count": 3,
   "metadata": {},
   "outputs": [
    {
     "name": "stdout",
     "output_type": "stream",
     "text": [
      "<http.client.HTTPResponse object at 0x00000230546DBDF0>\n"
     ]
    }
   ],
   "source": [
    "ureq= urlopen(url)   #WE want to create a request to open our.\n",
    "print(ureq) #\n",
    "#We also want to read HTML content .(go to website and view page source)\n",
    "html = ureq.read() # here 'ureq' variable contains information about current url.\n",
    "\n",
    "ureq.close() # We also need to close it ."
   ]
  },
  {
   "cell_type": "code",
   "execution_count": 4,
   "metadata": {},
   "outputs": [],
   "source": [
    "#print(html)# control+f ,type Acer Preditor\n",
    "# This will not be structured"
   ]
  },
  {
   "cell_type": "code",
   "execution_count": 5,
   "metadata": {},
   "outputs": [],
   "source": [
    "# Now we are going to use something called Beautiful Soup.\n",
    "# (Google Beautiful Soup) \n",
    "#Beautiful Soup is a Python library for pulling data out of HTML and XML files\n",
    "p_soup = bs(html,'html.parser')\n",
    "#p_soup\n",
    "# this will be structured"
   ]
  },
  {
   "cell_type": "code",
   "execution_count": 6,
   "metadata": {},
   "outputs": [],
   "source": [
    "# WE can see that HTml code that we have got in our previous \n",
    "# 'html' was not structured but\n",
    "# This one'p_soup' is structured .\n",
    "\n",
    "# So what parsing does to this ,it gets it structured so that,\n",
    "# we can retrieve information from that perticular page.\n",
    " "
   ]
  },
  {
   "cell_type": "code",
   "execution_count": 7,
   "metadata": {},
   "outputs": [
    {
     "data": {
      "text/plain": [
       "bs4.BeautifulSoup"
      ]
     },
     "execution_count": 7,
     "metadata": {},
     "output_type": "execute_result"
    }
   ],
   "source": [
    "\n",
    "type(p_soup)"
   ]
  },
  {
   "cell_type": "code",
   "execution_count": 12,
   "metadata": {
    "scrolled": true
   },
   "outputs": [
    {
     "name": "stdout",
     "output_type": "stream",
     "text": [
      "Help on method find_all in module bs4.element:\n",
      "\n",
      "find_all(name=None, attrs={}, recursive=True, text=None, limit=None, **kwargs) method of bs4.BeautifulSoup instance\n",
      "    Look in the children of this PageElement and find all\n",
      "    PageElements that match the given criteria.\n",
      "    \n",
      "    All find_* methods take a common set of arguments. See the online\n",
      "    documentation for detailed explanations.\n",
      "    \n",
      "    :param name: A filter on tag name.\n",
      "    :param attrs: A dictionary of filters on attribute values.\n",
      "    :param recursive: If this is True, find_all() will perform a\n",
      "        recursive search of this PageElement's children. Otherwise,\n",
      "        only the direct children will be considered.\n",
      "    :param limit: Stop looking after finding this many results.\n",
      "    :kwargs: A dictionary of filters on attribute values.\n",
      "    :return: A ResultSet of PageElements.\n",
      "    :rtype: bs4.element.ResultSet\n",
      "\n"
     ]
    }
   ],
   "source": [
    "help(p_soup.find_all)"
   ]
  },
  {
   "cell_type": "code",
   "execution_count": 13,
   "metadata": {},
   "outputs": [],
   "source": [
    "laptops = p_soup.find_all('div',attrs={'class':'_13oc-S'} )#"
   ]
  },
  {
   "cell_type": "code",
   "execution_count": 14,
   "metadata": {},
   "outputs": [
    {
     "name": "stdout",
     "output_type": "stream",
     "text": [
      "24\n"
     ]
    }
   ],
   "source": [
    "print(len(laptops))"
   ]
  },
  {
   "cell_type": "code",
   "execution_count": 15,
   "metadata": {},
   "outputs": [
    {
     "name": "stdout",
     "output_type": "stream",
     "text": [
      "[<div class=\"_13oc-S\"><div data-id=\"COMG2TFSNK3KRFPA\" style=\"width:100%\"><div class=\"_2kHMtA\"><a class=\"_1fQZEK\" href=\"/hp-14s-core-i3-11th-gen-8-gb-256-gb-ssd-windows-10-home-14s-dy2501tu-thin-light-laptop/p/itmdce0f13dd3a4e?pid=COMG2TFSNK3KRFPA&amp;lid=LSTCOMG2TFSNK3KRFPAFSHCEC&amp;marketplace=FLIPKART&amp;store=6bo%2Fb5g&amp;srno=b_1_1&amp;otracker=browse&amp;fm=organic&amp;iid=f4399639-669b-4d7f-8778-e86a059d7c34.COMG2TFSNK3KRFPA.SEARCH&amp;ppt=None&amp;ppn=None&amp;ssid=azkodjeai80000001623348349670\" rel=\"noopener noreferrer\" target=\"_blank\"><div class=\"MIXNux\"><div class=\"_2QcLo-\"><div><div class=\"CXW8mj\" style=\"height:200px;width:200px\"><img alt=\"HP 14s Core i3 11th Gen - (8 GB/256 GB SSD/Windows 10 Home) 14s- DY2501TU Thin and Light Laptop\" class=\"_396cs4 _3exPp9\" src=\"https://rukminim1.flixcart.com/image/312/312/kbqu4cw0/computer/v/r/y/hp-original-imaftyzqzbyerzgt.jpeg?q=70\"/></div></div></div><div class=\"_3wLduG\"><div class=\"_3PzNI-\"><span class=\"f3A4_V\"><label class=\"_2iDkf8\"><input class=\"_30VH1S\" readonly=\"\" type=\"checkbox\"/><div class=\"_24_Dny\"></div></label></span><label class=\"_6Up2sF\"><span>Add to Compare</span></label></div></div><div class=\"_2hVSre _3nq8ih\"><div class=\"_36FSn5\"><svg class=\"_1l0elc\" height=\"16\" viewbox=\"0 0 20 16\" width=\"16\" xmlns=\"http://www.w3.org/2000/svg\"><path class=\"eX72wL\" d=\"M8.695 16.682C4.06 12.382 1 9.536 1 6.065 1 3.219 3.178 1 5.95 1c1.566 0 3.069.746 4.05 1.915C10.981 1.745 12.484 1 14.05 1 16.822 1 19 3.22 19 6.065c0 3.471-3.06 6.316-7.695 10.617L10 17.897l-1.305-1.215z\" fill=\"#2874F0\" fill-rule=\"evenodd\" opacity=\".9\" stroke=\"#FFF\"></path></svg></div></div></div><div class=\"_3pLy-c row\"><div class=\"col col-7-12\"><div class=\"_4rR01T\">HP 14s Core i3 11th Gen - (8 GB/256 GB SSD/Windows 10 Home) 14s- DY2501TU Thin and Light Laptop</div><div class=\"gUuXy-\"><span class=\"_1lRcqv\" id=\"productRating_LSTCOMG2TFSNK3KRFPAFSHCEC_COMG2TFSNK3KRFPA_\"><div class=\"_3LWZlK\">4.7<img class=\"_1wB99o\" src=\"data:image/svg+xml;base64,PHN2ZyB4bWxucz0iaHR0cDovL3d3dy53My5vcmcvMjAwMC9zdmciIHdpZHRoPSIxMyIgaGVpZ2h0PSIxMiI+PHBhdGggZmlsbD0iI0ZGRiIgZD0iTTYuNSA5LjQzOWwtMy42NzQgMi4yMy45NC00LjI2LTMuMjEtMi44ODMgNC4yNTQtLjQwNEw2LjUuMTEybDEuNjkgNC4wMSA0LjI1NC40MDQtMy4yMSAyLjg4Mi45NCA0LjI2eiIvPjwvc3ZnPg==\"/></div></span><span class=\"_2_R_DZ\"><span><span>91 Ratings </span><span class=\"_13vcmD\">&amp;</span><span> 14 Reviews</span></span></span></div><div class=\"fMghEO\"><ul class=\"_1xgFaf\"><li class=\"rgWa7D\">Intel Core i3 Processor (11th Gen)</li><li class=\"rgWa7D\">8 GB DDR4 RAM</li><li class=\"rgWa7D\">64 bit Windows 10 Operating System</li><li class=\"rgWa7D\">256 GB SSD</li><li class=\"rgWa7D\">35.56 cm (14 inch) Display</li><li class=\"rgWa7D\">HP Documentation, HP SSRM, HP Smart, Microsoft Office 2019, McAfeeLiveSafe 30 day trial, HP Support Assistant</li><li class=\"rgWa7D\">1 Year Onsite Warranty</li></ul></div></div><div class=\"col col-5-12 nlI3QM\"><div class=\"_3tbKJL\"><div class=\"_25b18c\"><div class=\"_30jeq3 _1_WHN1\">₹40,990</div><div class=\"_3I9_wc _27UcVY\">₹<!-- -->45,892</div><div class=\"_3Ay6Sb\"><span>10% off</span></div></div><div class=\"_3tcB5a p8ucoS\"><div><div class=\"_2Tpdn3\" style=\"color:#000000;font-size:14px;font-style:normal;font-weight:400\">Or Pay ₹40,890 + </div><div class=\"CXW8mj _1lT03L\" style=\"height:12px;width:12px\"><img alt=\"\" class=\"_396cs4\" src=\"//static-assets-web.flixcart.com/www/linchpin/fk-cp-zion/img/placeholder_fcebae.svg\"/></div><div class=\"_2Tpdn3\" style=\"color:#000000;font-size:14px;font-style:normal;font-weight:400\"> 100</div></div></div></div><div class=\"_13J9qT\"><img height=\"21\" src=\"//static-assets-web.flixcart.com/www/linchpin/fk-cp-zion/img/fa_62673a.png\"/></div><div class=\"_2ZdXDB\"><div class=\"_3xFhiH\"><div class=\"_2Tpdn3 _18hQoS\" style=\"color:#000000;font-size:12px;font-style:normal;font-weight:400\">No Cost EMI</div></div></div></div></div></a></div></div></div>, <div class=\"_13oc-S\"><div data-id=\"COMG22MXAZQSA2FV\" style=\"width:100%\"><div class=\"_2kHMtA\"><a class=\"_1fQZEK\" href=\"/hp-15s-core-i3-10th-gen-8-gb-1-tb-hdd-256-gb-ssd-windows-10-home-15s-du1064tu-laptop/p/itmab561bd2356cb?pid=COMG22MXAZQSA2FV&amp;lid=LSTCOMG22MXAZQSA2FVV8RKG4&amp;marketplace=FLIPKART&amp;store=6bo%2Fb5g&amp;srno=b_1_2&amp;otracker=browse&amp;fm=organic&amp;iid=f4399639-669b-4d7f-8778-e86a059d7c34.COMG22MXAZQSA2FV.SEARCH&amp;ppt=None&amp;ppn=None&amp;ssid=azkodjeai80000001623348349670\" rel=\"noopener noreferrer\" target=\"_blank\"><div class=\"MIXNux\"><div class=\"_2QcLo-\"><div><div class=\"CXW8mj\" style=\"height:200px;width:200px\"><img alt=\"HP 15s Core i3 10th Gen - (8 GB/1 TB HDD/256 GB SSD/Windows 10 Home) 15s-du1064TU Laptop\" class=\"_396cs4 _3exPp9\" src=\"https://rukminim1.flixcart.com/image/312/312/kbqu4cw0/computer/t/d/f/hp-original-imaftyzafphshjge.jpeg?q=70\"/></div></div></div><div class=\"_3wLduG\"><div class=\"_3PzNI-\"><span class=\"f3A4_V\"><label class=\"_2iDkf8\"><input class=\"_30VH1S\" readonly=\"\" type=\"checkbox\"/><div class=\"_24_Dny\"></div></label></span><label class=\"_6Up2sF\"><span>Add to Compare</span></label></div></div><div class=\"_2hVSre _3nq8ih\"><div class=\"_36FSn5\"><svg class=\"_1l0elc\" height=\"16\" viewbox=\"0 0 20 16\" width=\"16\" xmlns=\"http://www.w3.org/2000/svg\"><path class=\"eX72wL\" d=\"M8.695 16.682C4.06 12.382 1 9.536 1 6.065 1 3.219 3.178 1 5.95 1c1.566 0 3.069.746 4.05 1.915C10.981 1.745 12.484 1 14.05 1 16.822 1 19 3.22 19 6.065c0 3.471-3.06 6.316-7.695 10.617L10 17.897l-1.305-1.215z\" fill=\"#2874F0\" fill-rule=\"evenodd\" opacity=\".9\" stroke=\"#FFF\"></path></svg></div></div></div><div class=\"_3pLy-c row\"><div class=\"col col-7-12\"><div class=\"_4rR01T\">HP 15s Core i3 10th Gen - (8 GB/1 TB HDD/256 GB SSD/Windows 10 Home) 15s-du1064TU Laptop</div><div class=\"gUuXy-\"><span class=\"_1lRcqv\" id=\"productRating_LSTCOMG22MXAZQSA2FVV8RKG4_COMG22MXAZQSA2FV_\"><div class=\"_3LWZlK\">4.3<img class=\"_1wB99o\" src=\"data:image/svg+xml;base64,PHN2ZyB4bWxucz0iaHR0cDovL3d3dy53My5vcmcvMjAwMC9zdmciIHdpZHRoPSIxMyIgaGVpZ2h0PSIxMiI+PHBhdGggZmlsbD0iI0ZGRiIgZD0iTTYuNSA5LjQzOWwtMy42NzQgMi4yMy45NC00LjI2LTMuMjEtMi44ODMgNC4yNTQtLjQwNEw2LjUuMTEybDEuNjkgNC4wMSA0LjI1NC40MDQtMy4yMSAyLjg4Mi45NCA0LjI2eiIvPjwvc3ZnPg==\"/></div></span><span class=\"_2_R_DZ\"><span><span>253 Ratings </span><span class=\"_13vcmD\">&amp;</span><span> 28 Reviews</span></span></span></div><div class=\"fMghEO\"><ul class=\"_1xgFaf\"><li class=\"rgWa7D\">Intel Core i3 Processor (10th Gen)</li><li class=\"rgWa7D\">8 GB DDR4 RAM</li><li class=\"rgWa7D\">64 bit Windows 10 Operating System</li><li class=\"rgWa7D\">1 TB HDD|256 GB SSD</li><li class=\"rgWa7D\">39.62 cm (15.6 inch) Display</li><li class=\"rgWa7D\">Microsoft Office Home &amp; Student 2019, HP Documentation, HP BIOS recovery, HP Smart</li><li class=\"rgWa7D\">1 Year Onsite Warranty</li></ul></div></div><div class=\"col col-5-12 nlI3QM\"><div class=\"_3tbKJL\"><div class=\"_25b18c\"><div class=\"_30jeq3 _1_WHN1\">₹41,990</div><div class=\"_3I9_wc _27UcVY\">₹<!-- -->44,908</div><div class=\"_3Ay6Sb\"><span>6% off</span></div></div><div class=\"_3tcB5a p8ucoS\"><div><div class=\"_2Tpdn3\" style=\"color:#000000;font-size:14px;font-style:normal;font-weight:400\">Or Pay ₹41,890 + </div><div class=\"CXW8mj _1lT03L\" style=\"height:12px;width:12px\"><img alt=\"\" class=\"_396cs4\" src=\"//static-assets-web.flixcart.com/www/linchpin/fk-cp-zion/img/placeholder_fcebae.svg\"/></div><div class=\"_2Tpdn3\" style=\"color:#000000;font-size:14px;font-style:normal;font-weight:400\"> 100</div></div></div></div><div class=\"_13J9qT\"><img height=\"21\" src=\"//static-assets-web.flixcart.com/www/linchpin/fk-cp-zion/img/fa_62673a.png\"/></div><div class=\"_2ZdXDB\"><div class=\"_3xFhiH\"><div class=\"_2Tpdn3 _18hQoS\" style=\"color:#000000;font-size:12px;font-style:normal;font-weight:400\">No Cost EMI</div></div></div></div></div></a></div></div></div>, <div class=\"_13oc-S\"><div data-id=\"COMFUUJGMZCNJDZH\" style=\"width:100%\"><div class=\"_2kHMtA\"><a class=\"_1fQZEK\" href=\"/acer-aspire-7-ryzen-5-quad-core-3550h-8-gb-512-gb-ssd-windows-10-home-4-graphics-nvidia-geforce-gtx-1650-60-hz-a715-41g-r6s8-gaming-laptop/p/itm56e58b0c59ea3?pid=COMFUUJGMZCNJDZH&amp;lid=LSTCOMFUUJGMZCNJDZHGUDORZ&amp;marketplace=FLIPKART&amp;store=6bo%2Fb5g&amp;srno=b_1_3&amp;otracker=browse&amp;fm=organic&amp;iid=f4399639-669b-4d7f-8778-e86a059d7c34.COMFUUJGMZCNJDZH.SEARCH&amp;ppt=None&amp;ppn=None&amp;ssid=azkodjeai80000001623348349670\" rel=\"noopener noreferrer\" target=\"_blank\"><div class=\"MIXNux\"><div class=\"_2QcLo-\"><div><div class=\"CXW8mj\" style=\"height:200px;width:200px\"><img alt=\"acer Aspire 7 Ryzen 5 Quad Core 3550H - (8 GB/512 GB SSD/Windows 10 Home/4 GB Graphics/NVIDIA GeForce ...\" class=\"_396cs4 _3exPp9\" src=\"https://rukminim1.flixcart.com/image/312/312/kcc9q4w0/computer/h/t/g/acer-na-gaming-laptop-original-imafthr8aa4rsjpn.jpeg?q=70\"/></div></div></div><div class=\"_3wLduG\"><div class=\"_3PzNI-\"><span class=\"f3A4_V\"><label class=\"_2iDkf8\"><input class=\"_30VH1S\" readonly=\"\" type=\"checkbox\"/><div class=\"_24_Dny\"></div></label></span><label class=\"_6Up2sF\"><span>Add to Compare</span></label></div></div><div class=\"_2hVSre _3nq8ih\"><div class=\"_36FSn5\"><svg class=\"_1l0elc\" height=\"16\" viewbox=\"0 0 20 16\" width=\"16\" xmlns=\"http://www.w3.org/2000/svg\"><path class=\"eX72wL\" d=\"M8.695 16.682C4.06 12.382 1 9.536 1 6.065 1 3.219 3.178 1 5.95 1c1.566 0 3.069.746 4.05 1.915C10.981 1.745 12.484 1 14.05 1 16.822 1 19 3.22 19 6.065c0 3.471-3.06 6.316-7.695 10.617L10 17.897l-1.305-1.215z\" fill=\"#2874F0\" fill-rule=\"evenodd\" opacity=\".9\" stroke=\"#FFF\"></path></svg></div></div></div><div class=\"_3pLy-c row\"><div class=\"col col-7-12\"><div class=\"_4rR01T\">acer Aspire 7 Ryzen 5 Quad Core 3550H - (8 GB/512 GB SSD/Windows 10 Home/4 GB Graphics/NVIDIA GeForce ...</div><div class=\"gUuXy-\"><span class=\"_1lRcqv\" id=\"productRating_LSTCOMFUUJGMZCNJDZHGUDORZ_COMFUUJGMZCNJDZH_\"><div class=\"_3LWZlK\">4.4<img class=\"_1wB99o\" src=\"data:image/svg+xml;base64,PHN2ZyB4bWxucz0iaHR0cDovL3d3dy53My5vcmcvMjAwMC9zdmciIHdpZHRoPSIxMyIgaGVpZ2h0PSIxMiI+PHBhdGggZmlsbD0iI0ZGRiIgZD0iTTYuNSA5LjQzOWwtMy42NzQgMi4yMy45NC00LjI2LTMuMjEtMi44ODMgNC4yNTQtLjQwNEw2LjUuMTEybDEuNjkgNC4wMSA0LjI1NC40MDQtMy4yMSAyLjg4Mi45NCA0LjI2eiIvPjwvc3ZnPg==\"/></div></span><span class=\"_2_R_DZ\"><span><span>5,315 Ratings </span><span class=\"_13vcmD\">&amp;</span><span> 910 Reviews</span></span></span></div><div class=\"fMghEO\"><ul class=\"_1xgFaf\"><li class=\"rgWa7D\">AMD Ryzen 5 Quad Core Processor</li><li class=\"rgWa7D\">8 GB DDR4 RAM</li><li class=\"rgWa7D\">64 bit Windows 10 Operating System</li><li class=\"rgWa7D\">512 GB SSD</li><li class=\"rgWa7D\">39.62 cm (15.6 inch) Display</li><li class=\"rgWa7D\">Acer Collection, Acer Product Registration, Acer Care Center, Quick Access</li><li class=\"rgWa7D\">1 Year International Travelers Warranty (ITW)</li></ul></div></div><div class=\"col col-5-12 nlI3QM\"><div class=\"_3tbKJL\"><div class=\"_25b18c\"><div class=\"_30jeq3 _1_WHN1\">₹49,990</div><div class=\"_3I9_wc _27UcVY\">₹<!-- -->72,990</div><div class=\"_3Ay6Sb\"><span>31% off</span></div></div><div class=\"_3tcB5a p8ucoS\"><div><div class=\"_2Tpdn3\" style=\"color:#000000;font-size:14px;font-style:normal;font-weight:400\">Or Pay ₹49,890 + </div><div class=\"CXW8mj _1lT03L\" style=\"height:12px;width:12px\"><img alt=\"\" class=\"_396cs4\" src=\"//static-assets-web.flixcart.com/www/linchpin/fk-cp-zion/img/placeholder_fcebae.svg\"/></div><div class=\"_2Tpdn3\" style=\"color:#000000;font-size:14px;font-style:normal;font-weight:400\"> 100</div></div></div></div><div class=\"_13J9qT\"><img height=\"21\" src=\"//static-assets-web.flixcart.com/www/linchpin/fk-cp-zion/img/fa_62673a.png\"/></div><div class=\"_2ZdXDB\"><div class=\"_3xFhiH\"><div class=\"_2Tpdn3 _18hQoS\" style=\"color:#000000;font-size:12px;font-style:normal;font-weight:400\">No Cost EMI</div></div></div></div></div></a></div></div></div>, <div class=\"_13oc-S\"><div data-id=\"COMGFVWMZXNEDHFB\" style=\"width:100%\"><div class=\"_2kHMtA\"><a class=\"_1fQZEK\" href=\"/asus-tuf-gaming-f15-core-i5-10th-gen-8-gb-512-gb-ssd-windows-10-home-4-graphics-nvidia-geforce-gtx-1650-ti-144-hz-fx506li-hn271ts-laptop/p/itme14aa4095ad4c?pid=COMGFVWMZXNEDHFB&amp;lid=LSTCOMGFVWMZXNEDHFBKVM1HI&amp;marketplace=FLIPKART&amp;store=6bo%2Fb5g&amp;srno=b_1_4&amp;otracker=browse&amp;fm=organic&amp;iid=f4399639-669b-4d7f-8778-e86a059d7c34.COMGFVWMZXNEDHFB.SEARCH&amp;ppt=None&amp;ppn=None&amp;ssid=azkodjeai80000001623348349670\" rel=\"noopener noreferrer\" target=\"_blank\"><div class=\"MIXNux\"><div class=\"_2QcLo-\"><div><div class=\"CXW8mj\" style=\"height:200px;width:200px\"><img alt=\"ASUS TUF Gaming F15 Core i5 10th Gen - (8 GB/512 GB SSD/Windows 10 Home/4 GB Graphics/NVIDIA GeForce G...\" class=\"_396cs4 _3exPp9\" src=\"https://rukminim1.flixcart.com/image/312/312/knni7ww0/computer/x/o/x/na-gaming-laptop-asus-original-imag2a8c7fgm2mrm.jpeg?q=70\"/></div></div></div><div class=\"_3wLduG\"><div class=\"_3PzNI-\"><span class=\"f3A4_V\"><label class=\"_2iDkf8\"><input class=\"_30VH1S\" readonly=\"\" type=\"checkbox\"/><div class=\"_24_Dny\"></div></label></span><label class=\"_6Up2sF\"><span>Add to Compare</span></label></div></div><div class=\"_2hVSre _3nq8ih\"><div class=\"_36FSn5\"><svg class=\"_1l0elc\" height=\"16\" viewbox=\"0 0 20 16\" width=\"16\" xmlns=\"http://www.w3.org/2000/svg\"><path class=\"eX72wL\" d=\"M8.695 16.682C4.06 12.382 1 9.536 1 6.065 1 3.219 3.178 1 5.95 1c1.566 0 3.069.746 4.05 1.915C10.981 1.745 12.484 1 14.05 1 16.822 1 19 3.22 19 6.065c0 3.471-3.06 6.316-7.695 10.617L10 17.897l-1.305-1.215z\" fill=\"#2874F0\" fill-rule=\"evenodd\" opacity=\".9\" stroke=\"#FFF\"></path></svg></div></div></div><div class=\"_3pLy-c row\"><div class=\"col col-7-12\"><div class=\"_4rR01T\">ASUS TUF Gaming F15 Core i5 10th Gen - (8 GB/512 GB SSD/Windows 10 Home/4 GB Graphics/NVIDIA GeForce G...</div><div class=\"gUuXy-\"><span class=\"_1lRcqv\" id=\"productRating_LSTCOMGFVWMZXNEDHFBKVM1HI_COMGFVWMZXNEDHFB_\"><div class=\"_3LWZlK\">4.8<img class=\"_1wB99o\" src=\"data:image/svg+xml;base64,PHN2ZyB4bWxucz0iaHR0cDovL3d3dy53My5vcmcvMjAwMC9zdmciIHdpZHRoPSIxMyIgaGVpZ2h0PSIxMiI+PHBhdGggZmlsbD0iI0ZGRiIgZD0iTTYuNSA5LjQzOWwtMy42NzQgMi4yMy45NC00LjI2LTMuMjEtMi44ODMgNC4yNTQtLjQwNEw2LjUuMTEybDEuNjkgNC4wMSA0LjI1NC40MDQtMy4yMSAyLjg4Mi45NCA0LjI2eiIvPjwvc3ZnPg==\"/></div></span><span class=\"_2_R_DZ\"><span><span>20 Ratings </span><span class=\"_13vcmD\">&amp;</span><span> 3 Reviews</span></span></span></div><div class=\"fMghEO\"><ul class=\"_1xgFaf\"><li class=\"rgWa7D\">Intel Core i5 Processor (10th Gen)</li><li class=\"rgWa7D\">8 GB DDR4 RAM</li><li class=\"rgWa7D\">64 bit Windows 10 Operating System</li><li class=\"rgWa7D\">512 GB SSD</li><li class=\"rgWa7D\">39.62 cm (15.6 Inch) Display</li><li class=\"rgWa7D\">Microsoft Office Home and Student 2019</li><li class=\"rgWa7D\">1 Year Onsite Warranty</li></ul></div></div><div class=\"col col-5-12 nlI3QM\"><div class=\"_3tbKJL\"><div class=\"_25b18c\"><div class=\"_30jeq3 _1_WHN1\">₹66,990</div><div class=\"_3I9_wc _27UcVY\">₹<!-- -->89,990</div><div class=\"_3Ay6Sb\"><span>25% off</span></div></div><div class=\"_3tcB5a p8ucoS\"><div><div class=\"_2Tpdn3\" style=\"color:#000000;font-size:14px;font-style:normal;font-weight:400\">Or Pay ₹66,890 + </div><div class=\"CXW8mj _1lT03L\" style=\"height:12px;width:12px\"><img alt=\"\" class=\"_396cs4\" src=\"//static-assets-web.flixcart.com/www/linchpin/fk-cp-zion/img/placeholder_fcebae.svg\"/></div><div class=\"_2Tpdn3\" style=\"color:#000000;font-size:14px;font-style:normal;font-weight:400\"> 100</div></div></div></div><div class=\"_13J9qT\"><img height=\"21\" src=\"//static-assets-web.flixcart.com/www/linchpin/fk-cp-zion/img/fa_62673a.png\"/></div><div class=\"_2ZdXDB\"><div class=\"_3xFhiH\"><div class=\"_2Tpdn3 _18hQoS\" style=\"color:#000000;font-size:12px;font-style:normal;font-weight:400\">No Cost EMI</div></div></div></div></div></a></div></div></div>, <div class=\"_13oc-S\"><div data-id=\"COMFZ2MUDVF73GDA\" style=\"width:100%\"><div class=\"_2kHMtA\"><a class=\"_1fQZEK\" href=\"/hp-15s-dual-core-3020e-4-gb-1-tb-hdd-windows-10-home-15s-gy0003au-thin-light-laptop/p/itm4b0ea73088120?pid=COMFZ2MUDVF73GDA&amp;lid=LSTCOMFZ2MUDVF73GDADFZCZQ&amp;marketplace=FLIPKART&amp;store=6bo%2Fb5g&amp;srno=b_1_5&amp;otracker=browse&amp;fm=organic&amp;iid=f4399639-669b-4d7f-8778-e86a059d7c34.COMFZ2MUDVF73GDA.SEARCH&amp;ppt=None&amp;ppn=None&amp;ssid=azkodjeai80000001623348349670\" rel=\"noopener noreferrer\" target=\"_blank\"><div class=\"MIXNux\"><div class=\"_2QcLo-\"><div><div class=\"CXW8mj\" style=\"height:200px;width:200px\"><img alt=\"HP 15s Dual Core 3020e - (4 GB/1 TB HDD/Windows 10 Home) 15s-GY0003AU Thin and Light Laptop\" class=\"_396cs4 _3exPp9\" src=\"https://rukminim1.flixcart.com/image/312/312/khwbde80/computer/c/4/h/hp-original-imafxtarxygbevbh.jpeg?q=70\"/></div></div></div><div class=\"_3wLduG\"><div class=\"_3PzNI-\"><span class=\"f3A4_V\"><label class=\"_2iDkf8\"><input class=\"_30VH1S\" readonly=\"\" type=\"checkbox\"/><div class=\"_24_Dny\"></div></label></span><label class=\"_6Up2sF\"><span>Add to Compare</span></label></div></div><div class=\"_2hVSre _3nq8ih\"><div class=\"_36FSn5\"><svg class=\"_1l0elc\" height=\"16\" viewbox=\"0 0 20 16\" width=\"16\" xmlns=\"http://www.w3.org/2000/svg\"><path class=\"eX72wL\" d=\"M8.695 16.682C4.06 12.382 1 9.536 1 6.065 1 3.219 3.178 1 5.95 1c1.566 0 3.069.746 4.05 1.915C10.981 1.745 12.484 1 14.05 1 16.822 1 19 3.22 19 6.065c0 3.471-3.06 6.316-7.695 10.617L10 17.897l-1.305-1.215z\" fill=\"#2874F0\" fill-rule=\"evenodd\" opacity=\".9\" stroke=\"#FFF\"></path></svg></div></div></div><div class=\"_3pLy-c row\"><div class=\"col col-7-12\"><div class=\"_4rR01T\">HP 15s Dual Core 3020e - (4 GB/1 TB HDD/Windows 10 Home) 15s-GY0003AU Thin and Light Laptop</div><div class=\"gUuXy-\"><span class=\"_1lRcqv\" id=\"productRating_LSTCOMFZ2MUDVF73GDADFZCZQ_COMFZ2MUDVF73GDA_\"><div class=\"_3LWZlK\">3.9<img class=\"_1wB99o\" src=\"data:image/svg+xml;base64,PHN2ZyB4bWxucz0iaHR0cDovL3d3dy53My5vcmcvMjAwMC9zdmciIHdpZHRoPSIxMyIgaGVpZ2h0PSIxMiI+PHBhdGggZmlsbD0iI0ZGRiIgZD0iTTYuNSA5LjQzOWwtMy42NzQgMi4yMy45NC00LjI2LTMuMjEtMi44ODMgNC4yNTQtLjQwNEw2LjUuMTEybDEuNjkgNC4wMSA0LjI1NC40MDQtMy4yMSAyLjg4Mi45NCA0LjI2eiIvPjwvc3ZnPg==\"/></div></span><span class=\"_2_R_DZ\"><span><span>1,622 Ratings </span><span class=\"_13vcmD\">&amp;</span><span> 178 Reviews</span></span></span></div><div class=\"fMghEO\"><ul class=\"_1xgFaf\"><li class=\"rgWa7D\">AMD Dual Core Processor</li><li class=\"rgWa7D\">4 GB DDR4 RAM</li><li class=\"rgWa7D\">64 bit Windows 10 Operating System</li><li class=\"rgWa7D\">1 TB HDD</li><li class=\"rgWa7D\">39.62 cm (15.6 inch) Display</li><li class=\"rgWa7D\">HP Documentation, HP Smart, HP Support Assistant</li><li class=\"rgWa7D\">1 Year Onsite Warranty</li></ul></div></div><div class=\"col col-5-12 nlI3QM\"><div class=\"_3tbKJL\"><div class=\"_25b18c\"><div class=\"_30jeq3 _1_WHN1\">₹25,990</div><div class=\"_3I9_wc _27UcVY\">₹<!-- -->25,996</div></div></div><div class=\"_13J9qT\"><img height=\"21\" src=\"//static-assets-web.flixcart.com/www/linchpin/fk-cp-zion/img/fa_62673a.png\"/></div></div></div></a></div></div></div>, <div class=\"_13oc-S\"><div data-id=\"COMFYZC5BZJKRZD6\" style=\"width:100%\"><div class=\"_2kHMtA\"><a class=\"_1fQZEK\" href=\"/msi-modern-14-core-i3-10th-gen-8-gb-256-gb-ssd-windows-10-home-b10mw-425in-laptop/p/itmf43219f37bf11?pid=COMFYZC5BZJKRZD6&amp;lid=LSTCOMFYZC5BZJKRZD6WTHGFT&amp;marketplace=FLIPKART&amp;store=6bo%2Fb5g&amp;srno=b_1_6&amp;otracker=browse&amp;fm=organic&amp;iid=f4399639-669b-4d7f-8778-e86a059d7c34.COMFYZC5BZJKRZD6.SEARCH&amp;ppt=None&amp;ppn=None&amp;ssid=azkodjeai80000001623348349670\" rel=\"noopener noreferrer\" target=\"_blank\"><div class=\"MIXNux\"><div class=\"_2QcLo-\"><div><div class=\"CXW8mj\" style=\"height:200px;width:200px\"><img alt=\"MSI Modern 14 Core i3 10th Gen - (8 GB/256 GB SSD/Windows 10 Home) Modern 14 B10MW-425IN Laptop\" class=\"_396cs4 _3exPp9\" src=\"https://rukminim1.flixcart.com/image/312/312/kjabs7k0/computer/z/d/6/msi-original-imafywfypuwbubmn.jpeg?q=70\"/></div></div></div><div class=\"_3wLduG\"><div class=\"_3PzNI-\"><span class=\"f3A4_V\"><label class=\"_2iDkf8\"><input class=\"_30VH1S\" readonly=\"\" type=\"checkbox\"/><div class=\"_24_Dny\"></div></label></span><label class=\"_6Up2sF\"><span>Add to Compare</span></label></div></div><div class=\"_2hVSre _3nq8ih\"><div class=\"_36FSn5\"><svg class=\"_1l0elc\" height=\"16\" viewbox=\"0 0 20 16\" width=\"16\" xmlns=\"http://www.w3.org/2000/svg\"><path class=\"eX72wL\" d=\"M8.695 16.682C4.06 12.382 1 9.536 1 6.065 1 3.219 3.178 1 5.95 1c1.566 0 3.069.746 4.05 1.915C10.981 1.745 12.484 1 14.05 1 16.822 1 19 3.22 19 6.065c0 3.471-3.06 6.316-7.695 10.617L10 17.897l-1.305-1.215z\" fill=\"#2874F0\" fill-rule=\"evenodd\" opacity=\".9\" stroke=\"#FFF\"></path></svg></div></div></div><div class=\"_3pLy-c row\"><div class=\"col col-7-12\"><div class=\"_4rR01T\">MSI Modern 14 Core i3 10th Gen - (8 GB/256 GB SSD/Windows 10 Home) Modern 14 B10MW-425IN Laptop</div><div class=\"gUuXy-\"><span class=\"_1lRcqv\" id=\"productRating_LSTCOMFYZC5BZJKRZD6WTHGFT_COMFYZC5BZJKRZD6_\"><div class=\"_3LWZlK\">4.5<img class=\"_1wB99o\" src=\"data:image/svg+xml;base64,PHN2ZyB4bWxucz0iaHR0cDovL3d3dy53My5vcmcvMjAwMC9zdmciIHdpZHRoPSIxMyIgaGVpZ2h0PSIxMiI+PHBhdGggZmlsbD0iI0ZGRiIgZD0iTTYuNSA5LjQzOWwtMy42NzQgMi4yMy45NC00LjI2LTMuMjEtMi44ODMgNC4yNTQtLjQwNEw2LjUuMTEybDEuNjkgNC4wMSA0LjI1NC40MDQtMy4yMSAyLjg4Mi45NCA0LjI2eiIvPjwvc3ZnPg==\"/></div></span><span class=\"_2_R_DZ\"><span><span>203 Ratings </span><span class=\"_13vcmD\">&amp;</span><span> 33 Reviews</span></span></span></div><div class=\"fMghEO\"><ul class=\"_1xgFaf\"><li class=\"rgWa7D\">Intel Core i3 Processor (10th Gen)</li><li class=\"rgWa7D\">8 GB DDR4 RAM</li><li class=\"rgWa7D\">64 bit Windows 10 Operating System</li><li class=\"rgWa7D\">256 GB SSD</li><li class=\"rgWa7D\">35.56 cm (14 inch) Display</li><li class=\"rgWa7D\">Cooler Boost, Nahimic 3, Creator Center</li><li class=\"rgWa7D\">1 Year Carry In Warranty</li></ul></div></div><div class=\"col col-5-12 nlI3QM\"><div class=\"_3tbKJL\"><div class=\"_25b18c\"><div class=\"_30jeq3 _1_WHN1\">₹36,990</div><div class=\"_3I9_wc _27UcVY\">₹<!-- -->53,900</div><div class=\"_3Ay6Sb\"><span>31% off</span></div></div><div class=\"_3tcB5a p8ucoS\"><div><div class=\"_2Tpdn3\" style=\"color:#000000;font-size:14px;font-style:normal;font-weight:400\">Or Pay ₹36,890 + </div><div class=\"CXW8mj _1lT03L\" style=\"height:12px;width:12px\"><img alt=\"\" class=\"_396cs4\" src=\"//static-assets-web.flixcart.com/www/linchpin/fk-cp-zion/img/placeholder_fcebae.svg\"/></div><div class=\"_2Tpdn3\" style=\"color:#000000;font-size:14px;font-style:normal;font-weight:400\"> 100</div></div></div></div><div class=\"_13J9qT\"><img height=\"21\" src=\"//static-assets-web.flixcart.com/www/linchpin/fk-cp-zion/img/fa_62673a.png\"/></div></div></div></a></div></div></div>, <div class=\"_13oc-S\"><div data-id=\"COMGFUP2ZXMVW77T\" style=\"width:100%\"><div class=\"_2kHMtA\"><a class=\"_1fQZEK\" href=\"/avita-cosmos-2-1-celeron-dual-core-4-gb-64-gb-emmc-storage-windows-10-home-ns12t5in025p-laptop/p/itm58dac457d1be9?pid=COMGFUP2ZXMVW77T&amp;lid=LSTCOMGFUP2ZXMVW77T2HJCX6&amp;marketplace=FLIPKART&amp;store=6bo%2Fb5g&amp;srno=b_1_7&amp;otracker=browse&amp;fm=organic&amp;iid=f4399639-669b-4d7f-8778-e86a059d7c34.COMGFUP2ZXMVW77T.SEARCH&amp;ppt=None&amp;ppn=None&amp;ssid=azkodjeai80000001623348349670\" rel=\"noopener noreferrer\" target=\"_blank\"><div class=\"MIXNux\"><div class=\"_2QcLo-\"><div><div class=\"CXW8mj\" style=\"height:200px;width:200px\"><img alt=\"Avita Cosmos 2 in 1 Celeron Dual Core - (4 GB/64 GB EMMC Storage/Windows 10 Home) NS12T5IN025P 2 in 1 ...\" class=\"_396cs4 _3exPp9\" src=\"https://rukminim1.flixcart.com/image/312/312/kokdci80/computer/x/z/3/avita-original-imag2zupctgghczh.jpeg?q=70\"/></div></div></div><div class=\"_3wLduG\"><div class=\"_3PzNI-\"><span class=\"f3A4_V\"><label class=\"_2iDkf8\"><input class=\"_30VH1S\" readonly=\"\" type=\"checkbox\"/><div class=\"_24_Dny\"></div></label></span><label class=\"_6Up2sF\"><span>Add to Compare</span></label></div></div><div class=\"_2hVSre _3nq8ih\"><div class=\"_36FSn5\"><svg class=\"_1l0elc\" height=\"16\" viewbox=\"0 0 20 16\" width=\"16\" xmlns=\"http://www.w3.org/2000/svg\"><path class=\"eX72wL\" d=\"M8.695 16.682C4.06 12.382 1 9.536 1 6.065 1 3.219 3.178 1 5.95 1c1.566 0 3.069.746 4.05 1.915C10.981 1.745 12.484 1 14.05 1 16.822 1 19 3.22 19 6.065c0 3.471-3.06 6.316-7.695 10.617L10 17.897l-1.305-1.215z\" fill=\"#2874F0\" fill-rule=\"evenodd\" opacity=\".9\" stroke=\"#FFF\"></path></svg></div></div></div><div class=\"_3pLy-c row\"><div class=\"col col-7-12\"><div class=\"_4rR01T\">Avita Cosmos 2 in 1 Celeron Dual Core - (4 GB/64 GB EMMC Storage/Windows 10 Home) NS12T5IN025P 2 in 1 ...</div><div class=\"gUuXy-\"><span class=\"_1lRcqv\" id=\"productRating_LSTCOMGFUP2ZXMVW77T2HJCX6_COMGFUP2ZXMVW77T_\"><div class=\"_3LWZlK\">4<img class=\"_1wB99o\" src=\"data:image/svg+xml;base64,PHN2ZyB4bWxucz0iaHR0cDovL3d3dy53My5vcmcvMjAwMC9zdmciIHdpZHRoPSIxMyIgaGVpZ2h0PSIxMiI+PHBhdGggZmlsbD0iI0ZGRiIgZD0iTTYuNSA5LjQzOWwtMy42NzQgMi4yMy45NC00LjI2LTMuMjEtMi44ODMgNC4yNTQtLjQwNEw2LjUuMTEybDEuNjkgNC4wMSA0LjI1NC40MDQtMy4yMSAyLjg4Mi45NCA0LjI2eiIvPjwvc3ZnPg==\"/></div></span><span class=\"_2_R_DZ\"><span><span>20 Ratings </span><span class=\"_13vcmD\">&amp;</span><span> 6 Reviews</span></span></span></div><div class=\"fMghEO\"><ul class=\"_1xgFaf\"><li class=\"rgWa7D\">Intel Celeron Dual Core Processor</li><li class=\"rgWa7D\">4 GB DDR4 RAM</li><li class=\"rgWa7D\">64 bit Windows 10 Operating System</li><li class=\"rgWa7D\">29.46 cm (11.6 inch) Touchscreen Display</li><li class=\"rgWa7D\">24 Months Warranty</li></ul></div></div><div class=\"col col-5-12 nlI3QM\"><div class=\"_3tbKJL\"><div class=\"_25b18c\"><div class=\"_30jeq3 _1_WHN1\">₹17,990</div><div class=\"_3I9_wc _27UcVY\">₹<!-- -->23,490</div><div class=\"_3Ay6Sb\"><span>23% off</span></div></div><div class=\"_3tcB5a p8ucoS\"><div><div class=\"_2Tpdn3\" style=\"color:#000000;font-size:14px;font-style:normal;font-weight:400\">Or Pay ₹17,890 + </div><div class=\"CXW8mj _1lT03L\" style=\"height:12px;width:12px\"><img alt=\"\" class=\"_396cs4\" src=\"//static-assets-web.flixcart.com/www/linchpin/fk-cp-zion/img/placeholder_fcebae.svg\"/></div><div class=\"_2Tpdn3\" style=\"color:#000000;font-size:14px;font-style:normal;font-weight:400\"> 100</div></div></div></div><div class=\"_13J9qT\"><img height=\"21\" src=\"//static-assets-web.flixcart.com/www/linchpin/fk-cp-zion/img/fa_62673a.png\"/></div></div></div></a></div></div></div>, <div class=\"_13oc-S\"><div data-id=\"COMFR6AAYHTCDHTG\" style=\"width:100%\"><div class=\"_2kHMtA\"><a class=\"_1fQZEK\" href=\"/acer-aspire-7-core-i5-9th-gen-8-gb-512-gb-ssd-windows-10-home-4-graphics-nvidia-geforce-gtx-1650-ti-a715-75g-51h8-gaming-laptop/p/itmb6b0ba7ba7c49?pid=COMFR6AAYHTCDHTG&amp;lid=LSTCOMFR6AAYHTCDHTGRBZYBI&amp;marketplace=FLIPKART&amp;store=6bo%2Fb5g&amp;srno=b_1_8&amp;otracker=browse&amp;fm=organic&amp;iid=f4399639-669b-4d7f-8778-e86a059d7c34.COMFR6AAYHTCDHTG.SEARCH&amp;ppt=None&amp;ppn=None&amp;ssid=azkodjeai80000001623348349670\" rel=\"noopener noreferrer\" target=\"_blank\"><div class=\"MIXNux\"><div class=\"_2QcLo-\"><div><div class=\"CXW8mj\" style=\"height:200px;width:200px\"><img alt=\"acer Aspire 7 Core i5 9th Gen - (8 GB/512 GB SSD/Windows 10 Home/4 GB Graphics/NVIDIA GeForce GTX 1650...\" class=\"_396cs4 _3exPp9\" src=\"https://rukminim1.flixcart.com/image/312/312/kcc9q4w0/computer/h/t/g/acer-na-gaming-laptop-original-imafthr8aa4rsjpn.jpeg?q=70\"/></div></div></div><div class=\"_3wLduG\"><div class=\"_3PzNI-\"><span class=\"f3A4_V\"><label class=\"_2iDkf8\"><input class=\"_30VH1S\" readonly=\"\" type=\"checkbox\"/><div class=\"_24_Dny\"></div></label></span><label class=\"_6Up2sF\"><span>Add to Compare</span></label></div></div><div class=\"_2hVSre _3nq8ih\"><div class=\"_36FSn5\"><svg class=\"_1l0elc\" height=\"16\" viewbox=\"0 0 20 16\" width=\"16\" xmlns=\"http://www.w3.org/2000/svg\"><path class=\"eX72wL\" d=\"M8.695 16.682C4.06 12.382 1 9.536 1 6.065 1 3.219 3.178 1 5.95 1c1.566 0 3.069.746 4.05 1.915C10.981 1.745 12.484 1 14.05 1 16.822 1 19 3.22 19 6.065c0 3.471-3.06 6.316-7.695 10.617L10 17.897l-1.305-1.215z\" fill=\"#2874F0\" fill-rule=\"evenodd\" opacity=\".9\" stroke=\"#FFF\"></path></svg></div></div></div><div class=\"_3pLy-c row\"><div class=\"col col-7-12\"><div class=\"_4rR01T\">acer Aspire 7 Core i5 9th Gen - (8 GB/512 GB SSD/Windows 10 Home/4 GB Graphics/NVIDIA GeForce GTX 1650...</div><div class=\"gUuXy-\"><span class=\"_1lRcqv\" id=\"productRating_LSTCOMFR6AAYHTCDHTGRBZYBI_COMFR6AAYHTCDHTG_\"><div class=\"_3LWZlK\">4.4<img class=\"_1wB99o\" src=\"data:image/svg+xml;base64,PHN2ZyB4bWxucz0iaHR0cDovL3d3dy53My5vcmcvMjAwMC9zdmciIHdpZHRoPSIxMyIgaGVpZ2h0PSIxMiI+PHBhdGggZmlsbD0iI0ZGRiIgZD0iTTYuNSA5LjQzOWwtMy42NzQgMi4yMy45NC00LjI2LTMuMjEtMi44ODMgNC4yNTQtLjQwNEw2LjUuMTEybDEuNjkgNC4wMSA0LjI1NC40MDQtMy4yMSAyLjg4Mi45NCA0LjI2eiIvPjwvc3ZnPg==\"/></div></span><span class=\"_2_R_DZ\"><span><span>2,105 Ratings </span><span class=\"_13vcmD\">&amp;</span><span> 272 Reviews</span></span></span></div><div class=\"fMghEO\"><ul class=\"_1xgFaf\"><li class=\"rgWa7D\">Intel Core i5 Processor (9th Gen)</li><li class=\"rgWa7D\">8 GB DDR4 RAM</li><li class=\"rgWa7D\">64 bit Windows 10 Operating System</li><li class=\"rgWa7D\">512 GB SSD</li><li class=\"rgWa7D\">39.62 cm (15.6 inch) Display</li><li class=\"rgWa7D\">Acer Collection, Acer Product Registration , Quick Access, Acer Care Center</li><li class=\"rgWa7D\">1 Year International Travelers Warranty (ITW)</li></ul></div></div><div class=\"col col-5-12 nlI3QM\"><div class=\"_3tbKJL\"><div class=\"_25b18c\"><div class=\"_30jeq3 _1_WHN1\">₹53,990</div><div class=\"_3I9_wc _27UcVY\">₹<!-- -->84,999</div><div class=\"_3Ay6Sb\"><span>36% off</span></div></div><div class=\"_3tcB5a p8ucoS\"><div><div class=\"_2Tpdn3\" style=\"color:#000000;font-size:14px;font-style:normal;font-weight:400\">Or Pay ₹53,890 + </div><div class=\"CXW8mj _1lT03L\" style=\"height:12px;width:12px\"><img alt=\"\" class=\"_396cs4\" src=\"//static-assets-web.flixcart.com/www/linchpin/fk-cp-zion/img/placeholder_fcebae.svg\"/></div><div class=\"_2Tpdn3\" style=\"color:#000000;font-size:14px;font-style:normal;font-weight:400\"> 100</div></div></div></div><div class=\"_13J9qT\"><img height=\"21\" src=\"//static-assets-web.flixcart.com/www/linchpin/fk-cp-zion/img/fa_62673a.png\"/></div><div class=\"_2ZdXDB\"><div class=\"_3xFhiH\"><div class=\"_2Tpdn3 _18hQoS\" style=\"color:#000000;font-size:12px;font-style:normal;font-weight:400\">No Cost EMI</div></div></div></div></div></a></div></div></div>, <div class=\"_13oc-S\"><div data-id=\"COMFYZC5Q94CKQRV\" style=\"width:100%\"><div class=\"_2kHMtA\"><a class=\"_1fQZEK\" href=\"/msi-modern-14-core-i3-10th-gen-8-gb-512-gb-ssd-windows-10-home-b10mw-424in-laptop/p/itmdb98c6b5f1662?pid=COMFYZC5Q94CKQRV&amp;lid=LSTCOMFYZC5Q94CKQRVGS9Q9U&amp;marketplace=FLIPKART&amp;store=6bo%2Fb5g&amp;srno=b_1_9&amp;otracker=browse&amp;fm=organic&amp;iid=f4399639-669b-4d7f-8778-e86a059d7c34.COMFYZC5Q94CKQRV.SEARCH&amp;ppt=None&amp;ppn=None&amp;ssid=azkodjeai80000001623348349670\" rel=\"noopener noreferrer\" target=\"_blank\"><div class=\"MIXNux\"><div class=\"_2QcLo-\"><div><div class=\"CXW8mj\" style=\"height:200px;width:200px\"><img alt=\"MSI Modern 14 Core i3 10th Gen - (8 GB/512 GB SSD/Windows 10 Home) Modern 14 B10MW-424IN Laptop\" class=\"_396cs4 _3exPp9\" src=\"https://rukminim1.flixcart.com/image/312/312/kjabs7k0/computer/z/d/6/msi-original-imafywfypuwbubmn.jpeg?q=70\"/></div></div></div><div class=\"_3wLduG\"><div class=\"_3PzNI-\"><span class=\"f3A4_V\"><label class=\"_2iDkf8\"><input class=\"_30VH1S\" readonly=\"\" type=\"checkbox\"/><div class=\"_24_Dny\"></div></label></span><label class=\"_6Up2sF\"><span>Add to Compare</span></label></div></div><div class=\"_2hVSre _3nq8ih\"><div class=\"_36FSn5\"><svg class=\"_1l0elc\" height=\"16\" viewbox=\"0 0 20 16\" width=\"16\" xmlns=\"http://www.w3.org/2000/svg\"><path class=\"eX72wL\" d=\"M8.695 16.682C4.06 12.382 1 9.536 1 6.065 1 3.219 3.178 1 5.95 1c1.566 0 3.069.746 4.05 1.915C10.981 1.745 12.484 1 14.05 1 16.822 1 19 3.22 19 6.065c0 3.471-3.06 6.316-7.695 10.617L10 17.897l-1.305-1.215z\" fill=\"#2874F0\" fill-rule=\"evenodd\" opacity=\".9\" stroke=\"#FFF\"></path></svg></div></div></div><div class=\"_3pLy-c row\"><div class=\"col col-7-12\"><div class=\"_4rR01T\">MSI Modern 14 Core i3 10th Gen - (8 GB/512 GB SSD/Windows 10 Home) Modern 14 B10MW-424IN Laptop</div><div class=\"gUuXy-\"><span class=\"_1lRcqv\" id=\"productRating_LSTCOMFYZC5Q94CKQRVGS9Q9U_COMFYZC5Q94CKQRV_\"><div class=\"_3LWZlK\">4.5<img class=\"_1wB99o\" src=\"data:image/svg+xml;base64,PHN2ZyB4bWxucz0iaHR0cDovL3d3dy53My5vcmcvMjAwMC9zdmciIHdpZHRoPSIxMyIgaGVpZ2h0PSIxMiI+PHBhdGggZmlsbD0iI0ZGRiIgZD0iTTYuNSA5LjQzOWwtMy42NzQgMi4yMy45NC00LjI2LTMuMjEtMi44ODMgNC4yNTQtLjQwNEw2LjUuMTEybDEuNjkgNC4wMSA0LjI1NC40MDQtMy4yMSAyLjg4Mi45NCA0LjI2eiIvPjwvc3ZnPg==\"/></div></span><span class=\"_2_R_DZ\"><span><span>225 Ratings </span><span class=\"_13vcmD\">&amp;</span><span> 44 Reviews</span></span></span></div><div class=\"fMghEO\"><ul class=\"_1xgFaf\"><li class=\"rgWa7D\">Intel Core i3 Processor (10th Gen)</li><li class=\"rgWa7D\">8 GB DDR4 RAM</li><li class=\"rgWa7D\">64 bit Windows 10 Operating System</li><li class=\"rgWa7D\">512 GB SSD</li><li class=\"rgWa7D\">35.56 cm (14 inch) Display</li><li class=\"rgWa7D\">Cooler Boost, Nahimic 3, Creator Center</li><li class=\"rgWa7D\">1 Year Carry In Warranty</li></ul></div></div><div class=\"col col-5-12 nlI3QM\"><div class=\"_3tbKJL\"><div class=\"_25b18c\"><div class=\"_30jeq3 _1_WHN1\">₹39,990</div><div class=\"_3I9_wc _27UcVY\">₹<!-- -->52,491</div><div class=\"_3Ay6Sb\"><span>23% off</span></div></div><div class=\"_3tcB5a p8ucoS\"><div><div class=\"_2Tpdn3\" style=\"color:#000000;font-size:14px;font-style:normal;font-weight:400\">Or Pay ₹39,890 + </div><div class=\"CXW8mj _1lT03L\" style=\"height:12px;width:12px\"><img alt=\"\" class=\"_396cs4\" src=\"//static-assets-web.flixcart.com/www/linchpin/fk-cp-zion/img/placeholder_fcebae.svg\"/></div><div class=\"_2Tpdn3\" style=\"color:#000000;font-size:14px;font-style:normal;font-weight:400\"> 100</div></div></div></div><div class=\"_13J9qT\"><img height=\"21\" src=\"//static-assets-web.flixcart.com/www/linchpin/fk-cp-zion/img/fa_62673a.png\"/></div></div></div></a></div></div></div>, <div class=\"_13oc-S\"><div data-id=\"COMG26RVFGZGDE9D\" style=\"width:100%\"><div class=\"_2kHMtA\"><a class=\"_1fQZEK\" href=\"/hp-14s-ryzen-3-quad-core-4300u-8-gb-512-gb-ssd-windows-10-home-14s-fr0016au-thin-light-laptop/p/itma78a910d56810?pid=COMG26RVFGZGDE9D&amp;lid=LSTCOMG26RVFGZGDE9DXGPBAY&amp;marketplace=FLIPKART&amp;store=6bo%2Fb5g&amp;srno=b_1_10&amp;otracker=browse&amp;fm=organic&amp;iid=f4399639-669b-4d7f-8778-e86a059d7c34.COMG26RVFGZGDE9D.SEARCH&amp;ppt=None&amp;ppn=None&amp;ssid=azkodjeai80000001623348349670\" rel=\"noopener noreferrer\" target=\"_blank\"><div class=\"MIXNux\"><div class=\"_2QcLo-\"><div><div class=\"CXW8mj\" style=\"height:200px;width:200px\"><img alt=\"HP 14s Ryzen 3 Quad Core 4300U - (8 GB/512 GB SSD/Windows 10 Home) 14s-fr0016AU Thin and Light Laptop\" class=\"_396cs4 _3exPp9\" src=\"https://rukminim1.flixcart.com/image/312/312/kgzg8sw0/computer/z/j/j/hp-14s-fr0009au-laptop-original-imafx3rhqwgwzwgy.jpeg?q=70\"/></div></div></div><div class=\"_3wLduG\"><div class=\"_3PzNI-\"><span class=\"f3A4_V\"><label class=\"_2iDkf8\"><input class=\"_30VH1S\" readonly=\"\" type=\"checkbox\"/><div class=\"_24_Dny\"></div></label></span><label class=\"_6Up2sF\"><span>Add to Compare</span></label></div></div><div class=\"_2hVSre _3nq8ih\"><div class=\"_36FSn5\"><svg class=\"_1l0elc\" height=\"16\" viewbox=\"0 0 20 16\" width=\"16\" xmlns=\"http://www.w3.org/2000/svg\"><path class=\"eX72wL\" d=\"M8.695 16.682C4.06 12.382 1 9.536 1 6.065 1 3.219 3.178 1 5.95 1c1.566 0 3.069.746 4.05 1.915C10.981 1.745 12.484 1 14.05 1 16.822 1 19 3.22 19 6.065c0 3.471-3.06 6.316-7.695 10.617L10 17.897l-1.305-1.215z\" fill=\"#2874F0\" fill-rule=\"evenodd\" opacity=\".9\" stroke=\"#FFF\"></path></svg></div></div></div><div class=\"_3pLy-c row\"><div class=\"col col-7-12\"><div class=\"_4rR01T\">HP 14s Ryzen 3 Quad Core 4300U - (8 GB/512 GB SSD/Windows 10 Home) 14s-fr0016AU Thin and Light Laptop</div><div class=\"gUuXy-\"><span class=\"_1lRcqv\" id=\"productRating_LSTCOMG26RVFGZGDE9DXGPBAY_COMG26RVFGZGDE9D_\"><div class=\"_3LWZlK\">4.5<img class=\"_1wB99o\" src=\"data:image/svg+xml;base64,PHN2ZyB4bWxucz0iaHR0cDovL3d3dy53My5vcmcvMjAwMC9zdmciIHdpZHRoPSIxMyIgaGVpZ2h0PSIxMiI+PHBhdGggZmlsbD0iI0ZGRiIgZD0iTTYuNSA5LjQzOWwtMy42NzQgMi4yMy45NC00LjI2LTMuMjEtMi44ODMgNC4yNTQtLjQwNEw2LjUuMTEybDEuNjkgNC4wMSA0LjI1NC40MDQtMy4yMSAyLjg4Mi45NCA0LjI2eiIvPjwvc3ZnPg==\"/></div></span><span class=\"_2_R_DZ\"><span><span>596 Ratings </span><span class=\"_13vcmD\">&amp;</span><span> 82 Reviews</span></span></span></div><div class=\"fMghEO\"><ul class=\"_1xgFaf\"><li class=\"rgWa7D\">AMD Ryzen 3 Quad Core Processor</li><li class=\"rgWa7D\">8 GB DDR4 RAM</li><li class=\"rgWa7D\">64 bit Windows 10 Operating System</li><li class=\"rgWa7D\">512 GB SSD</li><li class=\"rgWa7D\">35.56 cm (14 inch) Display</li><li class=\"rgWa7D\">Microsoft Office 2019 and Office 365, HP Smart, HP Documentation, HP SSRM</li><li class=\"rgWa7D\">1 Year Onsite Warranty</li></ul></div></div><div class=\"col col-5-12 nlI3QM\"><div class=\"_3tbKJL\"><div class=\"_25b18c\"><div class=\"_30jeq3 _1_WHN1\">₹39,490</div><div class=\"_3I9_wc _27UcVY\">₹<!-- -->44,442</div><div class=\"_3Ay6Sb\"><span>11% off</span></div></div><div class=\"_3tcB5a p8ucoS\"><div><div class=\"_2Tpdn3\" style=\"color:#000000;font-size:14px;font-style:normal;font-weight:400\">Or Pay ₹39,390 + </div><div class=\"CXW8mj _1lT03L\" style=\"height:12px;width:12px\"><img alt=\"\" class=\"_396cs4\" src=\"//static-assets-web.flixcart.com/www/linchpin/fk-cp-zion/img/placeholder_fcebae.svg\"/></div><div class=\"_2Tpdn3\" style=\"color:#000000;font-size:14px;font-style:normal;font-weight:400\"> 100</div></div></div></div><div class=\"_13J9qT\"><img height=\"21\" src=\"//static-assets-web.flixcart.com/www/linchpin/fk-cp-zion/img/fa_62673a.png\"/></div><div class=\"_2ZdXDB\"><div class=\"_3xFhiH\"><div class=\"_2Tpdn3 _18hQoS\" style=\"color:#000000;font-size:12px;font-style:normal;font-weight:400\">No Cost EMI</div></div></div></div></div></a></div></div></div>, <div class=\"_13oc-S\"><div data-id=\"COMG2HDWHWHHJV4E\" style=\"width:100%\"><div class=\"_2kHMtA\"><a class=\"_1fQZEK\" href=\"/hp-pentium-quad-core-8-gb-256-gb-ssd-windows-10-home-14s-dq3018tu-thin-light-laptop/p/itmdf4e72a377e90?pid=COMG2HDWHWHHJV4E&amp;lid=LSTCOMG2HDWHWHHJV4EU2HY7O&amp;marketplace=FLIPKART&amp;store=6bo%2Fb5g&amp;srno=b_1_11&amp;otracker=browse&amp;fm=organic&amp;iid=f4399639-669b-4d7f-8778-e86a059d7c34.COMG2HDWHWHHJV4E.SEARCH&amp;ppt=None&amp;ppn=None&amp;ssid=azkodjeai80000001623348349670\" rel=\"noopener noreferrer\" target=\"_blank\"><div class=\"MIXNux\"><div class=\"_2QcLo-\"><div><div class=\"CXW8mj\" style=\"height:200px;width:200px\"><img alt=\"HP Pentium Quad Core - (8 GB/256 GB SSD/Windows 10 Home) 14s- DQ3018TU Thin and Light Laptop\" class=\"_396cs4 _3exPp9\" src=\"https://rukminim1.flixcart.com/image/312/312/kctf0cw0/computer/j/n/a/hp-na-thin-and-light-laptop-original-imaftv7fxtmzhkw3.jpeg?q=70\"/></div></div></div><div class=\"_3wLduG\"><div class=\"_3PzNI-\"><span class=\"f3A4_V\"><label class=\"_2iDkf8\"><input class=\"_30VH1S\" readonly=\"\" type=\"checkbox\"/><div class=\"_24_Dny\"></div></label></span><label class=\"_6Up2sF\"><span>Add to Compare</span></label></div></div><div class=\"_2hVSre _3nq8ih\"><div class=\"_36FSn5\"><svg class=\"_1l0elc\" height=\"16\" viewbox=\"0 0 20 16\" width=\"16\" xmlns=\"http://www.w3.org/2000/svg\"><path class=\"eX72wL\" d=\"M8.695 16.682C4.06 12.382 1 9.536 1 6.065 1 3.219 3.178 1 5.95 1c1.566 0 3.069.746 4.05 1.915C10.981 1.745 12.484 1 14.05 1 16.822 1 19 3.22 19 6.065c0 3.471-3.06 6.316-7.695 10.617L10 17.897l-1.305-1.215z\" fill=\"#2874F0\" fill-rule=\"evenodd\" opacity=\".9\" stroke=\"#FFF\"></path></svg></div></div></div><div class=\"_3pLy-c row\"><div class=\"col col-7-12\"><div class=\"_4rR01T\">HP Pentium Quad Core - (8 GB/256 GB SSD/Windows 10 Home) 14s- DQ3018TU Thin and Light Laptop</div><div class=\"gUuXy-\"><span class=\"_1lRcqv\" id=\"productRating_LSTCOMG2HDWHWHHJV4EU2HY7O_COMG2HDWHWHHJV4E_\"><div class=\"_3LWZlK\">4.3<img class=\"_1wB99o\" src=\"data:image/svg+xml;base64,PHN2ZyB4bWxucz0iaHR0cDovL3d3dy53My5vcmcvMjAwMC9zdmciIHdpZHRoPSIxMyIgaGVpZ2h0PSIxMiI+PHBhdGggZmlsbD0iI0ZGRiIgZD0iTTYuNSA5LjQzOWwtMy42NzQgMi4yMy45NC00LjI2LTMuMjEtMi44ODMgNC4yNTQtLjQwNEw2LjUuMTEybDEuNjkgNC4wMSA0LjI1NC40MDQtMy4yMSAyLjg4Mi45NCA0LjI2eiIvPjwvc3ZnPg==\"/></div></span><span class=\"_2_R_DZ\"><span><span>133 Ratings </span><span class=\"_13vcmD\">&amp;</span><span> 22 Reviews</span></span></span></div><div class=\"fMghEO\"><ul class=\"_1xgFaf\"><li class=\"rgWa7D\">Intel Pentium Quad Core Processor</li><li class=\"rgWa7D\">8 GB DDR4 RAM</li><li class=\"rgWa7D\">64 bit Windows 10 Operating System</li><li class=\"rgWa7D\">256 GB SSD</li><li class=\"rgWa7D\">35.56 cm (14 inch) Display</li><li class=\"rgWa7D\">Microsoft Office Home &amp; Student 2019, HP Documentation, HP Smart</li><li class=\"rgWa7D\">1 Year Onsite Warranty</li></ul></div></div><div class=\"col col-5-12 nlI3QM\"><div class=\"_3tbKJL\"><div class=\"_25b18c\"><div class=\"_30jeq3 _1_WHN1\">₹31,490</div><div class=\"_3I9_wc _27UcVY\">₹<!-- -->34,500</div><div class=\"_3Ay6Sb\"><span>8% off</span></div></div><div class=\"_3tcB5a p8ucoS\"><div><div class=\"_2Tpdn3\" style=\"color:#000000;font-size:14px;font-style:normal;font-weight:400\">Or Pay ₹31,390 + </div><div class=\"CXW8mj _1lT03L\" style=\"height:12px;width:12px\"><img alt=\"\" class=\"_396cs4\" src=\"//static-assets-web.flixcart.com/www/linchpin/fk-cp-zion/img/placeholder_fcebae.svg\"/></div><div class=\"_2Tpdn3\" style=\"color:#000000;font-size:14px;font-style:normal;font-weight:400\"> 100</div></div></div></div><div class=\"_13J9qT\"><img height=\"21\" src=\"//static-assets-web.flixcart.com/www/linchpin/fk-cp-zion/img/fa_62673a.png\"/></div><div class=\"_2ZdXDB\"><div class=\"_3xFhiH\"><div class=\"_2Tpdn3 _18hQoS\" style=\"color:#000000;font-size:12px;font-style:normal;font-weight:400\">No Cost EMI</div></div></div></div></div></a></div></div></div>, <div class=\"_13oc-S\"><div data-id=\"COMG2DBSMFDZTE9F\" style=\"width:100%\"><div class=\"_2kHMtA\"><a class=\"_1fQZEK\" href=\"/asus-ryzen-3-dual-core-4-gb-256-gb-ssd-windows-10-home-m515da-bq312ts-thin-light-laptop/p/itmb693b62762dc7?pid=COMG2DBSMFDZTE9F&amp;lid=LSTCOMG2DBSMFDZTE9FNDKXIK&amp;marketplace=FLIPKART&amp;store=6bo%2Fb5g&amp;srno=b_1_12&amp;otracker=browse&amp;fm=organic&amp;iid=f4399639-669b-4d7f-8778-e86a059d7c34.COMG2DBSMFDZTE9F.SEARCH&amp;ppt=None&amp;ppn=None&amp;ssid=azkodjeai80000001623348349670\" rel=\"noopener noreferrer\" target=\"_blank\"><div class=\"MIXNux\"><div class=\"_2QcLo-\"><div><div class=\"CXW8mj\" style=\"height:200px;width:200px\"><img alt=\"ASUS Ryzen 3 Dual Core - (4 GB/256 GB SSD/Windows 10 Home) M515DA-BQ312TS Thin and Light Laptop\" class=\"_396cs4 _3exPp9\" src=\"https://rukminim1.flixcart.com/image/312/312/ko1smfk0/computer/z/s/u/na-thin-and-light-laptop-asus-original-imag2hmyz7kn6taz.jpeg?q=70\"/></div></div></div><div class=\"_3wLduG\"><div class=\"_3PzNI-\"><span class=\"f3A4_V\"><label class=\"_2iDkf8\"><input class=\"_30VH1S\" readonly=\"\" type=\"checkbox\"/><div class=\"_24_Dny\"></div></label></span><label class=\"_6Up2sF\"><span>Add to Compare</span></label></div></div><div class=\"_2hVSre _3nq8ih\"><div class=\"_36FSn5\"><svg class=\"_1l0elc\" height=\"16\" viewbox=\"0 0 20 16\" width=\"16\" xmlns=\"http://www.w3.org/2000/svg\"><path class=\"eX72wL\" d=\"M8.695 16.682C4.06 12.382 1 9.536 1 6.065 1 3.219 3.178 1 5.95 1c1.566 0 3.069.746 4.05 1.915C10.981 1.745 12.484 1 14.05 1 16.822 1 19 3.22 19 6.065c0 3.471-3.06 6.316-7.695 10.617L10 17.897l-1.305-1.215z\" fill=\"#2874F0\" fill-rule=\"evenodd\" opacity=\".9\" stroke=\"#FFF\"></path></svg></div></div></div><div class=\"_3pLy-c row\"><div class=\"col col-7-12\"><div class=\"_4rR01T\">ASUS Ryzen 3 Dual Core - (4 GB/256 GB SSD/Windows 10 Home) M515DA-BQ312TS Thin and Light Laptop</div><div class=\"gUuXy-\"><span class=\"_1lRcqv\" id=\"productRating_LSTCOMG2DBSMFDZTE9FNDKXIK_COMG2DBSMFDZTE9F_\"><div class=\"_3LWZlK\">4.3<img class=\"_1wB99o\" src=\"data:image/svg+xml;base64,PHN2ZyB4bWxucz0iaHR0cDovL3d3dy53My5vcmcvMjAwMC9zdmciIHdpZHRoPSIxMyIgaGVpZ2h0PSIxMiI+PHBhdGggZmlsbD0iI0ZGRiIgZD0iTTYuNSA5LjQzOWwtMy42NzQgMi4yMy45NC00LjI2LTMuMjEtMi44ODMgNC4yNTQtLjQwNEw2LjUuMTEybDEuNjkgNC4wMSA0LjI1NC40MDQtMy4yMSAyLjg4Mi45NCA0LjI2eiIvPjwvc3ZnPg==\"/></div></span><span class=\"_2_R_DZ\"><span><span>73 Ratings </span><span class=\"_13vcmD\">&amp;</span><span> 13 Reviews</span></span></span></div><div class=\"fMghEO\"><ul class=\"_1xgFaf\"><li class=\"rgWa7D\">AMD Ryzen 3 Dual Core Processor</li><li class=\"rgWa7D\">4 GB DDR4 RAM</li><li class=\"rgWa7D\">64 bit Windows 10 Operating System</li><li class=\"rgWa7D\">256 GB SSD</li><li class=\"rgWa7D\">39.62 cm (15.6 inch) Display</li><li class=\"rgWa7D\">Microsoft Office Home and Student 2019, Splendid (All models), Tru2Life (Intel Platform Models), Link to MyASUS (All Models, Bluetooth Needed)</li><li class=\"rgWa7D\">1 Year Onsite Warranty</li></ul></div></div><div class=\"col col-5-12 nlI3QM\"><div class=\"_3tbKJL\"><div class=\"_25b18c\"><div class=\"_30jeq3 _1_WHN1\">₹33,990</div><div class=\"_3I9_wc _27UcVY\">₹<!-- -->37,990</div><div class=\"_3Ay6Sb\"><span>10% off</span></div></div><div class=\"_3tcB5a p8ucoS\"><div><div class=\"_2Tpdn3\" style=\"color:#000000;font-size:14px;font-style:normal;font-weight:400\">Or Pay ₹33,890 + </div><div class=\"CXW8mj _1lT03L\" style=\"height:12px;width:12px\"><img alt=\"\" class=\"_396cs4\" src=\"//static-assets-web.flixcart.com/www/linchpin/fk-cp-zion/img/placeholder_fcebae.svg\"/></div><div class=\"_2Tpdn3\" style=\"color:#000000;font-size:14px;font-style:normal;font-weight:400\"> 100</div></div></div></div><div class=\"_13J9qT\"><img height=\"21\" src=\"//static-assets-web.flixcart.com/www/linchpin/fk-cp-zion/img/fa_62673a.png\"/></div><div class=\"_2ZdXDB\"><div class=\"_3xFhiH\"><div class=\"_2Tpdn3 _18hQoS\" style=\"color:#000000;font-size:12px;font-style:normal;font-weight:400\">No Cost EMI</div></div></div></div></div></a></div></div></div>, <div class=\"_13oc-S\"><div data-id=\"COMFZ53SSJQYYVTY\" style=\"width:100%\"><div class=\"_2kHMtA\"><a class=\"_1fQZEK\" href=\"/asus-vivobook-15-core-i3-10th-gen-8-gb-1-tb-hdd-windows-10-home-x515ja-ej322ts-thin-light-laptop/p/itm5cd03fd1bd5bc?pid=COMFZ53SSJQYYVTY&amp;lid=LSTCOMFZ53SSJQYYVTYERZCP9&amp;marketplace=FLIPKART&amp;store=6bo%2Fb5g&amp;srno=b_1_13&amp;otracker=browse&amp;fm=organic&amp;iid=f4399639-669b-4d7f-8778-e86a059d7c34.COMFZ53SSJQYYVTY.SEARCH&amp;ppt=None&amp;ppn=None&amp;ssid=azkodjeai80000001623348349670\" rel=\"noopener noreferrer\" target=\"_blank\"><div class=\"MIXNux\"><div class=\"_2QcLo-\"><div><div class=\"CXW8mj\" style=\"height:200px;width:200px\"><img alt=\"ASUS VivoBook 15 Core i3 10th Gen - (8 GB/1 TB HDD/Windows 10 Home) X515JA-EJ322TS Thin and Light Lapt...\" class=\"_396cs4 _3exPp9\" src=\"https://rukminim1.flixcart.com/image/312/312/kjlrb0w0/computer/a/k/b/asus-original-imafz522ntfk9hwx.jpeg?q=70\"/></div></div></div><div class=\"_3wLduG\"><div class=\"_3PzNI-\"><span class=\"f3A4_V\"><label class=\"_2iDkf8\"><input class=\"_30VH1S\" readonly=\"\" type=\"checkbox\"/><div class=\"_24_Dny\"></div></label></span><label class=\"_6Up2sF\"><span>Add to Compare</span></label></div></div><div class=\"_2hVSre _3nq8ih\"><div class=\"_36FSn5\"><svg class=\"_1l0elc\" height=\"16\" viewbox=\"0 0 20 16\" width=\"16\" xmlns=\"http://www.w3.org/2000/svg\"><path class=\"eX72wL\" d=\"M8.695 16.682C4.06 12.382 1 9.536 1 6.065 1 3.219 3.178 1 5.95 1c1.566 0 3.069.746 4.05 1.915C10.981 1.745 12.484 1 14.05 1 16.822 1 19 3.22 19 6.065c0 3.471-3.06 6.316-7.695 10.617L10 17.897l-1.305-1.215z\" fill=\"#2874F0\" fill-rule=\"evenodd\" opacity=\".9\" stroke=\"#FFF\"></path></svg></div></div></div><div class=\"_3pLy-c row\"><div class=\"col col-7-12\"><div class=\"_4rR01T\">ASUS VivoBook 15 Core i3 10th Gen - (8 GB/1 TB HDD/Windows 10 Home) X515JA-EJ322TS Thin and Light Lapt...</div><div class=\"gUuXy-\"><span class=\"_1lRcqv\" id=\"productRating_LSTCOMFZ53SSJQYYVTYERZCP9_COMFZ53SSJQYYVTY_\"><div class=\"_3LWZlK\">4.1<img class=\"_1wB99o\" src=\"data:image/svg+xml;base64,PHN2ZyB4bWxucz0iaHR0cDovL3d3dy53My5vcmcvMjAwMC9zdmciIHdpZHRoPSIxMyIgaGVpZ2h0PSIxMiI+PHBhdGggZmlsbD0iI0ZGRiIgZD0iTTYuNSA5LjQzOWwtMy42NzQgMi4yMy45NC00LjI2LTMuMjEtMi44ODMgNC4yNTQtLjQwNEw2LjUuMTEybDEuNjkgNC4wMSA0LjI1NC40MDQtMy4yMSAyLjg4Mi45NCA0LjI2eiIvPjwvc3ZnPg==\"/></div></span><span class=\"_2_R_DZ\"><span><span>945 Ratings </span><span class=\"_13vcmD\">&amp;</span><span> 111 Reviews</span></span></span></div><div class=\"fMghEO\"><ul class=\"_1xgFaf\"><li class=\"rgWa7D\">Intel Core i3 Processor (10th Gen)</li><li class=\"rgWa7D\">8 GB DDR4 RAM</li><li class=\"rgWa7D\">64 bit Windows 10 Operating System</li><li class=\"rgWa7D\">1 TB HDD</li><li class=\"rgWa7D\">39.62 cm (15.6 inch) Display</li><li class=\"rgWa7D\">Microsoft Office Home and Student 2019, Splendid, Tru2Life, My Asus</li><li class=\"rgWa7D\">1 Year Onsite Warranty</li></ul></div></div><div class=\"col col-5-12 nlI3QM\"><div class=\"_3tbKJL\"><div class=\"_25b18c\"><div class=\"_30jeq3 _1_WHN1\">₹37,990</div><div class=\"_3I9_wc _27UcVY\">₹<!-- -->45,990</div><div class=\"_3Ay6Sb\"><span>17% off</span></div></div><div class=\"_3tcB5a p8ucoS\"><div><div class=\"_2Tpdn3\" style=\"color:#000000;font-size:14px;font-style:normal;font-weight:400\">Or Pay ₹37,890 + </div><div class=\"CXW8mj _1lT03L\" style=\"height:12px;width:12px\"><img alt=\"\" class=\"_396cs4\" src=\"//static-assets-web.flixcart.com/www/linchpin/fk-cp-zion/img/placeholder_fcebae.svg\"/></div><div class=\"_2Tpdn3\" style=\"color:#000000;font-size:14px;font-style:normal;font-weight:400\"> 100</div></div></div></div><div class=\"_13J9qT\"><img height=\"21\" src=\"//static-assets-web.flixcart.com/www/linchpin/fk-cp-zion/img/fa_62673a.png\"/></div><div class=\"_2ZdXDB\"><div class=\"_3xFhiH\"><div class=\"_2Tpdn3 _18hQoS\" style=\"color:#000000;font-size:12px;font-style:normal;font-weight:400\">No Cost EMI</div></div></div></div></div></a></div></div></div>, <div class=\"_13oc-S\"><div data-id=\"COMFXEKMGNHZYFH9\" style=\"width:100%\"><div class=\"_2kHMtA\"><a class=\"_1fQZEK\" href=\"/apple-macbook-air-m1-8-gb-256-gb-ssd-mac-os-big-sur-mgn63hn-a/p/itmde54f026889ce?pid=COMFXEKMGNHZYFH9&amp;lid=LSTCOMFXEKMGNHZYFH9EOWT4E&amp;marketplace=FLIPKART&amp;store=6bo%2Fb5g&amp;srno=b_1_14&amp;otracker=browse&amp;fm=organic&amp;iid=f4399639-669b-4d7f-8778-e86a059d7c34.COMFXEKMGNHZYFH9.SEARCH&amp;ppt=None&amp;ppn=None&amp;ssid=azkodjeai80000001623348349670\" rel=\"noopener noreferrer\" target=\"_blank\"><div class=\"MIXNux\"><div class=\"_2QcLo-\"><div><div class=\"CXW8mj\" style=\"height:200px;width:200px\"><img alt=\"APPLE MacBook Air M1 - (8 GB/256 GB SSD/Mac OS Big Sur) MGN63HN/A\" class=\"_396cs4 _3exPp9\" src=\"https://rukminim1.flixcart.com/image/312/312/khdqnbk0/computer/5/d/e/apple-original-imafxfyqkdfxqjab.jpeg?q=70\"/></div></div></div><div class=\"_3wLduG\"><div class=\"_3PzNI-\"><span class=\"f3A4_V\"><label class=\"_2iDkf8\"><input class=\"_30VH1S\" readonly=\"\" type=\"checkbox\"/><div class=\"_24_Dny\"></div></label></span><label class=\"_6Up2sF\"><span>Add to Compare</span></label></div></div><div class=\"_2hVSre _3nq8ih\"><div class=\"_36FSn5\"><svg class=\"_1l0elc\" height=\"16\" viewbox=\"0 0 20 16\" width=\"16\" xmlns=\"http://www.w3.org/2000/svg\"><path class=\"eX72wL\" d=\"M8.695 16.682C4.06 12.382 1 9.536 1 6.065 1 3.219 3.178 1 5.95 1c1.566 0 3.069.746 4.05 1.915C10.981 1.745 12.484 1 14.05 1 16.822 1 19 3.22 19 6.065c0 3.471-3.06 6.316-7.695 10.617L10 17.897l-1.305-1.215z\" fill=\"#2874F0\" fill-rule=\"evenodd\" opacity=\".9\" stroke=\"#FFF\"></path></svg></div></div></div><div class=\"_3pLy-c row\"><div class=\"col col-7-12\"><div class=\"_4rR01T\">APPLE MacBook Air M1 - (8 GB/256 GB SSD/Mac OS Big Sur) MGN63HN/A</div><div class=\"gUuXy-\"><span class=\"_1lRcqv\" id=\"productRating_LSTCOMFXEKMGNHZYFH9EOWT4E_COMFXEKMGNHZYFH9_\"><div class=\"_3LWZlK\">4.7<img class=\"_1wB99o\" src=\"data:image/svg+xml;base64,PHN2ZyB4bWxucz0iaHR0cDovL3d3dy53My5vcmcvMjAwMC9zdmciIHdpZHRoPSIxMyIgaGVpZ2h0PSIxMiI+PHBhdGggZmlsbD0iI0ZGRiIgZD0iTTYuNSA5LjQzOWwtMy42NzQgMi4yMy45NC00LjI2LTMuMjEtMi44ODMgNC4yNTQtLjQwNEw2LjUuMTEybDEuNjkgNC4wMSA0LjI1NC40MDQtMy4yMSAyLjg4Mi45NCA0LjI2eiIvPjwvc3ZnPg==\"/></div></span><span class=\"_2_R_DZ\"><span><span>498 Ratings </span><span class=\"_13vcmD\">&amp;</span><span> 74 Reviews</span></span></span></div><div class=\"fMghEO\"><ul class=\"_1xgFaf\"><li class=\"rgWa7D\">Apple M1 Processor</li><li class=\"rgWa7D\">8 GB DDR4 RAM</li><li class=\"rgWa7D\">Mac OS Operating System</li><li class=\"rgWa7D\">256 GB SSD</li><li class=\"rgWa7D\">33.78 cm (13.3 inch) Display</li><li class=\"rgWa7D\">Built-in Apps: iMovie, Siri, GarageBand, Pages, Numbers, Photos, Keynote, Safari, Mail, FaceTime, Messages, Maps, Stocks, Home, Voice Memos, Notes, Calendar, Contacts, Reminders, Photo Booth, Preview, Books, App Store, Time Machine, TV, Music, Podcasts, Find My, QuickTime Player</li><li class=\"rgWa7D\">1 Year Limited Warra­nty</li></ul></div></div><div class=\"col col-5-12 nlI3QM\"><div class=\"_3tbKJL\"><div class=\"_25b18c\"><div class=\"_30jeq3 _1_WHN1\">₹92,900</div></div><div class=\"_3tcB5a p8ucoS\"><div><div class=\"_2Tpdn3\" style=\"color:#000000;font-size:14px;font-style:normal;font-weight:400\">Or Pay ₹92,800 + </div><div class=\"CXW8mj _1lT03L\" style=\"height:12px;width:12px\"><img alt=\"\" class=\"_396cs4\" src=\"//static-assets-web.flixcart.com/www/linchpin/fk-cp-zion/img/placeholder_fcebae.svg\"/></div><div class=\"_2Tpdn3\" style=\"color:#000000;font-size:14px;font-style:normal;font-weight:400\"> 100</div></div></div></div><div class=\"_13J9qT\"><img height=\"21\" src=\"//static-assets-web.flixcart.com/www/linchpin/fk-cp-zion/img/fa_62673a.png\"/></div><div class=\"_2ZdXDB\"><div class=\"_3xFhiH\"><div class=\"_2Tpdn3 _18hQoS\" style=\"color:#000000;font-size:12px;font-style:normal;font-weight:400\">No Cost EMI</div></div></div></div></div></a></div></div></div>, <div class=\"_13oc-S\"><div data-id=\"COMFZHFWETTEFHVZ\" style=\"width:100%\"><div class=\"_2kHMtA\"><a class=\"_1fQZEK\" href=\"/hp-15s-ryzen-3-dual-core-3250u-8-gb-1-tb-hdd-windows-10-home-15s-gr0011au-thin-light-laptop/p/itma23a328a1f458?pid=COMFZHFWETTEFHVZ&amp;lid=LSTCOMFZHFWETTEFHVZ2OSEK3&amp;marketplace=FLIPKART&amp;store=6bo%2Fb5g&amp;srno=b_1_15&amp;otracker=browse&amp;fm=organic&amp;iid=f4399639-669b-4d7f-8778-e86a059d7c34.COMFZHFWETTEFHVZ.SEARCH&amp;ppt=None&amp;ppn=None&amp;ssid=azkodjeai80000001623348349670\" rel=\"noopener noreferrer\" target=\"_blank\"><div class=\"MIXNux\"><div class=\"_2QcLo-\"><div><div class=\"CXW8mj\" style=\"height:200px;width:200px\"><img alt=\"HP 15s Ryzen 3 Dual Core 3250U - (8 GB/1 TB HDD/Windows 10 Home) 15s-GR0011AU Thin and Light Laptop\" class=\"_396cs4 _3exPp9\" src=\"https://rukminim1.flixcart.com/image/312/312/kk2wl8w0/computer/z/u/5/hp-original-imafzgdgcbtxvjka.jpeg?q=70\"/></div></div></div><div class=\"_3wLduG\"><div class=\"_3PzNI-\"><span class=\"f3A4_V\"><label class=\"_2iDkf8\"><input class=\"_30VH1S\" readonly=\"\" type=\"checkbox\"/><div class=\"_24_Dny\"></div></label></span><label class=\"_6Up2sF\"><span>Add to Compare</span></label></div></div><div class=\"_2hVSre _3nq8ih\"><div class=\"_36FSn5\"><svg class=\"_1l0elc\" height=\"16\" viewbox=\"0 0 20 16\" width=\"16\" xmlns=\"http://www.w3.org/2000/svg\"><path class=\"eX72wL\" d=\"M8.695 16.682C4.06 12.382 1 9.536 1 6.065 1 3.219 3.178 1 5.95 1c1.566 0 3.069.746 4.05 1.915C10.981 1.745 12.484 1 14.05 1 16.822 1 19 3.22 19 6.065c0 3.471-3.06 6.316-7.695 10.617L10 17.897l-1.305-1.215z\" fill=\"#2874F0\" fill-rule=\"evenodd\" opacity=\".9\" stroke=\"#FFF\"></path></svg></div></div></div><div class=\"_3pLy-c row\"><div class=\"col col-7-12\"><div class=\"_4rR01T\">HP 15s Ryzen 3 Dual Core 3250U - (8 GB/1 TB HDD/Windows 10 Home) 15s-GR0011AU Thin and Light Laptop</div><div class=\"gUuXy-\"><span class=\"_1lRcqv\" id=\"productRating_LSTCOMFZHFWETTEFHVZ2OSEK3_COMFZHFWETTEFHVZ_\"><div class=\"_3LWZlK\">4.2<img class=\"_1wB99o\" src=\"data:image/svg+xml;base64,PHN2ZyB4bWxucz0iaHR0cDovL3d3dy53My5vcmcvMjAwMC9zdmciIHdpZHRoPSIxMyIgaGVpZ2h0PSIxMiI+PHBhdGggZmlsbD0iI0ZGRiIgZD0iTTYuNSA5LjQzOWwtMy42NzQgMi4yMy45NC00LjI2LTMuMjEtMi44ODMgNC4yNTQtLjQwNEw2LjUuMTEybDEuNjkgNC4wMSA0LjI1NC40MDQtMy4yMSAyLjg4Mi45NCA0LjI2eiIvPjwvc3ZnPg==\"/></div></span><span class=\"_2_R_DZ\"><span><span>1,860 Ratings </span><span class=\"_13vcmD\">&amp;</span><span> 221 Reviews</span></span></span></div><div class=\"fMghEO\"><ul class=\"_1xgFaf\"><li class=\"rgWa7D\">AMD Ryzen 3 Dual Core Processor</li><li class=\"rgWa7D\">8 GB DDR4 RAM</li><li class=\"rgWa7D\">64 bit Windows 10 Operating System</li><li class=\"rgWa7D\">1 TB HDD</li><li class=\"rgWa7D\">39.62 cm (15.6 inch) Display</li><li class=\"rgWa7D\">Microsoft Office Home and Student 2019, HP Documentation, HP SSRM, HP Smart, HP Support Assistant</li><li class=\"rgWa7D\">1 Year Onsite Warranty</li></ul></div></div><div class=\"col col-5-12 nlI3QM\"><div class=\"_3tbKJL\"><div class=\"_25b18c\"><div class=\"_30jeq3 _1_WHN1\">₹36,990</div><div class=\"_3I9_wc _27UcVY\">₹<!-- -->40,957</div><div class=\"_3Ay6Sb\"><span>9% off</span></div></div><div class=\"_3tcB5a p8ucoS\"><div><div class=\"_2Tpdn3\" style=\"color:#000000;font-size:14px;font-style:normal;font-weight:400\">Or Pay ₹36,890 + </div><div class=\"CXW8mj _1lT03L\" style=\"height:12px;width:12px\"><img alt=\"\" class=\"_396cs4\" src=\"//static-assets-web.flixcart.com/www/linchpin/fk-cp-zion/img/placeholder_fcebae.svg\"/></div><div class=\"_2Tpdn3\" style=\"color:#000000;font-size:14px;font-style:normal;font-weight:400\"> 100</div></div></div></div><div class=\"_13J9qT\"><img height=\"21\" src=\"//static-assets-web.flixcart.com/www/linchpin/fk-cp-zion/img/fa_62673a.png\"/></div><div class=\"_2ZdXDB\"><div class=\"_3xFhiH\"><div class=\"_2Tpdn3 _18hQoS\" style=\"color:#000000;font-size:12px;font-style:normal;font-weight:400\">No Cost EMI</div></div></div></div></div></a></div></div></div>, <div class=\"_13oc-S\"><div data-id=\"COMG23RKF7NBG699\" style=\"width:100%\"><div class=\"_2kHMtA\"><a class=\"_1fQZEK\" href=\"/lenovo-ideapad-3-core-i5-10th-gen-8-gb-1-tb-hdd-windows-10-home-15iil05-laptop/p/itmbfeb76dfb98dd?pid=COMG23RKF7NBG699&amp;lid=LSTCOMG23RKF7NBG699MDAY6Y&amp;marketplace=FLIPKART&amp;store=6bo%2Fb5g&amp;srno=b_1_16&amp;otracker=browse&amp;fm=organic&amp;iid=f4399639-669b-4d7f-8778-e86a059d7c34.COMG23RKF7NBG699.SEARCH&amp;ppt=None&amp;ppn=None&amp;ssid=azkodjeai80000001623348349670\" rel=\"noopener noreferrer\" target=\"_blank\"><div class=\"MIXNux\"><div class=\"_2QcLo-\"><div><div class=\"CXW8mj\" style=\"height:200px;width:200px\"><img alt=\"Lenovo IdeaPad 3 Core i5 10th Gen - (8 GB/1 TB HDD/Windows 10 Home) 15IIL05 Laptop\" class=\"_396cs4 _3exPp9\" src=\"https://rukminim1.flixcart.com/image/312/312/keaaavk0/computer/x/m/y/lenovo-na-laptop-original-imafuzt8r5jqppfn.jpeg?q=70\"/></div></div></div><div class=\"_3wLduG\"><div class=\"_3PzNI-\"><span class=\"f3A4_V\"><label class=\"_2iDkf8\"><input class=\"_30VH1S\" readonly=\"\" type=\"checkbox\"/><div class=\"_24_Dny\"></div></label></span><label class=\"_6Up2sF\"><span>Add to Compare</span></label></div></div><div class=\"_2hVSre _3nq8ih\"><div class=\"_36FSn5\"><svg class=\"_1l0elc\" height=\"16\" viewbox=\"0 0 20 16\" width=\"16\" xmlns=\"http://www.w3.org/2000/svg\"><path class=\"eX72wL\" d=\"M8.695 16.682C4.06 12.382 1 9.536 1 6.065 1 3.219 3.178 1 5.95 1c1.566 0 3.069.746 4.05 1.915C10.981 1.745 12.484 1 14.05 1 16.822 1 19 3.22 19 6.065c0 3.471-3.06 6.316-7.695 10.617L10 17.897l-1.305-1.215z\" fill=\"#2874F0\" fill-rule=\"evenodd\" opacity=\".9\" stroke=\"#FFF\"></path></svg></div></div></div><div class=\"_3pLy-c row\"><div class=\"col col-7-12\"><div class=\"_4rR01T\">Lenovo IdeaPad 3 Core i5 10th Gen - (8 GB/1 TB HDD/Windows 10 Home) 15IIL05 Laptop</div><div class=\"gUuXy-\"><span class=\"_1lRcqv\" id=\"productRating_LSTCOMG23RKF7NBG699MDAY6Y_COMG23RKF7NBG699_\"><div class=\"_3LWZlK\">4.2<img class=\"_1wB99o\" src=\"data:image/svg+xml;base64,PHN2ZyB4bWxucz0iaHR0cDovL3d3dy53My5vcmcvMjAwMC9zdmciIHdpZHRoPSIxMyIgaGVpZ2h0PSIxMiI+PHBhdGggZmlsbD0iI0ZGRiIgZD0iTTYuNSA5LjQzOWwtMy42NzQgMi4yMy45NC00LjI2LTMuMjEtMi44ODMgNC4yNTQtLjQwNEw2LjUuMTEybDEuNjkgNC4wMSA0LjI1NC40MDQtMy4yMSAyLjg4Mi45NCA0LjI2eiIvPjwvc3ZnPg==\"/></div></span><span class=\"_2_R_DZ\"><span><span>51 Ratings </span><span class=\"_13vcmD\">&amp;</span><span> 5 Reviews</span></span></span></div><div class=\"fMghEO\"><ul class=\"_1xgFaf\"><li class=\"rgWa7D\">Intel Core i5 Processor (10th Gen)</li><li class=\"rgWa7D\">8 GB DDR4 RAM</li><li class=\"rgWa7D\">64 bit Windows 10 Operating System</li><li class=\"rgWa7D\">1 TB HDD</li><li class=\"rgWa7D\">39.62 cm (15.6 inch) Display</li><li class=\"rgWa7D\">Microsoft Office (Trial Only)</li><li class=\"rgWa7D\">1 Year Onsite Warranty</li></ul></div></div><div class=\"col col-5-12 nlI3QM\"><div class=\"_3tbKJL\"><div class=\"_25b18c\"><div class=\"_30jeq3 _1_WHN1\">₹42,990</div><div class=\"_3I9_wc _27UcVY\">₹<!-- -->63,790</div><div class=\"_3Ay6Sb\"><span>32% off</span></div></div><div class=\"_3tcB5a p8ucoS\"><div><div class=\"_2Tpdn3\" style=\"color:#000000;font-size:14px;font-style:normal;font-weight:400\">Or Pay ₹42,890 + </div><div class=\"CXW8mj _1lT03L\" style=\"height:12px;width:12px\"><img alt=\"\" class=\"_396cs4\" src=\"//static-assets-web.flixcart.com/www/linchpin/fk-cp-zion/img/placeholder_fcebae.svg\"/></div><div class=\"_2Tpdn3\" style=\"color:#000000;font-size:14px;font-style:normal;font-weight:400\"> 100</div></div></div></div><div class=\"_13J9qT\"><img height=\"21\" src=\"//static-assets-web.flixcart.com/www/linchpin/fk-cp-zion/img/fa_62673a.png\"/></div><div class=\"_2ZdXDB\"><div class=\"_3xFhiH\"><div class=\"_2Tpdn3 _18hQoS\" style=\"color:#000000;font-size:12px;font-style:normal;font-weight:400\">No Cost EMI</div></div></div></div></div></a></div></div></div>, <div class=\"_13oc-S\"><div data-id=\"COMFSFNVDXG74QXR\" style=\"width:100%\"><div class=\"_2kHMtA\"><a class=\"_1fQZEK\" href=\"/hp-pavilion-gaming-ryzen-5-quad-core-3550h-8-gb-1-tb-hdd-windows-10-home-4-gb-graphics-nvidia-geforce-gtx-1650-15-ec0101ax-laptop/p/itma1af6bf593dc8?pid=COMFSFNVDXG74QXR&amp;lid=LSTCOMFSFNVDXG74QXRY8FRH2&amp;marketplace=FLIPKART&amp;store=6bo%2Fb5g&amp;srno=b_1_17&amp;otracker=browse&amp;fm=organic&amp;iid=f4399639-669b-4d7f-8778-e86a059d7c34.COMFSFNVDXG74QXR.SEARCH&amp;ppt=None&amp;ppn=None&amp;ssid=azkodjeai80000001623348349670\" rel=\"noopener noreferrer\" target=\"_blank\"><div class=\"MIXNux\"><div class=\"_2QcLo-\"><div><div class=\"CXW8mj\" style=\"height:200px;width:200px\"><img alt=\"HP Pavilion Gaming Ryzen 5 Quad Core 3550H - (8 GB/1 TB HDD/Windows 10 Home/4 GB Graphics/NVIDIA GeFor...\" class=\"_396cs4 _3exPp9\" src=\"https://rukminim1.flixcart.com/image/312/312/kcm9t3k0/computer/q/x/r/hp-na-gaming-laptop-original-imaftpesbvfxgw9t.jpeg?q=70\"/></div></div></div><div class=\"_3wLduG\"><div class=\"_3PzNI-\"><span class=\"f3A4_V\"><label class=\"_2iDkf8\"><input class=\"_30VH1S\" readonly=\"\" type=\"checkbox\"/><div class=\"_24_Dny\"></div></label></span><label class=\"_6Up2sF\"><span>Add to Compare</span></label></div></div><div class=\"_2hVSre _3nq8ih\"><div class=\"_36FSn5\"><svg class=\"_1l0elc\" height=\"16\" viewbox=\"0 0 20 16\" width=\"16\" xmlns=\"http://www.w3.org/2000/svg\"><path class=\"eX72wL\" d=\"M8.695 16.682C4.06 12.382 1 9.536 1 6.065 1 3.219 3.178 1 5.95 1c1.566 0 3.069.746 4.05 1.915C10.981 1.745 12.484 1 14.05 1 16.822 1 19 3.22 19 6.065c0 3.471-3.06 6.316-7.695 10.617L10 17.897l-1.305-1.215z\" fill=\"#2874F0\" fill-rule=\"evenodd\" opacity=\".9\" stroke=\"#FFF\"></path></svg></div></div></div><div class=\"_3pLy-c row\"><div class=\"col col-7-12\"><div class=\"_4rR01T\">HP Pavilion Gaming Ryzen 5 Quad Core 3550H - (8 GB/1 TB HDD/Windows 10 Home/4 GB Graphics/NVIDIA GeFor...</div><div class=\"gUuXy-\"><span class=\"_1lRcqv\" id=\"productRating_LSTCOMFSFNVDXG74QXRY8FRH2_COMFSFNVDXG74QXR_\"><div class=\"_3LWZlK\">4.2<img class=\"_1wB99o\" src=\"data:image/svg+xml;base64,PHN2ZyB4bWxucz0iaHR0cDovL3d3dy53My5vcmcvMjAwMC9zdmciIHdpZHRoPSIxMyIgaGVpZ2h0PSIxMiI+PHBhdGggZmlsbD0iI0ZGRiIgZD0iTTYuNSA5LjQzOWwtMy42NzQgMi4yMy45NC00LjI2LTMuMjEtMi44ODMgNC4yNTQtLjQwNEw2LjUuMTEybDEuNjkgNC4wMSA0LjI1NC40MDQtMy4yMSAyLjg4Mi45NCA0LjI2eiIvPjwvc3ZnPg==\"/></div></span><span class=\"_2_R_DZ\"><span><span>11,142 Ratings </span><span class=\"_13vcmD\">&amp;</span><span> 1,513 Reviews</span></span></span></div><div class=\"fMghEO\"><ul class=\"_1xgFaf\"><li class=\"rgWa7D\">AMD Ryzen 5 Quad Core Processor</li><li class=\"rgWa7D\">8 GB DDR4 RAM</li><li class=\"rgWa7D\">64 bit Windows 10 Operating System</li><li class=\"rgWa7D\">1 TB HDD</li><li class=\"rgWa7D\">39.62 cm (15.6 inch) Display</li><li class=\"rgWa7D\">1 Year Onsite Warranty</li></ul></div></div><div class=\"col col-5-12 nlI3QM\"><div class=\"_3tbKJL\"><div class=\"_25b18c\"><div class=\"_30jeq3 _1_WHN1\">₹50,990</div><div class=\"_3I9_wc _27UcVY\">₹<!-- -->56,144</div><div class=\"_3Ay6Sb\"><span>9% off</span></div></div><div class=\"_3tcB5a p8ucoS\"><div><div class=\"_2Tpdn3\" style=\"color:#000000;font-size:14px;font-style:normal;font-weight:400\">Or Pay ₹50,890 + </div><div class=\"CXW8mj _1lT03L\" style=\"height:12px;width:12px\"><img alt=\"\" class=\"_396cs4\" src=\"//static-assets-web.flixcart.com/www/linchpin/fk-cp-zion/img/placeholder_fcebae.svg\"/></div><div class=\"_2Tpdn3\" style=\"color:#000000;font-size:14px;font-style:normal;font-weight:400\"> 100</div></div></div></div><div class=\"_13J9qT\"><img height=\"21\" src=\"//static-assets-web.flixcart.com/www/linchpin/fk-cp-zion/img/fa_62673a.png\"/></div><div class=\"_2ZdXDB\"><div class=\"_3xFhiH\"><div class=\"_2Tpdn3 _18hQoS\" style=\"color:#000000;font-size:12px;font-style:normal;font-weight:400\">No Cost EMI</div></div></div></div></div></a></div></div></div>, <div class=\"_13oc-S\"><div data-id=\"COMFUR8XCVCMMVM2\" style=\"width:100%\"><div class=\"_2kHMtA\"><a class=\"_1fQZEK\" href=\"/msi-gf63-thin-core-i5-9th-gen-8-gb-512-gb-ssd-windows-10-home-4-graphics-nvidia-geforce-gtx-1650-ti-max-q-9scsr-1040in-gaming-laptop/p/itm5ca8ea2a1ce80?pid=COMFUR8XCVCMMVM2&amp;lid=LSTCOMFUR8XCVCMMVM2FBE02J&amp;marketplace=FLIPKART&amp;store=6bo%2Fb5g&amp;srno=b_1_18&amp;otracker=browse&amp;fm=organic&amp;iid=f4399639-669b-4d7f-8778-e86a059d7c34.COMFUR8XCVCMMVM2.SEARCH&amp;ppt=None&amp;ppn=None&amp;ssid=azkodjeai80000001623348349670\" rel=\"noopener noreferrer\" target=\"_blank\"><div class=\"MIXNux\"><div class=\"_2QcLo-\"><div><div class=\"CXW8mj\" style=\"height:200px;width:200px\"><img alt=\"MSI GF63 Thin Core i5 9th Gen - (8 GB/512 GB SSD/Windows 10 Home/4 GB Graphics/NVIDIA GeForce GTX 1650...\" class=\"_396cs4 _3exPp9\" src=\"https://rukminim1.flixcart.com/image/312/312/ke353m80/computer/p/q/m/msi-original-imafuurxjxzy4zcn.jpeg?q=70\"/></div></div></div><div class=\"_3wLduG\"><div class=\"_3PzNI-\"><span class=\"f3A4_V\"><label class=\"_2iDkf8\"><input class=\"_30VH1S\" readonly=\"\" type=\"checkbox\"/><div class=\"_24_Dny\"></div></label></span><label class=\"_6Up2sF\"><span>Add to Compare</span></label></div></div><div class=\"_2hVSre _3nq8ih\"><div class=\"_36FSn5\"><svg class=\"_1l0elc\" height=\"16\" viewbox=\"0 0 20 16\" width=\"16\" xmlns=\"http://www.w3.org/2000/svg\"><path class=\"eX72wL\" d=\"M8.695 16.682C4.06 12.382 1 9.536 1 6.065 1 3.219 3.178 1 5.95 1c1.566 0 3.069.746 4.05 1.915C10.981 1.745 12.484 1 14.05 1 16.822 1 19 3.22 19 6.065c0 3.471-3.06 6.316-7.695 10.617L10 17.897l-1.305-1.215z\" fill=\"#2874F0\" fill-rule=\"evenodd\" opacity=\".9\" stroke=\"#FFF\"></path></svg></div></div></div><div class=\"_3pLy-c row\"><div class=\"col col-7-12\"><div class=\"_4rR01T\">MSI GF63 Thin Core i5 9th Gen - (8 GB/512 GB SSD/Windows 10 Home/4 GB Graphics/NVIDIA GeForce GTX 1650...</div><div class=\"gUuXy-\"><span class=\"_1lRcqv\" id=\"productRating_LSTCOMFUR8XCVCMMVM2FBE02J_COMFUR8XCVCMMVM2_\"><div class=\"_3LWZlK\">4.4<img class=\"_1wB99o\" src=\"data:image/svg+xml;base64,PHN2ZyB4bWxucz0iaHR0cDovL3d3dy53My5vcmcvMjAwMC9zdmciIHdpZHRoPSIxMyIgaGVpZ2h0PSIxMiI+PHBhdGggZmlsbD0iI0ZGRiIgZD0iTTYuNSA5LjQzOWwtMy42NzQgMi4yMy45NC00LjI2LTMuMjEtMi44ODMgNC4yNTQtLjQwNEw2LjUuMTEybDEuNjkgNC4wMSA0LjI1NC40MDQtMy4yMSAyLjg4Mi45NCA0LjI2eiIvPjwvc3ZnPg==\"/></div></span><span class=\"_2_R_DZ\"><span><span>706 Ratings </span><span class=\"_13vcmD\">&amp;</span><span> 96 Reviews</span></span></span></div><div class=\"fMghEO\"><ul class=\"_1xgFaf\"><li class=\"rgWa7D\">Intel Core i5 Processor (9th Gen)</li><li class=\"rgWa7D\">8 GB DDR4 RAM</li><li class=\"rgWa7D\">64 bit Windows 10 Operating System</li><li class=\"rgWa7D\">512 GB SSD</li><li class=\"rgWa7D\">39.62 cm (15.6 inch) Display</li><li class=\"rgWa7D\">Cooler Boost 5, Audio Boost, Dragon Center, Nahimic 3</li><li class=\"rgWa7D\">2 Years Carry In Warranty</li></ul></div></div><div class=\"col col-5-12 nlI3QM\"><div class=\"_3tbKJL\"><div class=\"_25b18c\"><div class=\"_30jeq3 _1_WHN1\">₹56,990</div><div class=\"_3I9_wc _27UcVY\">₹<!-- -->72,990</div><div class=\"_3Ay6Sb\"><span>21% off</span></div></div><div class=\"_3tcB5a p8ucoS\"><div><div class=\"_2Tpdn3\" style=\"color:#000000;font-size:14px;font-style:normal;font-weight:400\">Or Pay ₹56,890 + </div><div class=\"CXW8mj _1lT03L\" style=\"height:12px;width:12px\"><img alt=\"\" class=\"_396cs4\" src=\"//static-assets-web.flixcart.com/www/linchpin/fk-cp-zion/img/placeholder_fcebae.svg\"/></div><div class=\"_2Tpdn3\" style=\"color:#000000;font-size:14px;font-style:normal;font-weight:400\"> 100</div></div></div></div><div class=\"_13J9qT\"><img height=\"21\" src=\"//static-assets-web.flixcart.com/www/linchpin/fk-cp-zion/img/fa_62673a.png\"/></div><div class=\"_2ZdXDB\"><div class=\"_3xFhiH\"><div class=\"_2Tpdn3 _18hQoS\" style=\"color:#000000;font-size:12px;font-style:normal;font-weight:400\">No Cost EMI</div></div></div></div></div></a></div></div></div>, <div class=\"_13oc-S\"><div data-id=\"COMGFYZ3AYJAZANF\" style=\"width:100%\"><div class=\"_2kHMtA\"><a class=\"_1fQZEK\" href=\"/msi-gp65-leopard-core-i7-10th-gen-16-gb-1-tb-hdd-256-gb-ssd-windows-10-home-6-graphics-nvidia-geforce-rtx-2060-144-hz-10sek-830in-gaming-laptop/p/itm34d2dc3928e2b?pid=COMGFYZ3AYJAZANF&amp;lid=LSTCOMGFYZ3AYJAZANF90VZXS&amp;marketplace=FLIPKART&amp;store=6bo%2Fb5g&amp;srno=b_1_19&amp;otracker=browse&amp;fm=organic&amp;iid=f4399639-669b-4d7f-8778-e86a059d7c34.COMGFYZ3AYJAZANF.SEARCH&amp;ppt=None&amp;ppn=None&amp;ssid=azkodjeai80000001623348349670\" rel=\"noopener noreferrer\" target=\"_blank\"><div class=\"MIXNux\"><div class=\"_2QcLo-\"><div><div class=\"CXW8mj\" style=\"height:200px;width:200px\"><img alt=\"MSI GP65 Leopard Core i7 10th Gen - (16 GB/1 TB HDD/256 GB SSD/Windows 10 Home/6 GB Graphics/NVIDIA Ge...\" class=\"_396cs4 _3exPp9\" src=\"https://rukminim1.flixcart.com/image/312/312/kmxsakw0/computer/f/g/t/na-laptop-msi-original-imagfq9cthg4wxwh.jpeg?q=70\"/></div></div></div><div class=\"_3wLduG\"><div class=\"_3PzNI-\"><span class=\"f3A4_V\"><label class=\"_2iDkf8\"><input class=\"_30VH1S\" readonly=\"\" type=\"checkbox\"/><div class=\"_24_Dny\"></div></label></span><label class=\"_6Up2sF\"><span>Add to Compare</span></label></div></div><div class=\"_2hVSre _3nq8ih\"><div class=\"_36FSn5\"><svg class=\"_1l0elc\" height=\"16\" viewbox=\"0 0 20 16\" width=\"16\" xmlns=\"http://www.w3.org/2000/svg\"><path class=\"eX72wL\" d=\"M8.695 16.682C4.06 12.382 1 9.536 1 6.065 1 3.219 3.178 1 5.95 1c1.566 0 3.069.746 4.05 1.915C10.981 1.745 12.484 1 14.05 1 16.822 1 19 3.22 19 6.065c0 3.471-3.06 6.316-7.695 10.617L10 17.897l-1.305-1.215z\" fill=\"#2874F0\" fill-rule=\"evenodd\" opacity=\".9\" stroke=\"#FFF\"></path></svg></div></div></div><div class=\"_3pLy-c row\"><div class=\"col col-7-12\"><div class=\"_4rR01T\">MSI GP65 Leopard Core i7 10th Gen - (16 GB/1 TB HDD/256 GB SSD/Windows 10 Home/6 GB Graphics/NVIDIA Ge...</div><div class=\"gUuXy-\"><span class=\"_1lRcqv\" id=\"productRating_LSTCOMGFYZ3AYJAZANF90VZXS_COMGFYZ3AYJAZANF_\"><div class=\"_3LWZlK\">4.7<img class=\"_1wB99o\" src=\"data:image/svg+xml;base64,PHN2ZyB4bWxucz0iaHR0cDovL3d3dy53My5vcmcvMjAwMC9zdmciIHdpZHRoPSIxMyIgaGVpZ2h0PSIxMiI+PHBhdGggZmlsbD0iI0ZGRiIgZD0iTTYuNSA5LjQzOWwtMy42NzQgMi4yMy45NC00LjI2LTMuMjEtMi44ODMgNC4yNTQtLjQwNEw2LjUuMTEybDEuNjkgNC4wMSA0LjI1NC40MDQtMy4yMSAyLjg4Mi45NCA0LjI2eiIvPjwvc3ZnPg==\"/></div></span><span class=\"_2_R_DZ\"><span><span>156 Ratings </span><span class=\"_13vcmD\">&amp;</span><span> 24 Reviews</span></span></span></div><div class=\"fMghEO\"><ul class=\"_1xgFaf\"><li class=\"rgWa7D\">15.6 inches Full HD IPS Thin Bezel Display (144Hz, 45% NTSC Color Gamut)</li><li class=\"rgWa7D\">Intel Core i7 Processor (10th Gen)</li><li class=\"rgWa7D\">16 GB DDR4 RAM</li><li class=\"rgWa7D\">64 bit Windows 10 Operating System</li><li class=\"rgWa7D\">1 TB HDD|256 GB SSD</li><li class=\"rgWa7D\">39.62 cm (15.6 inch) Display</li><li class=\"rgWa7D\">SHIFT, SteelSeries Engine 3, Matrix Display (Extend), Dragon Center, GamingMode, VR Ready, Cooler Boost 5, Nahimic 3, Nahimic VR, Giant Speaker</li><li class=\"rgWa7D\">2 Year Warranty Term for Gaming</li></ul></div></div><div class=\"col col-5-12 nlI3QM\"><div class=\"_3tbKJL\"><div class=\"_25b18c\"><div class=\"_30jeq3 _1_WHN1\">₹99,990</div><div class=\"_3I9_wc _27UcVY\">₹<!-- -->1,45,990</div><div class=\"_3Ay6Sb\"><span>31% off</span></div></div><div class=\"_3tcB5a p8ucoS\"><div><div class=\"_2Tpdn3\" style=\"color:#000000;font-size:14px;font-style:normal;font-weight:400\">Or Pay ₹99,890 + </div><div class=\"CXW8mj _1lT03L\" style=\"height:12px;width:12px\"><img alt=\"\" class=\"_396cs4\" src=\"//static-assets-web.flixcart.com/www/linchpin/fk-cp-zion/img/placeholder_fcebae.svg\"/></div><div class=\"_2Tpdn3\" style=\"color:#000000;font-size:14px;font-style:normal;font-weight:400\"> 100</div></div></div></div><div class=\"_13J9qT\"><img height=\"21\" src=\"//static-assets-web.flixcart.com/www/linchpin/fk-cp-zion/img/fa_62673a.png\"/></div></div></div></a></div></div></div>, <div class=\"_13oc-S\"><div data-id=\"COMFTPG2MTHFE3H3\" style=\"width:100%\"><div class=\"_2kHMtA\"><a class=\"_1fQZEK\" href=\"/lenovo-ideapad-s340-core-i5-10th-gen-8-gb-512-gb-ssd-windows-10-home-2-graphics-s340-14iild-thin-light-laptop/p/itm7f57b1253a4da?pid=COMFTPG2MTHFE3H3&amp;lid=LSTCOMFTPG2MTHFE3H3BJ5NJI&amp;marketplace=FLIPKART&amp;store=6bo%2Fb5g&amp;srno=b_1_20&amp;otracker=browse&amp;fm=organic&amp;iid=f4399639-669b-4d7f-8778-e86a059d7c34.COMFTPG2MTHFE3H3.SEARCH&amp;ppt=None&amp;ppn=None&amp;ssid=azkodjeai80000001623348349670\" rel=\"noopener noreferrer\" target=\"_blank\"><div class=\"MIXNux\"><div class=\"_2QcLo-\"><div><div class=\"CXW8mj\" style=\"height:200px;width:200px\"><img alt=\"Lenovo Ideapad S340 Core i5 10th Gen - (8 GB/512 GB SSD/Windows 10 Home/2 GB Graphics) S340-14IILD Thi...\" class=\"_396cs4 _3exPp9\" src=\"https://rukminim1.flixcart.com/image/312/312/kd4uj680/computer/3/h/3/lenovo-original-imafu3m9bkrnsdsg.jpeg?q=70\"/></div></div></div><div class=\"_3wLduG\"><div class=\"_3PzNI-\"><span class=\"f3A4_V\"><label class=\"_2iDkf8\"><input class=\"_30VH1S\" readonly=\"\" type=\"checkbox\"/><div class=\"_24_Dny\"></div></label></span><label class=\"_6Up2sF\"><span>Add to Compare</span></label></div></div><div class=\"_2hVSre _3nq8ih\"><div class=\"_36FSn5\"><svg class=\"_1l0elc\" height=\"16\" viewbox=\"0 0 20 16\" width=\"16\" xmlns=\"http://www.w3.org/2000/svg\"><path class=\"eX72wL\" d=\"M8.695 16.682C4.06 12.382 1 9.536 1 6.065 1 3.219 3.178 1 5.95 1c1.566 0 3.069.746 4.05 1.915C10.981 1.745 12.484 1 14.05 1 16.822 1 19 3.22 19 6.065c0 3.471-3.06 6.316-7.695 10.617L10 17.897l-1.305-1.215z\" fill=\"#2874F0\" fill-rule=\"evenodd\" opacity=\".9\" stroke=\"#FFF\"></path></svg></div></div></div><div class=\"_3pLy-c row\"><div class=\"col col-7-12\"><div class=\"_4rR01T\">Lenovo Ideapad S340 Core i5 10th Gen - (8 GB/512 GB SSD/Windows 10 Home/2 GB Graphics) S340-14IILD Thi...</div><div class=\"gUuXy-\"><span class=\"_1lRcqv\" id=\"productRating_LSTCOMFTPG2MTHFE3H3BJ5NJI_COMFTPG2MTHFE3H3_\"><div class=\"_3LWZlK\">4.7<img class=\"_1wB99o\" src=\"data:image/svg+xml;base64,PHN2ZyB4bWxucz0iaHR0cDovL3d3dy53My5vcmcvMjAwMC9zdmciIHdpZHRoPSIxMyIgaGVpZ2h0PSIxMiI+PHBhdGggZmlsbD0iI0ZGRiIgZD0iTTYuNSA5LjQzOWwtMy42NzQgMi4yMy45NC00LjI2LTMuMjEtMi44ODMgNC4yNTQtLjQwNEw2LjUuMTEybDEuNjkgNC4wMSA0LjI1NC40MDQtMy4yMSAyLjg4Mi45NCA0LjI2eiIvPjwvc3ZnPg==\"/></div></span><span class=\"_2_R_DZ\"><span><span>23 Ratings </span><span class=\"_13vcmD\">&amp;</span><span> 1 Reviews</span></span></span></div><div class=\"fMghEO\"><ul class=\"_1xgFaf\"><li class=\"rgWa7D\">Intel Core i5 Processor (10th Gen)</li><li class=\"rgWa7D\">8 GB DDR4 RAM</li><li class=\"rgWa7D\">64 bit Windows 10 Operating System</li><li class=\"rgWa7D\">512 GB SSD</li><li class=\"rgWa7D\">35.56 cm (14 inch) Display</li><li class=\"rgWa7D\">Microsoft Office Home and Student 2019</li><li class=\"rgWa7D\">1 Year Onsite Warranty</li></ul></div></div><div class=\"col col-5-12 nlI3QM\"><div class=\"_3tbKJL\"><div class=\"_25b18c\"><div class=\"_30jeq3 _1_WHN1\">₹54,990</div><div class=\"_3I9_wc _27UcVY\">₹<!-- -->62,163</div><div class=\"_3Ay6Sb\"><span>11% off</span></div></div><div class=\"_3tcB5a p8ucoS\"><div><div class=\"_2Tpdn3\" style=\"color:#000000;font-size:14px;font-style:normal;font-weight:400\">Or Pay ₹54,890 + </div><div class=\"CXW8mj _1lT03L\" style=\"height:12px;width:12px\"><img alt=\"\" class=\"_396cs4\" src=\"//static-assets-web.flixcart.com/www/linchpin/fk-cp-zion/img/placeholder_fcebae.svg\"/></div><div class=\"_2Tpdn3\" style=\"color:#000000;font-size:14px;font-style:normal;font-weight:400\"> 100</div></div></div></div><div class=\"_13J9qT\"><img height=\"21\" src=\"//static-assets-web.flixcart.com/www/linchpin/fk-cp-zion/img/fa_62673a.png\"/></div><div class=\"_2ZdXDB\"><div class=\"_3xFhiH\"><div class=\"_2Tpdn3 _18hQoS\" style=\"color:#000000;font-size:12px;font-style:normal;font-weight:400\">No Cost EMI</div></div></div></div></div></a></div></div></div>, <div class=\"_13oc-S\"><div data-id=\"COMFVECHMXQCSH44\" style=\"width:100%\"><div class=\"_2kHMtA\"><a class=\"_1fQZEK\" href=\"/lenovo-ideapad-s145-core-i3-10th-gen-8-gb-1-tb-hdd-windows-10-home-s145-15iil-laptop/p/itmb29c6d0cecd88?pid=COMFVECHMXQCSH44&amp;lid=LSTCOMFVECHMXQCSH444SJ4FY&amp;marketplace=FLIPKART&amp;store=6bo%2Fb5g&amp;srno=b_1_21&amp;otracker=browse&amp;fm=organic&amp;iid=f4399639-669b-4d7f-8778-e86a059d7c34.COMFVECHMXQCSH44.SEARCH&amp;ppt=None&amp;ppn=None&amp;ssid=azkodjeai80000001623348349670\" rel=\"noopener noreferrer\" target=\"_blank\"><div class=\"MIXNux\"><div class=\"_2QcLo-\"><div><div class=\"CXW8mj\" style=\"height:200px;width:200px\"><img alt=\"Lenovo Ideapad S145 Core i3 10th Gen - (8 GB/1 TB HDD/Windows 10 Home) S145-15IIL Laptop\" class=\"_396cs4 _3exPp9\" src=\"https://rukminim1.flixcart.com/image/312/312/kfcv6vk0/computer/q/z/v/lenovo-original-imafvu6qruyhhnwc.jpeg?q=70\"/></div></div></div><div class=\"_3wLduG\"><div class=\"_3PzNI-\"><span class=\"f3A4_V\"><label class=\"_2iDkf8\"><input class=\"_30VH1S\" readonly=\"\" type=\"checkbox\"/><div class=\"_24_Dny\"></div></label></span><label class=\"_6Up2sF\"><span>Add to Compare</span></label></div></div><div class=\"_2hVSre _3nq8ih\"><div class=\"_36FSn5\"><svg class=\"_1l0elc\" height=\"16\" viewbox=\"0 0 20 16\" width=\"16\" xmlns=\"http://www.w3.org/2000/svg\"><path class=\"eX72wL\" d=\"M8.695 16.682C4.06 12.382 1 9.536 1 6.065 1 3.219 3.178 1 5.95 1c1.566 0 3.069.746 4.05 1.915C10.981 1.745 12.484 1 14.05 1 16.822 1 19 3.22 19 6.065c0 3.471-3.06 6.316-7.695 10.617L10 17.897l-1.305-1.215z\" fill=\"#2874F0\" fill-rule=\"evenodd\" opacity=\".9\" stroke=\"#FFF\"></path></svg></div></div></div><div class=\"_3pLy-c row\"><div class=\"col col-7-12\"><div class=\"_4rR01T\">Lenovo Ideapad S145 Core i3 10th Gen - (8 GB/1 TB HDD/Windows 10 Home) S145-15IIL Laptop</div><div class=\"gUuXy-\"><span class=\"_1lRcqv\" id=\"productRating_LSTCOMFVECHMXQCSH444SJ4FY_COMFVECHMXQCSH44_\"><div class=\"_3LWZlK\">3.9<img class=\"_1wB99o\" src=\"data:image/svg+xml;base64,PHN2ZyB4bWxucz0iaHR0cDovL3d3dy53My5vcmcvMjAwMC9zdmciIHdpZHRoPSIxMyIgaGVpZ2h0PSIxMiI+PHBhdGggZmlsbD0iI0ZGRiIgZD0iTTYuNSA5LjQzOWwtMy42NzQgMi4yMy45NC00LjI2LTMuMjEtMi44ODMgNC4yNTQtLjQwNEw2LjUuMTEybDEuNjkgNC4wMSA0LjI1NC40MDQtMy4yMSAyLjg4Mi45NCA0LjI2eiIvPjwvc3ZnPg==\"/></div></span><span class=\"_2_R_DZ\"><span><span>2,119 Ratings </span><span class=\"_13vcmD\">&amp;</span><span> 307 Reviews</span></span></span></div><div class=\"fMghEO\"><ul class=\"_1xgFaf\"><li class=\"rgWa7D\">Intel Core i3 Processor (10th Gen)</li><li class=\"rgWa7D\">8 GB DDR4 RAM</li><li class=\"rgWa7D\">64 bit Windows 10 Operating System</li><li class=\"rgWa7D\">1 TB HDD</li><li class=\"rgWa7D\">39.62 cm (15.6 inch) Display</li><li class=\"rgWa7D\">1 Year Onsite Warranty</li></ul></div></div><div class=\"col col-5-12 nlI3QM\"><div class=\"_3tbKJL\"><div class=\"_25b18c\"><div class=\"_30jeq3 _1_WHN1\">₹35,990</div><div class=\"_3I9_wc _27UcVY\">₹<!-- -->42,490</div><div class=\"_3Ay6Sb\"><span>15% off</span></div></div><div class=\"_3tcB5a p8ucoS\"><div><div class=\"_2Tpdn3\" style=\"color:#000000;font-size:14px;font-style:normal;font-weight:400\">Or Pay ₹35,890 + </div><div class=\"CXW8mj _1lT03L\" style=\"height:12px;width:12px\"><img alt=\"\" class=\"_396cs4\" src=\"//static-assets-web.flixcart.com/www/linchpin/fk-cp-zion/img/placeholder_fcebae.svg\"/></div><div class=\"_2Tpdn3\" style=\"color:#000000;font-size:14px;font-style:normal;font-weight:400\"> 100</div></div></div></div><div class=\"_13J9qT\"><img height=\"21\" src=\"//static-assets-web.flixcart.com/www/linchpin/fk-cp-zion/img/fa_62673a.png\"/></div></div></div></a></div></div></div>, <div class=\"_13oc-S\"><div data-id=\"COMG22MX8FYVBNYZ\" style=\"width:100%\"><div class=\"_2kHMtA\"><a class=\"_1fQZEK\" href=\"/hp-15s-ryzen-5-quad-core-3500u-8-gb-512-gb-ssd-windows-10-home-15s-eq0500au-thin-light-laptop/p/itm332829f51ddf9?pid=COMG22MX8FYVBNYZ&amp;lid=LSTCOMG22MX8FYVBNYZC0O4P9&amp;marketplace=FLIPKART&amp;store=6bo%2Fb5g&amp;srno=b_1_22&amp;otracker=browse&amp;fm=organic&amp;iid=f4399639-669b-4d7f-8778-e86a059d7c34.COMG22MX8FYVBNYZ.SEARCH&amp;ppt=None&amp;ppn=None&amp;ssid=azkodjeai80000001623348349670\" rel=\"noopener noreferrer\" target=\"_blank\"><div class=\"MIXNux\"><div class=\"_2QcLo-\"><div><div class=\"CXW8mj\" style=\"height:200px;width:200px\"><img alt=\"HP 15s Ryzen 5 Quad Core 3500U - (8 GB/512 GB SSD/Windows 10 Home) 15s-eq0500AU Thin and Light Laptop\" class=\"_396cs4 _3exPp9\" src=\"https://rukminim1.flixcart.com/image/312/312/k7531jk0/computer/e/a/h/hp-original-imafpfs893zu5mhb.jpeg?q=70\"/></div></div></div><div class=\"_3wLduG\"><div class=\"_3PzNI-\"><span class=\"f3A4_V\"><label class=\"_2iDkf8\"><input class=\"_30VH1S\" readonly=\"\" type=\"checkbox\"/><div class=\"_24_Dny\"></div></label></span><label class=\"_6Up2sF\"><span>Add to Compare</span></label></div></div><div class=\"_2hVSre _3nq8ih\"><div class=\"_36FSn5\"><svg class=\"_1l0elc\" height=\"16\" viewbox=\"0 0 20 16\" width=\"16\" xmlns=\"http://www.w3.org/2000/svg\"><path class=\"eX72wL\" d=\"M8.695 16.682C4.06 12.382 1 9.536 1 6.065 1 3.219 3.178 1 5.95 1c1.566 0 3.069.746 4.05 1.915C10.981 1.745 12.484 1 14.05 1 16.822 1 19 3.22 19 6.065c0 3.471-3.06 6.316-7.695 10.617L10 17.897l-1.305-1.215z\" fill=\"#2874F0\" fill-rule=\"evenodd\" opacity=\".9\" stroke=\"#FFF\"></path></svg></div></div></div><div class=\"_3pLy-c row\"><div class=\"col col-7-12\"><div class=\"_4rR01T\">HP 15s Ryzen 5 Quad Core 3500U - (8 GB/512 GB SSD/Windows 10 Home) 15s-eq0500AU Thin and Light Laptop</div><div class=\"gUuXy-\"><span class=\"_1lRcqv\" id=\"productRating_LSTCOMG22MX8FYVBNYZC0O4P9_COMG22MX8FYVBNYZ_\"><div class=\"_3LWZlK\">4.2<img class=\"_1wB99o\" src=\"data:image/svg+xml;base64,PHN2ZyB4bWxucz0iaHR0cDovL3d3dy53My5vcmcvMjAwMC9zdmciIHdpZHRoPSIxMyIgaGVpZ2h0PSIxMiI+PHBhdGggZmlsbD0iI0ZGRiIgZD0iTTYuNSA5LjQzOWwtMy42NzQgMi4yMy45NC00LjI2LTMuMjEtMi44ODMgNC4yNTQtLjQwNEw2LjUuMTEybDEuNjkgNC4wMSA0LjI1NC40MDQtMy4yMSAyLjg4Mi45NCA0LjI2eiIvPjwvc3ZnPg==\"/></div></span><span class=\"_2_R_DZ\"><span><span>348 Ratings </span><span class=\"_13vcmD\">&amp;</span><span> 55 Reviews</span></span></span></div><div class=\"fMghEO\"><ul class=\"_1xgFaf\"><li class=\"rgWa7D\">AMD Ryzen 5 Quad Core Processor</li><li class=\"rgWa7D\">8 GB DDR4 RAM</li><li class=\"rgWa7D\">64 bit Windows 10 Operating System</li><li class=\"rgWa7D\">512 GB SSD</li><li class=\"rgWa7D\">39.62 cm (15.6 inch) Display</li><li class=\"rgWa7D\">Microsoft Office 2019 &amp; Office 365, HP Documentation, HP BIOS recovery, HP Smart, McAfee LiveSafe (30 days free trial as default)</li><li class=\"rgWa7D\">1 Year Onsite Warranty</li></ul></div></div><div class=\"col col-5-12 nlI3QM\"><div class=\"_3tbKJL\"><div class=\"_25b18c\"><div class=\"_30jeq3 _1_WHN1\">₹48,990</div><div class=\"_3I9_wc _27UcVY\">₹<!-- -->52,575</div><div class=\"_3Ay6Sb\"><span>6% off</span></div></div><div class=\"_3tcB5a p8ucoS\"><div><div class=\"_2Tpdn3\" style=\"color:#000000;font-size:14px;font-style:normal;font-weight:400\">Or Pay ₹48,890 + </div><div class=\"CXW8mj _1lT03L\" style=\"height:12px;width:12px\"><img alt=\"\" class=\"_396cs4\" src=\"//static-assets-web.flixcart.com/www/linchpin/fk-cp-zion/img/placeholder_fcebae.svg\"/></div><div class=\"_2Tpdn3\" style=\"color:#000000;font-size:14px;font-style:normal;font-weight:400\"> 100</div></div></div></div><div class=\"_13J9qT\"><img height=\"21\" src=\"//static-assets-web.flixcart.com/www/linchpin/fk-cp-zion/img/fa_62673a.png\"/></div><div class=\"_2ZdXDB\"><div class=\"_3xFhiH\"><div class=\"_2Tpdn3 _18hQoS\" style=\"color:#000000;font-size:12px;font-style:normal;font-weight:400\">No Cost EMI</div></div></div></div></div></a></div></div></div>, <div class=\"_13oc-S\"><div data-id=\"COMFZH7QSDZMUFRM\" style=\"width:100%\"><div class=\"_2kHMtA\"><a class=\"_1fQZEK\" href=\"/hp-pavilion-x360-core-i3-11th-gen-8-gb-256-gb-ssd-windows-10-home-14-dw1036tu-2-1-laptop/p/itm43906eb8ed73c?pid=COMFZH7QSDZMUFRM&amp;lid=LSTCOMFZH7QSDZMUFRMAPLTDG&amp;marketplace=FLIPKART&amp;store=6bo%2Fb5g&amp;srno=b_1_23&amp;otracker=browse&amp;fm=organic&amp;iid=f4399639-669b-4d7f-8778-e86a059d7c34.COMFZH7QSDZMUFRM.SEARCH&amp;ppt=None&amp;ppn=None&amp;ssid=azkodjeai80000001623348349670\" rel=\"noopener noreferrer\" target=\"_blank\"><div class=\"MIXNux\"><div class=\"_2QcLo-\"><div><div class=\"CXW8mj\" style=\"height:200px;width:200px\"><img alt=\"HP Pavilion x360 Core i3 11th Gen - (8 GB/256 GB SSD/Windows 10 Home) 14-dw1036TU 2 in 1 Laptop\" class=\"_396cs4 _3exPp9\" src=\"https://rukminim1.flixcart.com/image/312/312/kevpwnk0/computer/k/u/3/hp-original-imafvgsb3zhg3g2k.jpeg?q=70\"/></div></div></div><div class=\"_3wLduG\"><div class=\"_3PzNI-\"><span class=\"f3A4_V\"><label class=\"_2iDkf8\"><input class=\"_30VH1S\" readonly=\"\" type=\"checkbox\"/><div class=\"_24_Dny\"></div></label></span><label class=\"_6Up2sF\"><span>Add to Compare</span></label></div></div><div class=\"_2hVSre _3nq8ih\"><div class=\"_36FSn5\"><svg class=\"_1l0elc\" height=\"16\" viewbox=\"0 0 20 16\" width=\"16\" xmlns=\"http://www.w3.org/2000/svg\"><path class=\"eX72wL\" d=\"M8.695 16.682C4.06 12.382 1 9.536 1 6.065 1 3.219 3.178 1 5.95 1c1.566 0 3.069.746 4.05 1.915C10.981 1.745 12.484 1 14.05 1 16.822 1 19 3.22 19 6.065c0 3.471-3.06 6.316-7.695 10.617L10 17.897l-1.305-1.215z\" fill=\"#2874F0\" fill-rule=\"evenodd\" opacity=\".9\" stroke=\"#FFF\"></path></svg></div></div></div><div class=\"_3pLy-c row\"><div class=\"col col-7-12\"><div class=\"_4rR01T\">HP Pavilion x360 Core i3 11th Gen - (8 GB/256 GB SSD/Windows 10 Home) 14-dw1036TU 2 in 1 Laptop</div><div class=\"gUuXy-\"><span class=\"_1lRcqv\" id=\"productRating_LSTCOMFZH7QSDZMUFRMAPLTDG_COMFZH7QSDZMUFRM_\"><div class=\"_3LWZlK\">4.4<img class=\"_1wB99o\" src=\"data:image/svg+xml;base64,PHN2ZyB4bWxucz0iaHR0cDovL3d3dy53My5vcmcvMjAwMC9zdmciIHdpZHRoPSIxMyIgaGVpZ2h0PSIxMiI+PHBhdGggZmlsbD0iI0ZGRiIgZD0iTTYuNSA5LjQzOWwtMy42NzQgMi4yMy45NC00LjI2LTMuMjEtMi44ODMgNC4yNTQtLjQwNEw2LjUuMTEybDEuNjkgNC4wMSA0LjI1NC40MDQtMy4yMSAyLjg4Mi45NCA0LjI2eiIvPjwvc3ZnPg==\"/></div></span><span class=\"_2_R_DZ\"><span><span>267 Ratings </span><span class=\"_13vcmD\">&amp;</span><span> 27 Reviews</span></span></span></div><div class=\"fMghEO\"><ul class=\"_1xgFaf\"><li class=\"rgWa7D\">Intel Core i3 Processor (11th Gen)</li><li class=\"rgWa7D\">8 GB DDR4 RAM</li><li class=\"rgWa7D\">64 bit Windows 10 Operating System</li><li class=\"rgWa7D\">256 GB SSD</li><li class=\"rgWa7D\">35.56 cm (14 inch) Touchscreen Display</li><li class=\"rgWa7D\">Microsoft Office Home and Student 2019, HP Documentation, HP Audio Switch, HP ePrint, Dropbox, HP Connection Optimizer, HP Support Assistant, HP Recovery Manager, HP System Event Utility, HP Jumpstart</li><li class=\"rgWa7D\">1 Year Onsite Warranty</li></ul></div></div><div class=\"col col-5-12 nlI3QM\"><div class=\"_3tbKJL\"><div class=\"_25b18c\"><div class=\"_30jeq3 _1_WHN1\">₹48,990</div><div class=\"_3I9_wc _27UcVY\">₹<!-- -->56,282</div><div class=\"_3Ay6Sb\"><span>12% off</span></div></div><div class=\"_3tcB5a p8ucoS\"><div><div class=\"_2Tpdn3\" style=\"color:#000000;font-size:14px;font-style:normal;font-weight:400\">Or Pay ₹48,890 + </div><div class=\"CXW8mj _1lT03L\" style=\"height:12px;width:12px\"><img alt=\"\" class=\"_396cs4\" src=\"//static-assets-web.flixcart.com/www/linchpin/fk-cp-zion/img/placeholder_fcebae.svg\"/></div><div class=\"_2Tpdn3\" style=\"color:#000000;font-size:14px;font-style:normal;font-weight:400\"> 100</div></div></div></div><div class=\"_13J9qT\"><img height=\"21\" src=\"//static-assets-web.flixcart.com/www/linchpin/fk-cp-zion/img/fa_62673a.png\"/></div><div class=\"_2ZdXDB\"><div class=\"_3xFhiH\"><div class=\"_2Tpdn3 _18hQoS\" style=\"color:#000000;font-size:12px;font-style:normal;font-weight:400\">No Cost EMI</div></div></div></div></div></a></div></div></div>, <div class=\"_13oc-S\"><div data-id=\"COMFXZZMWZGM4MPJ\" style=\"width:100%\"><div class=\"_2kHMtA\"><a class=\"_1fQZEK\" href=\"/lenovo-legion-y540-core-i5-9th-gen-8-gb-1-tb-hdd-256-gb-ssd-windows-10-home-4-graphics-nvidia-geforce-gtx-1650-60-hz-y540-15irh-pg0-gaming-laptop/p/itm8a774a92e9b76?pid=COMFXZZMWZGM4MPJ&amp;lid=LSTCOMFXZZMWZGM4MPJSWHXIX&amp;marketplace=FLIPKART&amp;store=6bo%2Fb5g&amp;srno=b_1_24&amp;otracker=browse&amp;fm=organic&amp;iid=f4399639-669b-4d7f-8778-e86a059d7c34.COMFXZZMWZGM4MPJ.SEARCH&amp;ppt=None&amp;ppn=None&amp;ssid=azkodjeai80000001623348349670\" rel=\"noopener noreferrer\" target=\"_blank\"><div class=\"MIXNux\"><div class=\"_2QcLo-\"><div><div class=\"CXW8mj\" style=\"height:200px;width:200px\"><img alt=\"Lenovo Legion Y540 Core i5 9th Gen - (8 GB/1 TB HDD/256 GB SSD/Windows 10 Home/4 GB Graphics/NVIDIA Ge...\" class=\"_396cs4 _3exPp9\" src=\"https://rukminim1.flixcart.com/image/312/312/kiew3gw0/computer/m/p/j/lenovo-original-imafy7ng97axn45e.jpeg?q=70\"/></div></div></div><div class=\"_3wLduG\"><div class=\"_3PzNI-\"><span class=\"f3A4_V\"><label class=\"_2iDkf8\"><input class=\"_30VH1S\" readonly=\"\" type=\"checkbox\"/><div class=\"_24_Dny\"></div></label></span><label class=\"_6Up2sF\"><span>Add to Compare</span></label></div></div><div class=\"_2hVSre _3nq8ih\"><div class=\"_36FSn5\"><svg class=\"_1l0elc\" height=\"16\" viewbox=\"0 0 20 16\" width=\"16\" xmlns=\"http://www.w3.org/2000/svg\"><path class=\"eX72wL\" d=\"M8.695 16.682C4.06 12.382 1 9.536 1 6.065 1 3.219 3.178 1 5.95 1c1.566 0 3.069.746 4.05 1.915C10.981 1.745 12.484 1 14.05 1 16.822 1 19 3.22 19 6.065c0 3.471-3.06 6.316-7.695 10.617L10 17.897l-1.305-1.215z\" fill=\"#2874F0\" fill-rule=\"evenodd\" opacity=\".9\" stroke=\"#FFF\"></path></svg></div></div></div><div class=\"_3pLy-c row\"><div class=\"col col-7-12\"><div class=\"_4rR01T\">Lenovo Legion Y540 Core i5 9th Gen - (8 GB/1 TB HDD/256 GB SSD/Windows 10 Home/4 GB Graphics/NVIDIA Ge...</div><div class=\"gUuXy-\"><span class=\"_1lRcqv\" id=\"productRating_LSTCOMFXZZMWZGM4MPJSWHXIX_COMFXZZMWZGM4MPJ_\"><div class=\"_3LWZlK\">4.5<img class=\"_1wB99o\" src=\"data:image/svg+xml;base64,PHN2ZyB4bWxucz0iaHR0cDovL3d3dy53My5vcmcvMjAwMC9zdmciIHdpZHRoPSIxMyIgaGVpZ2h0PSIxMiI+PHBhdGggZmlsbD0iI0ZGRiIgZD0iTTYuNSA5LjQzOWwtMy42NzQgMi4yMy45NC00LjI2LTMuMjEtMi44ODMgNC4yNTQtLjQwNEw2LjUuMTEybDEuNjkgNC4wMSA0LjI1NC40MDQtMy4yMSAyLjg4Mi45NCA0LjI2eiIvPjwvc3ZnPg==\"/></div></span><span class=\"_2_R_DZ\"><span><span>164 Ratings </span><span class=\"_13vcmD\">&amp;</span><span> 15 Reviews</span></span></span></div><div class=\"fMghEO\"><ul class=\"_1xgFaf\"><li class=\"rgWa7D\">Intel Core i5 Processor (9th Gen)</li><li class=\"rgWa7D\">8 GB DDR4 RAM</li><li class=\"rgWa7D\">64 bit Windows 10 Operating System</li><li class=\"rgWa7D\">1 TB HDD|256 GB SSD</li><li class=\"rgWa7D\">39.62 cm (15.6 inch) Display</li><li class=\"rgWa7D\">1 Year Onsite Warranty</li></ul></div></div><div class=\"col col-5-12 nlI3QM\"><div class=\"_3tbKJL\"><div class=\"_25b18c\"><div class=\"_30jeq3 _1_WHN1\">₹60,990</div><div class=\"_3I9_wc _27UcVY\">₹<!-- -->86,690</div><div class=\"_3Ay6Sb\"><span>29% off</span></div></div><div class=\"_3tcB5a p8ucoS\"><div><div class=\"_2Tpdn3\" style=\"color:#000000;font-size:14px;font-style:normal;font-weight:400\">Or Pay ₹60,890 + </div><div class=\"CXW8mj _1lT03L\" style=\"height:12px;width:12px\"><img alt=\"\" class=\"_396cs4\" src=\"//static-assets-web.flixcart.com/www/linchpin/fk-cp-zion/img/placeholder_fcebae.svg\"/></div><div class=\"_2Tpdn3\" style=\"color:#000000;font-size:14px;font-style:normal;font-weight:400\"> 100</div></div></div></div><div class=\"_13J9qT\"><img height=\"21\" src=\"//static-assets-web.flixcart.com/www/linchpin/fk-cp-zion/img/fa_62673a.png\"/></div><div class=\"_2ZdXDB\"><div class=\"_3xFhiH\"><div class=\"_2Tpdn3 _18hQoS\" style=\"color:#000000;font-size:12px;font-style:normal;font-weight:400\">No Cost EMI</div></div></div></div></div></a></div></div></div>]\n"
     ]
    }
   ],
   "source": [
    " print(laptops)# some list kind of storage\n",
    " # so we can use loop  and indexing"
   ]
  },
  {
   "cell_type": "code",
   "execution_count": 16,
   "metadata": {},
   "outputs": [],
   "source": [
    "# Iam going to garb datafor the 1st laptop then i will run a loop for all."
   ]
  },
  {
   "cell_type": "code",
   "execution_count": 17,
   "metadata": {},
   "outputs": [],
   "source": [
    "laptop = laptops[0]\n",
    "#laptop"
   ]
  },
  {
   "cell_type": "code",
   "execution_count": 18,
   "metadata": {},
   "outputs": [
    {
     "name": "stdout",
     "output_type": "stream",
     "text": [
      "<class 'bs4.element.ResultSet'>\n",
      "\n",
      "<div class=\"_4rR01T\">HP 14s Core i3 11th Gen - (8 GB/256 GB SSD/Windows 10 Home) 14s- DY2501TU Thin and Light Laptop</div>\n",
      "<class 'bs4.element.Tag'>\n",
      "1\n"
     ]
    }
   ],
   "source": [
    "name = laptop.find_all('div',{'class':'_4rR01T'})\n",
    "#print(name)\n",
    "print(type(name))\n",
    "name = name[0]\n",
    "print()\n",
    "print(name)\n",
    "print(type(name))\n",
    "print(len(name))"
   ]
  },
  {
   "cell_type": "code",
   "execution_count": 16,
   "metadata": {},
   "outputs": [
    {
     "data": {
      "text/plain": [
       "'Acer Aspire 5 Core i5 11th Gen - (8 GB/512 GB SSD/Windows 10 Home) A514-54 Thin and Light Laptop'"
      ]
     },
     "execution_count": 16,
     "metadata": {},
     "output_type": "execute_result"
    }
   ],
   "source": [
    "# Here we dont want HTML attributes attached to it awe want only \n",
    "# text part\n",
    "name = name.text\n",
    "name"
   ]
  },
  {
   "cell_type": "code",
   "execution_count": null,
   "metadata": {},
   "outputs": [],
   "source": [
    "# WE  want only 'Acer Aspire 5 Core i5 11th Gen' not more .\n",
    "# there are two ways \n",
    "# 1 slicing : for this we need start and stop\n",
    "#2 slpit :"
   ]
  },
  {
   "cell_type": "code",
   "execution_count": 18,
   "metadata": {},
   "outputs": [
    {
     "name": "stdout",
     "output_type": "stream",
     "text": [
      "27\n",
      "31\n"
     ]
    }
   ],
   "source": [
    "# 1swt found where should we stop\n",
    "print(name.index('Gen'))# It will give some idea about stop \n",
    "print(name.index('-'))"
   ]
  },
  {
   "cell_type": "code",
   "execution_count": 19,
   "metadata": {},
   "outputs": [
    {
     "data": {
      "text/plain": [
       "'Acer Aspire 5 Core i5 11th Gen'"
      ]
     },
     "execution_count": 19,
     "metadata": {},
     "output_type": "execute_result"
    }
   ],
   "source": [
    "#slicing\n",
    "name_sl = name[:30]# This will not work well when lenght of laptop is different\n",
    "name_sl"
   ]
  },
  {
   "cell_type": "code",
   "execution_count": 20,
   "metadata": {},
   "outputs": [
    {
     "data": {
      "text/plain": [
       "'Acer Aspire 5 Core i5 11th Gen '"
      ]
     },
     "execution_count": 20,
     "metadata": {},
     "output_type": "execute_result"
    }
   ],
   "source": [
    "# split\n",
    "name = name.split('-')[0]\n",
    "name"
   ]
  },
  {
   "cell_type": "code",
   "execution_count": 29,
   "metadata": {},
   "outputs": [
    {
     "name": "stdout",
     "output_type": "stream",
     "text": [
      "[<div class=\"_3LWZlK\">4.3<img class=\"_1wB99o\" src=\"data:image/svg+xml;base64,PHN2ZyB4bWxucz0iaHR0cDovL3d3dy53My5vcmcvMjAwMC9zdmciIHdpZHRoPSIxMyIgaGVpZ2h0PSIxMiI+PHBhdGggZmlsbD0iI0ZGRiIgZD0iTTYuNSA5LjQzOWwtMy42NzQgMi4yMy45NC00LjI2LTMuMjEtMi44ODMgNC4yNTQtLjQwNEw2LjUuMTEybDEuNjkgNC4wMSA0LjI1NC40MDQtMy4yMSAyLjg4Mi45NCA0LjI2eiIvPjwvc3ZnPg==\"/></div>]\n"
     ]
    },
    {
     "data": {
      "text/plain": [
       "'4.3'"
      ]
     },
     "execution_count": 29,
     "metadata": {},
     "output_type": "execute_result"
    }
   ],
   "source": [
    "# now Rating  _3LWZlK\n",
    "rating = laptop.find_all('div',{'class':'_3LWZlK'})\n",
    "#rating= rating[0].text\n",
    "print(rating)\n",
    "# some laptops dont hane rating\n",
    "# so \n",
    "if len(rating) == 0:\n",
    "    rating =\"NA\"\n",
    "else:\n",
    "    rating= rating[0].text\n",
    "rating"
   ]
  },
  {
   "cell_type": "code",
   "execution_count": 24,
   "metadata": {},
   "outputs": [
    {
     "data": {
      "text/plain": [
       "'₹50,990'"
      ]
     },
     "execution_count": 24,
     "metadata": {},
     "output_type": "execute_result"
    }
   ],
   "source": [
    "# Price\n",
    "price= laptop.find_all('div',{'class':'_30jeq3 _1_WHN1'})\n",
    "price=price[0].text\n",
    "print(price)"
   ]
  },
  {
   "cell_type": "code",
   "execution_count": 30,
   "metadata": {},
   "outputs": [
    {
     "name": "stdout",
     "output_type": "stream",
     "text": [
      "Acer Aspire 5 Core i5 11th Gen  NA ₹50,990\n",
      "Acer Aspire 7 Ryzen 5 Hexa Core 5500U  NA ₹54,990\n",
      "HP 15s Celeron Dual Core  4.1 ₹23,990\n",
      "Lenovo Ideapad Slim 3i Core i3 10th Gen  4.4 ₹35,990\n",
      "HP 14 Core i5 10th Gen  4.3 ₹47,990\n",
      "Dell Inspiron 3505 Ryzen 3 Dual Core 3250U  4.3 ₹34,790\n",
      "Asus VivoBook 14 Ryzen 5 Quad Core 3500U  4.4 ₹43,990\n",
      "Asus Core i3 10th Gen  4.3 ₹36,990\n",
      "MSI Modern 14 Ryzen 5 Hexa Core 4500U  4.6 ₹51,990\n",
      "Lenovo Ideapad S145 Core i3 10th Gen  4.3 ₹32,990\n",
      "Lenovo Ideapad Slim 3 Core i3 10th Gen  4.2 ₹32,990\n",
      "HP 15 Ryzen 3 Dual Core 3200U  4 ₹31,490\n",
      "HP 15s Ryzen 3 Dual Core 3250U  4.7 ₹30,990\n",
      "Acer One 14 Pentium Gold  4 ₹23,990\n",
      "Lenovo Ideapad 3 Ryzen 3 Dual Core 3250U  3.9 ₹29,990\n",
      "Lenovo Ideapad S340 Core i5 10th Gen  4.3 ₹51,990\n",
      "Lenovo Ideapad Gaming 3 Ryzen 5 Hexa Core 4600H  4.5 ₹59,990\n",
      "Lenovo Ideapad S145 APU Dual Core A6 A6 4 ₹24,990\n",
      "Dell Inspiron 3501 Core i5 11th Gen  4.8 ₹62,990\n",
      "LG Gram 17 Core i7 10th Gen  4.7 ₹99,990\n",
      "Dell Inspiron 3505 Athlon Dual Core 3150U  4.4 ₹29,650\n",
      "Acer Aspire 7 Core i5 9th Gen  4.4 ₹54,990\n",
      "Lenovo Ideapad 3 Athlon Dual Core 3050U  4 ₹25,990\n",
      "Dell G3 Core i7 10th Gen  4.3 ₹88,990\n"
     ]
    }
   ],
   "source": [
    "# above was the scraping of only on laptop now \n",
    "# W will scrape all from laptops \n",
    "for laptop in laptops:\n",
    "    # Name\n",
    "    name = laptop.find_all('div',{'class':'_4rR01T'})\n",
    "    name = name[0]\n",
    "    name = name.text\n",
    "    name = name.split('-')[0]\n",
    "    # now Rating  _3LWZlK\n",
    "    rating = laptop.find_all('div',{'class':'_3LWZlK'})\n",
    "    if len(rating) == 0:\n",
    "        rating =\"NA\"\n",
    "    else:\n",
    "        rating= rating[0].text\n",
    "    # Price\n",
    "    price= laptop.find_all('div',{'class':'_30jeq3 _1_WHN1'})\n",
    "    price=price[0].text\n",
    "    \n",
    "    print(name,rating,price)\n"
   ]
  },
  {
   "cell_type": "code",
   "execution_count": null,
   "metadata": {},
   "outputs": [],
   "source": [
    "# To make it more Struictured We can use\n",
    "# 1 Tabulte library\n",
    "# 2 Pandas"
   ]
  },
  {
   "cell_type": "code",
   "execution_count": 32,
   "metadata": {},
   "outputs": [
    {
     "data": {
      "text/plain": [
       "[['Nmae', 'Rating', 'Price'],\n",
       " ['Acer Aspire 5 Core i5 11th Gen ', 'NA', '₹50,990'],\n",
       " ['Acer Aspire 7 Ryzen 5 Hexa Core 5500U ', 'NA', '₹54,990'],\n",
       " ['HP 15s Celeron Dual Core ', '4.1', '₹23,990'],\n",
       " ['Lenovo Ideapad Slim 3i Core i3 10th Gen ', '4.4', '₹35,990'],\n",
       " ['HP 14 Core i5 10th Gen ', '4.3', '₹47,990'],\n",
       " ['Dell Inspiron 3505 Ryzen 3 Dual Core 3250U ', '4.3', '₹34,790'],\n",
       " ['Asus VivoBook 14 Ryzen 5 Quad Core 3500U ', '4.4', '₹43,990'],\n",
       " ['Asus Core i3 10th Gen ', '4.3', '₹36,990'],\n",
       " ['MSI Modern 14 Ryzen 5 Hexa Core 4500U ', '4.6', '₹51,990'],\n",
       " ['Lenovo Ideapad S145 Core i3 10th Gen ', '4.3', '₹32,990'],\n",
       " ['Lenovo Ideapad Slim 3 Core i3 10th Gen ', '4.2', '₹32,990'],\n",
       " ['HP 15 Ryzen 3 Dual Core 3200U ', '4', '₹31,490'],\n",
       " ['HP 15s Ryzen 3 Dual Core 3250U ', '4.7', '₹30,990'],\n",
       " ['Acer One 14 Pentium Gold ', '4', '₹23,990'],\n",
       " ['Lenovo Ideapad 3 Ryzen 3 Dual Core 3250U ', '3.9', '₹29,990'],\n",
       " ['Lenovo Ideapad S340 Core i5 10th Gen ', '4.3', '₹51,990'],\n",
       " ['Lenovo Ideapad Gaming 3 Ryzen 5 Hexa Core 4600H ', '4.5', '₹59,990'],\n",
       " ['Lenovo Ideapad S145 APU Dual Core A6 A6', '4', '₹24,990'],\n",
       " ['Dell Inspiron 3501 Core i5 11th Gen ', '4.8', '₹62,990'],\n",
       " ['LG Gram 17 Core i7 10th Gen ', '4.7', '₹99,990'],\n",
       " ['Dell Inspiron 3505 Athlon Dual Core 3150U ', '4.4', '₹29,650'],\n",
       " ['Acer Aspire 7 Core i5 9th Gen ', '4.4', '₹54,990'],\n",
       " ['Lenovo Ideapad 3 Athlon Dual Core 3050U ', '4', '₹25,990'],\n",
       " ['Dell G3 Core i7 10th Gen ', '4.3', '₹88,990']]"
      ]
     },
     "execution_count": 32,
     "metadata": {},
     "output_type": "execute_result"
    }
   ],
   "source": [
    "#WE need heasdings\n",
    "Lap = [['Nmae','Rating','Price']]\n",
    "for laptop in laptops:\n",
    "    # Name\n",
    "    name = laptop.find_all('div',{'class':'_4rR01T'})\n",
    "    name = name[0]\n",
    "    name = name.text\n",
    "    name = name.split('-')[0]\n",
    "    # now Rating  _3LWZlK\n",
    "    rating = laptop.find_all('div',{'class':'_3LWZlK'})\n",
    "    if len(rating) == 0:\n",
    "        rating =\"NA\"\n",
    "    else:\n",
    "        rating= rating[0].text\n",
    "    # Price\n",
    "    price= laptop.find_all('div',{'class':'_30jeq3 _1_WHN1'})\n",
    "    price=price[0].text\n",
    "    \n",
    "   # print(name,rating,price)\n",
    "# insted of print i am going to append it in list\n",
    "    Lap.append([name,rating,price])\n",
    "\n",
    "Lap\n"
   ]
  },
  {
   "cell_type": "code",
   "execution_count": 1,
   "metadata": {},
   "outputs": [
    {
     "ename": "ModuleNotFoundError",
     "evalue": "No module named 'tabulate'",
     "output_type": "error",
     "traceback": [
      "\u001b[1;31m---------------------------------------------------------------------------\u001b[0m",
      "\u001b[1;31mModuleNotFoundError\u001b[0m                       Traceback (most recent call last)",
      "\u001b[1;32m<ipython-input-1-3f7707365c9d>\u001b[0m in \u001b[0;36m<module>\u001b[1;34m\u001b[0m\n\u001b[0;32m      1\u001b[0m \u001b[1;31m# if module not found then\u001b[0m\u001b[1;33m\u001b[0m\u001b[1;33m\u001b[0m\u001b[1;33m\u001b[0m\u001b[0m\n\u001b[0;32m      2\u001b[0m \u001b[1;31m# pip install tabulate\u001b[0m\u001b[1;33m\u001b[0m\u001b[1;33m\u001b[0m\u001b[1;33m\u001b[0m\u001b[0m\n\u001b[1;32m----> 3\u001b[1;33m \u001b[1;32mfrom\u001b[0m \u001b[0mtabulate\u001b[0m \u001b[1;32mimport\u001b[0m \u001b[0mtabulate\u001b[0m\u001b[1;33m\u001b[0m\u001b[1;33m\u001b[0m\u001b[0m\n\u001b[0m",
      "\u001b[1;31mModuleNotFoundError\u001b[0m: No module named 'tabulate'"
     ]
    }
   ],
   "source": [
    "# if module not found then\n",
    "# pip install tabulate\n",
    "from tabulate import tabulate"
   ]
  },
  {
   "cell_type": "code",
   "execution_count": 35,
   "metadata": {
    "scrolled": true
   },
   "outputs": [
    {
     "name": "stdout",
     "output_type": "stream",
     "text": [
      "-----------------------------------------------  ------  -------\n",
      "Nmae                                             Rating  Price\n",
      "Acer Aspire 5 Core i5 11th Gen                   NA      ₹50,990\n",
      "Acer Aspire 7 Ryzen 5 Hexa Core 5500U            NA      ₹54,990\n",
      "HP 15s Celeron Dual Core                         4.1     ₹23,990\n",
      "Lenovo Ideapad Slim 3i Core i3 10th Gen          4.4     ₹35,990\n",
      "HP 14 Core i5 10th Gen                           4.3     ₹47,990\n",
      "Dell Inspiron 3505 Ryzen 3 Dual Core 3250U       4.3     ₹34,790\n",
      "Asus VivoBook 14 Ryzen 5 Quad Core 3500U         4.4     ₹43,990\n",
      "Asus Core i3 10th Gen                            4.3     ₹36,990\n",
      "MSI Modern 14 Ryzen 5 Hexa Core 4500U            4.6     ₹51,990\n",
      "Lenovo Ideapad S145 Core i3 10th Gen             4.3     ₹32,990\n",
      "Lenovo Ideapad Slim 3 Core i3 10th Gen           4.2     ₹32,990\n",
      "HP 15 Ryzen 3 Dual Core 3200U                    4       ₹31,490\n",
      "HP 15s Ryzen 3 Dual Core 3250U                   4.7     ₹30,990\n",
      "Acer One 14 Pentium Gold                         4       ₹23,990\n",
      "Lenovo Ideapad 3 Ryzen 3 Dual Core 3250U         3.9     ₹29,990\n",
      "Lenovo Ideapad S340 Core i5 10th Gen             4.3     ₹51,990\n",
      "Lenovo Ideapad Gaming 3 Ryzen 5 Hexa Core 4600H  4.5     ₹59,990\n",
      "Lenovo Ideapad S145 APU Dual Core A6 A6          4       ₹24,990\n",
      "Dell Inspiron 3501 Core i5 11th Gen              4.8     ₹62,990\n",
      "LG Gram 17 Core i7 10th Gen                      4.7     ₹99,990\n",
      "Dell Inspiron 3505 Athlon Dual Core 3150U        4.4     ₹29,650\n",
      "Acer Aspire 7 Core i5 9th Gen                    4.4     ₹54,990\n",
      "Lenovo Ideapad 3 Athlon Dual Core 3050U          4       ₹25,990\n",
      "Dell G3 Core i7 10th Gen                         4.3     ₹88,990\n",
      "-----------------------------------------------  ------  -------\n"
     ]
    }
   ],
   "source": [
    "print(tabulate(Lap))"
   ]
  },
  {
   "cell_type": "raw",
   "metadata": {},
   "source": [
    "'plain', 'simple', 'grid', 'pipe', 'orgtbl', 'rst', 'mediawiki',\n",
    "'latex', 'latex_raw' and 'latex_booktabs','fancy_grid'"
   ]
  },
  {
   "cell_type": "code",
   "execution_count": 55,
   "metadata": {
    "scrolled": true
   },
   "outputs": [
    {
     "name": "stdout",
     "output_type": "stream",
     "text": [
      "+-------------------------------------------------+--------+---------+\n",
      "| Nmae                                            | Rating | Price   |\n",
      "+-------------------------------------------------+--------+---------+\n",
      "| Acer Aspire 5 Core i5 11th Gen                  | NA     | ₹50,990 |\n",
      "+-------------------------------------------------+--------+---------+\n",
      "| Acer Aspire 7 Ryzen 5 Hexa Core 5500U           | NA     | ₹54,990 |\n",
      "+-------------------------------------------------+--------+---------+\n",
      "| HP 15s Celeron Dual Core                        | 4.1    | ₹23,990 |\n",
      "+-------------------------------------------------+--------+---------+\n",
      "| Lenovo Ideapad Slim 3i Core i3 10th Gen         | 4.4    | ₹35,990 |\n",
      "+-------------------------------------------------+--------+---------+\n",
      "| HP 14 Core i5 10th Gen                          | 4.3    | ₹47,990 |\n",
      "+-------------------------------------------------+--------+---------+\n",
      "| Dell Inspiron 3505 Ryzen 3 Dual Core 3250U      | 4.3    | ₹34,790 |\n",
      "+-------------------------------------------------+--------+---------+\n",
      "| Asus VivoBook 14 Ryzen 5 Quad Core 3500U        | 4.4    | ₹43,990 |\n",
      "+-------------------------------------------------+--------+---------+\n",
      "| Asus Core i3 10th Gen                           | 4.3    | ₹36,990 |\n",
      "+-------------------------------------------------+--------+---------+\n",
      "| MSI Modern 14 Ryzen 5 Hexa Core 4500U           | 4.6    | ₹51,990 |\n",
      "+-------------------------------------------------+--------+---------+\n",
      "| Lenovo Ideapad S145 Core i3 10th Gen            | 4.3    | ₹32,990 |\n",
      "+-------------------------------------------------+--------+---------+\n",
      "| Lenovo Ideapad Slim 3 Core i3 10th Gen          | 4.2    | ₹32,990 |\n",
      "+-------------------------------------------------+--------+---------+\n",
      "| HP 15 Ryzen 3 Dual Core 3200U                   | 4      | ₹31,490 |\n",
      "+-------------------------------------------------+--------+---------+\n",
      "| HP 15s Ryzen 3 Dual Core 3250U                  | 4.7    | ₹30,990 |\n",
      "+-------------------------------------------------+--------+---------+\n",
      "| Acer One 14 Pentium Gold                        | 4      | ₹23,990 |\n",
      "+-------------------------------------------------+--------+---------+\n",
      "| Lenovo Ideapad 3 Ryzen 3 Dual Core 3250U        | 3.9    | ₹29,990 |\n",
      "+-------------------------------------------------+--------+---------+\n",
      "| Lenovo Ideapad S340 Core i5 10th Gen            | 4.3    | ₹51,990 |\n",
      "+-------------------------------------------------+--------+---------+\n",
      "| Lenovo Ideapad Gaming 3 Ryzen 5 Hexa Core 4600H | 4.5    | ₹59,990 |\n",
      "+-------------------------------------------------+--------+---------+\n",
      "| Lenovo Ideapad S145 APU Dual Core A6 A6         | 4      | ₹24,990 |\n",
      "+-------------------------------------------------+--------+---------+\n",
      "| Dell Inspiron 3501 Core i5 11th Gen             | 4.8    | ₹62,990 |\n",
      "+-------------------------------------------------+--------+---------+\n",
      "| LG Gram 17 Core i7 10th Gen                     | 4.7    | ₹99,990 |\n",
      "+-------------------------------------------------+--------+---------+\n",
      "| Dell Inspiron 3505 Athlon Dual Core 3150U       | 4.4    | ₹29,650 |\n",
      "+-------------------------------------------------+--------+---------+\n",
      "| Acer Aspire 7 Core i5 9th Gen                   | 4.4    | ₹54,990 |\n",
      "+-------------------------------------------------+--------+---------+\n",
      "| Lenovo Ideapad 3 Athlon Dual Core 3050U         | 4      | ₹25,990 |\n",
      "+-------------------------------------------------+--------+---------+\n",
      "| Dell G3 Core i7 10th Gen                        | 4.3    | ₹88,990 |\n",
      "+-------------------------------------------------+--------+---------+\n"
     ]
    }
   ],
   "source": [
    "print(tabulate(Lap,tablefmt='grid'))"
   ]
  },
  {
   "cell_type": "code",
   "execution_count": 58,
   "metadata": {},
   "outputs": [],
   "source": [
    "import pandas as pd"
   ]
  },
  {
   "cell_type": "code",
   "execution_count": 69,
   "metadata": {},
   "outputs": [
    {
     "data": {
      "text/html": [
       "<div>\n",
       "<style scoped>\n",
       "    .dataframe tbody tr th:only-of-type {\n",
       "        vertical-align: middle;\n",
       "    }\n",
       "\n",
       "    .dataframe tbody tr th {\n",
       "        vertical-align: top;\n",
       "    }\n",
       "\n",
       "    .dataframe thead th {\n",
       "        text-align: right;\n",
       "    }\n",
       "</style>\n",
       "<table border=\"1\" class=\"dataframe\">\n",
       "  <thead>\n",
       "    <tr style=\"text-align: right;\">\n",
       "      <th></th>\n",
       "      <th>Name</th>\n",
       "      <th>Rating</th>\n",
       "      <th>Price</th>\n",
       "    </tr>\n",
       "  </thead>\n",
       "  <tbody>\n",
       "    <tr>\n",
       "      <th>0</th>\n",
       "      <td>Nmae</td>\n",
       "      <td>Rating</td>\n",
       "      <td>Price</td>\n",
       "    </tr>\n",
       "    <tr>\n",
       "      <th>1</th>\n",
       "      <td>Acer Aspire 5 Core i5 11th Gen</td>\n",
       "      <td>NA</td>\n",
       "      <td>₹50,990</td>\n",
       "    </tr>\n",
       "    <tr>\n",
       "      <th>2</th>\n",
       "      <td>Acer Aspire 7 Ryzen 5 Hexa Core 5500U</td>\n",
       "      <td>NA</td>\n",
       "      <td>₹54,990</td>\n",
       "    </tr>\n",
       "    <tr>\n",
       "      <th>3</th>\n",
       "      <td>HP 15s Celeron Dual Core</td>\n",
       "      <td>4.1</td>\n",
       "      <td>₹23,990</td>\n",
       "    </tr>\n",
       "    <tr>\n",
       "      <th>4</th>\n",
       "      <td>Lenovo Ideapad Slim 3i Core i3 10th Gen</td>\n",
       "      <td>4.4</td>\n",
       "      <td>₹35,990</td>\n",
       "    </tr>\n",
       "    <tr>\n",
       "      <th>5</th>\n",
       "      <td>HP 14 Core i5 10th Gen</td>\n",
       "      <td>4.3</td>\n",
       "      <td>₹47,990</td>\n",
       "    </tr>\n",
       "    <tr>\n",
       "      <th>6</th>\n",
       "      <td>Dell Inspiron 3505 Ryzen 3 Dual Core 3250U</td>\n",
       "      <td>4.3</td>\n",
       "      <td>₹34,790</td>\n",
       "    </tr>\n",
       "    <tr>\n",
       "      <th>7</th>\n",
       "      <td>Asus VivoBook 14 Ryzen 5 Quad Core 3500U</td>\n",
       "      <td>4.4</td>\n",
       "      <td>₹43,990</td>\n",
       "    </tr>\n",
       "    <tr>\n",
       "      <th>8</th>\n",
       "      <td>Asus Core i3 10th Gen</td>\n",
       "      <td>4.3</td>\n",
       "      <td>₹36,990</td>\n",
       "    </tr>\n",
       "    <tr>\n",
       "      <th>9</th>\n",
       "      <td>MSI Modern 14 Ryzen 5 Hexa Core 4500U</td>\n",
       "      <td>4.6</td>\n",
       "      <td>₹51,990</td>\n",
       "    </tr>\n",
       "    <tr>\n",
       "      <th>10</th>\n",
       "      <td>Lenovo Ideapad S145 Core i3 10th Gen</td>\n",
       "      <td>4.3</td>\n",
       "      <td>₹32,990</td>\n",
       "    </tr>\n",
       "    <tr>\n",
       "      <th>11</th>\n",
       "      <td>Lenovo Ideapad Slim 3 Core i3 10th Gen</td>\n",
       "      <td>4.2</td>\n",
       "      <td>₹32,990</td>\n",
       "    </tr>\n",
       "    <tr>\n",
       "      <th>12</th>\n",
       "      <td>HP 15 Ryzen 3 Dual Core 3200U</td>\n",
       "      <td>4</td>\n",
       "      <td>₹31,490</td>\n",
       "    </tr>\n",
       "    <tr>\n",
       "      <th>13</th>\n",
       "      <td>HP 15s Ryzen 3 Dual Core 3250U</td>\n",
       "      <td>4.7</td>\n",
       "      <td>₹30,990</td>\n",
       "    </tr>\n",
       "    <tr>\n",
       "      <th>14</th>\n",
       "      <td>Acer One 14 Pentium Gold</td>\n",
       "      <td>4</td>\n",
       "      <td>₹23,990</td>\n",
       "    </tr>\n",
       "    <tr>\n",
       "      <th>15</th>\n",
       "      <td>Lenovo Ideapad 3 Ryzen 3 Dual Core 3250U</td>\n",
       "      <td>3.9</td>\n",
       "      <td>₹29,990</td>\n",
       "    </tr>\n",
       "    <tr>\n",
       "      <th>16</th>\n",
       "      <td>Lenovo Ideapad S340 Core i5 10th Gen</td>\n",
       "      <td>4.3</td>\n",
       "      <td>₹51,990</td>\n",
       "    </tr>\n",
       "    <tr>\n",
       "      <th>17</th>\n",
       "      <td>Lenovo Ideapad Gaming 3 Ryzen 5 Hexa Core 4600H</td>\n",
       "      <td>4.5</td>\n",
       "      <td>₹59,990</td>\n",
       "    </tr>\n",
       "    <tr>\n",
       "      <th>18</th>\n",
       "      <td>Lenovo Ideapad S145 APU Dual Core A6 A6</td>\n",
       "      <td>4</td>\n",
       "      <td>₹24,990</td>\n",
       "    </tr>\n",
       "    <tr>\n",
       "      <th>19</th>\n",
       "      <td>Dell Inspiron 3501 Core i5 11th Gen</td>\n",
       "      <td>4.8</td>\n",
       "      <td>₹62,990</td>\n",
       "    </tr>\n",
       "    <tr>\n",
       "      <th>20</th>\n",
       "      <td>LG Gram 17 Core i7 10th Gen</td>\n",
       "      <td>4.7</td>\n",
       "      <td>₹99,990</td>\n",
       "    </tr>\n",
       "    <tr>\n",
       "      <th>21</th>\n",
       "      <td>Dell Inspiron 3505 Athlon Dual Core 3150U</td>\n",
       "      <td>4.4</td>\n",
       "      <td>₹29,650</td>\n",
       "    </tr>\n",
       "    <tr>\n",
       "      <th>22</th>\n",
       "      <td>Acer Aspire 7 Core i5 9th Gen</td>\n",
       "      <td>4.4</td>\n",
       "      <td>₹54,990</td>\n",
       "    </tr>\n",
       "    <tr>\n",
       "      <th>23</th>\n",
       "      <td>Lenovo Ideapad 3 Athlon Dual Core 3050U</td>\n",
       "      <td>4</td>\n",
       "      <td>₹25,990</td>\n",
       "    </tr>\n",
       "    <tr>\n",
       "      <th>24</th>\n",
       "      <td>Dell G3 Core i7 10th Gen</td>\n",
       "      <td>4.3</td>\n",
       "      <td>₹88,990</td>\n",
       "    </tr>\n",
       "    <tr>\n",
       "      <th>25</th>\n",
       "      <td>Acer Aspire 5 Core i5 11th Gen</td>\n",
       "      <td>NA</td>\n",
       "      <td>₹50,990</td>\n",
       "    </tr>\n",
       "    <tr>\n",
       "      <th>26</th>\n",
       "      <td>Acer Aspire 7 Ryzen 5 Hexa Core 5500U</td>\n",
       "      <td>NA</td>\n",
       "      <td>₹54,990</td>\n",
       "    </tr>\n",
       "    <tr>\n",
       "      <th>27</th>\n",
       "      <td>HP 15s Celeron Dual Core</td>\n",
       "      <td>4.1</td>\n",
       "      <td>₹23,990</td>\n",
       "    </tr>\n",
       "    <tr>\n",
       "      <th>28</th>\n",
       "      <td>Lenovo Ideapad Slim 3i Core i3 10th Gen</td>\n",
       "      <td>4.4</td>\n",
       "      <td>₹35,990</td>\n",
       "    </tr>\n",
       "    <tr>\n",
       "      <th>29</th>\n",
       "      <td>HP 14 Core i5 10th Gen</td>\n",
       "      <td>4.3</td>\n",
       "      <td>₹47,990</td>\n",
       "    </tr>\n",
       "    <tr>\n",
       "      <th>30</th>\n",
       "      <td>Dell Inspiron 3505 Ryzen 3 Dual Core 3250U</td>\n",
       "      <td>4.3</td>\n",
       "      <td>₹34,790</td>\n",
       "    </tr>\n",
       "    <tr>\n",
       "      <th>31</th>\n",
       "      <td>Asus VivoBook 14 Ryzen 5 Quad Core 3500U</td>\n",
       "      <td>4.4</td>\n",
       "      <td>₹43,990</td>\n",
       "    </tr>\n",
       "    <tr>\n",
       "      <th>32</th>\n",
       "      <td>Asus Core i3 10th Gen</td>\n",
       "      <td>4.3</td>\n",
       "      <td>₹36,990</td>\n",
       "    </tr>\n",
       "    <tr>\n",
       "      <th>33</th>\n",
       "      <td>MSI Modern 14 Ryzen 5 Hexa Core 4500U</td>\n",
       "      <td>4.6</td>\n",
       "      <td>₹51,990</td>\n",
       "    </tr>\n",
       "    <tr>\n",
       "      <th>34</th>\n",
       "      <td>Lenovo Ideapad S145 Core i3 10th Gen</td>\n",
       "      <td>4.3</td>\n",
       "      <td>₹32,990</td>\n",
       "    </tr>\n",
       "    <tr>\n",
       "      <th>35</th>\n",
       "      <td>Lenovo Ideapad Slim 3 Core i3 10th Gen</td>\n",
       "      <td>4.2</td>\n",
       "      <td>₹32,990</td>\n",
       "    </tr>\n",
       "    <tr>\n",
       "      <th>36</th>\n",
       "      <td>HP 15 Ryzen 3 Dual Core 3200U</td>\n",
       "      <td>4</td>\n",
       "      <td>₹31,490</td>\n",
       "    </tr>\n",
       "    <tr>\n",
       "      <th>37</th>\n",
       "      <td>HP 15s Ryzen 3 Dual Core 3250U</td>\n",
       "      <td>4.7</td>\n",
       "      <td>₹30,990</td>\n",
       "    </tr>\n",
       "    <tr>\n",
       "      <th>38</th>\n",
       "      <td>Acer One 14 Pentium Gold</td>\n",
       "      <td>4</td>\n",
       "      <td>₹23,990</td>\n",
       "    </tr>\n",
       "    <tr>\n",
       "      <th>39</th>\n",
       "      <td>Lenovo Ideapad 3 Ryzen 3 Dual Core 3250U</td>\n",
       "      <td>3.9</td>\n",
       "      <td>₹29,990</td>\n",
       "    </tr>\n",
       "    <tr>\n",
       "      <th>40</th>\n",
       "      <td>Lenovo Ideapad S340 Core i5 10th Gen</td>\n",
       "      <td>4.3</td>\n",
       "      <td>₹51,990</td>\n",
       "    </tr>\n",
       "    <tr>\n",
       "      <th>41</th>\n",
       "      <td>Lenovo Ideapad Gaming 3 Ryzen 5 Hexa Core 4600H</td>\n",
       "      <td>4.5</td>\n",
       "      <td>₹59,990</td>\n",
       "    </tr>\n",
       "    <tr>\n",
       "      <th>42</th>\n",
       "      <td>Lenovo Ideapad S145 APU Dual Core A6 A6</td>\n",
       "      <td>4</td>\n",
       "      <td>₹24,990</td>\n",
       "    </tr>\n",
       "    <tr>\n",
       "      <th>43</th>\n",
       "      <td>Dell Inspiron 3501 Core i5 11th Gen</td>\n",
       "      <td>4.8</td>\n",
       "      <td>₹62,990</td>\n",
       "    </tr>\n",
       "    <tr>\n",
       "      <th>44</th>\n",
       "      <td>LG Gram 17 Core i7 10th Gen</td>\n",
       "      <td>4.7</td>\n",
       "      <td>₹99,990</td>\n",
       "    </tr>\n",
       "    <tr>\n",
       "      <th>45</th>\n",
       "      <td>Dell Inspiron 3505 Athlon Dual Core 3150U</td>\n",
       "      <td>4.4</td>\n",
       "      <td>₹29,650</td>\n",
       "    </tr>\n",
       "    <tr>\n",
       "      <th>46</th>\n",
       "      <td>Acer Aspire 7 Core i5 9th Gen</td>\n",
       "      <td>4.4</td>\n",
       "      <td>₹54,990</td>\n",
       "    </tr>\n",
       "    <tr>\n",
       "      <th>47</th>\n",
       "      <td>Lenovo Ideapad 3 Athlon Dual Core 3050U</td>\n",
       "      <td>4</td>\n",
       "      <td>₹25,990</td>\n",
       "    </tr>\n",
       "    <tr>\n",
       "      <th>48</th>\n",
       "      <td>Dell G3 Core i7 10th Gen</td>\n",
       "      <td>4.3</td>\n",
       "      <td>₹88,990</td>\n",
       "    </tr>\n",
       "  </tbody>\n",
       "</table>\n",
       "</div>"
      ],
      "text/plain": [
       "                                                Name  Rating    Price\n",
       "0                                               Nmae  Rating    Price\n",
       "1                    Acer Aspire 5 Core i5 11th Gen       NA  ₹50,990\n",
       "2             Acer Aspire 7 Ryzen 5 Hexa Core 5500U       NA  ₹54,990\n",
       "3                          HP 15s Celeron Dual Core      4.1  ₹23,990\n",
       "4           Lenovo Ideapad Slim 3i Core i3 10th Gen      4.4  ₹35,990\n",
       "5                            HP 14 Core i5 10th Gen      4.3  ₹47,990\n",
       "6        Dell Inspiron 3505 Ryzen 3 Dual Core 3250U      4.3  ₹34,790\n",
       "7          Asus VivoBook 14 Ryzen 5 Quad Core 3500U      4.4  ₹43,990\n",
       "8                             Asus Core i3 10th Gen      4.3  ₹36,990\n",
       "9             MSI Modern 14 Ryzen 5 Hexa Core 4500U      4.6  ₹51,990\n",
       "10             Lenovo Ideapad S145 Core i3 10th Gen      4.3  ₹32,990\n",
       "11           Lenovo Ideapad Slim 3 Core i3 10th Gen      4.2  ₹32,990\n",
       "12                    HP 15 Ryzen 3 Dual Core 3200U        4  ₹31,490\n",
       "13                   HP 15s Ryzen 3 Dual Core 3250U      4.7  ₹30,990\n",
       "14                         Acer One 14 Pentium Gold        4  ₹23,990\n",
       "15         Lenovo Ideapad 3 Ryzen 3 Dual Core 3250U      3.9  ₹29,990\n",
       "16             Lenovo Ideapad S340 Core i5 10th Gen      4.3  ₹51,990\n",
       "17  Lenovo Ideapad Gaming 3 Ryzen 5 Hexa Core 4600H      4.5  ₹59,990\n",
       "18           Lenovo Ideapad S145 APU Dual Core A6 A6       4  ₹24,990\n",
       "19              Dell Inspiron 3501 Core i5 11th Gen      4.8  ₹62,990\n",
       "20                      LG Gram 17 Core i7 10th Gen      4.7  ₹99,990\n",
       "21        Dell Inspiron 3505 Athlon Dual Core 3150U      4.4  ₹29,650\n",
       "22                    Acer Aspire 7 Core i5 9th Gen      4.4  ₹54,990\n",
       "23          Lenovo Ideapad 3 Athlon Dual Core 3050U        4  ₹25,990\n",
       "24                         Dell G3 Core i7 10th Gen      4.3  ₹88,990\n",
       "25                   Acer Aspire 5 Core i5 11th Gen       NA  ₹50,990\n",
       "26            Acer Aspire 7 Ryzen 5 Hexa Core 5500U       NA  ₹54,990\n",
       "27                         HP 15s Celeron Dual Core      4.1  ₹23,990\n",
       "28          Lenovo Ideapad Slim 3i Core i3 10th Gen      4.4  ₹35,990\n",
       "29                           HP 14 Core i5 10th Gen      4.3  ₹47,990\n",
       "30       Dell Inspiron 3505 Ryzen 3 Dual Core 3250U      4.3  ₹34,790\n",
       "31         Asus VivoBook 14 Ryzen 5 Quad Core 3500U      4.4  ₹43,990\n",
       "32                            Asus Core i3 10th Gen      4.3  ₹36,990\n",
       "33            MSI Modern 14 Ryzen 5 Hexa Core 4500U      4.6  ₹51,990\n",
       "34             Lenovo Ideapad S145 Core i3 10th Gen      4.3  ₹32,990\n",
       "35           Lenovo Ideapad Slim 3 Core i3 10th Gen      4.2  ₹32,990\n",
       "36                    HP 15 Ryzen 3 Dual Core 3200U        4  ₹31,490\n",
       "37                   HP 15s Ryzen 3 Dual Core 3250U      4.7  ₹30,990\n",
       "38                         Acer One 14 Pentium Gold        4  ₹23,990\n",
       "39         Lenovo Ideapad 3 Ryzen 3 Dual Core 3250U      3.9  ₹29,990\n",
       "40             Lenovo Ideapad S340 Core i5 10th Gen      4.3  ₹51,990\n",
       "41  Lenovo Ideapad Gaming 3 Ryzen 5 Hexa Core 4600H      4.5  ₹59,990\n",
       "42           Lenovo Ideapad S145 APU Dual Core A6 A6       4  ₹24,990\n",
       "43              Dell Inspiron 3501 Core i5 11th Gen      4.8  ₹62,990\n",
       "44                      LG Gram 17 Core i7 10th Gen      4.7  ₹99,990\n",
       "45        Dell Inspiron 3505 Athlon Dual Core 3150U      4.4  ₹29,650\n",
       "46                    Acer Aspire 7 Core i5 9th Gen      4.4  ₹54,990\n",
       "47          Lenovo Ideapad 3 Athlon Dual Core 3050U        4  ₹25,990\n",
       "48                         Dell G3 Core i7 10th Gen      4.3  ₹88,990"
      ]
     },
     "execution_count": 69,
     "metadata": {},
     "output_type": "execute_result"
    }
   ],
   "source": [
    "df = pd.DataFrame(Lap,columns =['Name','Rating','Price'])\n",
    "df.drop(0,axis=0)\n",
    "df"
   ]
  },
  {
   "cell_type": "code",
   "execution_count": null,
   "metadata": {},
   "outputs": [],
   "source": []
  }
 ],
 "metadata": {
  "kernelspec": {
   "display_name": "Python 3",
   "language": "python",
   "name": "python3"
  },
  "language_info": {
   "codemirror_mode": {
    "name": "ipython",
    "version": 3
   },
   "file_extension": ".py",
   "mimetype": "text/x-python",
   "name": "python",
   "nbconvert_exporter": "python",
   "pygments_lexer": "ipython3",
   "version": "3.8.5"
  }
 },
 "nbformat": 4,
 "nbformat_minor": 4
}
