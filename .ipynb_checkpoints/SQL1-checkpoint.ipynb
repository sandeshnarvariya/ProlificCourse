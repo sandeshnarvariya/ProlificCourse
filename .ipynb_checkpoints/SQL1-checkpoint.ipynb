{
 "cells": [
  {
   "cell_type": "markdown",
   "id": "bfb262ab",
   "metadata": {},
   "source": [
    "## 1.\tIntroduction to SQL\n",
    "\n",
    "### SQL stands for Structural Query Language, and SQL is used for storing, manipulation, and retrieving data from the database.\n",
    "\n",
    "## History of SQL :\n",
    "### The SQL(Structural Query language) was first created in the 1970s by IBM researchers Raymond Boyce and Donald Chamberlin.  "
   ]
  },
  {
   "cell_type": "markdown",
   "id": "9f289799",
   "metadata": {},
   "source": [
    "## What is Database?\n",
    "\n",
    "### A database is a well-ordered collection of data. A database is an electronic system that permits data to be easily manipulated, accessed,and updated, or an organization uses a database as a method of managing, storing, and retrieving information. Modern databases are handled using a database management system (DBMS)."
   ]
  },
  {
   "cell_type": "markdown",
   "id": "695994a3",
   "metadata": {},
   "source": [
    "## Relational Database\n",
    "\n",
    "### Relational Databases are used to store data in tables(rows and columns).Some commonrelational database management systems that use SQL are Oracle, Sybase, Microsoft SQL Server, Access, Ingres, etc."
   ]
  },
  {
   "cell_type": "markdown",
   "id": "6baa7bc7",
   "metadata": {},
   "source": [
    "## SQL and Relational Databases .\n",
    "\n",
    "### A Relational Database contains tables that store the data that is related in some way. SQL is the query language that allows retrieval and manipulation of table data in the relational database\n",
    "\n"
   ]
  },
  {
   "cell_type": "markdown",
   "id": "b9754044",
   "metadata": {},
   "source": [
    "## 3.\tSQL QUERY\n",
    "\n",
    "### A database most often contains tables. Some name identifies each table. The table includes records(rows) with Data. To access those records, we need SQL Syntax. Most of the action you need to perform Database by using the SQL Statement.\n",
    "\n",
    "### Note: SQL keywords are not case-sensitive (e.g., select as SELECT)\n",
    "* o\tSQL syntax is somewhat like simple English sentences.\n",
    "* o\tKeywords include SELECT, UPDATE, WHERE, ORDER BY ETC.\n",
    "### Four fundamental operations that can apply to any databases are:\n",
    "* 1.\tRead the Data -- SELECT\n",
    "* 2.\tInsert the new Data -- INSERT\n",
    "* 3.\tUpdate existing Data -- UPDATE\n",
    "* 4.\tRemove Data –DELETE\n",
    "#### These operations are referred to as the CRUD (Create, Read, Update, Delete)."
   ]
  },
  {
   "cell_type": "code",
   "execution_count": null,
   "id": "f4deeeab",
   "metadata": {},
   "outputs": [],
   "source": [
    "!pip install mysql-connector-python"
   ]
  },
  {
   "cell_type": "code",
   "execution_count": null,
   "id": "19c87bc6",
   "metadata": {},
   "outputs": [],
   "source": []
  },
  {
   "cell_type": "code",
   "execution_count": null,
   "id": "541346e4",
   "metadata": {},
   "outputs": [],
   "source": [
    "import mysql.connector as connection"
   ]
  },
  {
   "cell_type": "code",
   "execution_count": null,
   "id": "3050ad9c",
   "metadata": {},
   "outputs": [],
   "source": [
    "connection.connect(host=\"localhost\",user=\"root\", passwd=\"amuse0172\",use_pure=True)\n",
    "# we have to put host ,user name and password correctly ."
   ]
  },
  {
   "cell_type": "code",
   "execution_count": null,
   "id": "869d3a49",
   "metadata": {},
   "outputs": [],
   "source": []
  },
  {
   "cell_type": "code",
   "execution_count": null,
   "id": "211f9df8",
   "metadata": {},
   "outputs": [],
   "source": [
    "connection.connect(host=\"localhosttttt\",user=\"root\", passwd=\"mysql\",use_pure=True)"
   ]
  },
  {
   "cell_type": "code",
   "execution_count": null,
   "id": "7c6ec3c9",
   "metadata": {},
   "outputs": [],
   "source": [
    "connection.connect(host=\"localhost\",user=\"ro000ot\", passwd=\"mysql\",use_pure=True)"
   ]
  },
  {
   "cell_type": "code",
   "execution_count": null,
   "id": "bbae80bf",
   "metadata": {},
   "outputs": [],
   "source": [
    "connection.connect(host=\"localhost\",user=\"root\", passwd=\"mysql\",use_pure=True)"
   ]
  },
  {
   "cell_type": "markdown",
   "id": "343fd1f0",
   "metadata": {},
   "source": [
    "####  Note : Database never have data but tables contains data ."
   ]
  },
  {
   "cell_type": "code",
   "execution_count": null,
   "id": "c120295a",
   "metadata": {},
   "outputs": [],
   "source": [
    "conn = connection.connect(host=\"localhost\",user=\"root\", passwd=\"amuse0172\",use_pure=True)\n",
    "# here we have achieved connection btwen jupyter and MYSQL"
   ]
  },
  {
   "cell_type": "code",
   "execution_count": null,
   "id": "e6d70f06",
   "metadata": {},
   "outputs": [],
   "source": [
    "cur = conn.cursor() # pOINTER to iterate"
   ]
  },
  {
   "cell_type": "code",
   "execution_count": null,
   "id": "ced311e2",
   "metadata": {},
   "outputs": [],
   "source": [
    "cur.execute(\"show databases\")"
   ]
  },
  {
   "cell_type": "code",
   "execution_count": null,
   "id": "7773ac36",
   "metadata": {},
   "outputs": [],
   "source": [
    "# Lets check type of above line\n",
    "#print(cur.execute(\"show databases\"))"
   ]
  },
  {
   "cell_type": "markdown",
   "id": "93ce2719",
   "metadata": {},
   "source": [
    "#### Now its time to fetch the responce of the query  : . . . ."
   ]
  },
  {
   "cell_type": "code",
   "execution_count": null,
   "id": "e0f79518",
   "metadata": {},
   "outputs": [],
   "source": [
    "cur.fetchall()"
   ]
  },
  {
   "cell_type": "code",
   "execution_count": null,
   "id": "e51a4a2c",
   "metadata": {},
   "outputs": [],
   "source": [
    "#cur.fetchall()\n",
    "res = cur.fetchall()\n",
    "for i in res:\n",
    "    print(i)"
   ]
  },
  {
   "cell_type": "code",
   "execution_count": null,
   "id": "7c5033f6",
   "metadata": {},
   "outputs": [],
   "source": [
    "res[1][0]"
   ]
  },
  {
   "cell_type": "code",
   "execution_count": null,
   "id": "b5857810",
   "metadata": {},
   "outputs": [],
   "source": [
    "for i in range(len(res)):\n",
    "    print(f\"{i+1}:{res[i][0]} \")"
   ]
  },
  {
   "cell_type": "markdown",
   "id": "69907b0b",
   "metadata": {},
   "source": [
    "#### Check in MYSQL  also ."
   ]
  },
  {
   "cell_type": "code",
   "execution_count": null,
   "id": "022c236e",
   "metadata": {},
   "outputs": [],
   "source": [
    "import mysql.connector as connection\n",
    "\n",
    "try:\n",
    "    mydb = connection.connect(host=\"localhost\",user=\"root\", passwd=\"amuse0172\",use_pure=True)\n",
    "    # check if the connection is established\n",
    "    \n",
    "    # First Go to mysql workbench and also type show database\n",
    "    query = \"SHOW DATABASES\"\n",
    "    \n",
    "\n",
    "    cursor = mydb.cursor() #create a cursor to execute queries \n",
    "    # cursor means pointer bcoz in DB every stored thing contains some index\n",
    "    cursor.execute(query)\n",
    "    #print(cursor.fetchall())\n",
    "\n",
    "except Exception as e:\n",
    "    mydb.close()\n",
    "    print(str(e))"
   ]
  },
  {
   "cell_type": "code",
   "execution_count": 1,
   "id": "f9d94cc5",
   "metadata": {},
   "outputs": [],
   "source": [
    "import mysql.connector as connection"
   ]
  },
  {
   "cell_type": "code",
   "execution_count": 2,
   "id": "82fb404c",
   "metadata": {},
   "outputs": [],
   "source": [
    "conn = connection.connect(host=\"localhost\", user=\"root\", passwd=\"amuse0172\",use_pure=True)  "
   ]
  },
  {
   "cell_type": "code",
   "execution_count": 3,
   "id": "d64e2f26",
   "metadata": {},
   "outputs": [
    {
     "name": "stdout",
     "output_type": "stream",
     "text": [
      "True\n"
     ]
    }
   ],
   "source": [
    "print(conn.is_connected())"
   ]
  },
  {
   "cell_type": "code",
   "execution_count": 4,
   "id": "6e6f0819",
   "metadata": {},
   "outputs": [],
   "source": [
    "cur = conn.cursor()"
   ]
  },
  {
   "cell_type": "code",
   "execution_count": 5,
   "id": "404a8ea3",
   "metadata": {},
   "outputs": [],
   "source": [
    "cur.execute(\"Create database Prolific_Data_Sci_3;\")"
   ]
  },
  {
   "cell_type": "code",
   "execution_count": 6,
   "id": "d20a07f1",
   "metadata": {},
   "outputs": [],
   "source": [
    "cur.execute(\"show databases\")"
   ]
  },
  {
   "cell_type": "code",
   "execution_count": null,
   "id": "824eb89f",
   "metadata": {},
   "outputs": [],
   "source": [
    "cur.fetchall()"
   ]
  },
  {
   "cell_type": "code",
   "execution_count": 7,
   "id": "45304acb",
   "metadata": {},
   "outputs": [
    {
     "name": "stdout",
     "output_type": "stream",
     "text": [
      "('db1',)\n",
      "('information_schema',)\n",
      "('mysql',)\n",
      "('performance_schema',)\n",
      "('prolific_data_sci',)\n",
      "('prolific_data_sci_2',)\n",
      "('prolific_data_sci_3',)\n",
      "('sakila',)\n",
      "('student',)\n",
      "('sys',)\n",
      "('world',)\n"
     ]
    }
   ],
   "source": [
    "res = cur.fetchall()\n",
    "for i in res:\n",
    "    print(i)"
   ]
  },
  {
   "cell_type": "code",
   "execution_count": null,
   "id": "4f04e0de",
   "metadata": {},
   "outputs": [],
   "source": [
    "cur.fetchall()"
   ]
  },
  {
   "cell_type": "code",
   "execution_count": null,
   "id": "bd91821b",
   "metadata": {},
   "outputs": [],
   "source": [
    "import mysql.connector as connection\n",
    "\n",
    "try:\n",
    "    mydb = connection.connect(host=\"localhost\", user=\"root\", passwd=\"mysql\",use_pure=True)\n",
    "    # check if the connection is established\n",
    "    print(mydb.is_connected())\n",
    "\n",
    "    query = \"Create database Student;\"\n",
    "    cursor = mydb.cursor() #create a cursor to execute queries\n",
    "    cursor.execute(query)\n",
    "    print(\"Database Created!!\")\n",
    "    mydb.close()\n",
    "except Exception as e:\n",
    "    mydb.close()\n",
    "    print(str(e))"
   ]
  }
 ],
 "metadata": {
  "kernelspec": {
   "display_name": "Python 3",
   "language": "python",
   "name": "python3"
  },
  "language_info": {
   "codemirror_mode": {
    "name": "ipython",
    "version": 3
   },
   "file_extension": ".py",
   "mimetype": "text/x-python",
   "name": "python",
   "nbconvert_exporter": "python",
   "pygments_lexer": "ipython3",
   "version": "3.8.5"
  }
 },
 "nbformat": 4,
 "nbformat_minor": 5
}
