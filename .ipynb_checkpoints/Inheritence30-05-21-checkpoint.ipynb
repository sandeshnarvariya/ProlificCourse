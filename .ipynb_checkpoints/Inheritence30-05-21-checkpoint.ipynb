{
 "cells": [
  {
   "cell_type": "markdown",
   "id": "fb1758f0",
   "metadata": {},
   "source": [
    "# Python Inheritance :\n",
    "###  Inheritance allows us to define a class that inherits all the methods and properties from another class.\n",
    "\n",
    "###  Parent class is the class being inherited from, also called base class.\n",
    "\n",
    "### Child class is the class that inherits from another class, also called derived class."
   ]
  },
  {
   "cell_type": "code",
   "execution_count": 1,
   "id": "d3a5678c",
   "metadata": {},
   "outputs": [],
   "source": [
    "# Base or Parent Class\n",
    "class Animal:\n",
    "    def eat(self):\n",
    "        print(\"It eats insects and grass.\")\n",
    "    def sleep(self):\n",
    "        print(\"It sleeps in the night.\")\n",
    "        \n",
    "# Child class\n",
    "class Bird(Animal):\n",
    "    def fly(self):\n",
    "        print(\"It flies in the sky.\")\n",
    "    def sing(self):\n",
    "        print(\"It sings a song.\")\n"
   ]
  },
  {
   "cell_type": "code",
   "execution_count": 2,
   "id": "9470fcc5",
   "metadata": {},
   "outputs": [],
   "source": [
    "Sparrow = Bird()# Making Instance of class ."
   ]
  },
  {
   "cell_type": "code",
   "execution_count": 3,
   "id": "ece3a0e7",
   "metadata": {},
   "outputs": [
    {
     "name": "stdout",
     "output_type": "stream",
     "text": [
      "It flies in the sky.\n"
     ]
    }
   ],
   "source": [
    "Sparrow.fly()"
   ]
  },
  {
   "cell_type": "code",
   "execution_count": 4,
   "id": "1e908262",
   "metadata": {},
   "outputs": [
    {
     "name": "stdout",
     "output_type": "stream",
     "text": [
      "It sings a song.\n"
     ]
    }
   ],
   "source": [
    "Sparrow.sing()"
   ]
  },
  {
   "cell_type": "code",
   "execution_count": 5,
   "id": "98070fe9",
   "metadata": {},
   "outputs": [
    {
     "name": "stdout",
     "output_type": "stream",
     "text": [
      "It eats insects and grass.\n"
     ]
    }
   ],
   "source": [
    "Sparrow.eat()"
   ]
  },
  {
   "cell_type": "code",
   "execution_count": 6,
   "id": "bc198969",
   "metadata": {},
   "outputs": [
    {
     "name": "stdout",
     "output_type": "stream",
     "text": [
      "It sleeps in the night.\n"
     ]
    }
   ],
   "source": [
    "Sparrow.sleep()"
   ]
  },
  {
   "cell_type": "code",
   "execution_count": 7,
   "id": "97ef7096",
   "metadata": {},
   "outputs": [
    {
     "name": "stdout",
     "output_type": "stream",
     "text": [
      "It eats insects and grass.\n",
      "It sleeps in the night.\n",
      "It flies in the sky.\n",
      "It sings a song.\n"
     ]
    }
   ],
   "source": [
    "Koyal = Bird()\n",
    "\n",
    "Koyal.eat()\n",
    "Koyal.sleep()\n",
    "Koyal.fly()\n",
    "Koyal.sing()"
   ]
  },
  {
   "cell_type": "markdown",
   "id": "5d00147c",
   "metadata": {},
   "source": [
    "# Class with Constructor"
   ]
  },
  {
   "cell_type": "code",
   "execution_count": 8,
   "id": "be077e16",
   "metadata": {},
   "outputs": [],
   "source": [
    "class A:\n",
    "      def __init__(self, n = 'Rahul'):\n",
    "              self.n = n\n",
    "class B(A):\n",
    "      def __init__(self, roll):\n",
    "              self.roll = roll\n",
    "\n",
    "                "
   ]
  },
  {
   "cell_type": "code",
   "execution_count": 9,
   "id": "94833423",
   "metadata": {},
   "outputs": [
    {
     "data": {
      "text/plain": [
       "23"
      ]
     },
     "execution_count": 9,
     "metadata": {},
     "output_type": "execute_result"
    }
   ],
   "source": [
    "object = B(23)\n",
    "object.roll"
   ]
  },
  {
   "cell_type": "code",
   "execution_count": 10,
   "id": "7896ff78",
   "metadata": {
    "scrolled": true
   },
   "outputs": [
    {
     "ename": "AttributeError",
     "evalue": "'B' object has no attribute 'n'",
     "output_type": "error",
     "traceback": [
      "\u001b[1;31m---------------------------------------------------------------------------\u001b[0m",
      "\u001b[1;31mAttributeError\u001b[0m                            Traceback (most recent call last)",
      "\u001b[1;32m<ipython-input-10-fc405b2cc34d>\u001b[0m in \u001b[0;36m<module>\u001b[1;34m\u001b[0m\n\u001b[1;32m----> 1\u001b[1;33m \u001b[0mobject\u001b[0m\u001b[1;33m.\u001b[0m\u001b[0mn\u001b[0m\u001b[1;33m\u001b[0m\u001b[1;33m\u001b[0m\u001b[0m\n\u001b[0m",
      "\u001b[1;31mAttributeError\u001b[0m: 'B' object has no attribute 'n'"
     ]
    }
   ],
   "source": [
    "object.n"
   ]
  },
  {
   "cell_type": "raw",
   "id": "fe11e8ce",
   "metadata": {},
   "source": [
    "Because we have not invoked constructor of Parent(or A) class"
   ]
  },
  {
   "cell_type": "code",
   "execution_count": 11,
   "id": "956efe6e",
   "metadata": {},
   "outputs": [],
   "source": [
    "class A:\n",
    "      def __init__(self, n):\n",
    "              self.n = n\n",
    "class B(A):\n",
    "      def __init__(self,roll,n):\n",
    "            # invoking the __init__ of the parent class \n",
    "            A.__init__(self,n)\n",
    "            self.roll = roll"
   ]
  },
  {
   "cell_type": "code",
   "execution_count": 12,
   "id": "f41cb553",
   "metadata": {},
   "outputs": [],
   "source": [
    "o = B(1223,'yyy')"
   ]
  },
  {
   "cell_type": "code",
   "execution_count": 13,
   "id": "ea3975ef",
   "metadata": {},
   "outputs": [
    {
     "data": {
      "text/plain": [
       "'yyy'"
      ]
     },
     "execution_count": 13,
     "metadata": {},
     "output_type": "execute_result"
    }
   ],
   "source": [
    "o.n"
   ]
  },
  {
   "cell_type": "code",
   "execution_count": 14,
   "id": "86162e45",
   "metadata": {},
   "outputs": [],
   "source": [
    "class A:\n",
    "      def __init__(self, n = 'Rahul'):\n",
    "              self.n = n\n",
    "class B(A):\n",
    "      def __init__(self, roll):\n",
    "            # invoking the __init__ of the parent class \n",
    "            A.__init__(self,n = 'Rahul')\n",
    "            self.roll = roll"
   ]
  },
  {
   "cell_type": "code",
   "execution_count": 15,
   "id": "32558b97",
   "metadata": {},
   "outputs": [
    {
     "data": {
      "text/plain": [
       "23"
      ]
     },
     "execution_count": 15,
     "metadata": {},
     "output_type": "execute_result"
    }
   ],
   "source": [
    "object = B(23)\n",
    "object.roll"
   ]
  },
  {
   "cell_type": "code",
   "execution_count": 16,
   "id": "c7b527f4",
   "metadata": {},
   "outputs": [
    {
     "data": {
      "text/plain": [
       "'Rahul'"
      ]
     },
     "execution_count": 16,
     "metadata": {},
     "output_type": "execute_result"
    }
   ],
   "source": [
    "object.n"
   ]
  },
  {
   "cell_type": "code",
   "execution_count": 17,
   "id": "0c402d29",
   "metadata": {},
   "outputs": [],
   "source": [
    "class Person:    \n",
    "  \n",
    "        # __init__ is known as the constructor . . .          \n",
    "        def __init__(self, name, idnumber):   \n",
    "                self.name = name\n",
    "                self.idnumber = idnumber\n",
    "        def display(self):\n",
    "                print(self.name)\n",
    "                print(self.idnumber)\n",
    "                \n",
    "# child class\n",
    "class Employee( Person ):           \n",
    "        def __init__(self, name, idnumber, salary, post):\n",
    "                self.salary = salary\n",
    "                self.post = post\n",
    "  \n",
    "                # invoking the __init__ of the parent class \n",
    "                Person.__init__(self, name, idnumber) \n",
    "  \n"
   ]
  },
  {
   "cell_type": "code",
   "execution_count": 18,
   "id": "2f7649a0",
   "metadata": {},
   "outputs": [
    {
     "name": "stdout",
     "output_type": "stream",
     "text": [
      "Rahul\n",
      "12\n"
     ]
    }
   ],
   "source": [
    "# creation of an object variable or an instance\n",
    "a = Employee('Rahul', 12, 200000, \"Intern\")    \n",
    "  \n",
    "# calling a function of the class Person using its instance\n",
    "a.display() "
   ]
  },
  {
   "cell_type": "code",
   "execution_count": 19,
   "id": "8fa25dda",
   "metadata": {},
   "outputs": [
    {
     "data": {
      "text/plain": [
       "200000"
      ]
     },
     "execution_count": 19,
     "metadata": {},
     "output_type": "execute_result"
    }
   ],
   "source": [
    "a.salary"
   ]
  },
  {
   "cell_type": "code",
   "execution_count": 20,
   "id": "4921ea64",
   "metadata": {},
   "outputs": [
    {
     "data": {
      "text/plain": [
       "'Intern'"
      ]
     },
     "execution_count": 20,
     "metadata": {},
     "output_type": "execute_result"
    }
   ],
   "source": [
    "a.post"
   ]
  },
  {
   "cell_type": "markdown",
   "id": "fca22394",
   "metadata": {},
   "source": [
    "## Use of super( keyword)\n",
    "#### By using the super() function, you do not have to use the name of the parent element, it will automatically inherit the methods and properties from its parent."
   ]
  },
  {
   "cell_type": "code",
   "execution_count": 21,
   "id": "d709ab2f",
   "metadata": {},
   "outputs": [],
   "source": [
    "# Car class\n",
    "class Car():\n",
    "    def __init__(self,name,model,year):\n",
    "        self.n = name\n",
    "        self.m = model\n",
    "        self.y = year\n",
    "        self.mil = 0 # we want to change it further\n",
    "    def desc(self):\n",
    "        info = print(f\"My car name is {self.n}\\nand model name is {self.m}\\nmade in {self.y}\")\n",
    "        return info\n",
    "\n",
    "    def up_milage(self,m):\n",
    "        self.mil=m\n",
    "        return self.mil\n",
    "# Child class\n",
    "\n",
    "class Electric_car(Car):\n",
    "    def __init__(self,battery_backup,*args):\n",
    "        super().__init__(*args) # This will initilize name ,model ,year of parent class\n",
    "        self.battery_backup = battery_backup\n",
    "         \n",
    "    def battery_backup(self):\n",
    "        return self.battery_backup \n"
   ]
  },
  {
   "cell_type": "code",
   "execution_count": 22,
   "id": "fdf0cca3",
   "metadata": {},
   "outputs": [
    {
     "name": "stdout",
     "output_type": "stream",
     "text": [
      "My car name is Tesla\n",
      "and model name is 3211\n",
      "made in 2020\n"
     ]
    }
   ],
   "source": [
    "# lets call it\n",
    "my_tesla = Electric_car('300km','Tesla',3211,2020)\n",
    "my_tesla.desc()"
   ]
  },
  {
   "cell_type": "code",
   "execution_count": 23,
   "id": "1e12fd32",
   "metadata": {},
   "outputs": [
    {
     "data": {
      "text/plain": [
       "'300km'"
      ]
     },
     "execution_count": 23,
     "metadata": {},
     "output_type": "execute_result"
    }
   ],
   "source": [
    "my_tesla.battery_backup"
   ]
  },
  {
   "cell_type": "code",
   "execution_count": 24,
   "id": "4462d291",
   "metadata": {
    "scrolled": true
   },
   "outputs": [
    {
     "data": {
      "text/plain": [
       "0"
      ]
     },
     "execution_count": 24,
     "metadata": {},
     "output_type": "execute_result"
    }
   ],
   "source": [
    "my_tesla.up_milage(0)"
   ]
  },
  {
   "cell_type": "markdown",
   "id": "69835dab",
   "metadata": {},
   "source": [
    "## Problem is we dont want  milege method in child .  "
   ]
  },
  {
   "cell_type": "markdown",
   "id": "57d9631b",
   "metadata": {},
   "source": [
    "## Overriding method of the parent class\n",
    "* In Python we can override any method from parent class that does not fit with what we are trying to model with .\n",
    "* To do this we define a method in the child class with same name as that method is defined in parent class ."
   ]
  },
  {
   "cell_type": "code",
   "execution_count": 25,
   "id": "73a20cfc",
   "metadata": {},
   "outputs": [],
   "source": [
    "# Car class\n",
    "class Car():\n",
    "    \n",
    "    def __init__(self,name,model,year):\n",
    "        self.n = name\n",
    "        self.m = model\n",
    "        self.y = year\n",
    "        self.mil = 0 # we want to change it further\n",
    "    def desc(self):\n",
    "        info = print(f\"My car name is {self.m}\\nand model name is {self.m}\\nmade in {self.y}\")\n",
    "        return info\n",
    "\n",
    "    def milage(self,m):\n",
    "        self.mil=m\n",
    "        return self.mil\n",
    "#child\n",
    "class Electric_car(Car):\n",
    "    \n",
    "    def __init__(self,battery_backup,*args):\n",
    "        super().__init__(*args) # This will initilize name ,model ,year of parent class\n",
    "        self.battery_backup = battery_backup\n",
    "         \n",
    "    def battery_backup(self):\n",
    "        return self.battery_backup \n",
    "    # creating same method name as parent class . .\n",
    "    def milage(self):\n",
    "        return \"Ye to hota hi nahi hai ☻\"\n"
   ]
  },
  {
   "cell_type": "code",
   "execution_count": 26,
   "id": "7018ff00",
   "metadata": {},
   "outputs": [
    {
     "name": "stdout",
     "output_type": "stream",
     "text": [
      "My car name is 3211\n",
      "and model name is 3211\n",
      "made in 2020\n",
      "None\n",
      "600km\n",
      "Ye to hota hi nahi hai ☻\n"
     ]
    }
   ],
   "source": [
    "# lets call it\n",
    "my_tesla = Electric_car('600km','Tesla',3211,2020)\n",
    "print(my_tesla.desc())\n",
    "print(my_tesla.battery_backup)\n",
    "print(my_tesla.milage())"
   ]
  },
  {
   "cell_type": "code",
   "execution_count": 27,
   "id": "d0cc39e6",
   "metadata": {},
   "outputs": [],
   "source": [
    "# Method \n",
    "class A:\n",
    "    def __init__(self,m):\n",
    "        self.m=m\n",
    "    def m(self):\n",
    "        return \"This is method not argument\""
   ]
  },
  {
   "cell_type": "code",
   "execution_count": 28,
   "id": "62409160",
   "metadata": {},
   "outputs": [],
   "source": [
    "o = A(454)"
   ]
  },
  {
   "cell_type": "code",
   "execution_count": 29,
   "id": "9fc896cc",
   "metadata": {},
   "outputs": [
    {
     "data": {
      "text/plain": [
       "454"
      ]
     },
     "execution_count": 29,
     "metadata": {},
     "output_type": "execute_result"
    }
   ],
   "source": [
    "#Variable \n",
    "o.m"
   ]
  },
  {
   "cell_type": "code",
   "execution_count": 30,
   "id": "0c0a3efe",
   "metadata": {},
   "outputs": [
    {
     "data": {
      "text/plain": [
       "454"
      ]
     },
     "execution_count": 30,
     "metadata": {},
     "output_type": "execute_result"
    }
   ],
   "source": [
    "# Method\n",
    "o.m"
   ]
  },
  {
   "cell_type": "markdown",
   "id": "09b7e1ae",
   "metadata": {},
   "source": [
    "##  Multiple Inheritence:\n",
    "* When a class is derived from more than one base class then it is called multiple Inheritence .\n",
    "* The derived class inherits all the features of base class .\n",
    "* Syntax: \n"
   ]
  },
  {
   "cell_type": "raw",
   "id": "0bb9035e",
   "metadata": {},
   "source": [
    "class B1:\n",
    "  body \n",
    "class B2:\n",
    "  body \n",
    "class B(B1,B2):\n",
    "  body "
   ]
  },
  {
   "cell_type": "code",
   "execution_count": 31,
   "id": "47220938",
   "metadata": {},
   "outputs": [],
   "source": [
    "class B1:\n",
    "    def m(self):\n",
    "        print(\"This is class B1\")\n",
    "class B2:\n",
    "    def m(self):\n",
    "        print(\"This is class B2\")\n",
    "class B(B1):\n",
    "    def m1(self):\n",
    "        print(\"This is class B\")\n"
   ]
  },
  {
   "cell_type": "code",
   "execution_count": 32,
   "id": "ac112b47",
   "metadata": {},
   "outputs": [],
   "source": [
    "o1 = B()"
   ]
  },
  {
   "cell_type": "code",
   "execution_count": 33,
   "id": "7c2a826b",
   "metadata": {},
   "outputs": [
    {
     "name": "stdout",
     "output_type": "stream",
     "text": [
      "This is class B1\n"
     ]
    }
   ],
   "source": [
    "o1.m()"
   ]
  },
  {
   "cell_type": "code",
   "execution_count": 34,
   "id": "c844eda3",
   "metadata": {},
   "outputs": [
    {
     "name": "stdout",
     "output_type": "stream",
     "text": [
      "This is class B\n"
     ]
    }
   ],
   "source": [
    "o1.m1()"
   ]
  },
  {
   "attachments": {
    "Capture.PNG": {
     "image/png": "[encoded data removed]"
    }
   },
   "cell_type": "markdown",
   "id": "a8991de1",
   "metadata": {},
   "source": [
    "![Capture.PNG](attachment:Capture.PNG)"
   ]
  },
  {
   "cell_type": "code",
   "execution_count": 35,
   "id": "f7e46e57",
   "metadata": {},
   "outputs": [],
   "source": [
    "class B1:\n",
    "    def m1(self):\n",
    "        print(\"This is class B1\")\n",
    "class B2:\n",
    "    def m2(self):\n",
    "        print(\"This is class B2\")\n",
    "class BB(B1,B2):\n",
    "    def mBB(self):\n",
    "        print(\"This is class BB\")"
   ]
  },
  {
   "cell_type": "code",
   "execution_count": 36,
   "id": "ffab834b",
   "metadata": {},
   "outputs": [],
   "source": [
    "o = BB()"
   ]
  },
  {
   "cell_type": "code",
   "execution_count": 37,
   "id": "d1f17b31",
   "metadata": {},
   "outputs": [
    {
     "name": "stdout",
     "output_type": "stream",
     "text": [
      "This is class B1\n"
     ]
    }
   ],
   "source": [
    "o.m1()"
   ]
  },
  {
   "cell_type": "code",
   "execution_count": 38,
   "id": "83c4ad8c",
   "metadata": {},
   "outputs": [
    {
     "name": "stdout",
     "output_type": "stream",
     "text": [
      "This is class B2\n"
     ]
    }
   ],
   "source": [
    "o.m2()"
   ]
  },
  {
   "cell_type": "code",
   "execution_count": 39,
   "id": "79deb443",
   "metadata": {},
   "outputs": [
    {
     "name": "stdout",
     "output_type": "stream",
     "text": [
      "This is class BB\n"
     ]
    }
   ],
   "source": [
    "o.mBB()"
   ]
  },
  {
   "cell_type": "code",
   "execution_count": 40,
   "id": "85839c6e",
   "metadata": {},
   "outputs": [],
   "source": [
    "class B1:\n",
    "    def m1(self):\n",
    "        print(\"This is class B1\")\n",
    "class B2:\n",
    "    def m2(self):\n",
    "        print(\"This is class B2\")\n",
    "        B1.m1(self)\n",
    "class B(B1,B2):\n",
    "    def m3(self):\n",
    "        print(\"This is class B\")"
   ]
  },
  {
   "cell_type": "code",
   "execution_count": 41,
   "id": "fe9918f0",
   "metadata": {},
   "outputs": [],
   "source": [
    "o = B()"
   ]
  },
  {
   "cell_type": "code",
   "execution_count": 42,
   "id": "0111b491",
   "metadata": {},
   "outputs": [
    {
     "name": "stdout",
     "output_type": "stream",
     "text": [
      "This is class B2\n",
      "This is class B1\n"
     ]
    }
   ],
   "source": [
    "o.m2()"
   ]
  },
  {
   "cell_type": "code",
   "execution_count": 43,
   "id": "f4f82a7b",
   "metadata": {},
   "outputs": [],
   "source": [
    "class B1:\n",
    "    def m(self):\n",
    "        print(\"This is class B1\")\n",
    "class B2:\n",
    "    def m(self):\n",
    "        print(\"This is class B2\")\n",
    "class BB(B1,B2):\n",
    "    def mBB(self):\n",
    "        print(\"This is class BB\")"
   ]
  },
  {
   "cell_type": "code",
   "execution_count": 44,
   "id": "82eba043",
   "metadata": {},
   "outputs": [],
   "source": [
    "o = BB()"
   ]
  },
  {
   "cell_type": "code",
   "execution_count": 45,
   "id": "23cead2c",
   "metadata": {},
   "outputs": [
    {
     "name": "stdout",
     "output_type": "stream",
     "text": [
      "This is class BB\n"
     ]
    }
   ],
   "source": [
    "o.mBB()"
   ]
  },
  {
   "cell_type": "code",
   "execution_count": 46,
   "id": "089149c2",
   "metadata": {},
   "outputs": [
    {
     "name": "stdout",
     "output_type": "stream",
     "text": [
      "This is class B1\n"
     ]
    }
   ],
   "source": [
    "o.m()"
   ]
  },
  {
   "cell_type": "code",
   "execution_count": 47,
   "id": "15c6b45d",
   "metadata": {},
   "outputs": [],
   "source": [
    "class B1:\n",
    "    def m(self):\n",
    "        print(\"This is class B1\")\n",
    "class B2:\n",
    "    def m(self):\n",
    "        print(\"This is class B2\")\n",
    "class BB(B2,B1):\n",
    "    def mBB(self):\n",
    "        print(\"This is class BB\")"
   ]
  },
  {
   "cell_type": "code",
   "execution_count": 48,
   "id": "8d14e5ad",
   "metadata": {},
   "outputs": [
    {
     "name": "stdout",
     "output_type": "stream",
     "text": [
      "This is class B2\n"
     ]
    }
   ],
   "source": [
    "o = BB()\n",
    "o.m()"
   ]
  },
  {
   "cell_type": "code",
   "execution_count": 49,
   "id": "5db256c2",
   "metadata": {},
   "outputs": [
    {
     "name": "stdout",
     "output_type": "stream",
     "text": [
      "This is class BB\n"
     ]
    }
   ],
   "source": [
    "o.mBB()"
   ]
  },
  {
   "cell_type": "code",
   "execution_count": 50,
   "id": "f88aabdd",
   "metadata": {},
   "outputs": [],
   "source": [
    "class B1:\n",
    "    pass\n",
    "class B2:\n",
    "    def m(self):\n",
    "        print(\"This is class B2\")\n",
    "class BB(B1,B2):\n",
    "    def mBB(self):\n",
    "        print(\"This is class BB\")"
   ]
  },
  {
   "cell_type": "code",
   "execution_count": 51,
   "id": "d85b1519",
   "metadata": {},
   "outputs": [],
   "source": [
    "o = BB()"
   ]
  },
  {
   "cell_type": "code",
   "execution_count": 52,
   "id": "a5773954",
   "metadata": {},
   "outputs": [
    {
     "name": "stdout",
     "output_type": "stream",
     "text": [
      "This is class B2\n"
     ]
    }
   ],
   "source": [
    "o.m()"
   ]
  },
  {
   "cell_type": "code",
   "execution_count": 53,
   "id": "1fd4054b",
   "metadata": {},
   "outputs": [],
   "source": [
    "#Ex\n",
    "class B1:\n",
    "    def __init__(self):\n",
    "        self.str1 = \"Class_B1\"\n",
    "        print(\"B1\")\n",
    "        \n",
    "class B2:\n",
    "    def __init__(self):\n",
    "        self.str2 = \"Class_B2\"    \n",
    "        print(\"B2\")\n",
    "        \n",
    "class Child(B1, B2):\n",
    "    def __init__(self):\n",
    "          \n",
    "        # Calling constructors of B1 and B2 classes\n",
    "        B1.__init__(self)\n",
    "        B2.__init__(self)\n",
    "        print(\"Child\")\n",
    "          \n",
    "    def printStrs(self,var):\n",
    "        print(self.str1, self.str2,var)# \n",
    "    # Example "
   ]
  },
  {
   "cell_type": "code",
   "execution_count": 54,
   "id": "68cde4af",
   "metadata": {},
   "outputs": [
    {
     "name": "stdout",
     "output_type": "stream",
     "text": [
      "B1\n",
      "B2\n",
      "Child\n"
     ]
    }
   ],
   "source": [
    "obj = Child()"
   ]
  },
  {
   "cell_type": "code",
   "execution_count": 55,
   "id": "7123a517",
   "metadata": {},
   "outputs": [
    {
     "name": "stdout",
     "output_type": "stream",
     "text": [
      "Class_B1 Class_B2 22\n"
     ]
    }
   ],
   "source": [
    "obj.printStrs(22)"
   ]
  },
  {
   "cell_type": "code",
   "execution_count": 56,
   "id": "fc40fd18",
   "metadata": {},
   "outputs": [
    {
     "ename": "SyntaxError",
     "evalue": "invalid syntax (<ipython-input-56-8b498d513bba>, line 4)",
     "output_type": "error",
     "traceback": [
      "\u001b[1;36m  File \u001b[1;32m\"<ipython-input-56-8b498d513bba>\"\u001b[1;36m, line \u001b[1;32m4\u001b[0m\n\u001b[1;33m    def show_vill:(self):\u001b[0m\n\u001b[1;37m                 ^\u001b[0m\n\u001b[1;31mSyntaxError\u001b[0m\u001b[1;31m:\u001b[0m invalid syntax\n"
     ]
    }
   ],
   "source": [
    "#Ex   :\n",
    "class Village:\n",
    "    Vill_name = \"\"\n",
    "    def show_vill:(self):\n",
    "            print(f\"My village name is : {self.Vill_name}\")\n",
    "class District:\n",
    "    Dist_name = \"\"\n",
    "    def show_Dist:(self):\n",
    "            print(f\"My village name is : {self.Dist_name}\")\n",
    "class District:\n",
    "    Dist_name = \"\"\n",
    "    def show_Dist:(self):\n",
    "            print(f\"My village name is : {self.Dist_name}\")"
   ]
  },
  {
   "cell_type": "markdown",
   "id": "7815ce17",
   "metadata": {},
   "source": [
    "##  Multilevel inheritance:\n",
    "### When we have a child and grandchild relationship. \n",
    "#### or \n",
    "### When a child class inherits from more than one parent class."
   ]
  },
  {
   "attachments": {
    "multiple_inh.png": {
     "image/png": "[encoded data removed]"
    }
   },
   "cell_type": "markdown",
   "id": "c6660751",
   "metadata": {},
   "source": [
    "![multiple_inh.png](attachment:multiple_inh.png)"
   ]
  },
  {
   "cell_type": "code",
   "execution_count": 57,
   "id": "270e9edd",
   "metadata": {},
   "outputs": [],
   "source": [
    "class Parent:\n",
    "    def func1(self):\n",
    "        print(\"this is function of Parent class\")\n",
    "class Parent2(Parent):\n",
    "    def func2(self):\n",
    "        print(\"this is function of Intermediate base class\")\n",
    "class Child(Parent2):\n",
    "    def func3(self):\n",
    "        print(\"this is function of child class\")\n",
    "        \n",
    "   "
   ]
  },
  {
   "cell_type": "code",
   "execution_count": 58,
   "id": "f5b7eec3",
   "metadata": {},
   "outputs": [],
   "source": [
    "ob = Child()"
   ]
  },
  {
   "cell_type": "code",
   "execution_count": 59,
   "id": "1367b947",
   "metadata": {},
   "outputs": [
    {
     "name": "stdout",
     "output_type": "stream",
     "text": [
      "this is function of child class\n"
     ]
    }
   ],
   "source": [
    "ob.func3()"
   ]
  },
  {
   "cell_type": "code",
   "execution_count": 60,
   "id": "1ff1956f",
   "metadata": {},
   "outputs": [
    {
     "name": "stdout",
     "output_type": "stream",
     "text": [
      "this is function of Intermediate base class\n"
     ]
    }
   ],
   "source": [
    "ob.func2()"
   ]
  },
  {
   "cell_type": "code",
   "execution_count": 61,
   "id": "cc7c4672",
   "metadata": {},
   "outputs": [
    {
     "name": "stdout",
     "output_type": "stream",
     "text": [
      "this is function of Parent class\n"
     ]
    }
   ],
   "source": [
    "ob.func1()"
   ]
  },
  {
   "cell_type": "code",
   "execution_count": 62,
   "id": "05f5eb2b",
   "metadata": {},
   "outputs": [
    {
     "ename": "NameError",
     "evalue": "name 'Planet' is not defined",
     "output_type": "error",
     "traceback": [
      "\u001b[1;31m---------------------------------------------------------------------------\u001b[0m",
      "\u001b[1;31mNameError\u001b[0m                                 Traceback (most recent call last)",
      "\u001b[1;32m<ipython-input-62-6fe13cfe0819>\u001b[0m in \u001b[0;36m<module>\u001b[1;34m\u001b[0m\n\u001b[0;32m      4\u001b[0m \u001b[1;32mclass\u001b[0m \u001b[0mPlanets\u001b[0m\u001b[1;33m(\u001b[0m\u001b[0mUniverse\u001b[0m\u001b[1;33m)\u001b[0m\u001b[1;33m:\u001b[0m\u001b[1;33m\u001b[0m\u001b[1;33m\u001b[0m\u001b[0m\n\u001b[0;32m      5\u001b[0m     \u001b[1;32mpass\u001b[0m\u001b[1;33m\u001b[0m\u001b[1;33m\u001b[0m\u001b[0m\n\u001b[1;32m----> 6\u001b[1;33m \u001b[1;32mclass\u001b[0m \u001b[0mEarth\u001b[0m\u001b[1;33m(\u001b[0m\u001b[0mPlanet\u001b[0m\u001b[1;33m)\u001b[0m\u001b[1;33m:\u001b[0m\u001b[1;33m\u001b[0m\u001b[1;33m\u001b[0m\u001b[0m\n\u001b[0m\u001b[0;32m      7\u001b[0m     \u001b[1;32mpass\u001b[0m\u001b[1;33m\u001b[0m\u001b[1;33m\u001b[0m\u001b[0m\n\u001b[0;32m      8\u001b[0m \u001b[1;32mdef\u001b[0m \u001b[0mContinents\u001b[0m\u001b[1;33m(\u001b[0m\u001b[0mEarth\u001b[0m\u001b[1;33m)\u001b[0m\u001b[1;33m:\u001b[0m\u001b[1;33m\u001b[0m\u001b[1;33m\u001b[0m\u001b[0m\n",
      "\u001b[1;31mNameError\u001b[0m: name 'Planet' is not defined"
     ]
    }
   ],
   "source": [
    "#Example\n",
    "class Universe:\n",
    "    pass\n",
    "class Planets(Universe):\n",
    "    pass\n",
    "class Earth(Planet):\n",
    "    pass\n",
    "def Continents(Earth):\n",
    "    pass\n",
    "def Asia(Continents):\n",
    "    pass\n",
    "def India(Asia):\n",
    "    pass\n",
    "    "
   ]
  },
  {
   "cell_type": "code",
   "execution_count": 63,
   "id": "3acc298d",
   "metadata": {},
   "outputs": [],
   "source": [
    "class Universe:\n",
    "    def __init__(self):\n",
    "        print(\"The universe is all of space and time and their contents,\\nincluding planets, stars, galaxies, and all other forms of\\n matter and energy\")\n",
    "    def shape(self):\n",
    "        print(\"The three possible options for the shape of the universe:\\n\\t1-Flat,\\n\\t2-Open,\\n\\t3-Close\")\n",
    "class Planets(Universe):\n",
    "    def __init__(self):\n",
    "        Universe. __init__(self)\n",
    "        print(\"A planet is a large object that orbits a star. To be a planet,\\n an object must be massive enough for gravity to have squeezed it into a spherical, \\nor round, shape,.\")\n",
    "    def types(self):\n",
    "        print(\"Planets in the Solar System are divided into two main types:\\n\\t1- large low-density giant planets, and \\n\\t2- smaller rocky terrestrials. \\nThere are eight planets in the Solar System according to the IAU definition.\\n In order of increasing distance from the Sun, \\nthey are the four terrestrials, Mercury, Venus, Earth, and Mars, \\nthen the four giant planets, Jupiter, Saturn, Uranus, and Neptune. \")\n",
    "class Earth(Planets):\n",
    "    def __init__(self):\n",
    "        Planets. __init__(self)\n",
    "        print(\"Earth is the third planet from the Sun and the only astronomical object known to harbor and support life.\")\n",
    "    def about(self):\n",
    "        print(\"Scientists think Earth was formed at roughly the same time as the sun and other planets some 4.6 billion years ago\")\n",
    "        print()\n",
    "        print(\" About 29.2% of Earth's surface is land consisting of continents and islands.\\n The remaining 70.8% is covered with water, mostly by oceans, seas, gulfs, and other salt-water bodies, \\nbut also by lakes, rivers, and other freshwater, which together constitute the hydrosphere.\")\n",
    "        print()\n",
    "    def atmosphere(self):\n",
    "        print(\"Earth's atmosphere is roughly 78 percent nitrogen and 21 percent oxygen, \\nwith trace amounts of water, argon, carbon dioxide and other gases. \")\n",
    "class Continents(Earth):\n",
    "    def __init__(self):\n",
    "        Earth. __init__(self)   \n",
    "        print(\"A continent is one of several large landmasses. Generally identified by convention rather than \\nany strict criteria, up to seven regions are commonly regarded as continents\")\n",
    "    def reagons(self):\n",
    "        print(\"Ordered from largest in area to smallest, these seven regions are\\n\\t-: Asia,\\n\\t- Africa, \\n\\t-North America,\\n\\t South America,\\n\\t\\n\\t Antarctica,\\n\\t Europe, and \\n\\tAustralia.\")\n",
    "class Asia(Continents):\n",
    "    def __init__(self):\n",
    "        print(\"Asia is Earth's largest and most populous continent, located primarily in the\\n Eastern and Northern Hemispheres.\")\n",
    "        Continents. __init__(self)\n",
    "    def contries(self):\n",
    "        print(\"There are 49 countries in Asia today:\")\n",
    "class India(Asia):\n",
    "    def __init__(self):\n",
    "        print(\"India, officially the Republic of India, is a country in South Asia. \\nIt is the second-most populous country, the seventh-largest country by land area,\\n and the most populous democracy in the world.\")\n",
    "        Asia.__init__(self)\n",
    "    def describe_India(self):\n",
    "        print(\"India is a federal union comprising 28 states and 8 union territories .\\n\")"
   ]
  },
  {
   "cell_type": "code",
   "execution_count": 64,
   "id": "0038dc61",
   "metadata": {},
   "outputs": [
    {
     "name": "stdout",
     "output_type": "stream",
     "text": [
      "India, officially the Republic of India, is a country in South Asia. \n",
      "It is the second-most populous country, the seventh-largest country by land area,\n",
      " and the most populous democracy in the world.\n",
      "Asia is Earth's largest and most populous continent, located primarily in the\n",
      " Eastern and Northern Hemispheres.\n",
      "The universe is all of space and time and their contents,\n",
      "including planets, stars, galaxies, and all other forms of\n",
      " matter and energy\n",
      "A planet is a large object that orbits a star. To be a planet,\n",
      " an object must be massive enough for gravity to have squeezed it into a spherical, \n",
      "or round, shape,.\n",
      "Earth is the third planet from the Sun and the only astronomical object known to harbor and support life.\n",
      "A continent is one of several large landmasses. Generally identified by convention rather than \n",
      "any strict criteria, up to seven regions are commonly regarded as continents\n"
     ]
    }
   ],
   "source": [
    "obj = India()"
   ]
  },
  {
   "cell_type": "code",
   "execution_count": 70,
   "id": "12a182d7",
   "metadata": {},
   "outputs": [],
   "source": [
    "# Ex Multiple Inheritence\n",
    "class Base:      \n",
    "    # Constructor\n",
    "    def __init__(self, name):\n",
    "        self.name = name  \n",
    "    # To get name\n",
    "    def getName(self):\n",
    "        return self.name \n",
    "# Inherited or Sub class (Note Person in bracket)\n",
    "class Child(Base):      \n",
    "    # Constructor\n",
    "    def __init__(self, name, age):\n",
    "        Base.__init__(self, name)\n",
    "        self.age = age \n",
    "    # To get age\n",
    "    def getAge(self):\n",
    "        return self.age\n",
    "# Inherited or Sub class (Note Person in bracket)\n",
    "class GrandChild(Child):   \n",
    "    # Constructor\n",
    "    def __init__(self, name , age , **address):\n",
    "        self.address = address\n",
    "        Child.__init__(self, name, age)\n",
    "        \n",
    "    # To get address\n",
    "    def getAddress(self):\n",
    "        return self.address"
   ]
  },
  {
   "cell_type": "code",
   "execution_count": 66,
   "id": "c2057e44",
   "metadata": {},
   "outputs": [
    {
     "ename": "TypeError",
     "evalue": "__init__() takes 3 positional arguments but 4 were given",
     "output_type": "error",
     "traceback": [
      "\u001b[1;31m---------------------------------------------------------------------------\u001b[0m",
      "\u001b[1;31mTypeError\u001b[0m                                 Traceback (most recent call last)",
      "\u001b[1;32m<ipython-input-66-83504f8149ce>\u001b[0m in \u001b[0;36m<module>\u001b[1;34m\u001b[0m\n\u001b[1;32m----> 1\u001b[1;33m \u001b[0mob\u001b[0m \u001b[1;33m=\u001b[0m \u001b[0mGrandChild\u001b[0m\u001b[1;33m(\u001b[0m\u001b[1;34m\"yyy\"\u001b[0m\u001b[1;33m,\u001b[0m\u001b[1;36m23\u001b[0m\u001b[1;33m,\u001b[0m\u001b[1;33m{\u001b[0m\u001b[1;34m'hh'\u001b[0m\u001b[1;33m:\u001b[0m\u001b[1;34m'HH'\u001b[0m\u001b[1;33m}\u001b[0m\u001b[1;33m)\u001b[0m\u001b[1;33m\u001b[0m\u001b[1;33m\u001b[0m\u001b[0m\n\u001b[0m",
      "\u001b[1;31mTypeError\u001b[0m: __init__() takes 3 positional arguments but 4 were given"
     ]
    }
   ],
   "source": [
    "ob = GrandChild(\"yyy\",23,{'hh':'HH'})"
   ]
  },
  {
   "cell_type": "code",
   "execution_count": 67,
   "id": "f708bb92",
   "metadata": {},
   "outputs": [
    {
     "ename": "AttributeError",
     "evalue": "'Child' object has no attribute 'getAddress'",
     "output_type": "error",
     "traceback": [
      "\u001b[1;31m---------------------------------------------------------------------------\u001b[0m",
      "\u001b[1;31mAttributeError\u001b[0m                            Traceback (most recent call last)",
      "\u001b[1;32m<ipython-input-67-f9a279405d08>\u001b[0m in \u001b[0;36m<module>\u001b[1;34m\u001b[0m\n\u001b[1;32m----> 1\u001b[1;33m \u001b[0mob\u001b[0m\u001b[1;33m.\u001b[0m\u001b[0mgetAddress\u001b[0m\u001b[1;33m(\u001b[0m\u001b[1;33m)\u001b[0m\u001b[1;33m\u001b[0m\u001b[1;33m\u001b[0m\u001b[0m\n\u001b[0m",
      "\u001b[1;31mAttributeError\u001b[0m: 'Child' object has no attribute 'getAddress'"
     ]
    }
   ],
   "source": [
    "ob.getAddress()"
   ]
  },
  {
   "cell_type": "code",
   "execution_count": 68,
   "id": "a87a85ab",
   "metadata": {
    "scrolled": true
   },
   "outputs": [
    {
     "ename": "AttributeError",
     "evalue": "'Child' object has no attribute 'age'",
     "output_type": "error",
     "traceback": [
      "\u001b[1;31m---------------------------------------------------------------------------\u001b[0m",
      "\u001b[1;31mAttributeError\u001b[0m                            Traceback (most recent call last)",
      "\u001b[1;32m<ipython-input-68-a4c18984a173>\u001b[0m in \u001b[0;36m<module>\u001b[1;34m\u001b[0m\n\u001b[1;32m----> 1\u001b[1;33m \u001b[0mob\u001b[0m\u001b[1;33m.\u001b[0m\u001b[0mage\u001b[0m\u001b[1;33m\u001b[0m\u001b[1;33m\u001b[0m\u001b[0m\n\u001b[0m",
      "\u001b[1;31mAttributeError\u001b[0m: 'Child' object has no attribute 'age'"
     ]
    }
   ],
   "source": [
    "ob.age"
   ]
  },
  {
   "cell_type": "code",
   "execution_count": 69,
   "id": "052e21cc",
   "metadata": {},
   "outputs": [
    {
     "ename": "AttributeError",
     "evalue": "'Child' object has no attribute 'name'",
     "output_type": "error",
     "traceback": [
      "\u001b[1;31m---------------------------------------------------------------------------\u001b[0m",
      "\u001b[1;31mAttributeError\u001b[0m                            Traceback (most recent call last)",
      "\u001b[1;32m<ipython-input-69-50ed86f3b879>\u001b[0m in \u001b[0;36m<module>\u001b[1;34m\u001b[0m\n\u001b[1;32m----> 1\u001b[1;33m \u001b[0mob\u001b[0m\u001b[1;33m.\u001b[0m\u001b[0mname\u001b[0m\u001b[1;33m\u001b[0m\u001b[1;33m\u001b[0m\u001b[0m\n\u001b[0m",
      "\u001b[1;31mAttributeError\u001b[0m: 'Child' object has no attribute 'name'"
     ]
    }
   ],
   "source": [
    "ob.name"
   ]
  },
  {
   "attachments": {
    "Diamond1-2.png": {
     "image/png": "[encoded data removed]"
    }
   },
   "cell_type": "markdown",
   "id": "093a78cb",
   "metadata": {},
   "source": [
    "## When method is overridden in both classes\n",
    "\n",
    "![Diamond1-2.png](attachment:Diamond1-2.png)"
   ]
  },
  {
   "cell_type": "code",
   "execution_count": null,
   "id": "67d9a6e9",
   "metadata": {},
   "outputs": [],
   "source": [
    "class B1:\n",
    "    def m1(self):\n",
    "        print(\"This is class B1\")\n",
    "class B2(B1):\n",
    "    def m2(self):\n",
    "        print(\"This is class B2\")\n",
    "class B3(B1):\n",
    "    def m3(self):\n",
    "        print(\"This is class B3\")\n",
    "class B4(B2,B3):\n",
    "    def m4(self):\n",
    "        print(\"This is class B4\")"
   ]
  },
  {
   "cell_type": "code",
   "execution_count": null,
   "id": "f7fcef56",
   "metadata": {},
   "outputs": [],
   "source": [
    "o = B4()"
   ]
  },
  {
   "cell_type": "code",
   "execution_count": null,
   "id": "5c6d69b8",
   "metadata": {},
   "outputs": [],
   "source": []
  },
  {
   "cell_type": "code",
   "execution_count": null,
   "id": "4f9b0cf0",
   "metadata": {},
   "outputs": [],
   "source": [
    "o.m4()"
   ]
  },
  {
   "cell_type": "code",
   "execution_count": null,
   "id": "212ace2f",
   "metadata": {},
   "outputs": [],
   "source": [
    "o.m1()"
   ]
  },
  {
   "cell_type": "code",
   "execution_count": null,
   "id": "3dd56fe1",
   "metadata": {},
   "outputs": [],
   "source": [
    "o.m2()"
   ]
  },
  {
   "cell_type": "code",
   "execution_count": null,
   "id": "724ab345",
   "metadata": {},
   "outputs": [],
   "source": [
    "o.m3()"
   ]
  },
  {
   "cell_type": "code",
   "execution_count": null,
   "id": "362fbcc6",
   "metadata": {},
   "outputs": [],
   "source": [
    "class B1:\n",
    "    def m(self):\n",
    "        print(\"This is class B1\")\n",
    "class B2(B1):\n",
    "    def m(self):\n",
    "        print(\"This is class B2\")\n",
    "class B3(B1):\n",
    "    def m(self):\n",
    "        print(\"This is class B3\")\n",
    "class B4(B2,B3):\n",
    "    def m(self):\n",
    "        print(\"This is class B4\")"
   ]
  },
  {
   "cell_type": "code",
   "execution_count": null,
   "id": "5d7e3de9",
   "metadata": {},
   "outputs": [],
   "source": [
    "o = B4()"
   ]
  },
  {
   "cell_type": "code",
   "execution_count": null,
   "id": "8ad9c580",
   "metadata": {
    "scrolled": true
   },
   "outputs": [],
   "source": [
    "o.m()"
   ]
  },
  {
   "cell_type": "code",
   "execution_count": 6,
   "id": "e3f3a04e",
   "metadata": {},
   "outputs": [],
   "source": [
    "class B1:\n",
    "    def m(self):\n",
    "        print(\"This is class B1\")\n",
    "class B2(B1):\n",
    "    def m(self):\n",
    "        print(\"This is class B2\")\n",
    "        B1.m(self)\n",
    "class B3(B1):\n",
    "    def m(self):\n",
    "        print(\"This is class B3\")\n",
    "        B1.m(self)\n",
    "class B4(B2,B3):\n",
    "    def m(self):\n",
    "        print(\"This is class B4\")\n",
    "        B1.m(self)\n",
    "        B2.m(self)\n",
    "        B3.m(self)"
   ]
  },
  {
   "cell_type": "code",
   "execution_count": 7,
   "id": "4bbc5690",
   "metadata": {},
   "outputs": [],
   "source": [
    "o = B4()"
   ]
  },
  {
   "cell_type": "code",
   "execution_count": 8,
   "id": "d4f4caef",
   "metadata": {},
   "outputs": [
    {
     "name": "stdout",
     "output_type": "stream",
     "text": [
      "This is class B4\n",
      "This is class B1\n",
      "This is class B2\n",
      "This is class B1\n",
      "This is class B3\n",
      "This is class B1\n"
     ]
    }
   ],
   "source": [
    "o.m()"
   ]
  },
  {
   "cell_type": "code",
   "execution_count": null,
   "id": "ceebdfa5",
   "metadata": {},
   "outputs": [],
   "source": [
    "# Problem\n",
    "class B1:\n",
    "    def m(self):\n",
    "        print(\"This is class B1\")\n",
    "class B2:\n",
    "    def m(self):\n",
    "        print(\"This is class B2\")\n",
    "        B1.m(self)"
   ]
  },
  {
   "cell_type": "code",
   "execution_count": null,
   "id": "901e2cc5",
   "metadata": {},
   "outputs": [],
   "source": [
    "o = B2()"
   ]
  },
  {
   "cell_type": "code",
   "execution_count": null,
   "id": "f2bc7be5",
   "metadata": {},
   "outputs": [],
   "source": [
    "o.m()"
   ]
  },
  {
   "attachments": {
    "Hierarchical-inheritance1.png": {
     "image/png": "[encoded data removed]"
    }
   },
   "cell_type": "markdown",
   "id": "da0b94d2",
   "metadata": {},
   "source": [
    "# Hierarchical Inheritance: \n",
    "### When more than one derived classes are created from a single Parent this type of inheritance is called hierarchical inheritance.\n",
    "\n",
    "![Hierarchical-inheritance1.png](attachment:Hierarchical-inheritance1.png)"
   ]
  },
  {
   "cell_type": "code",
   "execution_count": 9,
   "id": "0104821d",
   "metadata": {},
   "outputs": [],
   "source": [
    "# Hierarchical inheritance\n",
    "\n",
    "# Parent class\n",
    "class Parent:\n",
    "      def func(self):\n",
    "        print(\"This function is in parent class.\")\n",
    "        \n",
    "# Child1 class1\n",
    "class Child1(Parent):\n",
    "      def func1(self):\n",
    "        print(\"This function is in child 1.\")\n",
    "        \n",
    "# Child1 class2\n",
    "class Child2(Parent):\n",
    "      def func2(self):\n",
    "        print(\"This function is in child 2.\")"
   ]
  },
  {
   "cell_type": "code",
   "execution_count": 10,
   "id": "91063df5",
   "metadata": {},
   "outputs": [],
   "source": [
    "# Object of child 1 class\n",
    "o1 = Child1()"
   ]
  },
  {
   "cell_type": "code",
   "execution_count": 11,
   "id": "c9f56c5b",
   "metadata": {},
   "outputs": [
    {
     "name": "stdout",
     "output_type": "stream",
     "text": [
      "This function is in child 1.\n"
     ]
    }
   ],
   "source": [
    "o1.func1()"
   ]
  },
  {
   "cell_type": "code",
   "execution_count": 12,
   "id": "e1e808a0",
   "metadata": {},
   "outputs": [
    {
     "name": "stdout",
     "output_type": "stream",
     "text": [
      "This function is in parent class.\n"
     ]
    }
   ],
   "source": [
    "o1.func()"
   ]
  },
  {
   "cell_type": "code",
   "execution_count": 13,
   "id": "e9bc4a7f",
   "metadata": {},
   "outputs": [],
   "source": [
    "# Object of child 2 class\n",
    "o2 = Child2()"
   ]
  },
  {
   "cell_type": "code",
   "execution_count": 15,
   "id": "4c17c8a0",
   "metadata": {},
   "outputs": [
    {
     "name": "stdout",
     "output_type": "stream",
     "text": [
      "This function is in child 2.\n"
     ]
    }
   ],
   "source": [
    "o2.func2()"
   ]
  },
  {
   "cell_type": "markdown",
   "id": "60a31b51",
   "metadata": {},
   "source": [
    "# Hybrid Inheritance:\n",
    "### Inheritance consisting of multiple types of inheritance is called hybrid inheritance."
   ]
  },
  {
   "cell_type": "code",
   "execution_count": null,
   "id": "6aab398f",
   "metadata": {},
   "outputs": [],
   "source": [
    "#Task \n",
    "# Make 5 exemples of hybrid class"
   ]
  },
  {
   "cell_type": "code",
   "execution_count": null,
   "id": "8a303f85",
   "metadata": {},
   "outputs": [],
   "source": [
    "# Kapil\n",
    "class school:\n",
    "    def name(self):\n",
    "        print(\"This is ABC public school\")\n",
    "        \n",
    "class teacher(school):\n",
    "    def subject(self):\n",
    "        print(\"she is a computer teacher\")\n",
    "        school.name(self)\n",
    "class students(school):\n",
    "    def standard(self):\n",
    "        print(\"This is 7th standard students line\")\n",
    "        school.name(self)\n",
    "\n",
    "class auditorium(teacher,students):\n",
    "    def assembly(self):\n",
    "        print(\"Hi, i am new principal of your school.\")"
   ]
  },
  {
   "cell_type": "code",
   "execution_count": null,
   "id": "73a4dcf5",
   "metadata": {},
   "outputs": [],
   "source": [
    "#shoaib\n",
    "class School:\n",
    "        def func1(self):\n",
    "            print(\"This function is in school.\")\n",
    "  \n",
    " class Student1(School):\n",
    "        def func2(self):\n",
    "             print(\"This function is in shoaib. \")\n",
    "  \n",
    " class Student2(School):\n",
    "        def func3(self):\n",
    "            print(\"This function is in xyz.\")\n",
    "  \n",
    " class Student3(Student1, School):\n",
    "        def func4(self):\n",
    "            print(\"This function is in yyyy.\")\n",
    "\n",
    "object = Student3()\n",
    "object.func1()\n",
    "object.func2()"
   ]
  },
  {
   "cell_type": "code",
   "execution_count": null,
   "id": "df250fde",
   "metadata": {},
   "outputs": [],
   "source": [
    "# Riz\n",
    "class school:\n",
    "    def func1(self):\n",
    "        print(\"This is School Class\")\n",
    "\n",
    "class teacher_1(school):\n",
    "    def func2(self):\n",
    "        print(\"Hii, I'm Teachers 1\")\n",
    "\n",
    "class teacher_2(school):\n",
    "    def func3(self):\n",
    "        print(\"Hii, I'm Teacher 2\")\n",
    "\n",
    "class student (teacher1, teacher2):\n",
    "    def func4(self):\n",
    "        print(\"Hii, I'm Student\")"
   ]
  },
  {
   "cell_type": "code",
   "execution_count": null,
   "id": "9d4bb059",
   "metadata": {},
   "outputs": [],
   "source": [
    "# Sandesh\n",
    "class A:\n",
    "    def A(self):\n",
    "        print(\"Class A\")\n",
    "\n",
    "class B(A):\n",
    "    def B(self):\n",
    "        print(\"Class B\")\n",
    "\n",
    "        \n",
    "class C:\n",
    "    def C(self):\n",
    "        print(\"Class C\")\n",
    "\n",
    "# Multipal \n",
    "class D(B, C):\n",
    "    def D(self):\n",
    "        print(\"class D\")"
   ]
  },
  {
   "cell_type": "code",
   "execution_count": null,
   "id": "ee801c00",
   "metadata": {},
   "outputs": [],
   "source": [
    "# Shaym\n",
    "class papa:\n",
    "    def _init_(self,name):\n",
    "        self.name = name\n",
    "    def getName(self):\n",
    "        return self.name\n",
    "class beta(papa):\n",
    "    def  _init_(self,name,age):\n",
    "        papa._init_(self,name)\n",
    "        self.age = age\n",
    "    def getAge(self):\n",
    "        return self.age\n",
    "class pota(beta):\n",
    "     def _init_(self,name,age,location):\n",
    "        beta._init_(self,name,age)\n",
    "        self.location=location\n",
    "    def getLocation(self):\n",
    "        return self.location"
   ]
  },
  {
   "cell_type": "code",
   "execution_count": null,
   "id": "7ae64b9f",
   "metadata": {},
   "outputs": [],
   "source": []
  },
  {
   "cell_type": "code",
   "execution_count": null,
   "id": "102e9f64",
   "metadata": {},
   "outputs": [],
   "source": []
  },
  {
   "cell_type": "markdown",
   "id": "eb5252f9",
   "metadata": {},
   "source": [
    "# Public\n",
    "# Private\n",
    "# Protectd"
   ]
  },
  {
   "cell_type": "raw",
   "id": "e7dddaf9",
   "metadata": {},
   "source": [
    "Note:\n",
    "Creator of Python said that we all should respect Privacy of every one,\n",
    "Dont call something unnecceassary(or private or protected)."
   ]
  },
  {
   "cell_type": "code",
   "execution_count": 18,
   "id": "6586d5ff",
   "metadata": {},
   "outputs": [],
   "source": [
    "class Test:\n",
    "    def __init__(self ,a,b):\n",
    "        self.a = a # This is called public in python\n",
    "        self.b = b \n",
    "    def m(self):\n",
    "        return self.b - self.a\n",
    "    def __str__(self):\n",
    "        return \"This is my test class \""
   ]
  },
  {
   "cell_type": "code",
   "execution_count": 19,
   "id": "e392dc95",
   "metadata": {},
   "outputs": [],
   "source": [
    "obj = Test(445,555)"
   ]
  },
  {
   "cell_type": "code",
   "execution_count": 20,
   "id": "68659989",
   "metadata": {},
   "outputs": [
    {
     "data": {
      "text/plain": [
       "110"
      ]
     },
     "execution_count": 20,
     "metadata": {},
     "output_type": "execute_result"
    }
   ],
   "source": [
    "obj.m()"
   ]
  },
  {
   "cell_type": "code",
   "execution_count": 21,
   "id": "a888bbc4",
   "metadata": {},
   "outputs": [
    {
     "data": {
      "text/plain": [
       "445"
      ]
     },
     "execution_count": 21,
     "metadata": {},
     "output_type": "execute_result"
    }
   ],
   "source": [
    "obj.a"
   ]
  },
  {
   "cell_type": "code",
   "execution_count": 22,
   "id": "eb6d3699",
   "metadata": {},
   "outputs": [
    {
     "data": {
      "text/plain": [
       "555"
      ]
     },
     "execution_count": 22,
     "metadata": {},
     "output_type": "execute_result"
    }
   ],
   "source": [
    "obj.b"
   ]
  },
  {
   "cell_type": "code",
   "execution_count": 28,
   "id": "91855154",
   "metadata": {},
   "outputs": [],
   "source": [
    "class Test:\n",
    "    def __init__(self ,a,b):\n",
    "        self._a = a # This is called protected in python\n",
    "        self.b = b \n",
    "\n",
    "    def m(self):\n",
    "        return self.b - self._a\n",
    "    def __str__(self):\n",
    "        return \"This is my test class for Abstraction\""
   ]
  },
  {
   "cell_type": "code",
   "execution_count": 29,
   "id": "7d443490",
   "metadata": {},
   "outputs": [],
   "source": [
    "obj = Test(767,545)"
   ]
  },
  {
   "cell_type": "code",
   "execution_count": 30,
   "id": "79f5d0dc",
   "metadata": {
    "scrolled": true
   },
   "outputs": [
    {
     "data": {
      "text/plain": [
       "-222"
      ]
     },
     "execution_count": 30,
     "metadata": {},
     "output_type": "execute_result"
    }
   ],
   "source": [
    "obj.m()"
   ]
  },
  {
   "cell_type": "code",
   "execution_count": 26,
   "id": "4235213d",
   "metadata": {},
   "outputs": [
    {
     "ename": "AttributeError",
     "evalue": "'Test' object has no attribute 'a'",
     "output_type": "error",
     "traceback": [
      "\u001b[1;31m---------------------------------------------------------------------------\u001b[0m",
      "\u001b[1;31mAttributeError\u001b[0m                            Traceback (most recent call last)",
      "\u001b[1;32m<ipython-input-26-20b8c93b08d5>\u001b[0m in \u001b[0;36m<module>\u001b[1;34m\u001b[0m\n\u001b[1;32m----> 1\u001b[1;33m \u001b[0mobj\u001b[0m\u001b[1;33m.\u001b[0m\u001b[0ma\u001b[0m\u001b[1;33m\u001b[0m\u001b[1;33m\u001b[0m\u001b[0m\n\u001b[0m",
      "\u001b[1;31mAttributeError\u001b[0m: 'Test' object has no attribute 'a'"
     ]
    }
   ],
   "source": [
    "obj.a"
   ]
  },
  {
   "cell_type": "code",
   "execution_count": 32,
   "id": "a5472f43",
   "metadata": {},
   "outputs": [],
   "source": [
    "x = obj._a"
   ]
  },
  {
   "cell_type": "code",
   "execution_count": 33,
   "id": "386bae33",
   "metadata": {},
   "outputs": [
    {
     "data": {
      "text/plain": [
       "767"
      ]
     },
     "execution_count": 33,
     "metadata": {},
     "output_type": "execute_result"
    }
   ],
   "source": [
    "x"
   ]
  },
  {
   "cell_type": "code",
   "execution_count": 34,
   "id": "dfc835fd",
   "metadata": {},
   "outputs": [],
   "source": [
    "class Test:\n",
    "    def __init__(self ,a,b):\n",
    "        self.a = a \n",
    "        self.__b = b # This is called private in python  \n",
    "\n",
    "    def m(self):\n",
    "        return self.__b - self.a\n",
    "  #     return self.b - self.\n",
    "    def __str__(self):\n",
    "        return \"This is my test class for Abstraction\""
   ]
  },
  {
   "cell_type": "code",
   "execution_count": 35,
   "id": "141db23d",
   "metadata": {},
   "outputs": [],
   "source": [
    "o = Test(234,7658)"
   ]
  },
  {
   "cell_type": "code",
   "execution_count": 36,
   "id": "a3c4eb48",
   "metadata": {},
   "outputs": [
    {
     "data": {
      "text/plain": [
       "7424"
      ]
     },
     "execution_count": 36,
     "metadata": {},
     "output_type": "execute_result"
    }
   ],
   "source": [
    "o.m()"
   ]
  },
  {
   "cell_type": "code",
   "execution_count": 37,
   "id": "5e1c50d6",
   "metadata": {},
   "outputs": [
    {
     "data": {
      "text/plain": [
       "234"
      ]
     },
     "execution_count": 37,
     "metadata": {},
     "output_type": "execute_result"
    }
   ],
   "source": [
    "o.a"
   ]
  },
  {
   "cell_type": "code",
   "execution_count": 38,
   "id": "33d7b88e",
   "metadata": {},
   "outputs": [
    {
     "ename": "AttributeError",
     "evalue": "'Test' object has no attribute 'b'",
     "output_type": "error",
     "traceback": [
      "\u001b[1;31m---------------------------------------------------------------------------\u001b[0m",
      "\u001b[1;31mAttributeError\u001b[0m                            Traceback (most recent call last)",
      "\u001b[1;32m<ipython-input-38-bda0a76c9214>\u001b[0m in \u001b[0;36m<module>\u001b[1;34m\u001b[0m\n\u001b[1;32m----> 1\u001b[1;33m \u001b[0mo\u001b[0m\u001b[1;33m.\u001b[0m\u001b[0mb\u001b[0m\u001b[1;33m\u001b[0m\u001b[1;33m\u001b[0m\u001b[0m\n\u001b[0m",
      "\u001b[1;31mAttributeError\u001b[0m: 'Test' object has no attribute 'b'"
     ]
    }
   ],
   "source": [
    "o.b"
   ]
  },
  {
   "cell_type": "code",
   "execution_count": 39,
   "id": "9b53fd74",
   "metadata": {},
   "outputs": [
    {
     "ename": "AttributeError",
     "evalue": "'Test' object has no attribute '__b'",
     "output_type": "error",
     "traceback": [
      "\u001b[1;31m---------------------------------------------------------------------------\u001b[0m",
      "\u001b[1;31mAttributeError\u001b[0m                            Traceback (most recent call last)",
      "\u001b[1;32m<ipython-input-39-9bae2b56900d>\u001b[0m in \u001b[0;36m<module>\u001b[1;34m\u001b[0m\n\u001b[1;32m----> 1\u001b[1;33m \u001b[0mo\u001b[0m\u001b[1;33m.\u001b[0m\u001b[0m__b\u001b[0m\u001b[1;33m\u001b[0m\u001b[1;33m\u001b[0m\u001b[0m\n\u001b[0m",
      "\u001b[1;31mAttributeError\u001b[0m: 'Test' object has no attribute '__b'"
     ]
    }
   ],
   "source": [
    "o.__b"
   ]
  },
  {
   "cell_type": "code",
   "execution_count": 41,
   "id": "0e98b2b0",
   "metadata": {},
   "outputs": [],
   "source": [
    "o._Test__b"
   ]
  },
  {
   "cell_type": "code",
   "execution_count": 42,
   "id": "4320459c",
   "metadata": {},
   "outputs": [],
   "source": [
    "class Test:\n",
    "    def __init__(self ,a,b,c,d):\n",
    "        self._a = a # This is called protected in python\n",
    "        self.__b = b # This is called private in python  \n",
    "        self.c = c\n",
    "        self.d = d\n",
    "    def m1(self,arg):\n",
    "        return arg - self.__b\n",
    "    def __str__(self):\n",
    "        return \"This is my test class for Abstraction\""
   ]
  },
  {
   "cell_type": "markdown",
   "id": "3aa50117",
   "metadata": {},
   "source": [
    "# Method Overloading:\n",
    "## Method Overloading is the class having methods that are the same name with different arguments.\n",
    "### python does not support method overloading by default. But there are different ways to achieve method overloading in Python. "
   ]
  },
  {
   "cell_type": "code",
   "execution_count": 43,
   "id": "ea67d766",
   "metadata": {},
   "outputs": [],
   "source": [
    "def details(name,age):\n",
    "    return name,age\n",
    "def details(name,age,roll):\n",
    "    return name,age,roll"
   ]
  },
  {
   "cell_type": "code",
   "execution_count": 44,
   "id": "0486910a",
   "metadata": {},
   "outputs": [
    {
     "ename": "TypeError",
     "evalue": "details() missing 1 required positional argument: 'roll'",
     "output_type": "error",
     "traceback": [
      "\u001b[1;31m---------------------------------------------------------------------------\u001b[0m",
      "\u001b[1;31mTypeError\u001b[0m                                 Traceback (most recent call last)",
      "\u001b[1;32m<ipython-input-44-18465004998b>\u001b[0m in \u001b[0;36m<module>\u001b[1;34m\u001b[0m\n\u001b[1;32m----> 1\u001b[1;33m \u001b[0mdetails\u001b[0m\u001b[1;33m(\u001b[0m\u001b[1;34m'HHH'\u001b[0m\u001b[1;33m,\u001b[0m\u001b[1;36m78\u001b[0m\u001b[1;33m)\u001b[0m\u001b[1;33m\u001b[0m\u001b[1;33m\u001b[0m\u001b[0m\n\u001b[0m",
      "\u001b[1;31mTypeError\u001b[0m: details() missing 1 required positional argument: 'roll'"
     ]
    }
   ],
   "source": [
    "details('HHH',78)"
   ]
  },
  {
   "cell_type": "code",
   "execution_count": 45,
   "id": "f3ee2902",
   "metadata": {},
   "outputs": [
    {
     "data": {
      "text/plain": [
       "('HHH', 78, 36363636)"
      ]
     },
     "execution_count": 45,
     "metadata": {},
     "output_type": "execute_result"
    }
   ],
   "source": [
    "details('HHH',78,36363636)"
   ]
  },
  {
   "cell_type": "code",
   "execution_count": null,
   "id": "2b2c4ec6",
   "metadata": {},
   "outputs": [],
   "source": [
    "# Task \n",
    "use method overloading in Class "
   ]
  }
 ],
 "metadata": {
  "kernelspec": {
   "display_name": "Python 3",
   "language": "python",
   "name": "python3"
  },
  "language_info": {
   "codemirror_mode": {
    "name": "ipython",
    "version": 3
   },
   "file_extension": ".py",
   "mimetype": "text/x-python",
   "name": "python",
   "nbconvert_exporter": "python",
   "pygments_lexer": "ipython3",
   "version": "3.8.5"
  }
 },
 "nbformat": 4,
 "nbformat_minor": 5
}
