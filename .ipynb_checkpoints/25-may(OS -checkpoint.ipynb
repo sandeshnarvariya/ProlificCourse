{
 "cells": [
  {
   "cell_type": "code",
   "execution_count": null,
   "id": "e3302761",
   "metadata": {},
   "outputs": [],
   "source": [
    "class Data:\n",
    "    pass"
   ]
  },
  {
   "cell_type": "code",
   "execution_count": null,
   "id": "420f9fba",
   "metadata": {},
   "outputs": [],
   "source": [
    "c= Data('HH','.txt',\"I am a coader\")"
   ]
  },
  {
   "cell_type": "code",
   "execution_count": 28,
   "id": "928bebfb",
   "metadata": {},
   "outputs": [],
   "source": [
    "# Task\n",
    "class Car():\n",
    "    def __init__(self,name,model,year):\n",
    "        self.n = name\n",
    "        self.m = model\n",
    "        self.y = year\n",
    "        self.mil = 10 # we want to change it further\n",
    "    def desc(self):\n",
    "        info = print(f\"My car name is {self.n}\\nand model name is {self.m}\\nmade in {self.y}\")\n",
    "        return info\n",
    "\n",
    "    def update_mil(self,new_mil):\n",
    "        if new_mil > self.mil:\n",
    "            self.mil = new_mil\n",
    "        return self.mil"
   ]
  },
  {
   "cell_type": "code",
   "execution_count": 29,
   "id": "be5ae610",
   "metadata": {},
   "outputs": [],
   "source": [
    "c = Car('mar800','vdi',2011)"
   ]
  },
  {
   "cell_type": "code",
   "execution_count": 30,
   "id": "565e7605",
   "metadata": {
    "scrolled": true
   },
   "outputs": [
    {
     "name": "stdout",
     "output_type": "stream",
     "text": [
      "My car name is mar800\n",
      "and model name is vdi\n",
      "made in 2011\n"
     ]
    }
   ],
   "source": [
    "c.desc()"
   ]
  },
  {
   "cell_type": "code",
   "execution_count": 31,
   "id": "02e069a1",
   "metadata": {},
   "outputs": [
    {
     "data": {
      "text/plain": [
       "10"
      ]
     },
     "execution_count": 31,
     "metadata": {},
     "output_type": "execute_result"
    }
   ],
   "source": [
    "c.mil"
   ]
  },
  {
   "cell_type": "code",
   "execution_count": 34,
   "id": "6a5d467c",
   "metadata": {},
   "outputs": [
    {
     "data": {
      "text/plain": [
       "90"
      ]
     },
     "execution_count": 34,
     "metadata": {},
     "output_type": "execute_result"
    }
   ],
   "source": [
    "c.update_mil(90)"
   ]
  },
  {
   "cell_type": "code",
   "execution_count": 35,
   "id": "a3bfebe9",
   "metadata": {},
   "outputs": [
    {
     "data": {
      "text/plain": [
       "90"
      ]
     },
     "execution_count": 35,
     "metadata": {},
     "output_type": "execute_result"
    }
   ],
   "source": [
    "c.mil"
   ]
  },
  {
   "cell_type": "code",
   "execution_count": 6,
   "id": "f96d3f5d",
   "metadata": {},
   "outputs": [],
   "source": [
    "class Dekho:\n",
    "    def __init__(self,data):\n",
    "        self.data = data\n",
    "        print(\"Ye har ek object ke bn ne pr run hoga\")\n",
    "\n",
    "    def data(self):\n",
    "        return self.data"
   ]
  },
  {
   "cell_type": "code",
   "execution_count": 7,
   "id": "c19b63b0",
   "metadata": {},
   "outputs": [
    {
     "name": "stdout",
     "output_type": "stream",
     "text": [
      "Ye har ek object ke bn ne pr run hoga\n"
     ]
    }
   ],
   "source": [
    "d=Dekho(\"Dikhao\")\n"
   ]
  },
  {
   "cell_type": "code",
   "execution_count": 10,
   "id": "32076c01",
   "metadata": {},
   "outputs": [
    {
     "data": {
      "text/plain": [
       "'Dikhao'"
      ]
     },
     "execution_count": 10,
     "metadata": {},
     "output_type": "execute_result"
    }
   ],
   "source": [
    "d.data"
   ]
  },
  {
   "cell_type": "code",
   "execution_count": 8,
   "id": "4cf6033d",
   "metadata": {},
   "outputs": [
    {
     "name": "stdout",
     "output_type": "stream",
     "text": [
      "Ye har ek object ke bn ne pr run hoga\n"
     ]
    }
   ],
   "source": [
    "d1=Dekho('df')"
   ]
  },
  {
   "cell_type": "code",
   "execution_count": 5,
   "id": "692b066c",
   "metadata": {},
   "outputs": [
    {
     "name": "stdout",
     "output_type": "stream",
     "text": [
      "Ye har ek object ke bn ne pr run hoga\n"
     ]
    }
   ],
   "source": [
    "d2 = Dekho(\"Data\")"
   ]
  },
  {
   "cell_type": "markdown",
   "id": "7d100360",
   "metadata": {},
   "source": [
    "# OS module:"
   ]
  },
  {
   "cell_type": "code",
   "execution_count": 36,
   "id": "f52812ec",
   "metadata": {},
   "outputs": [],
   "source": [
    "import os"
   ]
  },
  {
   "cell_type": "code",
   "execution_count": 37,
   "id": "b825c3ae",
   "metadata": {},
   "outputs": [
    {
     "data": {
      "text/plain": [
       "'C:\\\\Users\\\\Admin\\\\Desktop\\\\Prophilic\\\\Online_Class\\\\Python'"
      ]
     },
     "execution_count": 37,
     "metadata": {},
     "output_type": "execute_result"
    }
   ],
   "source": [
    "pwd()# Present working directoary"
   ]
  },
  {
   "cell_type": "code",
   "execution_count": 38,
   "id": "aa861cab",
   "metadata": {},
   "outputs": [
    {
     "data": {
      "text/plain": [
       "'C:\\\\Users\\\\Admin\\\\Desktop\\\\Prophilic\\\\Online_Class\\\\Python'"
      ]
     },
     "execution_count": 38,
     "metadata": {},
     "output_type": "execute_result"
    }
   ],
   "source": [
    "os.getcwd()#  Current working directory"
   ]
  },
  {
   "cell_type": "code",
   "execution_count": 39,
   "id": "250d4b77",
   "metadata": {},
   "outputs": [
    {
     "data": {
      "text/plain": [
       "['.ipynb_checkpoints',\n",
       " '13-may.ipynb',\n",
       " '17_may.ipynb',\n",
       " '18-may.ipynb',\n",
       " '19-may.ipynb',\n",
       " '22-May.ipynb',\n",
       " '24-may .ipynb',\n",
       " '25-may python.ipynb',\n",
       " '25-may(OS .ipynb',\n",
       " 'OOPs -24 may.ipynb']"
      ]
     },
     "execution_count": 39,
     "metadata": {},
     "output_type": "execute_result"
    }
   ],
   "source": [
    "# IMP\n",
    "os.listdir()"
   ]
  },
  {
   "cell_type": "code",
   "execution_count": 40,
   "id": "e453154f",
   "metadata": {},
   "outputs": [
    {
     "name": "stdout",
     "output_type": "stream",
     "text": [
      ".ipynb_checkpoints\n",
      "13-may.ipynb\n",
      "17_may.ipynb\n",
      "18-may.ipynb\n",
      "19-may.ipynb\n",
      "22-May.ipynb\n",
      "24-may .ipynb\n",
      "25-may python.ipynb\n",
      "25-may(OS .ipynb\n",
      "OOPs -24 may.ipynb\n"
     ]
    }
   ],
   "source": [
    "for i in os.listdir():\n",
    "    print(i)"
   ]
  },
  {
   "cell_type": "code",
   "execution_count": 41,
   "id": "2136a732",
   "metadata": {},
   "outputs": [
    {
     "data": {
      "text/plain": [
       "10"
      ]
     },
     "execution_count": 41,
     "metadata": {},
     "output_type": "execute_result"
    }
   ],
   "source": [
    "len(os.listdir())"
   ]
  },
  {
   "cell_type": "code",
   "execution_count": 42,
   "id": "0df8ef21",
   "metadata": {},
   "outputs": [
    {
     "data": {
      "text/plain": [
       "['.ipynb_checkpoints', 'ML', 'Python']"
      ]
     },
     "execution_count": 42,
     "metadata": {},
     "output_type": "execute_result"
    }
   ],
   "source": [
    "os.listdir(r'C:\\Users\\Admin\\Desktop\\Prophilic\\Online_Class')"
   ]
  },
  {
   "cell_type": "code",
   "execution_count": 47,
   "id": "45927186",
   "metadata": {},
   "outputs": [
    {
     "data": {
      "text/plain": [
       "'D:\\\\MAchine Learning'"
      ]
     },
     "execution_count": 47,
     "metadata": {},
     "output_type": "execute_result"
    }
   ],
   "source": [
    "pwd()"
   ]
  },
  {
   "cell_type": "code",
   "execution_count": 45,
   "id": "cc423d95",
   "metadata": {},
   "outputs": [],
   "source": [
    "# I can change my current working directory\n",
    "os.chdir(\"D:\\MAchine Learning\")"
   ]
  },
  {
   "cell_type": "code",
   "execution_count": 46,
   "id": "3809856c",
   "metadata": {},
   "outputs": [
    {
     "data": {
      "text/plain": [
       "'D:\\\\MAchine Learning'"
      ]
     },
     "execution_count": 46,
     "metadata": {},
     "output_type": "execute_result"
    }
   ],
   "source": [
    "pwd()"
   ]
  },
  {
   "cell_type": "code",
   "execution_count": 48,
   "id": "cc12688b",
   "metadata": {},
   "outputs": [],
   "source": [
    "os.chdir('C:\\\\Users\\\\Admin\\\\Desktop\\\\Prophilic\\\\Online_Class\\\\Python')"
   ]
  },
  {
   "cell_type": "code",
   "execution_count": 49,
   "id": "7a98472e",
   "metadata": {},
   "outputs": [
    {
     "data": {
      "text/plain": [
       "'C:\\\\Users\\\\Admin\\\\Desktop\\\\Prophilic\\\\Online_Class\\\\Python'"
      ]
     },
     "execution_count": 49,
     "metadata": {},
     "output_type": "execute_result"
    }
   ],
   "source": [
    "pwd()"
   ]
  },
  {
   "cell_type": "code",
   "execution_count": 50,
   "id": "c97416bb",
   "metadata": {},
   "outputs": [],
   "source": [
    "# we can create a new directory .\n",
    "os.mkdir(\"New_dir\")"
   ]
  },
  {
   "cell_type": "code",
   "execution_count": 51,
   "id": "d6956c47",
   "metadata": {},
   "outputs": [
    {
     "data": {
      "text/plain": [
       "['.ipynb_checkpoints',\n",
       " '13-may.ipynb',\n",
       " '17_may.ipynb',\n",
       " '18-may.ipynb',\n",
       " '19-may.ipynb',\n",
       " '22-May.ipynb',\n",
       " '24-may .ipynb',\n",
       " '25-may python.ipynb',\n",
       " '25-may(OS .ipynb',\n",
       " 'New_dir',\n",
       " 'OOPs -24 may.ipynb']"
      ]
     },
     "execution_count": 51,
     "metadata": {},
     "output_type": "execute_result"
    }
   ],
   "source": [
    "# how to check\n",
    "os.listdir()"
   ]
  },
  {
   "cell_type": "code",
   "execution_count": 60,
   "id": "5b0595b7",
   "metadata": {},
   "outputs": [
    {
     "name": "stdout",
     "output_type": "stream",
     "text": [
      "['.ipynb_checkpoints', '13-may.ipynb', '17_may.ipynb', '18-may.ipynb', '19-may.ipynb', '22-May.ipynb', '24-may .ipynb', '25-may python.ipynb', '25-may(OS .ipynb', 'New_dir', 'New_dir2', 'New_dir3', 'New_dir4', 'OOPs -24 may.ipynb']\n"
     ]
    }
   ],
   "source": [
    "if 'New_dir4' not in os.listdir():\n",
    "    os.mkdir(\"New_dir4\")\n",
    "    print(os.listdir())\n",
    "else:\n",
    "    print(\"Already Exists\")"
   ]
  },
  {
   "cell_type": "code",
   "execution_count": 58,
   "id": "069a0956",
   "metadata": {},
   "outputs": [
    {
     "data": {
      "text/plain": [
       "['.ipynb_checkpoints',\n",
       " '13-may.ipynb',\n",
       " '17_may.ipynb',\n",
       " '18-may.ipynb',\n",
       " '19-may.ipynb',\n",
       " '22-May.ipynb',\n",
       " '24-may .ipynb',\n",
       " '25-may python.ipynb',\n",
       " '25-may(OS .ipynb',\n",
       " 'New_dir',\n",
       " 'New_dir2',\n",
       " 'New_dir3',\n",
       " 'OOPs -24 may.ipynb']"
      ]
     },
     "execution_count": 58,
     "metadata": {},
     "output_type": "execute_result"
    }
   ],
   "source": [
    "#HW : Dir name wo user ke through liya jaye"
   ]
  },
  {
   "cell_type": "code",
   "execution_count": 65,
   "id": "52e5657c",
   "metadata": {},
   "outputs": [
    {
     "data": {
      "text/plain": [
       "False"
      ]
     },
     "execution_count": 65,
     "metadata": {},
     "output_type": "execute_result"
    }
   ],
   "source": [
    "#Lets check whether directory exist or not\n",
    "os.path.isdir(\"HHHH.txt\")\n",
    "#or\n",
    "os.path.exists('New_dir2')"
   ]
  },
  {
   "cell_type": "code",
   "execution_count": 70,
   "id": "c46e1aad",
   "metadata": {},
   "outputs": [
    {
     "name": "stdout",
     "output_type": "stream",
     "text": [
      "Already Present\n",
      "Hello how are you ?\n",
      "\n",
      " i am fineKHjyggg\n",
      "\n",
      "jhjgggKHjyggg\n",
      "\n",
      "jhjggg\n",
      "\n",
      "KHjyggg\n",
      "\n",
      "jhjggg\n"
     ]
    }
   ],
   "source": [
    "# ex\n",
    "if 'HHHH.txt' not in os.listdir():\n",
    "    print(\"Not present so we are creating it\")\n",
    "    f = open('HHHH.txt','a')\n",
    "    f.write(\"Hello how are you ?\\n i am fine\")\n",
    "    f.close()\n",
    "    f=open('HHHH.txt','r')\n",
    "    l = f.readlines()\n",
    "    for i in l:\n",
    "        print(i)\n",
    "    f.close()\n",
    "else :\n",
    "    print(\"Already Present\")\n",
    "    f = open(\"HHHH.txt\",'a')\n",
    "    f.write('\\nKHjyggg\\njhjggg')\n",
    "    f.close()\n",
    "    f = open(\"HHHH.txt\",'r')\n",
    "    l = f.readlines()\n",
    "    for i in l:\n",
    "        print(i)\n",
    "    f.close()\n",
    "            \n",
    "    "
   ]
  },
  {
   "cell_type": "code",
   "execution_count": 71,
   "id": "093c5ae9",
   "metadata": {},
   "outputs": [
    {
     "data": {
      "text/plain": [
       "['.ipynb_checkpoints',\n",
       " '13-may.ipynb',\n",
       " '17_may.ipynb',\n",
       " '18-may.ipynb',\n",
       " '19-may.ipynb',\n",
       " '22-May.ipynb',\n",
       " '24-may .ipynb',\n",
       " '25-may python.ipynb',\n",
       " '25-may(OS .ipynb',\n",
       " 'HHHH.txt',\n",
       " 'New_dir',\n",
       " 'New_dir2',\n",
       " 'New_dir3',\n",
       " 'New_dir4',\n",
       " 'OOPs -24 may.ipynb']"
      ]
     },
     "execution_count": 71,
     "metadata": {},
     "output_type": "execute_result"
    }
   ],
   "source": [
    "os.listdir()"
   ]
  },
  {
   "cell_type": "code",
   "execution_count": 72,
   "id": "5ff999cc",
   "metadata": {},
   "outputs": [],
   "source": [
    "# os.rename('old','new')\n",
    "os.rename('HHHH.txt','hghg.txt')"
   ]
  },
  {
   "cell_type": "code",
   "execution_count": 73,
   "id": "b6c4f33d",
   "metadata": {
    "scrolled": true
   },
   "outputs": [
    {
     "data": {
      "text/plain": [
       "['.ipynb_checkpoints',\n",
       " '13-may.ipynb',\n",
       " '17_may.ipynb',\n",
       " '18-may.ipynb',\n",
       " '19-may.ipynb',\n",
       " '22-May.ipynb',\n",
       " '24-may .ipynb',\n",
       " '25-may python.ipynb',\n",
       " '25-may(OS .ipynb',\n",
       " 'hghg.txt',\n",
       " 'New_dir',\n",
       " 'New_dir2',\n",
       " 'New_dir3',\n",
       " 'New_dir4',\n",
       " 'OOPs -24 may.ipynb']"
      ]
     },
     "execution_count": 73,
     "metadata": {},
     "output_type": "execute_result"
    }
   ],
   "source": [
    "os.listdir()"
   ]
  },
  {
   "cell_type": "code",
   "execution_count": 75,
   "id": "f15bbe7e",
   "metadata": {},
   "outputs": [],
   "source": [
    "# remove\n",
    "os.rmdir('New_dir')"
   ]
  },
  {
   "cell_type": "code",
   "execution_count": null,
   "id": "3d74db48",
   "metadata": {},
   "outputs": [],
   "source": [
    "dir = folder"
   ]
  },
  {
   "cell_type": "code",
   "execution_count": 76,
   "id": "3df95de9",
   "metadata": {
    "scrolled": true
   },
   "outputs": [
    {
     "data": {
      "text/plain": [
       "['.ipynb_checkpoints',\n",
       " '13-may.ipynb',\n",
       " '17_may.ipynb',\n",
       " '18-may.ipynb',\n",
       " '19-may.ipynb',\n",
       " '22-May.ipynb',\n",
       " '24-may .ipynb',\n",
       " '25-may python.ipynb',\n",
       " '25-may(OS .ipynb',\n",
       " 'hghg.txt',\n",
       " 'New_dir2',\n",
       " 'New_dir3',\n",
       " 'New_dir4',\n",
       " 'OOPs -24 may.ipynb']"
      ]
     },
     "execution_count": 76,
     "metadata": {},
     "output_type": "execute_result"
    }
   ],
   "source": [
    "os.listdir()"
   ]
  },
  {
   "cell_type": "code",
   "execution_count": 79,
   "id": "592c5977",
   "metadata": {},
   "outputs": [],
   "source": [
    "import shutil\n",
    "# for cut and paste"
   ]
  },
  {
   "cell_type": "code",
   "execution_count": 80,
   "id": "1ad33092",
   "metadata": {},
   "outputs": [
    {
     "data": {
      "text/plain": [
       "'C:\\\\Users\\\\Admin\\\\Desktop\\\\Prophilic\\\\Online_Class\\\\Python'"
      ]
     },
     "execution_count": 80,
     "metadata": {},
     "output_type": "execute_result"
    }
   ],
   "source": [
    "os.getcwd()"
   ]
  },
  {
   "cell_type": "code",
   "execution_count": 81,
   "id": "91ac0132",
   "metadata": {},
   "outputs": [
    {
     "data": {
      "text/plain": [
       "'G:New_dir4'"
      ]
     },
     "execution_count": 81,
     "metadata": {},
     "output_type": "execute_result"
    }
   ],
   "source": [
    "shutil.move(\"C:\\\\Users\\\\Admin\\\\Desktop\\\\Prophilic\\\\Online_Class\\\\Python\\\\New_dir4\",'G:')"
   ]
  },
  {
   "cell_type": "code",
   "execution_count": 82,
   "id": "20388ee3",
   "metadata": {},
   "outputs": [
    {
     "data": {
      "text/plain": [
       "['.ipynb_checkpoints',\n",
       " '13-may.ipynb',\n",
       " '17_may.ipynb',\n",
       " '18-may.ipynb',\n",
       " '19-may.ipynb',\n",
       " '22-May.ipynb',\n",
       " '24-may .ipynb',\n",
       " '25-may python.ipynb',\n",
       " '25-may(OS .ipynb',\n",
       " 'hghg.txt',\n",
       " 'New_dir2',\n",
       " 'New_dir3',\n",
       " 'OOPs -24 may.ipynb']"
      ]
     },
     "execution_count": 82,
     "metadata": {},
     "output_type": "execute_result"
    }
   ],
   "source": [
    "os.listdir()"
   ]
  },
  {
   "cell_type": "markdown",
   "id": "52628ef4",
   "metadata": {},
   "source": [
    "## Task ()\n",
    "* * Use only Python codes . . . . . \n",
    "* Creat a directory,\n",
    "* Creat 10 text files and write some data in all the files at a time\n",
    "* Read all the data from files and print That .\n",
    "* Hold all the data(from all files) in a single list \n",
    "* Write all the data in a new_file from list .\n",
    "* Keep only a new_file in Present directory and move rest 10 files in other location."
   ]
  },
  {
   "cell_type": "code",
   "execution_count": 85,
   "id": "fc6ae953",
   "metadata": {},
   "outputs": [],
   "source": [
    "os.listdir()\n",
    "os.makedirs(\"ggg/sss/yyy\")"
   ]
  },
  {
   "cell_type": "code",
   "execution_count": 86,
   "id": "e4eab7a8",
   "metadata": {},
   "outputs": [
    {
     "data": {
      "text/plain": [
       "['.ipynb_checkpoints',\n",
       " '13-may.ipynb',\n",
       " '17_may.ipynb',\n",
       " '18-may.ipynb',\n",
       " '19-may.ipynb',\n",
       " '22-May.ipynb',\n",
       " '24-may .ipynb',\n",
       " '25-may python.ipynb',\n",
       " '25-may(OS .ipynb',\n",
       " 'ggg',\n",
       " 'hghg.txt',\n",
       " 'New_dir2',\n",
       " 'New_dir3',\n",
       " 'OOPs -24 may.ipynb']"
      ]
     },
     "execution_count": 86,
     "metadata": {},
     "output_type": "execute_result"
    }
   ],
   "source": [
    "os.listdir()"
   ]
  },
  {
   "cell_type": "code",
   "execution_count": 87,
   "id": "d5ee095d",
   "metadata": {},
   "outputs": [],
   "source": [
    "os.listdir()\n",
    "os.makedirs(\"DD/FF/JJ/KK\")"
   ]
  },
  {
   "cell_type": "code",
   "execution_count": 88,
   "id": "d34dafb1",
   "metadata": {
    "scrolled": false
   },
   "outputs": [
    {
     "data": {
      "text/plain": [
       "['.ipynb_checkpoints',\n",
       " '13-may.ipynb',\n",
       " '17_may.ipynb',\n",
       " '18-may.ipynb',\n",
       " '19-may.ipynb',\n",
       " '22-May.ipynb',\n",
       " '24-may .ipynb',\n",
       " '25-may python.ipynb',\n",
       " '25-may(OS .ipynb',\n",
       " 'DD',\n",
       " 'ggg',\n",
       " 'hghg.txt',\n",
       " 'New_dir2',\n",
       " 'New_dir3',\n",
       " 'OOPs -24 may.ipynb']"
      ]
     },
     "execution_count": 88,
     "metadata": {},
     "output_type": "execute_result"
    }
   ],
   "source": [
    "os.listdir()"
   ]
  },
  {
   "cell_type": "code",
   "execution_count": 89,
   "id": "64967082",
   "metadata": {},
   "outputs": [
    {
     "data": {
      "text/plain": [
       "'C:\\\\Users\\\\Admin\\\\Desktop\\\\Prophilic\\\\Online_Class\\\\Python'"
      ]
     },
     "execution_count": 89,
     "metadata": {},
     "output_type": "execute_result"
    }
   ],
   "source": [
    "pwd()"
   ]
  },
  {
   "cell_type": "code",
   "execution_count": 90,
   "id": "9c9be126",
   "metadata": {},
   "outputs": [],
   "source": [
    "os.chdir('C:\\\\Users\\\\Admin\\\\Desktop\\\\Prophilic\\\\Online_Class\\\\Python\\\\DD')\n",
    "os.listdir()"
   ]
  },
  {
   "cell_type": "code",
   "execution_count": 93,
   "id": "9847c7d8",
   "metadata": {},
   "outputs": [
    {
     "data": {
      "text/plain": [
       "['JJ']"
      ]
     },
     "execution_count": 93,
     "metadata": {},
     "output_type": "execute_result"
    }
   ],
   "source": [
    "os.chdir('C:\\\\Users\\\\Admin\\\\Desktop\\\\Prophilic\\\\Online_Class\\\\Python\\\\DD\\\\FF')\n",
    "os.listdir()"
   ]
  },
  {
   "cell_type": "code",
   "execution_count": 94,
   "id": "a6d828a6",
   "metadata": {},
   "outputs": [
    {
     "data": {
      "text/plain": [
       "OSError()"
      ]
     },
     "execution_count": 94,
     "metadata": {},
     "output_type": "execute_result"
    }
   ],
   "source": [
    "os.error()"
   ]
  },
  {
   "cell_type": "code",
   "execution_count": null,
   "id": "5d02530c",
   "metadata": {},
   "outputs": [],
   "source": []
  }
 ],
 "metadata": {
  "kernelspec": {
   "display_name": "Python 3",
   "language": "python",
   "name": "python3"
  },
  "language_info": {
   "codemirror_mode": {
    "name": "ipython",
    "version": 3
   },
   "file_extension": ".py",
   "mimetype": "text/x-python",
   "name": "python",
   "nbconvert_exporter": "python",
   "pygments_lexer": "ipython3",
   "version": "3.8.5"
  }
 },
 "nbformat": 4,
 "nbformat_minor": 5
}
