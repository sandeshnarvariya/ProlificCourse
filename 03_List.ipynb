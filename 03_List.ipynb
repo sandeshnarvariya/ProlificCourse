{
 "cells": [
  {
   "cell_type": "code",
   "execution_count": 16,
   "metadata": {},
   "outputs": [],
   "source": [
    "a = '₹1,54,990₹1,64,9906% off'\n",
    "\n",
    "# Required value_1 : 154990\n",
    "# Required value_2 : 1649906\n",
    "# Required value_3 : 1549901649906"
   ]
  },
  {
   "cell_type": "code",
   "execution_count": 17,
   "metadata": {},
   "outputs": [
    {
     "data": {
      "text/plain": [
       "'154990'"
      ]
     },
     "execution_count": 17,
     "metadata": {},
     "output_type": "execute_result"
    }
   ],
   "source": [
    "Required_value_1 = ''.join(a.split('₹')[1].split(','))\n",
    "Required_value_1"
   ]
  },
  {
   "cell_type": "code",
   "execution_count": 3,
   "metadata": {},
   "outputs": [
    {
     "name": "stdout",
     "output_type": "stream",
     "text": [
      "['', '1,54,990', '1,64,9906% off']\n"
     ]
    },
    {
     "data": {
      "text/plain": [
       "'1,54,990'"
      ]
     },
     "execution_count": 3,
     "metadata": {},
     "output_type": "execute_result"
    }
   ],
   "source": [
    "b=a.split('₹')\n",
    "print(b)\n",
    "c=b[1]\n",
    "c"
   ]
  },
  {
   "cell_type": "code",
   "execution_count": 4,
   "metadata": {},
   "outputs": [
    {
     "data": {
      "text/plain": [
       "['1', '54', '990']"
      ]
     },
     "execution_count": 4,
     "metadata": {},
     "output_type": "execute_result"
    }
   ],
   "source": [
    "d=c.split(',')\n",
    "d"
   ]
  },
  {
   "cell_type": "code",
   "execution_count": 5,
   "metadata": {},
   "outputs": [
    {
     "data": {
      "text/plain": [
       "'154990'"
      ]
     },
     "execution_count": 5,
     "metadata": {},
     "output_type": "execute_result"
    }
   ],
   "source": [
    "e=\"\".join(d)\n",
    "e"
   ]
  },
  {
   "cell_type": "markdown",
   "metadata": {},
   "source": [
    "## List (Mutable)\n",
    "\n",
    "* Denoted by [ ] and items are separated using a ,\n",
    "* Concatenation\n",
    "* Indexing,Slicing\n",
    "* Methods\n",
    "* a =[ ] -> Empty List"
   ]
  },
  {
   "cell_type": "code",
   "execution_count": 16,
   "metadata": {},
   "outputs": [
    {
     "name": "stdout",
     "output_type": "stream",
     "text": [
      "[21, 54] <class 'list'> 2\n"
     ]
    }
   ],
   "source": [
    "a = []\n",
    "# Notice how the type is class list, as everything is an object in Python\n",
    "print(a,type(a),len(a))"
   ]
  },
  {
   "cell_type": "code",
   "execution_count": 17,
   "metadata": {},
   "outputs": [
    {
     "name": "stdout",
     "output_type": "stream",
     "text": [
      "[10, 20, 30, 40]\n",
      "[10, 10.45, 'HELLO', [1, 2, 3]]\n"
     ]
    }
   ],
   "source": [
    "# Homogenous data -> Same type\n",
    "a = [10,20,30,40]\n",
    "print(a)\n",
    "# Heterogenous Data -> Multiple types\n",
    "b = [10,10.45,\"HELLO\",[1,2,3]]\n",
    "print(b)"
   ]
  },
  {
   "cell_type": "code",
   "execution_count": 18,
   "metadata": {},
   "outputs": [
    {
     "name": "stdout",
     "output_type": "stream",
     "text": [
      "[1, 2, 3] [4, 5, 6] 2623873307456\n",
      "[1, 2, 3, 4, 5, 6] 2623872950848\n",
      "False\n"
     ]
    }
   ],
   "source": [
    "# Concatenation\n",
    "# It change sthe address(id) value as it reinitializes the varible\n",
    "a = [1,2,3]\n",
    "b = [4,5,6]\n",
    "print(a,b,id(a))\n",
    "c = a+b\n",
    "print(c,id(c))\n",
    "print(id(a) is id(b))"
   ]
  },
  {
   "cell_type": "markdown",
   "metadata": {},
   "source": [
    "## Indexing and Slicing\n",
    "\n",
    "* It works the same way it worked on strings"
   ]
  },
  {
   "cell_type": "code",
   "execution_count": 19,
   "metadata": {},
   "outputs": [
    {
     "name": "stdout",
     "output_type": "stream",
     "text": [
      "30\n",
      "40\n",
      "[30, 40, 50]\n",
      "[20, 40]\n",
      "\n",
      "[60, 50, 40, 30, 20, 10]\n"
     ]
    }
   ],
   "source": [
    "a = [10,20,30,40,50,60]\n",
    "\n",
    "print(a[2])#30\n",
    "print(a[-3])#40\n",
    "\n",
    "print(a[2:5])#30,40\n",
    "print(a[1:5:2])#20,40,60\n",
    "print()\n",
    "print(a[::-1])#60,50,40,30,20,10"
   ]
  },
  {
   "cell_type": "code",
   "execution_count": 20,
   "metadata": {},
   "outputs": [
    {
     "name": "stdout",
     "output_type": "stream",
     "text": [
      "[[10, 20], ['HELLO', 'PYTHON']] 2\n",
      "[10, 20]\n",
      "10\n",
      "H\n",
      "P\n",
      "P\n"
     ]
    }
   ],
   "source": [
    "a = [[10,20],[\"HELLO\",\"PYTHON\"]]\n",
    "print(a,len(a))\n",
    "print(a[0])#[10,20]\n",
    "#b = a[0]\n",
    "#print(b[0])\n",
    "# Handling indexing in a matrix form\n",
    "print(a[0][0])#10\n",
    "\n",
    "print(a[1][0][0])#H\n",
    "print(a[1][1][-6])#p\n",
    "print(a[1][1][0])#p"
   ]
  },
  {
   "cell_type": "code",
   "execution_count": 21,
   "metadata": {},
   "outputs": [
    {
     "name": "stdout",
     "output_type": "stream",
     "text": [
      "[10, 20, 30, 40, 50, 60]\n"
     ]
    },
    {
     "data": {
      "text/plain": [
       "[10, 70, 30, 40, 50, 60]"
      ]
     },
     "execution_count": 21,
     "metadata": {},
     "output_type": "execute_result"
    }
   ],
   "source": [
    "a = [10,20,30,40,50,60]\n",
    "print(a)\n",
    "a[1] =70\n",
    "a"
   ]
  },
  {
   "cell_type": "markdown",
   "metadata": {},
   "source": [
    "## List Methods"
   ]
  },
  {
   "cell_type": "code",
   "execution_count": null,
   "metadata": {},
   "outputs": [],
   "source": [
    "help(list)"
   ]
  },
  {
   "cell_type": "code",
   "execution_count": null,
   "metadata": {},
   "outputs": [],
   "source": [
    "help(list.append)"
   ]
  },
  {
   "cell_type": "code",
   "execution_count": 22,
   "metadata": {},
   "outputs": [
    {
     "name": "stdout",
     "output_type": "stream",
     "text": [
      "[10, 20, 30] 2623873301568\n",
      "[10, 20, 30, 40] None\n",
      "[10, 20, 30, 40, [1, 2, 3]]\n",
      "[10, 20, 30, 40, [1, 2, 3], 'HELLO']\n"
     ]
    }
   ],
   "source": [
    "a = [10,20,30]\n",
    "print(a,id(a))#what is ID\n",
    "# Append method adds items to end of the list\n",
    "b = a.append(40)\n",
    "print(a,b)\n",
    "a.append([1,2,3])\n",
    "print(a)\n",
    "a.append('HELLO')\n",
    "print(a)"
   ]
  },
  {
   "cell_type": "code",
   "execution_count": 23,
   "metadata": {},
   "outputs": [
    {
     "name": "stdout",
     "output_type": "stream",
     "text": [
      "2\n",
      "1\n"
     ]
    }
   ],
   "source": [
    "a = [10,40,50,40]\n",
    "b = a.count(40)\n",
    "print(b)\n",
    "b = a.index(40)\n",
    "print(b)"
   ]
  },
  {
   "cell_type": "code",
   "execution_count": 47,
   "metadata": {},
   "outputs": [
    {
     "name": "stdout",
     "output_type": "stream",
     "text": [
      "40\n",
      "50\n",
      "40\n",
      "10\n",
      "[]\n"
     ]
    }
   ],
   "source": [
    "a = [10,40,50,40]\n",
    "print(a.pop())#40\n",
    "print(a.pop())#50\n",
    "print(a.pop())#40\n",
    "print(a.pop())#10\n",
    "print(a)\n"
   ]
  },
  {
   "cell_type": "code",
   "execution_count": 48,
   "metadata": {},
   "outputs": [
    {
     "data": {
      "text/plain": [
       "[10, 40, 40]"
      ]
     },
     "execution_count": 48,
     "metadata": {},
     "output_type": "execute_result"
    }
   ],
   "source": [
    "a = [10,40,50,40]\n",
    "del a[2]\n",
    "\n",
    "a"
   ]
  },
  {
   "cell_type": "code",
   "execution_count": 26,
   "metadata": {},
   "outputs": [
    {
     "data": {
      "text/plain": [
       "[10, 40]"
      ]
     },
     "execution_count": 26,
     "metadata": {},
     "output_type": "execute_result"
    }
   ],
   "source": [
    "a = [10,40,50,40]\n",
    "del a[1:3]\n",
    "\n",
    "a"
   ]
  },
  {
   "cell_type": "code",
   "execution_count": 6,
   "metadata": {},
   "outputs": [
    {
     "name": "stdout",
     "output_type": "stream",
     "text": [
      "50\n"
     ]
    },
    {
     "data": {
      "text/plain": [
       "[10, 40, 40]"
      ]
     },
     "execution_count": 6,
     "metadata": {},
     "output_type": "execute_result"
    }
   ],
   "source": [
    "a = [10,40,50,40]\n",
    "print(a.pop(2))\n",
    "a"
   ]
  },
  {
   "cell_type": "code",
   "execution_count": 7,
   "metadata": {},
   "outputs": [
    {
     "name": "stdout",
     "output_type": "stream",
     "text": [
      "[40]\n"
     ]
    }
   ],
   "source": [
    "# imp\n",
    "a = [10,40,50,40]\n",
    "del a[0:3]\n",
    "print(a)"
   ]
  },
  {
   "cell_type": "code",
   "execution_count": 27,
   "metadata": {},
   "outputs": [
    {
     "name": "stdout",
     "output_type": "stream",
     "text": [
      "[10, 50, 40]\n"
     ]
    }
   ],
   "source": [
    "a = [10,40,50,40]\n",
    "a.remove(40)\n",
    "print(a)\n"
   ]
  },
  {
   "cell_type": "code",
   "execution_count": 31,
   "metadata": {},
   "outputs": [
    {
     "name": "stdout",
     "output_type": "stream",
     "text": [
      "[]\n"
     ]
    }
   ],
   "source": [
    "a = [10,40,50,40]\n",
    "a.clear()\n",
    "print(a)\n"
   ]
  },
  {
   "cell_type": "code",
   "execution_count": 10,
   "metadata": {},
   "outputs": [
    {
     "name": "stdout",
     "output_type": "stream",
     "text": [
      "[10, 50, 40]\n",
      "[10, 50] 40\n",
      "[10] 50\n",
      "[] 2623872960000\n"
     ]
    }
   ],
   "source": [
    "a = [10,40,50,40]\n",
    "# Remove method deltes the values passed as an argument\n",
    "# It value does not exist an error is displayed\n",
    "a.remove(40)\n",
    "print(a)\n",
    "# Pop method removes the item at particular index; by default last\n",
    "b = a.pop()\n",
    "print(a,b)\n",
    "b = a.pop(1)\n",
    "print(a,b)\n",
    "#  Clear deletes the entire list and gives us an empty list\n",
    "a.clear()\n",
    "print(a,id(a))"
   ]
  },
  {
   "cell_type": "code",
   "execution_count": 11,
   "metadata": {},
   "outputs": [
    {
     "name": "stdout",
     "output_type": "stream",
     "text": [
      "[10, 40, 20, 30]\n"
     ]
    }
   ],
   "source": [
    "a = [10,20,30]\n",
    "# Insert method ads item to the index position mentioned.\n",
    "# index(index,value)\n",
    "a.insert(1,40)\n",
    "print(a)"
   ]
  },
  {
   "cell_type": "code",
   "execution_count": 12,
   "metadata": {},
   "outputs": [
    {
     "name": "stdout",
     "output_type": "stream",
     "text": [
      "[1, 2, 3] [4, 5, 6] 2623872873920\n",
      "[1, 2, 3, 4, 5, 6] 2623872693184\n"
     ]
    }
   ],
   "source": [
    "a = [1,2,3]\n",
    "b = [4,5,6]\n",
    "print(a,b,id(a))\n",
    "c = a+b\n",
    "print(c,id(c))"
   ]
  },
  {
   "cell_type": "code",
   "execution_count": 13,
   "metadata": {},
   "outputs": [
    {
     "name": "stdout",
     "output_type": "stream",
     "text": [
      "[1, 2, 3, 4, 5, 6] 2623872889984\n",
      "[4, 5, 6, 1, 2, 3, 4, 5, 6]\n"
     ]
    }
   ],
   "source": [
    "# Extend method concatenates without changing the orginal address\n",
    "a = [1,2,3]\n",
    "b = [4,5,6]\n",
    "#print(a,b,id(a))\n",
    "a.extend(b)\n",
    "\n",
    "print(a,id(a))\n",
    "b.extend(a)\n",
    "print(b)"
   ]
  },
  {
   "cell_type": "code",
   "execution_count": null,
   "metadata": {},
   "outputs": [],
   "source": [
    "a = [25, 28, 15, 13, 21, 6]\n",
    "print(a,id(a))\n",
    "b = a[::-1]\n",
    "print(b,id(a))"
   ]
  },
  {
   "cell_type": "code",
   "execution_count": null,
   "metadata": {},
   "outputs": [],
   "source": [
    "help(list.reverse)"
   ]
  },
  {
   "cell_type": "code",
   "execution_count": 33,
   "metadata": {},
   "outputs": [
    {
     "name": "stdout",
     "output_type": "stream",
     "text": [
      "[25, 28, 15, 13, 21, 6] 2623872788032\n",
      "[6, 21, 13, 15, 28, 25]\n"
     ]
    }
   ],
   "source": [
    "a = [25, 28, 15, 13, 21, 6]\n",
    "#print(a,id(a))\n",
    "a.reverse()\n",
    "print(a)\n"
   ]
  },
  {
   "cell_type": "code",
   "execution_count": null,
   "metadata": {},
   "outputs": [],
   "source": [
    "help(list.sort)"
   ]
  },
  {
   "cell_type": "code",
   "execution_count": null,
   "metadata": {},
   "outputs": [],
   "source": [
    "a = [25, 28, 15, 13, 21, 6]\n",
    "print(a)\n",
    "a.sort()\n",
    "print(a)\n",
    "# #ass = a.sort()\n",
    "# #print(ass)\n",
    "# print(a,id(ass))\n",
    "# # To get sorting order in descending order\n",
    "a.sort(reverse=True)\n",
    "# print(a,id(desc))\n",
    "print(a)"
   ]
  },
  {
   "cell_type": "code",
   "execution_count": 49,
   "metadata": {},
   "outputs": [
    {
     "name": "stdout",
     "output_type": "stream",
     "text": [
      "[6, 13, 15, 21, 25, 28]\n"
     ]
    },
    {
     "data": {
      "text/plain": [
       "[25, 28, 15, 13, 21, 6]"
      ]
     },
     "execution_count": 49,
     "metadata": {},
     "output_type": "execute_result"
    }
   ],
   "source": [
    "a = [25, 28, 15, 13, 21, 6]\n",
    "print(sorted(a))\n",
    "a"
   ]
  },
  {
   "cell_type": "code",
   "execution_count": 34,
   "metadata": {},
   "outputs": [
    {
     "name": "stdout",
     "output_type": "stream",
     "text": [
      "['ze', 'bcdefg', 'axe', 'defg']\n",
      "['axe', 'bcdefg', 'defg', 'ze']\n",
      "['ze', 'axe', 'defg', 'bcdefg']\n"
     ]
    }
   ],
   "source": [
    "a = ['ze','bcdefg','axe','defg']\n",
    "print(a)\n",
    "# Sorting alphabetically\n",
    "a.sort()\n",
    "print(a)\n",
    "# Key argument is used to customize the sort order\n",
    "# We are now sorting using length of the items\n",
    "a.sort(key=len)\n",
    "print(a)"
   ]
  },
  {
   "cell_type": "code",
   "execution_count": 35,
   "metadata": {
    "scrolled": true
   },
   "outputs": [
    {
     "name": "stdout",
     "output_type": "stream",
     "text": [
      "[10, 40, 50, 40] 2623873559296\n",
      "[10, 40, 50, 40] 2623872693888\n"
     ]
    }
   ],
   "source": [
    "a = [10,40,50,40]\n",
    "print(a,id(a))\n",
    "b=a[:]\n",
    "print(b,id(b))"
   ]
  },
  {
   "cell_type": "code",
   "execution_count": 36,
   "metadata": {},
   "outputs": [
    {
     "name": "stdout",
     "output_type": "stream",
     "text": [
      "[10, 40, 50, 40, 40]\n",
      "[10, 40, 50, 40, 40]\n"
     ]
    }
   ],
   "source": [
    "#imp\n",
    "a = [10,40,50,40]\n",
    "b=a\n",
    "b.append(40)\n",
    "print(b)\n",
    "print(a)"
   ]
  },
  {
   "cell_type": "markdown",
   "metadata": {},
   "source": [
    "## Shallow Copy\n",
    "\n",
    "This is required so that we can create a copy of the original list and do not modify it using another variable.\n",
    "\n",
    "Example : "
   ]
  },
  {
   "cell_type": "code",
   "execution_count": 38,
   "metadata": {},
   "outputs": [
    {
     "name": "stdout",
     "output_type": "stream",
     "text": [
      "[10, 20, 30] [10, 20, 30]\n",
      "True\n",
      "True\n",
      "[55, 20, 30] [55, 20, 30]\n"
     ]
    }
   ],
   "source": [
    "a = [10,20,30]\n",
    "b = a # b is a reference to a\n",
    "print(a,b)\n",
    "# print(id(a),id(b))\n",
    "print(a == b)\n",
    "print(a is b)\n",
    "b[0] = 55\n",
    "# You can see that both list a and b gets modified\n",
    "print(a,b)"
   ]
  },
  {
   "cell_type": "code",
   "execution_count": 41,
   "metadata": {},
   "outputs": [
    {
     "name": "stdout",
     "output_type": "stream",
     "text": [
      "[10, 20, 30] [10, 20, 30]\n",
      "2623873979200 2623873979392\n",
      "True\n",
      "False\n",
      "[10, 20, 30] [50, 20, 30]\n"
     ]
    }
   ],
   "source": [
    "a = [10,20,30]\n",
    "b = a.copy() # b is a shallow copy of a\n",
    "print(a,b)\n",
    "# print(id(a),id(b))\n",
    "print(a == b)\n",
    "print(a is b)\n",
    "b[0] = 50\n",
    "# Only list b gets modified\n",
    "print(a,b)"
   ]
  },
  {
   "cell_type": "markdown",
   "metadata": {},
   "source": [
    "### Tuples (Immutable Lists)\n",
    "\n",
    "* Denoted by ( ) and items are separated using a ,\n",
    "* Concatenation\n",
    "* Indexing, SLicing\n",
    "* Methods -> Count, Index\n",
    "* Genrally faster than lists"
   ]
  },
  {
   "cell_type": "code",
   "execution_count": null,
   "metadata": {},
   "outputs": [],
   "source": [
    "a = (10,20,30)\n",
    "print(a,type(a))\n",
    "# Below statement will give an error as tuples are immutable\n",
    "a[0] = 40\n"
   ]
  },
  {
   "cell_type": "code",
   "execution_count": null,
   "metadata": {},
   "outputs": [],
   "source": [
    "dir(tuple)"
   ]
  },
  {
   "cell_type": "code",
   "execution_count": null,
   "metadata": {},
   "outputs": [],
   "source": [
    "a = [10,20,30,40,50,60]\n",
    "print(a,type(a))\n",
    "a = tuple(a)\n",
    "print(a,type(a))"
   ]
  },
  {
   "cell_type": "code",
   "execution_count": 1,
   "metadata": {},
   "outputs": [
    {
     "name": "stdout",
     "output_type": "stream",
     "text": [
      "10\n",
      "(30, 40, 50, 60)\n"
     ]
    }
   ],
   "source": [
    "a = (10, 20, 30, 40, 50, 60)\n",
    "print(a[0])\n",
    "print(a[2:5+1])"
   ]
  },
  {
   "cell_type": "code",
   "execution_count": 2,
   "metadata": {},
   "outputs": [
    {
     "name": "stdout",
     "output_type": "stream",
     "text": [
      "(1, 2, 3) (4, 5, 6) 80909632\n",
      "(1, 2, 3, 4, 5, 6) 80447040\n"
     ]
    }
   ],
   "source": [
    "a = (1,2,3)\n",
    "b = (4,5,6)\n",
    "print(a,b,id(a))\n",
    "a = a+b\n",
    "print(a,id(a))"
   ]
  },
  {
   "cell_type": "markdown",
   "metadata": {},
   "source": [
    "# Typecasting\n",
    "\n",
    "Changing from one type to another"
   ]
  },
  {
   "cell_type": "code",
   "execution_count": 3,
   "metadata": {},
   "outputs": [
    {
     "name": "stdout",
     "output_type": "stream",
     "text": [
      "123 <class 'int'>\n",
      "123.0 <class 'float'>\n"
     ]
    }
   ],
   "source": [
    "a = 123\n",
    "print(a,type(a))\n",
    "a = float(a)\n",
    "print(a,type(a))"
   ]
  },
  {
   "cell_type": "code",
   "execution_count": 5,
   "metadata": {},
   "outputs": [
    {
     "name": "stdout",
     "output_type": "stream",
     "text": [
      "123.45 <class 'float'>\n",
      "123 <class 'int'>\n"
     ]
    }
   ],
   "source": [
    "a = 123.45\n",
    "print(a,type(a))\n",
    "a = int(a)\n",
    "print(a,type(a))"
   ]
  },
  {
   "cell_type": "code",
   "execution_count": 6,
   "metadata": {},
   "outputs": [
    {
     "name": "stdout",
     "output_type": "stream",
     "text": [
      "123 <class 'str'>\n",
      "123 <class 'int'>\n"
     ]
    }
   ],
   "source": [
    "a = '123'\n",
    "print(a,type(a))\n",
    "a = int(a)\n",
    "print(a,type(a))"
   ]
  },
  {
   "cell_type": "code",
   "execution_count": 7,
   "metadata": {},
   "outputs": [
    {
     "name": "stdout",
     "output_type": "stream",
     "text": [
      "123.45 <class 'str'>\n",
      "123.45 <class 'float'>\n",
      "123 <class 'int'>\n"
     ]
    }
   ],
   "source": [
    "a = '123.45'\n",
    "print(a,type(a))\n",
    "a = float(a)\n",
    "print(a,type(a))\n",
    "a = int(a)\n",
    "print(a,type(a))"
   ]
  },
  {
   "cell_type": "code",
   "execution_count": 12,
   "metadata": {},
   "outputs": [
    {
     "name": "stdout",
     "output_type": "stream",
     "text": [
      "PYTHON <class 'str'>\n",
      "['P', 'Y', 'T', 'H', 'O', 'N'] <class 'list'>\n",
      "PYTHON <class 'str'>\n"
     ]
    }
   ],
   "source": [
    "a = 'PYTHON'\n",
    "print(a,type(a))\n",
    "a = list(a)#\n",
    "print(a,type(a))\n",
    "a = ''.join(a)\n",
    "print(a,type(a))"
   ]
  },
  {
   "cell_type": "code",
   "execution_count": 10,
   "metadata": {},
   "outputs": [
    {
     "name": "stdout",
     "output_type": "stream",
     "text": [
      "['PYTHON']\n"
     ]
    }
   ],
   "source": [
    "a = 'PYTHON'\n",
    "print(a.split())"
   ]
  },
  {
   "cell_type": "code",
   "execution_count": 42,
   "metadata": {},
   "outputs": [
    {
     "data": {
      "text/plain": [
       "8765"
      ]
     },
     "execution_count": 42,
     "metadata": {},
     "output_type": "execute_result"
    }
   ],
   "source": [
    "a=5678\n",
    "#8765\n",
    "a=str(a)\n",
    "a\n",
    "b=a[::-1]\n",
    "b\n",
    "c=int(b)\n",
    "c"
   ]
  },
  {
   "cell_type": "code",
   "execution_count": 45,
   "metadata": {},
   "outputs": [
    {
     "name": "stdout",
     "output_type": "stream",
     "text": [
      "12345 <class 'str'>\n",
      "54321\n"
     ]
    }
   ],
   "source": [
    "a = 12345\n",
    "b=str(a)\n",
    "b[::-1]\n",
    "print(b,type(b))\n",
    "c=int(b)\n",
    "c\n",
    "d=int(str(a)[::-1])\n",
    "print(d)"
   ]
  },
  {
   "cell_type": "code",
   "execution_count": 46,
   "metadata": {},
   "outputs": [
    {
     "name": "stdout",
     "output_type": "stream",
     "text": [
      "12345 <class 'int'>\n",
      "12345 <class 'str'>\n",
      "54321 <class 'str'>\n",
      "54321 <class 'int'>\n",
      "12345\n",
      "54321 <class 'int'>\n"
     ]
    }
   ],
   "source": [
    "# Reversing an integer using Typecasting\n",
    "a = 12345\n",
    "print(a,type(a))\n",
    "a = str(a)\n",
    "print(a,type(a))\n",
    "a = a[::-1]\n",
    "print(a,type(a))\n",
    "a = int(a)\n",
    "print(a,type(a))\n",
    "c=int(str(a)[::-1])\n",
    "print(c)\n",
    "b = 12345\n",
    "b = int(str(b)[::-1])\n",
    "print(b,type(b))"
   ]
  },
  {
   "cell_type": "code",
   "execution_count": null,
   "metadata": {},
   "outputs": [],
   "source": [
    "a=12345\n",
    "a = str(12345)\n",
    "b=list(a)\n",
    "b"
   ]
  },
  {
   "cell_type": "markdown",
   "metadata": {},
   "source": [
    "# Taking an User input\n",
    "Syntax\n",
    "input(\"Optional Statement\")\n",
    "\n",
    "BY defualt it returns a string object"
   ]
  },
  {
   "cell_type": "code",
   "execution_count": 18,
   "metadata": {},
   "outputs": [
    {
     "name": "stdout",
     "output_type": "stream",
     "text": [
      "Enter something : sdffgsdg32453258\n",
      "sdffgsdg32453258 <class 'str'>\n"
     ]
    }
   ],
   "source": [
    "a = input(\"Enter something : \")\n",
    "print(a,type(a))"
   ]
  },
  {
   "cell_type": "code",
   "execution_count": 20,
   "metadata": {},
   "outputs": [
    {
     "name": "stdout",
     "output_type": "stream",
     "text": [
      "Enter a number :: 345\n",
      "345 <class 'int'>\n"
     ]
    }
   ],
   "source": [
    "a = int(input(\"Enter a number :: \"))\n",
    "print(a,type(a))"
   ]
  },
  {
   "cell_type": "code",
   "execution_count": null,
   "metadata": {},
   "outputs": [],
   "source": []
  },
  {
   "cell_type": "code",
   "execution_count": null,
   "metadata": {},
   "outputs": [],
   "source": []
  }
 ],
 "metadata": {
  "kernelspec": {
   "display_name": "Python 3",
   "language": "python",
   "name": "python3"
  },
  "language_info": {
   "codemirror_mode": {
    "name": "ipython",
    "version": 3
   },
   "file_extension": ".py",
   "mimetype": "text/x-python",
   "name": "python",
   "nbconvert_exporter": "python",
   "pygments_lexer": "ipython3",
   "version": "3.8.5"
  }
 },
 "nbformat": 4,
 "nbformat_minor": 2
}
