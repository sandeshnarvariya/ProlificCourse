{
 "cells": [
  {
   "cell_type": "markdown",
   "id": "692b125e",
   "metadata": {},
   "source": [
    "### Note :\n",
    "#### Example 1 and Example 2 based on Encapsulation "
   ]
  },
  {
   "cell_type": "markdown",
   "id": "1333860c",
   "metadata": {},
   "source": [
    "####  Example no 1 :"
   ]
  },
  {
   "cell_type": "code",
   "execution_count": 18,
   "id": "4b4ab9e8",
   "metadata": {},
   "outputs": [],
   "source": [
    "class test:\n",
    "    def __init__(self, a,b,c):\n",
    "        self.a =a \n",
    "        self.b = b\n",
    "        self.c = c \n",
    "        \n",
    "    def __str__(self):\n",
    "        return \"this is the return form my test class \"\n",
    "    \n",
    "class test1 :\n",
    "    def __init__(self, a,b,c):\n",
    "        self.a =a \n",
    "        self.b = b\n",
    "        self.c = c \n",
    "        \n",
    "    def __str__(self):\n",
    "        return \"this is the return form my test1 class \"\n",
    "    \n",
    "class test2:\n",
    "    \n",
    "    def __init__(self, a,b,c):\n",
    "        self.a = a \n",
    "        self.b = b\n",
    "        self.c = c \n",
    "        \n",
    "    def __str__(self):\n",
    "        return \"this is the return form my test2 class \"\n",
    "\n",
    "class final:\n",
    "    \n",
    "    def __init__(self,x,y,z):\n",
    "        self.x= x\n",
    "        self.y= y\n",
    "        self.z = z\n",
    "        \n",
    "    def __str__(self) : \n",
    "        \n",
    "        return str(self.x) + \" \\n \" + str(self.y)) + \" \\n \" + str(self.z)\n"
   ]
  },
  {
   "cell_type": "code",
   "execution_count": 19,
   "id": "cca7f712",
   "metadata": {},
   "outputs": [
    {
     "name": "stdout",
     "output_type": "stream",
     "text": [
      "this is the return form my test class \n",
      "this is the return form my test1 class \n",
      "this is the return form my test2 class \n"
     ]
    }
   ],
   "source": [
    "t= test(1,2,3)\n",
    "t1=test1(4,5,6)\n",
    "t2=test2(7,8,9)\n",
    "print(t)\n",
    "print(t1)\n",
    "print(t2)"
   ]
  },
  {
   "cell_type": "code",
   "execution_count": 20,
   "id": "79662ad3",
   "metadata": {},
   "outputs": [],
   "source": [
    "o = final(t,t1,t2)"
   ]
  },
  {
   "cell_type": "code",
   "execution_count": 21,
   "id": "4560344a",
   "metadata": {},
   "outputs": [
    {
     "name": "stdout",
     "output_type": "stream",
     "text": [
      "this is the return form my test class  \n",
      " this is the return form my test1 class \n",
      " this is the return form my test2 class\n"
     ]
    }
   ],
   "source": [
    "print(o)"
   ]
  },
  {
   "cell_type": "markdown",
   "id": "d981d989",
   "metadata": {},
   "source": [
    "####  Example no 2 : "
   ]
  },
  {
   "cell_type": "code",
   "execution_count": 31,
   "id": "253a8cb8",
   "metadata": {},
   "outputs": [],
   "source": [
    "class Tyres:\n",
    "    def __init__(self, branch, belted_bias, opt_pressure):\n",
    "        self.branch = branch\n",
    "        self.belted_bias = belted_bias\n",
    "        self.opt_pressure = opt_pressure\n",
    "        \n",
    "    def __str__(self):\n",
    "        return (\"Tyres: \\n \\tBranch: \" + self.branch +\n",
    "               \"\\n \\tBelted-bias: \" + str(self.belted_bias) + \n",
    "               \"\\n \\tOptimal pressure: \" + str(self.opt_pressure))\n",
    "        \n",
    "class Engine:\n",
    "    def __init__(self, fuel_type, noise_level):\n",
    "        self.fuel_type = fuel_type\n",
    "        self.noise_level = noise_level\n",
    "        \n",
    "    def __str__(self):\n",
    "        return (\"Engine: \\n \\tFuel type: \" + self.fuel_type +\n",
    "                \"\\n \\tNoise level:\" + str(self.noise_level))\n",
    "        \n",
    "class Body:\n",
    "    def __init__(self, size):\n",
    "        self.size = size\n",
    "        \n",
    "    def __str__(self):\n",
    "        return \"Body:\\n \\tSize: \" + self.size\n",
    "        \n",
    "class Car:\n",
    "    def __init__(self,name ,  tyres, engine, body):\n",
    "        self.name = name \n",
    "        self.tyres = tyres\n",
    "        self.engine = engine\n",
    "        self.body = body\n",
    "        \n",
    "    def __str__(self):\n",
    "        return \"\\t\\t My Car name is :  \"+self.name.title()+\" \\n\"+str(self.tyres) + \"\\n\" + str(self.engine) + \"\\n\" + str(self.body) + \" \" + str(self.name)\n",
    "\n"
   ]
  },
  {
   "cell_type": "code",
   "execution_count": 32,
   "id": "8d48f85c",
   "metadata": {},
   "outputs": [
    {
     "name": "stdout",
     "output_type": "stream",
     "text": [
      "\t\t My Car name is :  Toyota \n",
      "Tyres: \n",
      " \tBranch: Pirelli\n",
      " \tBelted-bias: True\n",
      " \tOptimal pressure: 2.0\n",
      "Engine: \n",
      " \tFuel type: Diesel\n",
      " \tNoise level:3\n",
      "Body:\n",
      " \tSize: Medium toyota\n"
     ]
    }
   ],
   "source": [
    "t = Tyres('Pirelli', True, 2.0)\n",
    "e = Engine('Diesel', 3)\n",
    "b = Body('Medium')\n",
    "c = Car(\"toyota\",t, e, b)\n",
    "print(c)"
   ]
  },
  {
   "cell_type": "markdown",
   "id": "4f3f9aed",
   "metadata": {},
   "source": [
    "####  Example no 3 : "
   ]
  },
  {
   "cell_type": "code",
   "execution_count": 47,
   "id": "b072a6df",
   "metadata": {},
   "outputs": [],
   "source": [
    "class BonusDistribution:\n",
    "    \n",
    "    def __init__ (self,employeeId, employeeRating):\n",
    "    \n",
    "        self.empId = employeeId\n",
    "        self.empRating = employeeRating\n",
    "        self.__bonusforRatingA = \"70%\"  #making value private\n",
    "        self.__bonusforRatingB = \"60%\"  #making value private\n",
    "        self.__bonusforRatingC = \"50%\"  #making value private\n",
    "        self.__bonusforRatingD = \"30%\"  #making value private\n",
    "        self.__bonusforRatingForRest = \"Nothibg like \" #making value private\n",
    "        \n",
    "        \n",
    "    def bonusCalculator(self):\n",
    "        \n",
    "        if self.empRating == 'A':\n",
    "            bonus = self.__bonusforRatingA\n",
    "            msg = f\"{bonus} Bonus for this employee  :\"\n",
    "            return msg\n",
    "        elif self.empRating == 'B':\n",
    "            bonus = self.__bonusforRatingB\n",
    "            msg = f\"{bonus} Bonus for this employee  :\"\n",
    "            return msg\n",
    "        elif self.empRating == 'C':\n",
    "            bonus = self.__bonusforRatingC\n",
    "            msg = f\"{bonus} Bonus for this employee  :\"\n",
    "            return msg\n",
    "        elif self.empRating == 'D':\n",
    "            bonus = self.__bonusforRatingD\n",
    "            msg = f\"{bonus} Bonus for this employee  :\"\n",
    "            return msg\n",
    "        else:\n",
    "            bonus = self.__bonusforRatingForRest\n",
    "            msg = f\"{bonus} Bonus for this employee  :\"\n",
    "            return msg\n",
    "        \n",
    "#     def __changevariable(self , value) : \n",
    "#          self.__bonusforRatingB = value"
   ]
  },
  {
   "cell_type": "code",
   "execution_count": 48,
   "id": "b0f2fe31",
   "metadata": {},
   "outputs": [
    {
     "data": {
      "text/plain": [
       "'60% Bonus for this employee  :'"
      ]
     },
     "execution_count": 48,
     "metadata": {},
     "output_type": "execute_result"
    }
   ],
   "source": [
    "emp1 = BonusDistribution(1232,'B')\n",
    "emp1.bonusCalculator()"
   ]
  },
  {
   "cell_type": "code",
   "execution_count": 49,
   "id": "d3286f94",
   "metadata": {},
   "outputs": [
    {
     "data": {
      "text/plain": [
       "'70% Bonus for this employee  :'"
      ]
     },
     "execution_count": 49,
     "metadata": {},
     "output_type": "execute_result"
    }
   ],
   "source": [
    "emp2 = BonusDistribution(1342,'A')\n",
    "emp2.bonusCalculator()"
   ]
  },
  {
   "cell_type": "code",
   "execution_count": 50,
   "id": "012da821",
   "metadata": {},
   "outputs": [
    {
     "data": {
      "text/plain": [
       "'Nothibg like  Bonus for this employee  :'"
      ]
     },
     "execution_count": 50,
     "metadata": {},
     "output_type": "execute_result"
    }
   ],
   "source": [
    "emp3 = BonusDistribution(1031,'E')\n",
    "emp3.bonusCalculator()"
   ]
  },
  {
   "cell_type": "code",
   "execution_count": 41,
   "id": "dd493c9c",
   "metadata": {},
   "outputs": [
    {
     "data": {
      "text/plain": [
       "'50% Bonus for this employee  :'"
      ]
     },
     "execution_count": 41,
     "metadata": {},
     "output_type": "execute_result"
    }
   ],
   "source": [
    "emp4 = BonusDistribution(1232,'C')\n",
    "emp4.bonusCalculator()"
   ]
  },
  {
   "cell_type": "code",
   "execution_count": 42,
   "id": "1c16b899",
   "metadata": {},
   "outputs": [
    {
     "data": {
      "text/plain": [
       "'No Bonus Bonus for this employee  :'"
      ]
     },
     "execution_count": 42,
     "metadata": {},
     "output_type": "execute_result"
    }
   ],
   "source": [
    "emp5 = BonusDistribution(1342,'R')\n",
    "emp5.bonusCalculator()"
   ]
  },
  {
   "cell_type": "code",
   "execution_count": null,
   "id": "8db101b4",
   "metadata": {},
   "outputs": [],
   "source": []
  }
 ],
 "metadata": {
  "kernelspec": {
   "display_name": "Python 3",
   "language": "python",
   "name": "python3"
  },
  "language_info": {
   "codemirror_mode": {
    "name": "ipython",
    "version": 3
   },
   "file_extension": ".py",
   "mimetype": "text/x-python",
   "name": "python",
   "nbconvert_exporter": "python",
   "pygments_lexer": "ipython3",
   "version": "3.9.5"
  }
 },
 "nbformat": 4,
 "nbformat_minor": 5
}
