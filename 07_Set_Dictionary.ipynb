{
 "cells": [
  {
   "cell_type": "markdown",
   "metadata": {},
   "source": [
    "### Set (Mutable)\n",
    "\n",
    "* Denoted by { } and items are separated using a ,\n",
    "* No indexing, no order\n",
    "* No duplicates ie. only unique items\n",
    "* Only immutable objects allowed\n",
    "* a = set() -> Empty Set\n",
    "* Methods"
   ]
  },
  {
   "cell_type": "code",
   "execution_count": 2,
   "metadata": {},
   "outputs": [
    {
     "name": "stdout",
     "output_type": "stream",
     "text": [
      "set() <class 'set'> 0\n"
     ]
    }
   ],
   "source": [
    "s = set()\n",
    "print(s,type(s),len(s))"
   ]
  },
  {
   "cell_type": "code",
   "execution_count": 5,
   "metadata": {},
   "outputs": [
    {
     "name": "stdout",
     "output_type": "stream",
     "text": [
      "{40, 10, 50, 20, 30} <class 'set'> 5\n"
     ]
    }
   ],
   "source": [
    "s = {10,20,30,40,50,30}\n",
    "print(s,type(s),len(s))"
   ]
  },
  {
   "cell_type": "code",
   "execution_count": 4,
   "metadata": {},
   "outputs": [
    {
     "name": "stdout",
     "output_type": "stream",
     "text": [
      "PYTHON <class 'str'>\n",
      "['P', 'Y', 'T', 'H', 'O', 'N'] <class 'list'>\n",
      "{'O', 'N', 'H', 'P', 'Y', 'T'} <class 'set'>\n"
     ]
    }
   ],
   "source": [
    "# Set are unordered as they dont have any indexing\n",
    "# Lists are ordered\n",
    "a = 'PYTHON'\n",
    "print(a,type(a))\n",
    "b = list(a)\n",
    "print(b,type(b))\n",
    "c = set(a)\n",
    "print(c,type(c))"
   ]
  },
  {
   "cell_type": "code",
   "execution_count": null,
   "metadata": {},
   "outputs": [],
   "source": [
    "a = 'HELLO'\n",
    "print(a,type(a))\n",
    "b = list(a)\n",
    "print(b,type(b))\n",
    "c = set(a)\n",
    "print(c,type(c))"
   ]
  },
  {
   "cell_type": "code",
   "execution_count": null,
   "metadata": {},
   "outputs": [],
   "source": [
    "a = [1,2,3,4,4,1,2,1,2,3,1,2,3,1,2,1,2,1]\n",
    "print(a,type(a))"
   ]
  },
  {
   "cell_type": "code",
   "execution_count": null,
   "metadata": {},
   "outputs": [],
   "source": [
    "s = {1,2,3,4,4,1,2,1,2,3,1,2,3,1,2,1,2,1}\n",
    "print(s,type(s))"
   ]
  },
  {
   "cell_type": "code",
   "execution_count": null,
   "metadata": {},
   "outputs": [],
   "source": [
    "s = {1,1.45,'HELLO',(10,20,30)}\n",
    "print(s)\n",
    "# Below Statement will give an Error as set only allows\n",
    "# Immutable objects and list is mutable\n",
    "s = {1,1.45,'HELLO',(10,20,30),[12,3]}\n",
    "print(s)"
   ]
  },
  {
   "cell_type": "markdown",
   "metadata": {},
   "source": [
    "## Properties of Set"
   ]
  },
  {
   "cell_type": "code",
   "execution_count": null,
   "metadata": {},
   "outputs": [],
   "source": [
    "s1 = {1,2,3,4,5}\n",
    "s2 = {4,5,6,7}\n",
    "\n",
    "# Union\n",
    "print(s1.union(s2))\n",
    "print(s1 | s2)#{1,2,3,4,5,6,7}\n",
    "\n",
    "# Intersection\n",
    "print(s1.intersection(s2))\n",
    "print(s1&s2)#{4,5}\n",
    "\n",
    "# Difference\n",
    "print(s1.difference(s2))\n",
    "print(s1 - s2)\n",
    "print(s2.difference(s1))\n",
    "print(s2 - s1)\n",
    "\n",
    "# Symmetric Difference\n",
    "print(s1.symmetric_difference(s2))\n",
    "print(s1^s2)"
   ]
  },
  {
   "cell_type": "code",
   "execution_count": 1,
   "metadata": {},
   "outputs": [
    {
     "name": "stdout",
     "output_type": "stream",
     "text": [
      "True\n",
      "True\n",
      "False\n",
      "True\n"
     ]
    }
   ],
   "source": [
    "s = {1,2,3,4,5,6}\n",
    "s1 = {1,2,3}\n",
    "s2 = {8,9}\n",
    "print(s1.issubset(s))#T\n",
    "print(s.issuperset(s1))#T\n",
    "print(s1.isdisjoint(s))# Google krna hai isko\n",
    "print(s2.isdisjoint(s))"
   ]
  },
  {
   "cell_type": "markdown",
   "metadata": {},
   "source": [
    "### Two sets are said to be disjoint when their intersection is null. In simple words they do not have any common element in between them."
   ]
  },
  {
   "cell_type": "code",
   "execution_count": null,
   "metadata": {},
   "outputs": [],
   "source": [
    "a = 'PYTHON'\n",
    "b = 'HELLO'\n",
    "#a={p,y,t,h,n,o}\n",
    "#b={e,l,h,o}\n",
    "\n",
    "print(set(a).intersection(set(b)))#{o,h}\n",
    "\n",
    "print(set(a).union(set(b)))"
   ]
  },
  {
   "cell_type": "code",
   "execution_count": null,
   "metadata": {},
   "outputs": [],
   "source": [
    "a = 'THIS IS AN EXAMPLE'\n",
    "b = 'THIS IS AN ANT'\n",
    "\n",
    "print(set(a.split()))\n",
    "print()\n",
    "print(set(a.split()).symmetric_difference(set(b.split())))"
   ]
  },
  {
   "cell_type": "markdown",
   "metadata": {},
   "source": [
    "### Set methods"
   ]
  },
  {
   "cell_type": "code",
   "execution_count": null,
   "metadata": {},
   "outputs": [],
   "source": [
    "#dir(set)"
   ]
  },
  {
   "cell_type": "code",
   "execution_count": null,
   "metadata": {},
   "outputs": [],
   "source": [
    "s = set()\n",
    "print(s,id(s))\n",
    "s.add(10)\n",
    "print(s)\n",
    "s.add(100)\n",
    "print(s)\n",
    "s.add('hello')\n",
    "print(s)\n",
    "s.add(50)\n",
    "print(s)\n",
    "# Remove will give an error is element does not exist in set\n",
    "s.remove(100)\n",
    "print(s)\n",
    "# Discard will not give an error when element does not exist in set\n",
    "s.discard(50)\n",
    "print(s)\n",
    "b = s.pop()\n",
    "print(b)\n",
    "print(s,id(s))\n",
    "s.clear()\n",
    "print(s)"
   ]
  },
  {
   "cell_type": "code",
   "execution_count": null,
   "metadata": {},
   "outputs": [],
   "source": [
    "help(set.pop)\n",
    "help(set.discard)\n",
    "help(set.remove)"
   ]
  },
  {
   "cell_type": "markdown",
   "metadata": {},
   "source": [
    "## Similar to list comprehensions, set comprehensions are also supported:"
   ]
  },
  {
   "cell_type": "code",
   "execution_count": 5,
   "metadata": {},
   "outputs": [
    {
     "name": "stdout",
     "output_type": "stream",
     "text": [
      "{'B', 'u', 'G', 'R', 't', 'b', 'E', 'n', 'm', 'x', '7', 'e', 'z', 'y', 'c', 'w', 'v', '2', 'o', 'F'}\n",
      "\n",
      "{'B', 'u', 'G', 'R', 't', 'b', 'E', 'n', 'm', 'x', '7', 'e', 'z', 'y', 'c', 'w', 'v', '2', 'o', 'F'}\n"
     ]
    },
    {
     "data": {
      "text/plain": [
       "20"
      ]
     },
     "execution_count": 5,
     "metadata": {},
     "output_type": "execute_result"
    }
   ],
   "source": [
    "a='abijklmnopqrcdefijklABGREFKLGpqrstuvwxijklmnopq24578ryz'\n",
    "\n",
    "s='as354dfAJKLOjklp098qrghi'\n",
    "\n",
    "st=set()\n",
    "for i in a:\n",
    "    if i not in s:\n",
    "        st.add(i)\n",
    "print(st)\n",
    "print()\n",
    "#using Set Comprehension\n",
    "stt={i for i in a if i not in s} \n",
    "print(stt)\n",
    "len(stt)"
   ]
  },
  {
   "cell_type": "code",
   "execution_count": 6,
   "metadata": {},
   "outputs": [
    {
     "name": "stdout",
     "output_type": "stream",
     "text": [
      "['b', 'm', 'n', 'o', 'c', 'e', 'B', 'G', 'R', 'E', 'F', 'G', 't', 'u', 'v', 'w', 'x', 'm', 'n', 'o', '2', '7', 'y', 'z']\n"
     ]
    },
    {
     "data": {
      "text/plain": [
       "24"
      ]
     },
     "execution_count": 6,
     "metadata": {},
     "output_type": "execute_result"
    }
   ],
   "source": [
    "# here see what is difference when we use list insted of set ..\n",
    "lc=[i for i in a if i not in s] \n",
    "print(lc)\n",
    "len(lc)\n",
    "#lc=set(lc)"
   ]
  },
  {
   "cell_type": "code",
   "execution_count": 7,
   "metadata": {},
   "outputs": [
    {
     "data": {
      "text/plain": [
       "{'c', 'e'}"
      ]
     },
     "execution_count": 7,
     "metadata": {},
     "output_type": "execute_result"
    }
   ],
   "source": [
    "a=\"abcabecb\"\n",
    "c='abd'\n",
    "s={i for i in a if i not in c}\n",
    "s"
   ]
  },
  {
   "cell_type": "code",
   "execution_count": 8,
   "metadata": {},
   "outputs": [
    {
     "name": "stdout",
     "output_type": "stream",
     "text": [
      "HELLO\n"
     ]
    }
   ],
   "source": [
    "s='HELLO'\n",
    "print(s[:2]+s[2:])\n",
    "    #HE + LL0 =HELLO"
   ]
  },
  {
   "cell_type": "markdown",
   "metadata": {},
   "source": [
    "### Frozenset( Immutable Set)"
   ]
  },
  {
   "cell_type": "code",
   "execution_count": null,
   "metadata": {},
   "outputs": [],
   "source": [
    "dir(frozenset)"
   ]
  },
  {
   "cell_type": "code",
   "execution_count": null,
   "metadata": {},
   "outputs": [],
   "source": [
    "s = frozenset({1,2,3})\n",
    "print(s,type(s))"
   ]
  },
  {
   "cell_type": "markdown",
   "metadata": {},
   "source": [
    "### Dictionary ( Mutable )\n",
    "\n",
    "* Denoted by {key:value, ..} and items are separated using a ,\n",
    "* No indexing\n",
    "* No order\n",
    "* d = { } -> Empty Dictionary\n",
    "* Example -> d = {'a':10,'b':20,20:'c'}\n",
    "* Items can be accessed using keys as index. Ex: d['a']->10\n",
    "* keys:\n",
    "    * Immutable objects\n",
    "    * No duplicates"
   ]
  },
  {
   "cell_type": "code",
   "execution_count": null,
   "metadata": {},
   "outputs": [],
   "source": [
    "d = {}\n",
    "print(d,type(d),len(d))"
   ]
  },
  {
   "cell_type": "code",
   "execution_count": null,
   "metadata": {},
   "outputs": [],
   "source": [
    "d={20:10,10:\"lalu\"}\n",
    "print(d.keys())\n",
    "print(d.values())"
   ]
  },
  {
   "cell_type": "code",
   "execution_count": null,
   "metadata": {},
   "outputs": [],
   "source": [
    "d = {'a':10,'b':20,20:'c'}\n",
    "print(d)\n",
    "print(d['a'])\n",
    "print(d[20])"
   ]
  },
  {
   "cell_type": "code",
   "execution_count": null,
   "metadata": {},
   "outputs": [],
   "source": [
    "d = {}\n",
    "print(d)\n",
    "d['a'] = 100\n",
    "print(d)\n",
    "d['b'] = 200\n",
    "print(d)\n",
    "d['a'] += 50\n",
    "print(d)\n",
    "del d['b']\n",
    "print(d)"
   ]
  },
  {
   "cell_type": "code",
   "execution_count": null,
   "metadata": {},
   "outputs": [],
   "source": [
    "d = {'a':10,'b':20,'c':30,'a':50}\n",
    "print(d)"
   ]
  },
  {
   "cell_type": "markdown",
   "metadata": {},
   "source": [
    "## Dictionary methods\n",
    "\n",
    "* keys\n",
    "* values\n",
    "* items"
   ]
  },
  {
   "cell_type": "code",
   "execution_count": null,
   "metadata": {},
   "outputs": [],
   "source": [
    "dir(dict)"
   ]
  },
  {
   "cell_type": "code",
   "execution_count": null,
   "metadata": {},
   "outputs": [],
   "source": [
    "d = {'PYTHON':200,'JAVA':250,'PHP':150}\n",
    "print(d)\n",
    "print(d.keys())\n",
    "print(d.values())\n",
    "print(d.items())"
   ]
  },
  {
   "cell_type": "code",
   "execution_count": null,
   "metadata": {},
   "outputs": [],
   "source": [
    "d = {'PYTHON':200,'JAVA':250,'PHP':150}\n",
    "print(d)\n",
    "print(list(d.keys()))\n",
    "print(list(d.values()))\n",
    "print(list(d.items()))"
   ]
  },
  {
   "cell_type": "markdown",
   "metadata": {},
   "source": [
    "### Forming a dictionary using two list without Zip function"
   ]
  },
  {
   "cell_type": "code",
   "execution_count": null,
   "metadata": {},
   "outputs": [],
   "source": [
    "a = ['PYTHON', 'JAVA', 'PHP']\n",
    "b = [200, 250, 150]\n",
    "c = []\n",
    "n = min(len(a),len(b))#3\n",
    "for i in range(n):\n",
    "    c.append((a[i],b[i]))\n",
    "print(c)\n",
    "d = dict(c)\n",
    "print(d)"
   ]
  },
  {
   "cell_type": "markdown",
   "metadata": {},
   "source": [
    "### Forming a dictionary using two list using Zip function"
   ]
  },
  {
   "cell_type": "code",
   "execution_count": null,
   "metadata": {},
   "outputs": [],
   "source": [
    "a = ['PYTHON', 'JAVA', 'PHP']\n",
    "b = [200, 250, 150]\n",
    "c = list(zip(a,b))\n",
    "print(c)\n",
    "d = dict(c)\n",
    "print(d)\n",
    "\n",
    "e = dict(zip(b,a))\n",
    "print(e)"
   ]
  },
  {
   "cell_type": "code",
   "execution_count": null,
   "metadata": {},
   "outputs": [],
   "source": [
    "d={200: 'PYTHON', 250: 'JAVA', 150: 'PHP'}\n",
    "for i in d:\n",
    "    print(i)"
   ]
  },
  {
   "cell_type": "markdown",
   "metadata": {},
   "source": [
    "## Question\n",
    "\n",
    "Count the number of occurance of each character in a given string"
   ]
  },
  {
   "cell_type": "code",
   "execution_count": 9,
   "metadata": {},
   "outputs": [
    {
     "name": "stdout",
     "output_type": "stream",
     "text": [
      "{'a': 5, 'b': 4}\n"
     ]
    }
   ],
   "source": [
    "a = 'ababababa'\n",
    "d = {}\n",
    "\n",
    "for i in a:\n",
    " #   print(d,i)\n",
    "    if i not in d:\n",
    "        d[i] = 1#{'a':1+1,'b':1+1}\n",
    "    else:\n",
    "        d[i] += 1\n",
    "print(d)"
   ]
  },
  {
   "cell_type": "code",
   "execution_count": 10,
   "metadata": {},
   "outputs": [
    {
     "name": "stdout",
     "output_type": "stream",
     "text": [
      "{'a': 5, 'b': 4}\n"
     ]
    }
   ],
   "source": [
    "# ANother Way\n",
    "\n",
    "a = 'ababababa'\n",
    "d = {}\n",
    "\n",
    "for i in a:\n",
    "    if i not in d:\n",
    "        d[i] = a.count(i)\n",
    "print(d)"
   ]
  },
  {
   "cell_type": "markdown",
   "metadata": {},
   "source": [
    "## Iterating over a dictionary"
   ]
  },
  {
   "cell_type": "code",
   "execution_count": 11,
   "metadata": {
    "scrolled": true
   },
   "outputs": [
    {
     "name": "stdout",
     "output_type": "stream",
     "text": [
      "PYTHON\n",
      "JAVA\n",
      "PHP\n",
      "\n",
      "PYTHON\n",
      "JAVA\n",
      "PHP\n",
      "\n",
      "200\n",
      "250\n",
      "150\n",
      "\n",
      "('PYTHON', 200)\n",
      "('JAVA', 250)\n",
      "('PHP', 150)\n",
      "\n",
      "PYTHON \t 200\n",
      "JAVA \t 250\n",
      "PHP \t 150\n",
      "\n"
     ]
    }
   ],
   "source": [
    "d = {'PYTHON': 200, 'JAVA': 250, 'PHP': 150}\n",
    "\n",
    "for i in d:\n",
    "    print(i)\n",
    "print()\n",
    "\n",
    "for i in d.keys():\n",
    "    print(i)\n",
    "print()\n",
    "\n",
    "for i in d.values():\n",
    "    print(i)\n",
    "print()\n",
    "\n",
    "for i in d.items():\n",
    "    print(i)\n",
    "print()\n",
    "\n",
    "for k,v in d.items():\n",
    "    print(k,'\\t',v)\n",
    "print()"
   ]
  },
  {
   "cell_type": "code",
   "execution_count": 13,
   "metadata": {},
   "outputs": [],
   "source": [
    "#dir(dict)"
   ]
  },
  {
   "cell_type": "raw",
   "metadata": {},
   "source": [
    "Python Dictionary Methods:\n",
    "'clear',\n",
    " 'copy',\n",
    " 'fromkeys',\n",
    " 'get',\n",
    " 'items',\n",
    " 'keys',\n",
    " 'pop',\n",
    " 'popitem',\n",
    " 'setdefault',\n",
    " 'update',\n",
    " 'values']"
   ]
  },
  {
   "cell_type": "code",
   "execution_count": 14,
   "metadata": {},
   "outputs": [
    {
     "data": {
      "text/plain": [
       "'Phill'"
      ]
     },
     "execution_count": 14,
     "metadata": {},
     "output_type": "execute_result"
    }
   ],
   "source": [
    "person = {'name': 'Phill', 'age': 22}\n",
    "person['name']"
   ]
  },
  {
   "cell_type": "code",
   "execution_count": 2,
   "metadata": {},
   "outputs": [
    {
     "data": {
      "text/plain": [
       "'Phill'"
      ]
     },
     "execution_count": 2,
     "metadata": {},
     "output_type": "execute_result"
    }
   ],
   "source": [
    "person = {'name': 'Phill', 'age': 22}\n",
    "person.get('name')"
   ]
  },
  {
   "cell_type": "code",
   "execution_count": 3,
   "metadata": {},
   "outputs": [
    {
     "data": {
      "text/plain": [
       "22"
      ]
     },
     "execution_count": 3,
     "metadata": {},
     "output_type": "execute_result"
    }
   ],
   "source": [
    "person.get('age')"
   ]
  },
  {
   "cell_type": "code",
   "execution_count": 4,
   "metadata": {},
   "outputs": [
    {
     "data": {
      "text/plain": [
       "{'name': 'Phill', 'age': 22}"
      ]
     },
     "execution_count": 4,
     "metadata": {},
     "output_type": "execute_result"
    }
   ],
   "source": [
    "new = person.copy()\n",
    "new"
   ]
  },
  {
   "cell_type": "code",
   "execution_count": 5,
   "metadata": {},
   "outputs": [
    {
     "name": "stdout",
     "output_type": "stream",
     "text": [
      "('age', 22)\n",
      "('name', 'Phill')\n"
     ]
    },
    {
     "ename": "KeyError",
     "evalue": "'popitem(): dictionary is empty'",
     "output_type": "error",
     "traceback": [
      "\u001b[1;31m---------------------------------------------------------------------------\u001b[0m",
      "\u001b[1;31mKeyError\u001b[0m                                  Traceback (most recent call last)",
      "\u001b[1;32m<ipython-input-5-3a1ca78ca52d>\u001b[0m in \u001b[0;36m<module>\u001b[1;34m\u001b[0m\n\u001b[0;32m      2\u001b[0m \u001b[0mprint\u001b[0m\u001b[1;33m(\u001b[0m\u001b[0mnew\u001b[0m\u001b[1;33m.\u001b[0m\u001b[0mpopitem\u001b[0m\u001b[1;33m(\u001b[0m\u001b[1;33m)\u001b[0m\u001b[1;33m)\u001b[0m\u001b[1;33m\u001b[0m\u001b[1;33m\u001b[0m\u001b[0m\n\u001b[0;32m      3\u001b[0m \u001b[0mnew\u001b[0m\u001b[1;33m\u001b[0m\u001b[1;33m\u001b[0m\u001b[0m\n\u001b[1;32m----> 4\u001b[1;33m \u001b[0mprint\u001b[0m\u001b[1;33m(\u001b[0m\u001b[0mnew\u001b[0m\u001b[1;33m.\u001b[0m\u001b[0mpopitem\u001b[0m\u001b[1;33m(\u001b[0m\u001b[1;33m)\u001b[0m\u001b[1;33m)\u001b[0m\u001b[1;33m\u001b[0m\u001b[1;33m\u001b[0m\u001b[0m\n\u001b[0m",
      "\u001b[1;31mKeyError\u001b[0m: 'popitem(): dictionary is empty'"
     ]
    }
   ],
   "source": [
    "print(new.popitem())\n",
    "print(new.popitem())\n",
    "new\n",
    "#print(new.popitem())"
   ]
  },
  {
   "cell_type": "code",
   "execution_count": 6,
   "metadata": {
    "scrolled": true
   },
   "outputs": [
    {
     "name": "stdout",
     "output_type": "stream",
     "text": [
      "2\n",
      "4\n"
     ]
    },
    {
     "ename": "KeyError",
     "evalue": "'guava'",
     "output_type": "error",
     "traceback": [
      "\u001b[1;31m---------------------------------------------------------------------------\u001b[0m",
      "\u001b[1;31mKeyError\u001b[0m                                  Traceback (most recent call last)",
      "\u001b[1;32m<ipython-input-6-1bf18187ec2c>\u001b[0m in \u001b[0;36m<module>\u001b[1;34m\u001b[0m\n\u001b[0;32m      7\u001b[0m \u001b[0mprint\u001b[0m\u001b[1;33m(\u001b[0m\u001b[0melement2\u001b[0m\u001b[1;33m)\u001b[0m\u001b[1;33m\u001b[0m\u001b[1;33m\u001b[0m\u001b[0m\n\u001b[0;32m      8\u001b[0m \u001b[1;33m\u001b[0m\u001b[0m\n\u001b[1;32m----> 9\u001b[1;33m \u001b[0melement2\u001b[0m \u001b[1;33m=\u001b[0m \u001b[0msales\u001b[0m\u001b[1;33m.\u001b[0m\u001b[0mpop\u001b[0m\u001b[1;33m(\u001b[0m\u001b[1;34m'guava'\u001b[0m\u001b[1;33m)\u001b[0m\u001b[1;33m\u001b[0m\u001b[1;33m\u001b[0m\u001b[0m\n\u001b[0m\u001b[0;32m     10\u001b[0m \u001b[0mprint\u001b[0m\u001b[1;33m(\u001b[0m\u001b[0melement2\u001b[0m\u001b[1;33m)\u001b[0m\u001b[1;33m\u001b[0m\u001b[1;33m\u001b[0m\u001b[0m\n",
      "\u001b[1;31mKeyError\u001b[0m: 'guava'"
     ]
    }
   ],
   "source": [
    "sales = { 'apple': 2, 'orange': 3, 'grapes': 4 }\n",
    "\n",
    "element1 = sales.pop('apple')\n",
    "print(element1)\n",
    "\n",
    "element2 = sales.pop('grapes')\n",
    "print(element2)\n",
    "\n",
    "element2 = sales.pop('guava')\n",
    "print(element2)"
   ]
  },
  {
   "cell_type": "code",
   "execution_count": 7,
   "metadata": {},
   "outputs": [
    {
     "name": "stdout",
     "output_type": "stream",
     "text": [
      "('age', [22, 45, 56])\n"
     ]
    }
   ],
   "source": [
    "person = {'name': ['Phill','lalu','kalu'], 'age': [22,45,56]}\n",
    "#print(person.pop('age'))\n",
    "print(person.popitem())"
   ]
  },
  {
   "cell_type": "code",
   "execution_count": 9,
   "metadata": {},
   "outputs": [
    {
     "name": "stdout",
     "output_type": "stream",
     "text": [
      "{1: 'one', 2: 'three'}\n",
      "{1: 'one', 2: 'three', 3: 'two'}\n"
     ]
    }
   ],
   "source": [
    "d = {1: \"one\", 2: \"three\"}\n",
    "\n",
    "print(d)\n",
    "\n",
    "#d1 = {2: \"two\"}\n",
    "d1 = {3: \"two\"}\n",
    "# updates the value of key 2\n",
    "d.update(d1)\n",
    "print(d)"
   ]
  },
  {
   "cell_type": "code",
   "execution_count": 11,
   "metadata": {},
   "outputs": [
    {
     "name": "stdout",
     "output_type": "stream",
     "text": [
      "{'x': 3}\n"
     ]
    }
   ],
   "source": [
    "d = {'x': 2}\n",
    "\n",
    "d.update(y = 3, z = 0)\n",
    "#d.update(x = 3)\n",
    "print(d)"
   ]
  },
  {
   "cell_type": "code",
   "execution_count": 12,
   "metadata": {},
   "outputs": [
    {
     "data": {
      "text/plain": [
       "{'ZZZ': 'AA', 'YYY': 'BB'}"
      ]
     },
     "execution_count": 12,
     "metadata": {},
     "output_type": "execute_result"
    }
   ],
   "source": [
    "d1={'AA':'ZZZ','BB':'YYY','CC':'ZZZ'}\n",
    "#{'ZZZ':'AA','YYY':'BB','ZZZ':'CC'}\n",
    "d={}\n",
    "for k,v in d1.items():\n",
    "    if v not in d:\n",
    "        d[v]=k  # why list for k\n",
    "\n",
    "d"
   ]
  },
  {
   "cell_type": "code",
   "execution_count": 13,
   "metadata": {},
   "outputs": [
    {
     "data": {
      "text/plain": [
       "{'ZZZ': 'CC', 'YYY': 'BB'}"
      ]
     },
     "execution_count": 13,
     "metadata": {},
     "output_type": "execute_result"
    }
   ],
   "source": [
    "a=d1.keys()#\n",
    "b=d1.values()\n",
    "d=dict(zip(b,a))\n",
    "d"
   ]
  },
  {
   "cell_type": "code",
   "execution_count": 14,
   "metadata": {},
   "outputs": [
    {
     "data": {
      "text/plain": [
       "{'ZZZ': ['AA', 'CC'], 'YYY': ['BB']}"
      ]
     },
     "execution_count": 14,
     "metadata": {},
     "output_type": "execute_result"
    }
   ],
   "source": [
    "d1={'AA':'ZZZ','BB':'YYY','CC':'ZZZ'}\n",
    "#{'ZZZ':'AA','YYY':'BB','ZZZ':'CC'}\n",
    "d={}\n",
    "for k,v in d1.items():\n",
    "    if v not in d:\n",
    "        d[v]=[k]\n",
    "    else :\n",
    "        d[v].append(k)\n",
    "d\n",
    "    \n",
    "    "
   ]
  },
  {
   "cell_type": "markdown",
   "metadata": {},
   "source": [
    "### Question\n",
    "\n",
    "Given a dictionary of files as keys and their owners as values, form a new dictionary where the keys are the names of the owners and the values is a list of all the files the owner has access to."
   ]
  },
  {
   "cell_type": "code",
   "execution_count": null,
   "metadata": {},
   "outputs": [],
   "source": [
    "files = {\n",
    "        'test.txt': 'Rishabh',\n",
    "        'hello.py':'Raj',\n",
    "        'hello.java' : 'Raj'\n",
    "}\n",
    "\n",
    "owners = {} # {'Rishabh':['test.txt'],'Raj':['hello.py','hello.java']}\n",
    "\n",
    "\n",
    "\n",
    "# Solution\n",
    "\n",
    "for file,owner in files.items():\n",
    "    if owner not in owners:\n",
    "        owners[owner] = [file]\n",
    "    else:\n",
    "        owners[owner].append(file)\n",
    "print(owners)"
   ]
  },
  {
   "cell_type": "markdown",
   "metadata": {},
   "source": [
    "### Dictionary Comprehension"
   ]
  },
  {
   "cell_type": "code",
   "execution_count": 15,
   "metadata": {},
   "outputs": [
    {
     "name": "stdout",
     "output_type": "stream",
     "text": [
      "{1: 1, 2: 4, 3: 9, 4: 16, 5: 25}\n"
     ]
    }
   ],
   "source": [
    "n = 5\n",
    "d = {}\n",
    "for i in range(1,n+1):\n",
    "    d[i] = i**2\n",
    "print(d)"
   ]
  },
  {
   "cell_type": "code",
   "execution_count": 16,
   "metadata": {},
   "outputs": [
    {
     "name": "stdout",
     "output_type": "stream",
     "text": [
      "{1: 1, 2: 4, 3: 9, 4: 16, 5: 25}\n"
     ]
    }
   ],
   "source": [
    "# Using Dictionary Comprehension\n",
    "n = 5\n",
    "d = {i:i**2 for i in range(1,n+1)}\n",
    "print(d)"
   ]
  },
  {
   "cell_type": "code",
   "execution_count": 17,
   "metadata": {},
   "outputs": [
    {
     "name": "stdout",
     "output_type": "stream",
     "text": [
      "{'T': 'THIS', 'I': 'IS', 'A': 'AN', 'E': 'EXAMPLE'}\n"
     ]
    }
   ],
   "source": [
    "a = 'THIS IS AN EXAMPLE'\n",
    "d = {}\n",
    "for i in a.split():\n",
    "    d[i[0]] = i\n",
    "print(d)"
   ]
  },
  {
   "cell_type": "code",
   "execution_count": null,
   "metadata": {},
   "outputs": [],
   "source": [
    "# Using Dictionary Comprehension\n",
    "a = 'THIS IS AN EXAMPLE'\n",
    "d = {i[0]:i for i in a.split()}\n",
    "print(d)"
   ]
  },
  {
   "cell_type": "code",
   "execution_count": 18,
   "metadata": {},
   "outputs": [
    {
     "name": "stdout",
     "output_type": "stream",
     "text": [
      "{'.html5': 'HTML', '.html': 'HTML', '.htm': 'HTML', '.xhtml': 'HTML', '.txt': 'PLAINTEXT', '.in': 'PLAINTEXT', '.out': 'PLAINTEXT', '.pdf': 'PDF', '.py': 'PYTHON'}\n"
     ]
    }
   ],
   "source": [
    "DIRECTORIES = {\n",
    "    \"HTML\": [\".html5\", \".html\", \".htm\", \".xhtml\"],\n",
    "    \"PLAINTEXT\": [\".txt\", \".in\", \".out\"],\n",
    "    \"PDF\": [\".pdf\"],\n",
    "    \"PYTHON\": [\".py\"]\n",
    "}\n",
    "\n",
    "d = {}\n",
    "\n",
    "for k,v in DIRECTORIES.items():\n",
    "    for i in v:\n",
    "        d[i] = k\n",
    "print(d)"
   ]
  },
  {
   "cell_type": "code",
   "execution_count": 19,
   "metadata": {},
   "outputs": [
    {
     "name": "stdout",
     "output_type": "stream",
     "text": [
      "{'.html5': 'HTML', '.html': 'HTML', '.htm': 'HTML', '.xhtml': 'HTML', '.txt': 'PLAINTEXT', '.in': 'PLAINTEXT', '.out': 'PLAINTEXT', '.pdf': 'PDF', '.py': 'PYTHON'}\n"
     ]
    }
   ],
   "source": [
    "DIRECTORIES = {\n",
    "    \"HTML\": [\".html5\", \".html\", \".htm\", \".xhtml\"],\n",
    "    \"PLAINTEXT\": [\".txt\", \".in\", \".out\"],\n",
    "    \"PDF\": [\".pdf\"],\n",
    "    \"PYTHON\": [\".py\"]\n",
    "}\n",
    "\n",
    "FILE_FORMATS = {file_format: directory\n",
    "                for directory, file_formats in DIRECTORIES.items()\n",
    "                for file_format in file_formats}\n",
    "\n",
    "print(FILE_FORMATS)"
   ]
  },
  {
   "cell_type": "code",
   "execution_count": null,
   "metadata": {},
   "outputs": [],
   "source": [
    "a=12345\n",
    "# op=54321\n",
    "r=[]\n",
    "while a:\n",
    "    b=str(a/10)[-1]\n",
    "    print(\"last digit\",int(b))\n",
    "    a=a//10\n",
    "    print(\"number after removing last digit\",a)\n",
    "    r.append(b)\n",
    "n=int(''.join(r))\n",
    "n"
   ]
  }
 ],
 "metadata": {
  "kernelspec": {
   "display_name": "Python 3",
   "language": "python",
   "name": "python3"
  },
  "language_info": {
   "codemirror_mode": {
    "name": "ipython",
    "version": 3
   },
   "file_extension": ".py",
   "mimetype": "text/x-python",
   "name": "python",
   "nbconvert_exporter": "python",
   "pygments_lexer": "ipython3",
   "version": "3.8.5"
  }
 },
 "nbformat": 4,
 "nbformat_minor": 2
}
