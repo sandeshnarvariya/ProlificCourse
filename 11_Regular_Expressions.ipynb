{
 "cells": [
  {
   "cell_type": "markdown",
   "metadata": {},
   "source": [
    "<h2 style=\"color:#3498DB\" align =\"center\"> Regular expression :</h2>"
   ]
  },
  {
   "cell_type": "markdown",
   "metadata": {},
   "source": [
    "<h3 style=\"color:#BA4A00 \" ><i>A regular expression (shortened as regex or regexp also referred to as rational expression) is a sequence of characters that define a search pattern , mainly for use in pattern matching with strings, or string matching, </i></h3>"
   ]
  },
  {
   "cell_type": "code",
   "execution_count": 1,
   "metadata": {},
   "outputs": [],
   "source": [
    "import re"
   ]
  },
  {
   "cell_type": "code",
   "execution_count": 2,
   "metadata": {},
   "outputs": [
    {
     "name": "stdout",
     "output_type": "stream",
     "text": [
      "Abhi is 22 and Ravi is 33\n",
      "Subhi is 21 and Lubhi is 45\n",
      "Mia is 23\n",
      "\n",
      "['Abhi', 'Ravi', 'Subhi', 'Lubhi', 'Mia']\n",
      "['22', '33', '21', '45', '23']\n"
     ]
    }
   ],
   "source": [
    "name_age=\"\"\"Abhi is 22 and Ravi is 33\n",
    "Subhi is 21 and Lubhi is 45\n",
    "Mia is 23\"\"\"\n",
    "print(name_age)\n",
    "print()\n",
    "name=re.findall(r\"[A-Z][a-z]*\",name_age)\n",
    "age=re.findall(\"\\d{2}\",name_age)\n",
    "print(name)\n",
    "print(age)\n"
   ]
  },
  {
   "cell_type": "code",
   "execution_count": 3,
   "metadata": {},
   "outputs": [
    {
     "data": {
      "text/plain": [
       "{'Abhi': '22', 'Ravi': '33', 'Subhi': '21', 'Lubhi': '45', 'Mia': '23'}"
      ]
     },
     "execution_count": 3,
     "metadata": {},
     "output_type": "execute_result"
    }
   ],
   "source": [
    "#method 3\n",
    "d=dict(list(zip(name,age)))\n",
    "d"
   ]
  },
  {
   "cell_type": "code",
   "execution_count": 4,
   "metadata": {},
   "outputs": [
    {
     "name": "stdout",
     "output_type": "stream",
     "text": [
      "Variable   Type      Data/Info\n",
      "------------------------------\n",
      "age        list      n=5\n",
      "d          dict      n=5\n",
      "name       list      n=5\n",
      "name_age   str       Abhi is 22 and Ravi is 33<...>nd Lubhi is 45\\nMia is 23\n",
      "re         module    <module 're' from 'c:\\\\us<...>n\\\\python38\\\\lib\\\\re.py'>\n"
     ]
    }
   ],
   "source": [
    "%whos"
   ]
  },
  {
   "cell_type": "code",
   "execution_count": 5,
   "metadata": {},
   "outputs": [
    {
     "name": "stdout",
     "output_type": "stream",
     "text": [
      "\n",
      "{'Abhi': '22', 'Ravi': '33', 'Subhi': '21', 'Lubhi': '45', 'Mia': '23'}\n"
     ]
    }
   ],
   "source": [
    "#method 1\n",
    "d1={}\n",
    "n=min(len(name),len(age))#5\n",
    "for i in range(n):#0,1,2,3,4\n",
    "    d1[name[i]]=age[i]\n",
    "print()\n",
    "print(d1)\n",
    "#{'Abhi':22}"
   ]
  },
  {
   "cell_type": "code",
   "execution_count": 7,
   "metadata": {},
   "outputs": [
    {
     "name": "stdout",
     "output_type": "stream",
     "text": [
      "[('i', '3')]\n",
      "\n",
      "{'i': '3'}\n"
     ]
    },
    {
     "data": {
      "text/plain": [
       "{'i': '3'}"
      ]
     },
     "execution_count": 7,
     "metadata": {},
     "output_type": "execute_result"
    }
   ],
   "source": [
    "#method 2\n",
    "d2={}\n",
    "z=list(zip(name,age))\n",
    "for name,age in z:\n",
    "    d2[name]=age\n",
    "    \n",
    "print(z)\n",
    "print()\n",
    "print(d2)"
   ]
  },
  {
   "cell_type": "markdown",
   "metadata": {},
   "source": [
    "<h2 style=\"color:#5D6D7E\"> Different Operations of RegEx . ↓  ↓  ↓  ↓ </h2>"
   ]
  },
  {
   "cell_type": "code",
   "execution_count": 8,
   "metadata": {},
   "outputs": [
    {
     "name": "stdout",
     "output_type": "stream",
     "text": [
      "<re.Match object; span=(36, 38), match='ok'>\n",
      "ok\n",
      "(36, 38)\n",
      "\n",
      "<re.Match object; span=(4, 6), match='me'>\n",
      "me\n",
      "(4, 6)\n",
      "40\n"
     ]
    }
   ],
   "source": [
    "# 1- Find a word in a string ..\n",
    "st=\"Let me introduce you on my own pace ok  \"\n",
    "f=re.search(\"ok\",st)\n",
    "f2=re.search(\"me\",st)\n",
    "print(f)\n",
    "print(f[0])\n",
    "print(f.span())\n",
    "print()\n",
    "\n",
    "print(f2)\n",
    "print(f2[0])\n",
    "print(f2.span())\n",
    "print(len(st))"
   ]
  },
  {
   "cell_type": "code",
   "execution_count": 9,
   "metadata": {},
   "outputs": [
    {
     "name": "stdout",
     "output_type": "stream",
     "text": [
      "<class 're.Match'>\n",
      "22\n",
      "27\n"
     ]
    }
   ],
   "source": [
    "pattern = 'term1'\n",
    "\n",
    "# Text to parse\n",
    "text = 'This is a string with term1, but it does not have the other term.'\n",
    "\n",
    "match = re.search(pattern,  text)\n",
    "\n",
    "print(type(match))\n",
    "# This Match object returned by the search() method is more than just a Boolean\n",
    "# or None, it contains information about the match, including the original input\n",
    "# string, the regular expression that was used, and the location of the match.\n",
    "# Let's see the methods we can use on the match object:\n",
    "\n",
    "# Show start of match\n",
    "print(match.start())\n",
    "\n",
    "# Show end\n",
    "print(match.end())"
   ]
  },
  {
   "cell_type": "code",
   "execution_count": 1,
   "metadata": {},
   "outputs": [],
   "source": [
    "import re"
   ]
  },
  {
   "cell_type": "code",
   "execution_count": 3,
   "metadata": {},
   "outputs": [
    {
     "data": {
      "text/plain": [
       "<re.Match object; span=(2, 8), match='scream'>"
      ]
     },
     "execution_count": 3,
     "metadata": {},
     "output_type": "execute_result"
    }
   ],
   "source": [
    "st=\"I scream, you scream, we all scream for ice cream \"\n",
    "ff=re.search('scream',st)\n",
    "ff"
   ]
  },
  {
   "cell_type": "code",
   "execution_count": 4,
   "metadata": {},
   "outputs": [
    {
     "name": "stdout",
     "output_type": "stream",
     "text": [
      "['thought', 'thought']\n",
      "\n"
     ]
    }
   ],
   "source": [
    "# 2- Find all word in a string ..\n",
    "\n",
    "str1 =\"I thought I thought of thinking of thanking you \"\n",
    "\n",
    "f=re.findall(\"thought\",str1)\n",
    "print(f)\n",
    "print()\n",
    "\n",
    "# Task 1 :find 'screme'\n",
    "# str2 =\"I scream, you scream, we all scream for ice cream \"\n",
    "\n",
    "# Task 1 :find 'ted','Fred','fed'\n",
    "# str3=\"Fred fed Ted bread, and Ted fed Fred bread\""
   ]
  },
  {
   "cell_type": "code",
   "execution_count": 12,
   "metadata": {},
   "outputs": [
    {
     "name": "stdout",
     "output_type": "stream",
     "text": [
      "2\n",
      "(2, 8)\n"
     ]
    }
   ],
   "source": [
    "str1 =\"I thought of thinking of thanking you \"\n",
    "# f=re.findall(\"thought\",str1)\n",
    "# s=re.search(\"thought\",str1)\n",
    "# print(f,s.span())\n",
    "# print()\n",
    "\n",
    "# lets find starting and ending index of 'Champak' by ourself \n",
    "print(str1.index(\"thought\"))\n",
    "\n",
    "print((str1.index(\"thought\"),str1.index(\"thought\")+len('thought')))"
   ]
  },
  {
   "cell_type": "code",
   "execution_count": 14,
   "metadata": {},
   "outputs": [
    {
     "name": "stdout",
     "output_type": "stream",
     "text": [
      "thought\n"
     ]
    }
   ],
   "source": [
    "str1 =\"I thought of thinking of thanking you \"\n",
    "print(str1[2:9])"
   ]
  },
  {
   "cell_type": "code",
   "execution_count": 8,
   "metadata": {},
   "outputs": [
    {
     "name": "stdout",
     "output_type": "stream",
     "text": [
      "(21, 28)\n",
      "(32, 39)\n"
     ]
    }
   ],
   "source": [
    "# 3-Generate an iterator ....\n",
    "st=\"Let me introduce you Champak to Champak on my own pace , ok \"\n",
    "itr=re.finditer(\"Champak\",st)\n",
    "\n",
    "for i in itr:\n",
    "    op=i.span()\n",
    "    print(op)"
   ]
  },
  {
   "cell_type": "code",
   "execution_count": 11,
   "metadata": {},
   "outputs": [
    {
     "name": "stdout",
     "output_type": "stream",
     "text": [
      "['Sat', 'Mat', 'Fat', 'Rat', 'Bat', 'Cat'] There will be no 'hat'\n",
      "['Sat', 'Mat', 'Fat', 'Rat', 'Bat', 'Cat', 'hat'] There will be 'hat'\n",
      "['Sat', 'Mat', 'Rat', 'hat'] There will be no 'Bat','Cat'\n"
     ]
    }
   ],
   "source": [
    "#4- Match a word with perticular pattern ...\n",
    "str = \"987654,Sat,Mat,Fat,Rat,Bat,Cat,hat,mjhyfdghgk,hukj\"\n",
    "\n",
    "f=re.findall(\"[A-Z]at\",str)\n",
    "print(f,\"There will be no 'hat'\")\n",
    "\n",
    "ff=re.findall(\"[A-Za-z]at\",str)\n",
    "print(ff,\"There will be 'hat'\")\n",
    "\n",
    "fff=re.findall(\"[^A-G]at\",str)\n",
    "print(fff,\"There will be no 'Bat','Cat'\")"
   ]
  },
  {
   "cell_type": "code",
   "execution_count": 12,
   "metadata": {},
   "outputs": [
    {
     "name": "stdout",
     "output_type": "stream",
     "text": [
      "Sat,Mat,Fat,Rat,Bat,Cat,Hat\n",
      "Lalu,Lalu,Lalu,Lalu,Lalu,Lalu,hat\n"
     ]
    }
   ],
   "source": [
    "# 5- Replace a string ...\n",
    "str = \"Sat,Mat,Fat,Rat,Bat,Cat,hat\"\n",
    "  # lets replace 'hat' with 'Hat'  ...\n",
    "rep=re.compile(\"[h]at\")\n",
    "sub=rep.sub(\"Hat\",str)\n",
    "rep1=re.compile(\"[A-Z]at\")\n",
    "sub1=rep1.sub(\"Lalu\",str)\n",
    "print(sub)\n",
    "print(sub1)"
   ]
  },
  {
   "cell_type": "code",
   "execution_count": 14,
   "metadata": {
    "scrolled": true
   },
   "outputs": [
    {
     "name": "stdout",
     "output_type": "stream",
     "text": [
      "Abhi is 22 and Ravi is 33 \n",
      "Subhi is 21 and Lubhi is 45 \n",
      "Mirja is 23\n",
      "\n",
      "↑ Upar ↓Niche ek samaan hai\n",
      "\n",
      "Abhi is 22 and Ravi is 33\n",
      "Subhi is 21 and Lubhi is 45\n",
      "Mirja is 23\n"
     ]
    },
    {
     "data": {
      "text/plain": [
       "'Abhi is 22 and Ravi is 33 Subhi is 21 and Lubhi is 45 Mirja is 23'"
      ]
     },
     "execution_count": 14,
     "metadata": {},
     "output_type": "execute_result"
    }
   ],
   "source": [
    "# 6- Match a single character ...\n",
    " # Lets remove '\\n'\n",
    "name_age_2=\"Abhi is 22 and Ravi is 33 \\nSubhi is 21 and Lubhi is 45 \\nMirja is 23\"\n",
    "print(name_age_2)\n",
    "\n",
    "print()\n",
    "\n",
    "print(\"↑ Upar ↓Niche ek samaan hai\")\n",
    "print()\n",
    "\n",
    "name_age_1=\"\"\"Abhi is 22 and Ravi is 33\n",
    "Subhi is 21 and Lubhi is 45\n",
    "Mirja is 23\"\"\"\n",
    "print(name_age_1)\n",
    "\n",
    "com=re.compile(\"\\n\")\n",
    "re=com.sub(\" \",name_age_1)\n",
    "re"
   ]
  },
  {
   "cell_type": "markdown",
   "metadata": {},
   "source": [
    "<h2 style=\"color:#5D6D7E\" align =\"center\">Split with regular expressions:</h2>"
   ]
  },
  {
   "cell_type": "code",
   "execution_count": 1,
   "metadata": {},
   "outputs": [],
   "source": [
    "import re"
   ]
  },
  {
   "cell_type": "code",
   "execution_count": 2,
   "metadata": {},
   "outputs": [
    {
     "name": "stdout",
     "output_type": "stream",
     "text": [
      "['What is the domain name of someone with the email: hello', 'gmail.com']\n"
     ]
    }
   ],
   "source": [
    "split_term = '@'\n",
    "\n",
    "phrase = 'What is the domain name of someone with the email: hello@gmail.com'\n",
    "\n",
    "# Split the phrase\n",
    "print(re.split(split_term,phrase))"
   ]
  },
  {
   "cell_type": "markdown",
   "metadata": {},
   "source": [
    "<h2 style=\"color:#3498DB\" align =\"center\"> Shortcuts:</h2>\n",
    "<h3 style=\"color:#5D6D7E\" >\\d  : Matches any digit, this is equivalent to the set class [0-9].</h3>\n",
    "<h3 style=\"color:#5D6D7E\">\\D  : Matches any non-digit character.</h3>\n",
    "<h3 style=\"color:#5D6D7E\" >\\s :  Matches any whitespace character.</h3>\n",
    "<h3 style=\"color:#5D6D7E\">\\S :  Matches any non-whitespace character.</h3>\n",
    "<h3 style=\"color:#5D6D7E\">\\w :  Matches any alphanumeric character, this is equivalent to the class [a-zA-Z0-9].</h3>\n",
    "<h3 style=\"color:#5D6D7E\">\\W :  Matches any non-alphanumeric character. </h3>"
   ]
  },
  {
   "cell_type": "code",
   "execution_count": 1,
   "metadata": {},
   "outputs": [],
   "source": [
    "import re"
   ]
  },
  {
   "cell_type": "code",
   "execution_count": 5,
   "metadata": {},
   "outputs": [
    {
     "name": "stdout",
     "output_type": "stream",
     "text": [
      "['1', '2', '3', '4', '5']\n",
      "['1', '2', '3', '4', '5']\n"
     ]
    }
   ],
   "source": [
    "var=\"12345\"\n",
    "print(re.findall(\"\\d\",var))\n",
    "print(re.findall('[0-9]',var))"
   ]
  },
  {
   "cell_type": "code",
   "execution_count": 7,
   "metadata": {},
   "outputs": [
    {
     "name": "stdout",
     "output_type": "stream",
     "text": [
      "0\n",
      "3\n"
     ]
    }
   ],
   "source": [
    "var=\"123456\"\n",
    "print(len(re.findall(\"\\D\",var)))\n",
    "print(len(re.findall(\"\\d{2}\",var)))#  d{lenght} ke kitne hai"
   ]
  },
  {
   "cell_type": "code",
   "execution_count": 8,
   "metadata": {},
   "outputs": [
    {
     "name": "stdout",
     "output_type": "stream",
     "text": [
      "6\n",
      "3\n",
      "2\n",
      "1\n"
     ]
    }
   ],
   "source": [
    "var=\"123456\"\n",
    "print(len(re.findall(\"\\d{1}\",var))) # op:6 (total no of single numbers)\n",
    "print(len(re.findall(\"\\d{2}\",var))) # op:3 (total no of double numbers)\n",
    "print(len(re.findall(\"\\d{3}\",var))) # op:2 (total no of three numbers)\n",
    "print(len(re.findall(\"\\d{4}\",var))) # op:1 (total no of four numbers)"
   ]
  },
  {
   "cell_type": "code",
   "execution_count": 1,
   "metadata": {},
   "outputs": [],
   "source": [
    "import re"
   ]
  },
  {
   "cell_type": "code",
   "execution_count": 8,
   "metadata": {},
   "outputs": [
    {
     "name": "stdout",
     "output_type": "stream",
     "text": [
      "['1', '12', '12', '3', '12', '34', '12', '34', '5', '12', '34', '56', '12', '34', '56', '7']\n",
      "['123', '1234', '12345', '123456', '123456']\n"
     ]
    }
   ],
   "source": [
    "var=\"1,12 123 1234 12345 123456 1234567\"\n",
    "print(re.findall(\"\\d{1,2}\",var))\n",
    "#print(re.findall(\"\\d{1,3}\",var))\n",
    "# print(len(re.findall(\"\\d{1,4}\",var)))\n",
    "# print(len(re.findall(\"\\d{1,5}\",var)))\n",
    "print(re.findall(\"\\d{3,6}\",var))"
   ]
  },
  {
   "cell_type": "markdown",
   "metadata": {},
   "source": [
    "<h2 style=\"color:#5D6D7E\" align =\"center\">  Applicaton based problems ..↓ ...↓ ....↓ .....↓</h2>"
   ]
  },
  {
   "cell_type": "markdown",
   "metadata": {},
   "source": [
    "<h2 style=\"color:#3498DB\" align =\"center\"> NOTE :</h2>\n",
    "<h3 style=\"color:#5D6D7E\" >A pattern followed by the following meta-character : <br> <br>\n",
    "                 ' * ':           followed by zero or more <br> <br>\n",
    "                ' + ':            followed by one or more  <br> <br>\n",
    "                ' ? ':            followed by zero or one <br><br>\n",
    "                ' {3} ':          followed by three <br> <br>\n",
    "                ' {2,3} ':        followed by two to three <br> <br>\n",
    " </h3>"
   ]
  },
  {
   "cell_type": "code",
   "execution_count": 9,
   "metadata": {},
   "outputs": [
    {
     "name": "stdout",
     "output_type": "stream",
     "text": [
      "s followed by zero or more d's\n",
      "['sd', 'sd', 's', 's', 'sddd', 'sddd', 'sddd', 'sd', 's', 's', 's', 's', 's', 's', 'sdddd']\n",
      "\n",
      "s followed by one or more d's\n",
      "['sd', 'sd', 'sddd', 'sddd', 'sddd', 'sd', 'sdddd']\n",
      "\n",
      "s followed by zero or one d's\n",
      "['sd', 'sd', 's', 's', 'sd', 'sd', 'sd', 'sd', 's', 's', 's', 's', 's', 's', 'sd']\n",
      "\n",
      "s followed by three d's\n",
      "['sddd', 'sddd', 'sddd', 'sddd']\n",
      "\n",
      "s followed by two to three d's\n",
      "['sddd', 'sddd', 'sddd', 'sddd']\n"
     ]
    }
   ],
   "source": [
    "test_phrase = 'sdsd.akk@%kjjj.sssddd...sdddsddd..###.dsds.dsssss...sddddnmnmn**&'\n",
    "# op  : s followed by d\n",
    "print(\"s followed by zero or more d's\")\n",
    "print(re.findall('sd*',test_phrase)) \n",
    "print()\n",
    "print(\"s followed by one or more d's\")\n",
    "print(re.findall('sd+',test_phrase))\n",
    "print()\n",
    "print(\"s followed by zero or one d's\")\n",
    "print(re.findall('sd?',test_phrase))\n",
    "print()\n",
    "print(\"s followed by three d's\")\n",
    "print(re.findall('sd{3}',test_phrase))        \n",
    "print()\n",
    "print(\"s followed by two to three d's\")\n",
    "print(re.findall('sd{2,3}',test_phrase))      \n"
   ]
  },
  {
   "cell_type": "code",
   "execution_count": 10,
   "metadata": {},
   "outputs": [],
   "source": [
    "# Since we will be testing multiple re syntax forms, let's create a function\n",
    "# that will print out results given a list of various regular expressions and\n",
    "# a phrase to parse:\n",
    "def multi_re_find(patterns,phrase):\n",
    "    '''\n",
    "    Takes in a list of regex patterns\n",
    "    Prints a list of all matches\n",
    "    '''\n",
    "    for pattern in patterns:\n",
    "        print (f'Searching the phrase using the re check: {pattern}')\n",
    "        print (re.findall(pattern,phrase))\n",
    "        print ('\\n')"
   ]
  },
  {
   "cell_type": "code",
   "execution_count": 12,
   "metadata": {},
   "outputs": [
    {
     "name": "stdout",
     "output_type": "stream",
     "text": [
      "Searching the phrase using the re check: sd*\n",
      "['sd', 'sd', 's', 's', 'sddd', 'sddd', 'sddd', 'sd', 's', 's', 's', 's', 's', 's', 'sdddd']\n",
      "\n",
      "\n",
      "Searching the phrase using the re check: sd+\n",
      "['sd', 'sd', 'sddd', 'sddd', 'sddd', 'sd', 'sdddd']\n",
      "\n",
      "\n",
      "Searching the phrase using the re check: sd?\n",
      "['sd', 'sd', 's', 's', 'sd', 'sd', 'sd', 'sd', 's', 's', 's', 's', 's', 's', 'sd']\n",
      "\n",
      "\n",
      "Searching the phrase using the re check: sd{3}\n",
      "['sddd', 'sddd', 'sddd', 'sddd']\n",
      "\n",
      "\n",
      "Searching the phrase using the re check: sd{2,3}\n",
      "['sddd', 'sddd', 'sddd', 'sddd']\n",
      "\n",
      "\n"
     ]
    }
   ],
   "source": [
    "test_phrase = 'sdsd.akk@%kjjj.sssddd...sdddsddd..###.dsds.dsssss...sddddnmnmn**&'\n",
    "\n",
    "test_patterns = [ 'sd*',     # s followed by zero or more d's\n",
    "                'sd+',          # s followed by one or more d's\n",
    "                'sd?',          # s followed by zero or one d's\n",
    "                'sd{3}',        # s followed by three d's\n",
    "                'sd{2,3}',      # s followed by two to three d's\n",
    "                ]\n",
    "\n",
    "multi_re_find(test_patterns,test_phrase)"
   ]
  },
  {
   "cell_type": "markdown",
   "metadata": {},
   "source": [
    "<h2 style=\"color:#3498DB\" align =\"center\"> NOTE :</h2> \n",
    "<h3 style=\"color:#5D6D7E\" >\n",
    " \"\\w\" 0r [A-Za-z0-9] → match everything inside the bracket<br>\n",
    "    <br>\n",
    " \"\\W\" 0r [^A-Za-z0-9] → Donot match everything inside the bracket<br>\n",
    "    <br>\n",
    " \"\\s\" 0r [\\n\\f\\t\\v] → match all spaces<br>\n",
    "    <br>\n",
    " \"\\S\" 0r [^\\n\\f\\t\\v] → Donot match all spaces<br>\n",
    "</h3>"
   ]
  },
  {
   "cell_type": "code",
   "execution_count": 15,
   "metadata": {},
   "outputs": [
    {
     "name": "stdout",
     "output_type": "stream",
     "text": [
      "Searching the phrase using the re check: [sd]\n",
      "['s', 's', 'd', 's', 'd', 's', 's', 's', 'd', 'd', 'd', 's', 'd', 'd', 'd', 's', 'd', 'd', 'd', 'd', 's', 'd', 's', 'd', 's', 's', 's', 's', 's', 's', 'd', 'd', 'd', 'd']\n",
      "\n",
      "\n",
      "Searching the phrase using the re check: s[sd]*\n",
      "['s', 'sdsd', 'sssddd', 'sdddsddd', 'sds', 'sssss', 'sdddd']\n",
      "\n",
      "\n",
      "Searching the phrase using the re check: sd*\n",
      "['s', 'sd', 'sd', 's', 's', 'sddd', 'sddd', 'sddd', 'sd', 's', 's', 's', 's', 's', 's', 'sdddd']\n",
      "\n",
      "\n"
     ]
    }
   ],
   "source": [
    "#############################\n",
    "### Character Sets ##########\n",
    "#############################\n",
    "\n",
    "# Character sets are used when you wish to match any one of a group of\n",
    "# characters at a point in the input. Brackets are used to construct character\n",
    "# set inputs. For example: the input [ab] searches for occurrences of either a or b.\n",
    "\n",
    "# Let's see some examples:\n",
    "test_phrase = 's sdsd..sssddd...sdddsddd...dsds...dsssss...sdddd'\n",
    "\n",
    "test_patterns = [ \n",
    "                '[sd]',       # either s or d\n",
    "                's[sd]*',     # s followed by one or more s or d\n",
    "                'sd*'         # s followed by one or more s or d\n",
    "    ]       \n",
    "\n",
    "\n",
    "multi_re_find(test_patterns,test_phrase)\n",
    "\n"
   ]
  },
  {
   "cell_type": "code",
   "execution_count": 17,
   "metadata": {},
   "outputs": [
    {
     "name": "stdout",
     "output_type": "stream",
     "text": [
      "['This', 'is', 'a', 'string', 'But', 'it', 'has', 'punctuation', '376', 'How', 'can', '+', 'we', 'remove', 'it']\n",
      "['This']\n"
     ]
    }
   ],
   "source": [
    "# #############################\n",
    "# ### Exclusion ###############\n",
    "# #############################\n",
    "\n",
    "# We can use ^ to exclude terms by incorporating it into the bracket syntax\n",
    "# notation. For example: [^...] will match any single character not in the\n",
    "# brackets.\n",
    "\n",
    "# Let's see some examples:\n",
    "\n",
    "test_phrase = 'This is a string! But it has punctuation 376. How can + we remove it?'\n",
    "\n",
    "\n",
    "# Use [^!.? ] to check for matches that are not a !,.,?, or space. Add the +\n",
    "# to check that the match appears at least once, this basically translate into\n",
    "# finding the words.\n",
    "\n",
    "print(re.findall('[^!.? ]+',test_phrase))\n",
    "print(re.findall('This',test_phrase))"
   ]
  },
  {
   "cell_type": "code",
   "execution_count": 18,
   "metadata": {},
   "outputs": [
    {
     "name": "stdout",
     "output_type": "stream",
     "text": [
      "Searching the phrase using the re check: \\d+\n",
      "['1233']\n",
      "\n",
      "\n",
      "Searching the phrase using the re check: \\D+\n",
      "['This is a string with  some numbers @&', ' and a symbol #hashtag']\n",
      "\n",
      "\n",
      "Searching the phrase using the re check: \\s+\n",
      "[' ', ' ', ' ', ' ', '  ', ' ', ' ', ' ', ' ', ' ', ' ']\n",
      "\n",
      "\n",
      "Searching the phrase using the re check: \\S+\n",
      "['This', 'is', 'a', 'string', 'with', 'some', 'numbers', '@&1233', 'and', 'a', 'symbol', '#hashtag']\n",
      "\n",
      "\n",
      "Searching the phrase using the re check: \\w+\n",
      "['This', 'is', 'a', 'string', 'with', 'some', 'numbers', '1233', 'and', 'a', 'symbol', 'hashtag']\n",
      "\n",
      "\n",
      "Searching the phrase using the re check: \\W+\n",
      "[' ', ' ', ' ', ' ', '  ', ' ', ' @&', ' ', ' ', ' ', ' #']\n",
      "\n",
      "\n"
     ]
    }
   ],
   "source": [
    "# Example \n",
    "test_phrase = 'This is a string with '' some numbers @&1233 and a symbol #hashtag'\n",
    "\n",
    "test_patterns=[ r'\\d+', # sequence of digits\n",
    "                r'\\D+', # sequence of non-digits\n",
    "                r'\\s+', # sequence of whitespace\n",
    "                r'\\S+', # sequence of non-whitespace\n",
    "                r'\\w+', # alphanumeric characters\n",
    "                r'\\W+', # non-alphanumeric\n",
    "                ]\n",
    "\n",
    "multi_re_find(test_patterns,test_phrase)"
   ]
  },
  {
   "cell_type": "code",
   "execution_count": null,
   "metadata": {},
   "outputs": [],
   "source": []
  }
 ],
 "metadata": {
  "kernelspec": {
   "display_name": "Python 3",
   "language": "python",
   "name": "python3"
  },
  "language_info": {
   "codemirror_mode": {
    "name": "ipython",
    "version": 3
   },
   "file_extension": ".py",
   "mimetype": "text/x-python",
   "name": "python",
   "nbconvert_exporter": "python",
   "pygments_lexer": "ipython3",
   "version": "3.8.3rc1"
  }
 },
 "nbformat": 4,
 "nbformat_minor": 4
}
