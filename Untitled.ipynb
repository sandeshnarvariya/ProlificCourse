{
 "cells": [
  {
   "cell_type": "code",
   "execution_count": 2,
   "metadata": {},
   "outputs": [
    {
     "data": {
      "text/plain": [
       "7.1"
      ]
     },
     "execution_count": 2,
     "metadata": {},
     "output_type": "execute_result"
    }
   ],
   "source": [
    "result = 2 + 5.1\n",
    "result"
   ]
  },
  {
   "cell_type": "code",
   "execution_count": 12,
   "metadata": {},
   "outputs": [
    {
     "name": "stdout",
     "output_type": "stream",
     "text": [
      "30¶\n",
      "0\n"
     ]
    }
   ],
   "source": [
    "bkt = input()\n",
    "count1 = count2 = 0\n",
    "for i in bkt:\n",
    "    if '(' == i:\n",
    "        count1 += 1\n",
    "    elif ')' == i:\n",
    "        count2 += 1\n",
    "if count1 < count2:\n",
    "    print(count1)\n",
    "else:\n",
    "    print(count2)"
   ]
  },
  {
   "cell_type": "code",
   "execution_count": 13,
   "metadata": {},
   "outputs": [
    {
     "name": "stdout",
     "output_type": "stream",
     "text": [
      "((())))****()))(\n",
      "5\n"
     ]
    }
   ],
   "source": [
    "bkt = input()\n",
    "count1 = count2 = 0\n",
    "for i in bkt:\n",
    "    if '(' == i:\n",
    "        count1 += 1\n",
    "    elif ')' == i:\n",
    "        count2 += 1\n",
    "if count1 < count2:\n",
    "    print(count1)\n",
    "elif count1 > count2:\n",
    "    print(count2)\n",
    "else:\n",
    "    print(0)"
   ]
  },
  {
   "cell_type": "code",
   "execution_count": 5,
   "metadata": {},
   "outputs": [
    {
     "data": {
      "text/plain": [
       "['1', '2', '3', '4']"
      ]
     },
     "execution_count": 5,
     "metadata": {},
     "output_type": "execute_result"
    }
   ],
   "source": [
    "a = '1_2_3_4'.s('_')\n",
    "a"
   ]
  },
  {
   "cell_type": "code",
   "execution_count": null,
   "metadata": {},
   "outputs": [],
   "source": []
  }
 ],
 "metadata": {
  "kernelspec": {
   "display_name": "Python 3",
   "language": "python",
   "name": "python3"
  },
  "language_info": {
   "codemirror_mode": {
    "name": "ipython",
    "version": 3
   },
   "file_extension": ".py",
   "mimetype": "text/x-python",
   "name": "python",
   "nbconvert_exporter": "python",
   "pygments_lexer": "ipython3",
   "version": "3.8.5"
  }
 },
 "nbformat": 4,
 "nbformat_minor": 4
}
