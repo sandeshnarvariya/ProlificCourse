{
 "cells": [
  {
   "cell_type": "markdown",
   "metadata": {},
   "source": [
    "## Modules\n",
    "\n",
    "* Keywords:\n",
    "    * import\n",
    "    * as\n",
    "    * from"
   ]
  },
  {
   "cell_type": "markdown",
   "metadata": {},
   "source": [
    "### Using modules\n",
    "\n",
    "* We use the keyword import\n",
    "* 4 ways to use it:\n",
    "  * import math\n",
    "      * Usage after importing:\n",
    "            \n",
    "             print(math.ceil(10.4))\n",
    "             \n",
    "  * import math as m\n",
    "      * Usage after importing: Renaming the module\n",
    "            \n",
    "             print(m.ceil(10.4))\n",
    "             \n",
    "  * from math import ceil\n",
    "      * Usage after importing: Can use only the function imported from module\n",
    "            \n",
    "             print(ceil(10.4))\n",
    "  \n",
    "  * from math import *\n",
    "      * Usage after importing: Can use all function inside module\n",
    "            \n",
    "             print(ceil(10.4))\n",
    "             \n",
    "             print(floor(10.2))\n",
    "             \n",
    "             print(sqrt(4))"
   ]
  },
  {
   "cell_type": "code",
   "execution_count": 1,
   "metadata": {},
   "outputs": [
    {
     "name": "stdout",
     "output_type": "stream",
     "text": [
      "Interactive namespace is empty.\n"
     ]
    }
   ],
   "source": [
    "%whos"
   ]
  },
  {
   "cell_type": "code",
   "execution_count": 6,
   "metadata": {},
   "outputs": [],
   "source": [
    "import math"
   ]
  },
  {
   "cell_type": "code",
   "execution_count": 3,
   "metadata": {},
   "outputs": [
    {
     "name": "stdout",
     "output_type": "stream",
     "text": [
      "Variable   Type      Data/Info\n",
      "------------------------------\n",
      "math       module    <module 'math' (built-in)>\n"
     ]
    }
   ],
   "source": [
    "%whos"
   ]
  },
  {
   "cell_type": "code",
   "execution_count": null,
   "metadata": {},
   "outputs": [],
   "source": [
    "print(type(math))"
   ]
  },
  {
   "cell_type": "code",
   "execution_count": 5,
   "metadata": {},
   "outputs": [],
   "source": [
    "#help(math)"
   ]
  },
  {
   "cell_type": "code",
   "execution_count": 7,
   "metadata": {},
   "outputs": [
    {
     "name": "stdout",
     "output_type": "stream",
     "text": [
      "24\n",
      "3.141592653589793\n"
     ]
    }
   ],
   "source": [
    "a = math.factorial(4)\n",
    "print(a)\n",
    "b = math.pi\n",
    "print(b)"
   ]
  },
  {
   "cell_type": "code",
   "execution_count": 8,
   "metadata": {},
   "outputs": [
    {
     "name": "stdout",
     "output_type": "stream",
     "text": [
      "Variable   Type      Data/Info\n",
      "------------------------------\n",
      "a          int       24\n",
      "b          float     3.141592653589793\n",
      "math       module    <module 'math' (built-in)>\n"
     ]
    }
   ],
   "source": [
    "# Restart kernel before running next blocks\n",
    "%whos"
   ]
  },
  {
   "cell_type": "code",
   "execution_count": 5,
   "metadata": {},
   "outputs": [],
   "source": [
    "import math as m"
   ]
  },
  {
   "cell_type": "code",
   "execution_count": 3,
   "metadata": {},
   "outputs": [
    {
     "name": "stdout",
     "output_type": "stream",
     "text": [
      "Variable   Type      Data/Info\n",
      "------------------------------\n",
      "m          module    <module 'math' (built-in)>\n"
     ]
    }
   ],
   "source": [
    "%whos"
   ]
  },
  {
   "cell_type": "code",
   "execution_count": 4,
   "metadata": {},
   "outputs": [
    {
     "name": "stdout",
     "output_type": "stream",
     "text": [
      "24\n",
      "3.141592653589793\n"
     ]
    }
   ],
   "source": [
    "a = m.factorial(4)\n",
    "print(a)\n",
    "b = m.pi\n",
    "print(b)"
   ]
  },
  {
   "cell_type": "code",
   "execution_count": 6,
   "metadata": {},
   "outputs": [
    {
     "name": "stdout",
     "output_type": "stream",
     "text": [
      "Variable   Type      Data/Info\n",
      "------------------------------\n",
      "a          int       24\n",
      "b          float     3.141592653589793\n",
      "m          module    <module 'math' (built-in)>\n"
     ]
    }
   ],
   "source": [
    "# Restart kernel before running next blocks\n",
    "%whos"
   ]
  },
  {
   "cell_type": "code",
   "execution_count": 1,
   "metadata": {},
   "outputs": [],
   "source": [
    "from math import factorial as fact\n",
    "from math import sqrt\n",
    "from math import pi"
   ]
  },
  {
   "cell_type": "code",
   "execution_count": 2,
   "metadata": {},
   "outputs": [
    {
     "name": "stdout",
     "output_type": "stream",
     "text": [
      "Variable   Type                          Data/Info\n",
      "--------------------------------------------------\n",
      "fact       builtin_function_or_method    <built-in function factorial>\n",
      "pi         float                         3.141592653589793\n",
      "sqrt       builtin_function_or_method    <built-in function sqrt>\n"
     ]
    }
   ],
   "source": [
    "%whos"
   ]
  },
  {
   "cell_type": "code",
   "execution_count": 3,
   "metadata": {},
   "outputs": [
    {
     "name": "stdout",
     "output_type": "stream",
     "text": [
      "24\n",
      "3.141592653589793\n"
     ]
    }
   ],
   "source": [
    "a = fact(4)\n",
    "print(a)\n",
    "b = pi\n",
    "print(b)"
   ]
  },
  {
   "cell_type": "code",
   "execution_count": 4,
   "metadata": {},
   "outputs": [
    {
     "name": "stdout",
     "output_type": "stream",
     "text": [
      "Variable   Type                          Data/Info\n",
      "--------------------------------------------------\n",
      "a          int                           24\n",
      "b          float                         3.141592653589793\n",
      "fact       builtin_function_or_method    <built-in function factorial>\n",
      "pi         float                         3.141592653589793\n",
      "sqrt       builtin_function_or_method    <built-in function sqrt>\n"
     ]
    }
   ],
   "source": [
    "# Restart kernel before running next blocks\n",
    "%whos"
   ]
  },
  {
   "cell_type": "code",
   "execution_count": 1,
   "metadata": {},
   "outputs": [],
   "source": [
    "from math import *"
   ]
  },
  {
   "cell_type": "code",
   "execution_count": 2,
   "metadata": {
    "scrolled": true
   },
   "outputs": [
    {
     "name": "stdout",
     "output_type": "stream",
     "text": [
      "Variable    Type                          Data/Info\n",
      "---------------------------------------------------\n",
      "acos        builtin_function_or_method    <built-in function acos>\n",
      "acosh       builtin_function_or_method    <built-in function acosh>\n",
      "asin        builtin_function_or_method    <built-in function asin>\n",
      "asinh       builtin_function_or_method    <built-in function asinh>\n",
      "atan        builtin_function_or_method    <built-in function atan>\n",
      "atan2       builtin_function_or_method    <built-in function atan2>\n",
      "atanh       builtin_function_or_method    <built-in function atanh>\n",
      "ceil        builtin_function_or_method    <built-in function ceil>\n",
      "comb        builtin_function_or_method    <built-in function comb>\n",
      "copysign    builtin_function_or_method    <built-in function copysign>\n",
      "cos         builtin_function_or_method    <built-in function cos>\n",
      "cosh        builtin_function_or_method    <built-in function cosh>\n",
      "degrees     builtin_function_or_method    <built-in function degrees>\n",
      "dist        builtin_function_or_method    <built-in function dist>\n",
      "e           float                         2.718281828459045\n",
      "erf         builtin_function_or_method    <built-in function erf>\n",
      "erfc        builtin_function_or_method    <built-in function erfc>\n",
      "exp         builtin_function_or_method    <built-in function exp>\n",
      "expm1       builtin_function_or_method    <built-in function expm1>\n",
      "fabs        builtin_function_or_method    <built-in function fabs>\n",
      "factorial   builtin_function_or_method    <built-in function factorial>\n",
      "floor       builtin_function_or_method    <built-in function floor>\n",
      "fmod        builtin_function_or_method    <built-in function fmod>\n",
      "frexp       builtin_function_or_method    <built-in function frexp>\n",
      "fsum        builtin_function_or_method    <built-in function fsum>\n",
      "gamma       builtin_function_or_method    <built-in function gamma>\n",
      "gcd         builtin_function_or_method    <built-in function gcd>\n",
      "hypot       builtin_function_or_method    <built-in function hypot>\n",
      "inf         float                         inf\n",
      "isclose     builtin_function_or_method    <built-in function isclose>\n",
      "isfinite    builtin_function_or_method    <built-in function isfinite>\n",
      "isinf       builtin_function_or_method    <built-in function isinf>\n",
      "isnan       builtin_function_or_method    <built-in function isnan>\n",
      "isqrt       builtin_function_or_method    <built-in function isqrt>\n",
      "ldexp       builtin_function_or_method    <built-in function ldexp>\n",
      "lgamma      builtin_function_or_method    <built-in function lgamma>\n",
      "log         builtin_function_or_method    <built-in function log>\n",
      "log10       builtin_function_or_method    <built-in function log10>\n",
      "log1p       builtin_function_or_method    <built-in function log1p>\n",
      "log2        builtin_function_or_method    <built-in function log2>\n",
      "modf        builtin_function_or_method    <built-in function modf>\n",
      "nan         float                         nan\n",
      "perm        builtin_function_or_method    <built-in function perm>\n",
      "pi          float                         3.141592653589793\n",
      "pow         builtin_function_or_method    <built-in function pow>\n",
      "prod        builtin_function_or_method    <built-in function prod>\n",
      "radians     builtin_function_or_method    <built-in function radians>\n",
      "remainder   builtin_function_or_method    <built-in function remainder>\n",
      "sin         builtin_function_or_method    <built-in function sin>\n",
      "sinh        builtin_function_or_method    <built-in function sinh>\n",
      "sqrt        builtin_function_or_method    <built-in function sqrt>\n",
      "tan         builtin_function_or_method    <built-in function tan>\n",
      "tanh        builtin_function_or_method    <built-in function tanh>\n",
      "tau         float                         6.283185307179586\n",
      "trunc       builtin_function_or_method    <built-in function trunc>\n"
     ]
    }
   ],
   "source": [
    "%whos"
   ]
  },
  {
   "cell_type": "markdown",
   "metadata": {},
   "source": [
    "### Random Module"
   ]
  },
  {
   "cell_type": "markdown",
   "metadata": {},
   "source": [
    "<h2 style=\"color:navy\" align=\"center\">1. choice() :- </h2>\n",
    "<h3 style=\"color:green\">choice()  is an inbuilt function in the Python programming language that returns <br>a random item from a list, tuple, or string.</h3>"
   ]
  },
  {
   "cell_type": "code",
   "execution_count": 5,
   "metadata": {},
   "outputs": [
    {
     "name": "stdout",
     "output_type": "stream",
     "text": [
      "\t\t 3\n",
      "\t\t v\n",
      "\t\t 4\n"
     ]
    }
   ],
   "source": [
    "# choice() method\n",
    "# import random\n",
    "import random\n",
    " \n",
    "# prints a random value from the list\n",
    "list1 = [1, 2, 3, 4, 5, 6]\n",
    "print(\"\\t\\t\",random.choice(list1))\n",
    " \n",
    "# prints a random item from the string\n",
    "string = \"striver\"\n",
    "print(\"\\t\\t\",random.choice(string))\n",
    "\n",
    "print(\"\\t\\t\",random.choice(list(range(1,6))))"
   ]
  },
  {
   "cell_type": "markdown",
   "metadata": {},
   "source": [
    "<h2 style=\"color:navy\" align=\"center\">2. randrange(start, stop, step):-</h2>\n",
    "<h3 style=\"color:green\">The random module offers a function that can generate random numbers from a <br>specified range and also allowing rooms for steps to be included, called randrange().</h3>"
   ]
  },
  {
   "cell_type": "code",
   "execution_count": 18,
   "metadata": {},
   "outputs": [
    {
     "name": "stdout",
     "output_type": "stream",
     "text": [
      "0.10652409827022336\n"
     ]
    }
   ],
   "source": [
    "# using random() to generate a random number\n",
    "# between 0 and 1\n",
    "print(random.random())"
   ]
  },
  {
   "cell_type": "code",
   "execution_count": 24,
   "metadata": {},
   "outputs": [
    {
     "name": "stdout",
     "output_type": "stream",
     "text": [
      "Random number between given range : 15\n"
     ]
    },
    {
     "ename": "NameError",
     "evalue": "name 'z' is not defined",
     "output_type": "error",
     "traceback": [
      "\u001b[1;31m---------------------------------------------------------------------------\u001b[0m",
      "\u001b[1;31mNameError\u001b[0m                                 Traceback (most recent call last)",
      "\u001b[1;32m<ipython-input-24-43b418b8fa2c>\u001b[0m in \u001b[0;36m<module>\u001b[1;34m\u001b[0m\n\u001b[0;32m      4\u001b[0m \u001b[0mprint\u001b[0m\u001b[1;33m(\u001b[0m\u001b[1;34m\"Random number between given range :\"\u001b[0m\u001b[1;33m,\u001b[0m\u001b[0ma\u001b[0m\u001b[1;33m)\u001b[0m\u001b[1;33m\u001b[0m\u001b[1;33m\u001b[0m\u001b[0m\n\u001b[0;32m      5\u001b[0m \u001b[1;33m\u001b[0m\u001b[0m\n\u001b[1;32m----> 6\u001b[1;33m \u001b[0ms\u001b[0m \u001b[1;33m=\u001b[0m \u001b[0mrandom\u001b[0m\u001b[1;33m.\u001b[0m\u001b[0mrandrange\u001b[0m\u001b[1;33m(\u001b[0m\u001b[0ma\u001b[0m\u001b[1;33m,\u001b[0m \u001b[0mz\u001b[0m\u001b[1;33m)\u001b[0m\u001b[1;33m\u001b[0m\u001b[1;33m\u001b[0m\u001b[0m\n\u001b[0m\u001b[0;32m      7\u001b[0m \u001b[0mprint\u001b[0m\u001b[1;33m(\u001b[0m\u001b[1;34m\"Random number between given range :\"\u001b[0m\u001b[1;33m,\u001b[0m\u001b[0ms\u001b[0m\u001b[1;33m)\u001b[0m\u001b[1;33m\u001b[0m\u001b[1;33m\u001b[0m\u001b[0m\n",
      "\u001b[1;31mNameError\u001b[0m: name 'z' is not defined"
     ]
    }
   ],
   "source": [
    "import random\n",
    "\n",
    "a = random.randrange(1,20+1)\n",
    "print(\"Random number between given range :\",a)\n",
    "\n",
    "# s = random.randrange('a', 'z')\n",
    "# print(\"Random number between given range :\",s)"
   ]
  },
  {
   "cell_type": "markdown",
   "metadata": {},
   "source": [
    "<h2 style=\"color:navy\" align=\"center\">3. shuffle():- </h2> \n",
    "<h3 style=\"color:green\" >It is used to shuffle a sequence (list). Shuffling means changing the position of the<br> elements of the sequence. </h3>"
   ]
  },
  {
   "cell_type": "code",
   "execution_count": 28,
   "metadata": {
    "scrolled": true
   },
   "outputs": [
    {
     "name": "stdout",
     "output_type": "stream",
     "text": [
      "Original : [1, 2, 3, 4, 5, 6]\n",
      "\n",
      "After the first shuffle : [4, 2, 3, 1, 6, 5]\n",
      "\n",
      "After the second shuffle : [6, 3, 1, 4, 5, 2]\n"
     ]
    }
   ],
   "source": [
    "a = [1,2,3,4,5,6]\n",
    "print(\"Original :\",a)\n",
    "print()\n",
    "# first shuffle\n",
    "random.shuffle(a)\n",
    "print(\"After the first shuffle :\",a)\n",
    "print()\n",
    "# second shuffle\n",
    "random.shuffle(a)\n",
    "print(\"After the second shuffle :\",a)"
   ]
  },
  {
   "cell_type": "markdown",
   "metadata": {},
   "source": [
    "<h2 style=\"color:navy\" align=\"center\">sample(iterable,lenth_of_sample):- </h2>"
   ]
  },
  {
   "cell_type": "code",
   "execution_count": 30,
   "metadata": {},
   "outputs": [
    {
     "name": "stdout",
     "output_type": "stream",
     "text": [
      "[5, 6, 2]\n"
     ]
    }
   ],
   "source": [
    "\n",
    "a = [1,2,3,4,5,6]\n",
    "b = random.sample(a,3)\n",
    "print(b)"
   ]
  },
  {
   "cell_type": "markdown",
   "metadata": {},
   "source": [
    "<h2 style=\"color:navy\" align=\"center\"> 4. uniform(a, b):- </h2> \n",
    "<h3 style=\"color:green\" >This function is used to generate a floating point random number between the numbers <br>mentioned in its arguments. It takes two arguments, lower limit(included in generation) and upper limit(not included in generation). </h3>"
   ]
  },
  {
   "cell_type": "code",
   "execution_count": 36,
   "metadata": {},
   "outputs": [
    {
     "name": "stdout",
     "output_type": "stream",
     "text": [
      "The random floating point number between 5 and 10 is : 8.331834139097438\n"
     ]
    }
   ],
   "source": [
    "print(\"The random floating point number between 5 and 10 is : \", end=\"\")\n",
    "\n",
    "print(random.uniform(5, 10))"
   ]
  },
  {
   "cell_type": "markdown",
   "metadata": {},
   "source": [
    "<h2 style=\"color:navy\" align=\"center\"> randint(start, end) </h2> \n",
    "<h3 style=\"color:green\" align=\"center\">randint accepts two parameters: a starting point and an ending point. Both should be integers . It gives output in integers</h3>"
   ]
  },
  {
   "cell_type": "code",
   "execution_count": 40,
   "metadata": {},
   "outputs": [
    {
     "data": {
      "text/plain": [
       "2"
      ]
     },
     "execution_count": 40,
     "metadata": {},
     "output_type": "execute_result"
    }
   ],
   "source": [
    "random.randint(1, 6)"
   ]
  },
  {
   "cell_type": "markdown",
   "metadata": {},
   "source": [
    "<h3 style=\"color:green\" align=\"center\">task :Generate random numbers within a given range and store in a list</h3>"
   ]
  },
  {
   "cell_type": "code",
   "execution_count": 45,
   "metadata": {},
   "outputs": [
    {
     "name": "stdout",
     "output_type": "stream",
     "text": [
      "[27, 31, 24, 23, 26, 35, 37, 38, 36, 33]\n"
     ]
    }
   ],
   "source": [
    "import random \n",
    "  \n",
    "# Function to generate \n",
    "# and append them  \n",
    "# start = starting range, \n",
    "# end = ending range \n",
    "# num = number of elements needs to be appended \n",
    "def Rand(start, end, num): \n",
    "    res = [] \n",
    "  \n",
    "    for j in range(num): \n",
    "        res.append(random.randrange(start, end))\n",
    "                #or\n",
    "       # res.append(random.randint(start, end)) \n",
    "  \n",
    "    return res \n",
    "  \n",
    "num = 10\n",
    "start = 20\n",
    "end = 40\n",
    "print(Rand(start, end, num)) "
   ]
  },
  {
   "cell_type": "markdown",
   "metadata": {},
   "source": [
    "<h2 style=\"color:navy\" align=\"center\">: : Guess Game : : </h2>"
   ]
  },
  {
   "cell_type": "code",
   "execution_count": 3,
   "metadata": {},
   "outputs": [
    {
     "name": "stdout",
     "output_type": "stream",
     "text": [
      "If entered number will  match then you will get a Surprise gift :\n",
      "Enter how many chances you want :3\n",
      "Guess any Number between 1 to 5 :2\n",
      "Sorry ,your guess is not matched ☺\n",
      "Guess any Number between 1 to 5 :3\n",
      "Sorry ,your guess is not matched ☺\n",
      "Guess any Number between 1 to 5 :4\n"
     ]
    },
    {
     "data": {
      "text/plain": [
       "'Yeeeh! Your Guess is matched , you won a Smile ☻'"
      ]
     },
     "execution_count": 3,
     "metadata": {},
     "output_type": "execute_result"
    }
   ],
   "source": [
    "def Guess_Game():\n",
    "    import random\n",
    "    print(\"If entered number will  match then you will get a Surprise gift :\")\n",
    "    r = random.randint(0,5)\n",
    "    c=int(input(\"Enter how many chances you want :\"))\n",
    "    i=0\n",
    "    while i<=c:\n",
    "        i+=1\n",
    "        n = int(input(\"Guess any Number between 1 to 5 :\"))\n",
    "        if n < 0 or n>5:\n",
    "            return \"You have entered an Invalid Number , Now you will regret --\"\n",
    "        elif n == r :\n",
    "            return \"Yeeeh! Your Guess is matched , you won a Smile ☻\"\n",
    "            break\n",
    "        else:\n",
    "            print (\"Sorry ,your guess is not matched ☺\")\n",
    "        \n",
    "    else:\n",
    "        return \"Better luck next time :\"\n",
    "Guess_Game()            "
   ]
  },
  {
   "cell_type": "markdown",
   "metadata": {},
   "source": [
    "<h2 style=\"color:navy\" align=\"center\">Date module </h2>"
   ]
  },
  {
   "cell_type": "code",
   "execution_count": 53,
   "metadata": {},
   "outputs": [
    {
     "name": "stdout",
     "output_type": "stream",
     "text": [
      "2021-02-20 13:57:34.043902\n",
      "2021-02-20\n",
      "2019-04-13\n",
      "2019-04-13\n",
      "Current date = 2021-02-20\n"
     ]
    }
   ],
   "source": [
    "import datetime \n",
    "from datetime import date \n",
    "import time\n",
    "\n",
    "datetime_object = datetime.datetime.now()\n",
    "print(datetime_object)\n",
    "\n",
    "date_object = datetime.date.today()\n",
    "print(date_object)\n",
    "\n",
    "# print(dir(datetime))\n",
    "\n",
    "d = datetime.date(2019, 4, 13)\n",
    "print(d)\n",
    "\n",
    "a = date(2019, 4, 13)\n",
    "print(a)\n",
    "\n",
    "today = date.today()\n",
    "\n",
    "print(\"Current date =\", today)"
   ]
  },
  {
   "cell_type": "code",
   "execution_count": 54,
   "metadata": {},
   "outputs": [
    {
     "name": "stdout",
     "output_type": "stream",
     "text": [
      "Current year: 2021\n",
      "Current month: 2\n",
      "Current day: 20\n"
     ]
    }
   ],
   "source": [
    "today = date.today() \n",
    "\n",
    "print(\"Current year:\", today.year)\n",
    "print(\"Current month:\", today.month)\n",
    "print(\"Current day:\", today.day)"
   ]
  },
  {
   "cell_type": "code",
   "execution_count": 55,
   "metadata": {},
   "outputs": [
    {
     "data": {
      "text/plain": [
       "'C:\\\\Users\\\\abishake\\\\Desktop\\\\Prophilic\\\\Python'"
      ]
     },
     "execution_count": 55,
     "metadata": {},
     "output_type": "execute_result"
    }
   ],
   "source": [
    "import os\n",
    "\n",
    "#Returns the current working directory.\n",
    "os.getcwd()   \n"
   ]
  },
  {
   "cell_type": "code",
   "execution_count": 56,
   "metadata": {},
   "outputs": [
    {
     "name": "stdout",
     "output_type": "stream",
     "text": [
      "The calender of year 2019 is : \n",
      "                               2021\n",
      "\n",
      "\n",
      "\n",
      "      January                February                March\n",
      "\n",
      "Mo Tu We Th Fr Sa Su   Mo Tu We Th Fr Sa Su   Mo Tu We Th Fr Sa Su\n",
      "\n",
      "             1  2  3    1  2  3  4  5  6  7    1  2  3  4  5  6  7\n",
      "\n",
      " 4  5  6  7  8  9 10    8  9 10 11 12 13 14    8  9 10 11 12 13 14\n",
      "\n",
      "11 12 13 14 15 16 17   15 16 17 18 19 20 21   15 16 17 18 19 20 21\n",
      "\n",
      "18 19 20 21 22 23 24   22 23 24 25 26 27 28   22 23 24 25 26 27 28\n",
      "\n",
      "25 26 27 28 29 30 31                          29 30 31\n",
      "\n",
      "\n",
      "\n",
      "       April                   May                    June\n",
      "\n",
      "Mo Tu We Th Fr Sa Su   Mo Tu We Th Fr Sa Su   Mo Tu We Th Fr Sa Su\n",
      "\n",
      "          1  2  3  4                   1  2       1  2  3  4  5  6\n",
      "\n",
      " 5  6  7  8  9 10 11    3  4  5  6  7  8  9    7  8  9 10 11 12 13\n",
      "\n",
      "12 13 14 15 16 17 18   10 11 12 13 14 15 16   14 15 16 17 18 19 20\n",
      "\n",
      "19 20 21 22 23 24 25   17 18 19 20 21 22 23   21 22 23 24 25 26 27\n",
      "\n",
      "26 27 28 29 30         24 25 26 27 28 29 30   28 29 30\n",
      "\n",
      "                       31\n",
      "\n",
      "\n",
      "\n",
      "        July                  August               September\n",
      "\n",
      "Mo Tu We Th Fr Sa Su   Mo Tu We Th Fr Sa Su   Mo Tu We Th Fr Sa Su\n",
      "\n",
      "          1  2  3  4                      1          1  2  3  4  5\n",
      "\n",
      " 5  6  7  8  9 10 11    2  3  4  5  6  7  8    6  7  8  9 10 11 12\n",
      "\n",
      "12 13 14 15 16 17 18    9 10 11 12 13 14 15   13 14 15 16 17 18 19\n",
      "\n",
      "19 20 21 22 23 24 25   16 17 18 19 20 21 22   20 21 22 23 24 25 26\n",
      "\n",
      "26 27 28 29 30 31      23 24 25 26 27 28 29   27 28 29 30\n",
      "\n",
      "                       30 31\n",
      "\n",
      "\n",
      "\n",
      "      October                November               December\n",
      "\n",
      "Mo Tu We Th Fr Sa Su   Mo Tu We Th Fr Sa Su   Mo Tu We Th Fr Sa Su\n",
      "\n",
      "             1  2  3    1  2  3  4  5  6  7          1  2  3  4  5\n",
      "\n",
      " 4  5  6  7  8  9 10    8  9 10 11 12 13 14    6  7  8  9 10 11 12\n",
      "\n",
      "11 12 13 14 15 16 17   15 16 17 18 19 20 21   13 14 15 16 17 18 19\n",
      "\n",
      "18 19 20 21 22 23 24   22 23 24 25 26 27 28   20 21 22 23 24 25 26\n",
      "\n",
      "25 26 27 28 29 30 31   29 30                  27 28 29 30 31\n",
      "\n",
      "\n",
      "The starting day number in calendar is : 0\n",
      "The year is leap\n",
      "The leap days between 1950 and 2000 are : 12\n",
      "The month 5th of 2016 is :\n",
      "      May 2016\n",
      "Mo Tu We Th Fr Sa Su\n",
      "                   1\n",
      " 2  3  4  5  6  7  8\n",
      " 9 10 11 12 13 14 15\n",
      "16 17 18 19 20 21 22\n",
      "23 24 25 26 27 28 29\n",
      "30 31\n",
      "\n"
     ]
    }
   ],
   "source": [
    "import calendar\n",
    "\n",
    "print (\"The calender of year 2019 is : \") \n",
    "print (calendar.calendar(2021,2,2,3))\n",
    "\n",
    "print (\"The starting day number in calendar is : \",end=\"\") \n",
    "print (calendar.firstweekday()) \n",
    "\n",
    "if (calendar.isleap(2008)): \n",
    "       print (\"The year is leap\") \n",
    "else : \n",
    "    print (\"The year is not leap\")\n",
    "    \n",
    "print (\"The leap days between 1950 and 2000 are : \",end=\"\") \n",
    "print (calendar.leapdays(1950, 2000)) \n",
    "\n",
    "print (\"The month 5th of 2016 is :\") \n",
    "print (calendar.month(2016,5,2,1)) "
   ]
  },
  {
   "cell_type": "code",
   "execution_count": 59,
   "metadata": {},
   "outputs": [
    {
     "name": "stdout",
     "output_type": "stream",
     "text": [
      "0 1 2 3 4 5 \n",
      "0 1 2 3 4 5 "
     ]
    }
   ],
   "source": [
    "import time\n",
    "# we cant see here\n",
    "for i in range(6):\n",
    "    print(i,end=\" \")\n",
    "print()\n",
    "#Now we can see \n",
    "for i in range(6):\n",
    "    time.sleep(1.5)\n",
    "    print(i,end=\" \")"
   ]
  },
  {
   "cell_type": "code",
   "execution_count": 3,
   "metadata": {},
   "outputs": [],
   "source": [
    "import time\n",
    "import sys\n",
    "import random\n",
    "\n",
    "\n",
    "def funky_typing(message):\n",
    "    for c in message:\n",
    "        print(c,end='')\n",
    "\n",
    "        time.sleep(0.5 * random.random())\n",
    "\n",
    "\n",
    "def fast_typing(message):\n",
    "    for c in message:\n",
    "        print(c,end='')\n",
    "        time.sleep(0.005)\n",
    "        \n",
    "def slow_typing(msz):\n",
    "    for c in msz:\n",
    "        print(c,end=\"\")\n",
    "        time.sleep(0.7)\n"
   ]
  },
  {
   "cell_type": "code",
   "execution_count": 4,
   "metadata": {},
   "outputs": [
    {
     "name": "stdout",
     "output_type": "stream",
     "text": [
      "1 1 1 1 1 1 1 1 1 1 1 1 1 1 1 1 1 1 1 1 1 1 1 1 1 1 1 1 1 1 1 1 1 1 1 1 1 1 1 1 1 1 1 1 1 1 1 1 1 1 "
     ]
    }
   ],
   "source": [
    "funky_typing(\"1 \"*50)"
   ]
  },
  {
   "cell_type": "code",
   "execution_count": 7,
   "metadata": {},
   "outputs": [
    {
     "name": "stdout",
     "output_type": "stream",
     "text": [
      "== == == == == == == == == == == == == == == == == == == == "
     ]
    }
   ],
   "source": [
    "fast_typing(\"== \"*20)"
   ]
  },
  {
   "cell_type": "code",
   "execution_count": 8,
   "metadata": {},
   "outputs": [
    {
     "name": "stdout",
     "output_type": "stream",
     "text": [
      " Funcky 'here you can notice no symmetry between printing'"
     ]
    }
   ],
   "source": [
    "funky_typing(\" Funcky 'here you can notice no symmetry between printing'\")"
   ]
  },
  {
   "cell_type": "code",
   "execution_count": 9,
   "metadata": {},
   "outputs": [
    {
     "name": "stdout",
     "output_type": "stream",
     "text": [
      "I am Slow and i Love it "
     ]
    }
   ],
   "source": [
    "slow_typing('I am Slow and i Love it ')"
   ]
  },
  {
   "cell_type": "code",
   "execution_count": 1,
   "metadata": {},
   "outputs": [],
   "source": [
    "#sys module\n",
    "import sys"
   ]
  },
  {
   "cell_type": "code",
   "execution_count": 4,
   "metadata": {},
   "outputs": [
    {
     "name": "stdout",
     "output_type": "stream",
     "text": [
      "['c:\\\\users\\\\abishake\\\\appdata\\\\local\\\\programs\\\\python\\\\python38\\\\lib\\\\site-packages\\\\ipykernel_launcher.py', '-f', 'C:\\\\Users\\\\abishake\\\\AppData\\\\Roaming\\\\jupyter\\\\runtime\\\\kernel-c10e8b98-743d-40f0-9d90-09f109d1c047.json']\n"
     ]
    },
    {
     "ename": "SystemExit",
     "evalue": "",
     "output_type": "error",
     "traceback": [
      "An exception has occurred, use %tb to see the full traceback.\n",
      "\u001b[1;31mSystemExit\u001b[0m\n"
     ]
    },
    {
     "name": "stderr",
     "output_type": "stream",
     "text": [
      "c:\\users\\abishake\\appdata\\local\\programs\\python\\python38\\lib\\site-packages\\IPython\\core\\interactiveshell.py:3339: UserWarning: To exit: use 'exit', 'quit', or Ctrl-D.\n",
      "  warn(\"To exit: use 'exit', 'quit', or Ctrl-D.\", stacklevel=1)\n"
     ]
    }
   ],
   "source": [
    "print(sys.argv)\n",
    "print(sys.exit())"
   ]
  },
  {
   "cell_type": "code",
   "execution_count": 6,
   "metadata": {},
   "outputs": [
    {
     "name": "stdout",
     "output_type": "stream",
     "text": [
      "False\n",
      "sys.flags(debug=0, inspect=0, interactive=0, optimize=0, dont_write_bytecode=0, no_user_site=0, no_site=0, ignore_environment=0, verbose=0, bytes_warning=0, quiet=0, hash_randomization=1, isolated=0, dev_mode=False, utf8_mode=0)\n",
      "c:\\users\\abishake\\appdata\\local\\programs\\python\\python38\n"
     ]
    }
   ],
   "source": [
    "print(not sys)\n",
    "print(sys.flags)\n",
    "print(sys.prefix)"
   ]
  },
  {
   "cell_type": "code",
   "execution_count": 7,
   "metadata": {},
   "outputs": [
    {
     "name": "stdout",
     "output_type": "stream",
     "text": [
      "C:\\Users\\abishake\\Desktop\\Prophilic\\Python\n",
      "c:\\users\\abishake\\appdata\\local\\programs\\python\\python38\\python38.zip\n",
      "c:\\users\\abishake\\appdata\\local\\programs\\python\\python38\\DLLs\n",
      "c:\\users\\abishake\\appdata\\local\\programs\\python\\python38\\lib\n",
      "c:\\users\\abishake\\appdata\\local\\programs\\python\\python38\n",
      "\n",
      "c:\\users\\abishake\\appdata\\local\\programs\\python\\python38\\lib\\site-packages\n",
      "c:\\users\\abishake\\appdata\\local\\programs\\python\\python38\\lib\\site-packages\\win32\n",
      "c:\\users\\abishake\\appdata\\local\\programs\\python\\python38\\lib\\site-packages\\win32\\lib\n",
      "c:\\users\\abishake\\appdata\\local\\programs\\python\\python38\\lib\\site-packages\\Pythonwin\n",
      "c:\\users\\abishake\\appdata\\local\\programs\\python\\python38\\lib\\site-packages\\IPython\\extensions\n",
      "C:\\Users\\abishake\\.ipython\n"
     ]
    }
   ],
   "source": [
    " for element in sys.path:\n",
    "        print(element)"
   ]
  },
  {
   "cell_type": "code",
   "execution_count": 8,
   "metadata": {},
   "outputs": [
    {
     "name": "stdout",
     "output_type": "stream",
     "text": [
      "['C:\\\\Users\\\\abishake\\\\Desktop\\\\Prophilic\\\\Python', 'c:\\\\users\\\\abishake\\\\appdata\\\\local\\\\programs\\\\python\\\\python38\\\\python38.zip', 'c:\\\\users\\\\abishake\\\\appdata\\\\local\\\\programs\\\\python\\\\python38\\\\DLLs', 'c:\\\\users\\\\abishake\\\\appdata\\\\local\\\\programs\\\\python\\\\python38\\\\lib', 'c:\\\\users\\\\abishake\\\\appdata\\\\local\\\\programs\\\\python\\\\python38', '', 'c:\\\\users\\\\abishake\\\\appdata\\\\local\\\\programs\\\\python\\\\python38\\\\lib\\\\site-packages', 'c:\\\\users\\\\abishake\\\\appdata\\\\local\\\\programs\\\\python\\\\python38\\\\lib\\\\site-packages\\\\win32', 'c:\\\\users\\\\abishake\\\\appdata\\\\local\\\\programs\\\\python\\\\python38\\\\lib\\\\site-packages\\\\win32\\\\lib', 'c:\\\\users\\\\abishake\\\\appdata\\\\local\\\\programs\\\\python\\\\python38\\\\lib\\\\site-packages\\\\Pythonwin', 'c:\\\\users\\\\abishake\\\\appdata\\\\local\\\\programs\\\\python\\\\python38\\\\lib\\\\site-packages\\\\IPython\\\\extensions', 'C:\\\\Users\\\\abishake\\\\.ipython']\n"
     ]
    }
   ],
   "source": [
    "print(sys.path)"
   ]
  },
  {
   "cell_type": "code",
   "execution_count": 9,
   "metadata": {},
   "outputs": [],
   "source": [
    "import os"
   ]
  },
  {
   "cell_type": "code",
   "execution_count": 13,
   "metadata": {},
   "outputs": [
    {
     "name": "stdout",
     "output_type": "stream",
     "text": [
      "C:\\Users\\abishake\\Desktop\\Prophilic\\Python\n",
      "nt\n",
      "\n",
      "environ({'ALLUSERSPROFILE': 'C:\\\\ProgramData', 'APPDATA': 'C:\\\\Users\\\\abishake\\\\AppData\\\\Roaming', 'COMMONPROGRAMFILES': 'C:\\\\Program Files\\\\Common Files', 'COMMONPROGRAMFILES(X86)': 'C:\\\\Program Files (x86)\\\\Common Files', 'COMMONPROGRAMW6432': 'C:\\\\Program Files\\\\Common Files', 'COMPUTERNAME': 'ABISHAKE-PC', 'COMSPEC': 'C:\\\\Windows\\\\system32\\\\cmd.exe', 'FP_NO_HOST_CHECK': 'NO', 'HOMEDRIVE': 'C:', 'HOMEPATH': '\\\\Users\\\\abishake', 'LOCALAPPDATA': 'C:\\\\Users\\\\abishake\\\\AppData\\\\Local', 'LOGONSERVER': '\\\\\\\\ABISHAKE-PC', 'NUMBER_OF_PROCESSORS': '4', 'OS': 'Windows_NT', 'PATH': 'C:\\\\Program Files\\\\Java\\\\jdk-15.0.2\\\\bin;C:\\\\Users\\\\abishake\\\\AppData\\\\Local\\\\Programs\\\\Python\\\\Python38\\\\Scripts\\\\;C:\\\\Users\\\\abishake\\\\AppData\\\\Local\\\\Programs\\\\Python\\\\Python38\\\\;C:\\\\Users\\\\abishake\\\\.dotnet\\\\tools', 'PATHEXT': '.COM;.EXE;.BAT;.CMD;.VBS;.VBE;.JS;.JSE;.WSF;.WSH;.MSC', 'PROCESSOR_ARCHITECTURE': 'AMD64', 'PROCESSOR_IDENTIFIER': 'Intel64 Family 6 Model 42 Stepping 7, GenuineIntel', 'PROCESSOR_LEVEL': '6', 'PROCESSOR_REVISION': '2a07', 'PROGRAMDATA': 'C:\\\\ProgramData', 'PROGRAMFILES': 'C:\\\\Program Files', 'PROGRAMFILES(X86)': 'C:\\\\Program Files (x86)', 'PROGRAMW6432': 'C:\\\\Program Files', 'PROMPT': '$P$G', 'PSMODULEPATH': 'C:\\\\Windows\\\\system32\\\\WindowsPowerShell\\\\v1.0\\\\Modules\\\\', 'PUBLIC': 'C:\\\\Users\\\\Public', 'SESSIONNAME': 'Console', 'SYSTEMDRIVE': 'C:', 'SYSTEMROOT': 'C:\\\\Windows', 'TEMP': 'C:\\\\Users\\\\abishake\\\\AppData\\\\Local\\\\Temp', 'TMP': 'C:\\\\Users\\\\abishake\\\\AppData\\\\Local\\\\Temp', 'USERDOMAIN': 'abishake-PC', 'USERNAME': 'abishake', 'USERPROFILE': 'C:\\\\Users\\\\abishake', 'WINDIR': 'C:\\\\Windows', 'WINDOWS_TRACING_FLAGS': '3', 'WINDOWS_TRACING_LOGFILE': 'C:\\\\BVTBin\\\\Tests\\\\installpackage\\\\csilogfile.log', 'KERNEL_LAUNCH_TIMEOUT': '40', 'JPY_INTERRUPT_EVENT': '1564', 'IPY_INTERRUPT_EVENT': '1564', 'JPY_PARENT_PID': '1516', 'TERM': 'xterm-color', 'CLICOLOR': '1', 'PAGER': 'cat', 'GIT_PAGER': 'cat', 'MPLBACKEND': 'module://ipykernel.pylab.backend_inline'})\n",
      "\n",
      "2684\n"
     ]
    }
   ],
   "source": [
    "print(os.getcwd())\n",
    "print(os.name)\n",
    "print()\n",
    "print(os.environ)\n",
    "print()\n",
    "print(os.getppid())"
   ]
  },
  {
   "cell_type": "code",
   "execution_count": null,
   "metadata": {},
   "outputs": [],
   "source": []
  },
  {
   "cell_type": "code",
   "execution_count": null,
   "metadata": {},
   "outputs": [],
   "source": []
  },
  {
   "cell_type": "code",
   "execution_count": null,
   "metadata": {},
   "outputs": [],
   "source": []
  },
  {
   "cell_type": "code",
   "execution_count": null,
   "metadata": {},
   "outputs": [],
   "source": []
  }
 ],
 "metadata": {
  "kernelspec": {
   "display_name": "Python 3",
   "language": "python",
   "name": "python3"
  },
  "language_info": {
   "codemirror_mode": {
    "name": "ipython",
    "version": 3
   },
   "file_extension": ".py",
   "mimetype": "text/x-python",
   "name": "python",
   "nbconvert_exporter": "python",
   "pygments_lexer": "ipython3",
   "version": "3.8.3rc1"
  }
 },
 "nbformat": 4,
 "nbformat_minor": 2
}
