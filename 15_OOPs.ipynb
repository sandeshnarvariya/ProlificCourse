{
 "cells": [
  {
   "cell_type": "code",
   "execution_count": 1,
   "metadata": {},
   "outputs": [],
   "source": [
    "class Car():\n",
    "    def __init__(self):\n",
    "        print('hello')\n",
    "    def desc(self):\n",
    "        print('I am  car')\n"
   ]
  },
  {
   "cell_type": "code",
   "execution_count": 2,
   "metadata": {},
   "outputs": [
    {
     "name": "stdout",
     "output_type": "stream",
     "text": [
      "hello\n",
      "hello\n",
      "hello\n",
      "hello\n"
     ]
    }
   ],
   "source": [
    "a=Car()\n",
    "b=Car()\n",
    "c=Car()\n",
    "d=Car()"
   ]
  },
  {
   "cell_type": "code",
   "execution_count": 3,
   "metadata": {},
   "outputs": [
    {
     "name": "stdout",
     "output_type": "stream",
     "text": [
      "I am  car\n"
     ]
    }
   ],
   "source": [
    "a.desc()"
   ]
  },
  {
   "cell_type": "code",
   "execution_count": 4,
   "metadata": {},
   "outputs": [
    {
     "name": "stdout",
     "output_type": "stream",
     "text": [
      "I am  car\n"
     ]
    }
   ],
   "source": [
    "d.desc()"
   ]
  },
  {
   "cell_type": "code",
   "execution_count": 10,
   "metadata": {},
   "outputs": [],
   "source": [
    "class Car():\n",
    "    def __init__(self,name,model,year):\n",
    "        self.n = name\n",
    "        self.m = model\n",
    "        self.y = year\n",
    "    def desc(self):\n",
    "        info = print(f\"My car name is {self.n}\\nand model name is {self.m}\\nmade in {self.y}\")\n",
    "        return info"
   ]
  },
  {
   "cell_type": "code",
   "execution_count": 11,
   "metadata": {},
   "outputs": [
    {
     "name": "stdout",
     "output_type": "stream",
     "text": [
      "My car name is Maruti\n",
      "and model name is 800\n",
      "made in 2001\n",
      "None\n"
     ]
    }
   ],
   "source": [
    "a= Car('Maruti','800',2001)\n",
    "print(a.desc())"
   ]
  },
  {
   "cell_type": "markdown",
   "metadata": {},
   "source": [
    "## Modifying an attribute value ."
   ]
  },
  {
   "cell_type": "code",
   "execution_count": 2,
   "metadata": {},
   "outputs": [],
   "source": [
    "class Car():\n",
    "    def __init__(self,name,model,year):\n",
    "        self.n = name\n",
    "        self.m = model\n",
    "        self.y = year\n",
    "        self.mil = 0 # we want to change it further\n",
    "    def desc(self):\n",
    "        info = print(f\"My car name is {self.m}\\nand model name is {self.m}\\nmade in {self.y}\")\n",
    "        return info\n",
    "    def milage(self):\n",
    "        self.mil\n",
    "        return self.mil"
   ]
  },
  {
   "cell_type": "code",
   "execution_count": 14,
   "metadata": {
    "scrolled": true
   },
   "outputs": [
    {
     "name": "stdout",
     "output_type": "stream",
     "text": [
      "My car name is 800\n",
      "and model name is 800\n",
      "made in 2001\n",
      "None\n"
     ]
    },
    {
     "data": {
      "text/plain": [
       "0"
      ]
     },
     "execution_count": 14,
     "metadata": {},
     "output_type": "execute_result"
    }
   ],
   "source": [
    "a= Car('Maruti','800',2001)\n",
    "print(a.desc())\n",
    "a.milage()"
   ]
  },
  {
   "cell_type": "markdown",
   "metadata": {},
   "source": [
    "### First way "
   ]
  },
  {
   "cell_type": "code",
   "execution_count": 3,
   "metadata": {},
   "outputs": [
    {
     "name": "stdout",
     "output_type": "stream",
     "text": [
      "My car name is 800\n",
      "and model name is 800\n",
      "made in 2001\n"
     ]
    }
   ],
   "source": [
    "a= Car('Maruti','800',2001)\n",
    "a.mil =10\n",
    "a.desc()"
   ]
  },
  {
   "cell_type": "code",
   "execution_count": 4,
   "metadata": {},
   "outputs": [
    {
     "data": {
      "text/plain": [
       "10"
      ]
     },
     "execution_count": 4,
     "metadata": {},
     "output_type": "execute_result"
    }
   ],
   "source": [
    "a.milage()"
   ]
  },
  {
   "cell_type": "markdown",
   "metadata": {},
   "source": [
    "## second way through a method"
   ]
  },
  {
   "cell_type": "code",
   "execution_count": 1,
   "metadata": {},
   "outputs": [],
   "source": [
    "class Car():\n",
    "    def __init__(self,name,model,year):\n",
    "        self.n = name\n",
    "        self.m = model\n",
    "        self.y = year\n",
    "        self.mil = 0 # we want to change it further\n",
    "    def desc(self):\n",
    "        info = print(f\"My car name is {self.m}\\nand model name is {self.m}\\nmade in {self.y}\")\n",
    "        return info\n",
    "    def up_milage(self,m):\n",
    "        self.mil=m\n",
    "        return self.mil"
   ]
  },
  {
   "cell_type": "code",
   "execution_count": 2,
   "metadata": {},
   "outputs": [
    {
     "data": {
      "text/plain": [
       "22"
      ]
     },
     "execution_count": 2,
     "metadata": {},
     "output_type": "execute_result"
    }
   ],
   "source": [
    "b=Car('Maruti','800',2001)\n",
    "b.up_milage(22)"
   ]
  },
  {
   "cell_type": "code",
   "execution_count": 1,
   "metadata": {},
   "outputs": [
    {
     "name": "stdout",
     "output_type": "stream",
     "text": [
      "Interactive namespace is empty.\n"
     ]
    }
   ],
   "source": [
    "%whos"
   ]
  },
  {
   "cell_type": "markdown",
   "metadata": {},
   "source": [
    "### third way  Increment of an attribute value"
   ]
  },
  {
   "cell_type": "code",
   "execution_count": 2,
   "metadata": {},
   "outputs": [],
   "source": [
    "class Car():\n",
    "    def __init__(self,name,model,year):\n",
    "        self.n = name\n",
    "        self.m = model\n",
    "        self.y = year\n",
    "        self.mil = 10 # we want to change it further\n",
    "    def desc(self):\n",
    "        info = print(f\"My car name is {self.m}\\nand model name is {self.m}\\nmade in {self.y}\")\n",
    "        return info\n",
    "\n",
    "    def up_milage(self,m):\n",
    "        if m > self.mil:\n",
    "            self.mil+=m\n",
    "        return self.mil"
   ]
  },
  {
   "cell_type": "code",
   "execution_count": 3,
   "metadata": {},
   "outputs": [
    {
     "data": {
      "text/plain": [
       "32"
      ]
     },
     "execution_count": 3,
     "metadata": {},
     "output_type": "execute_result"
    }
   ],
   "source": [
    "b=Car('Maruti','800',2001)\n",
    "b.up_milage(22)"
   ]
  },
  {
   "cell_type": "markdown",
   "metadata": {},
   "source": [
    "# Inheritence \n",
    "* You dont have to start from begining when writing a class that is a speceliozed version of another class you had written ,\n",
    "* you can simply inherit properties of that old class .\n",
    "* The class that inherits attributes is known as Child class and the class that is inherited is known as Parent class ."
   ]
  },
  {
   "cell_type": "markdown",
   "metadata": {},
   "source": [
    "### we want to make a new class that is Electric_car and  Electric_car inherits attributes of Car class"
   ]
  },
  {
   "cell_type": "code",
   "execution_count": 3,
   "metadata": {},
   "outputs": [],
   "source": [
    "# Car class\n",
    "class Car():\n",
    "    def __init__(self,name,model,year):\n",
    "        self.n = name\n",
    "        self.m = model\n",
    "        self.y = year\n",
    "        self.mil = 0 # we want to change it further\n",
    "    def desc(self):\n",
    "        info = print(f\"My car name is {self.n}\\nand model name is {self.m}\\nmade in {self.y}\")\n",
    "        return info\n",
    "\n",
    "    def up_milage(self,m):\n",
    "        self.mil=m\n",
    "        return self.mil"
   ]
  },
  {
   "cell_type": "code",
   "execution_count": 4,
   "metadata": {},
   "outputs": [
    {
     "name": "stdout",
     "output_type": "stream",
     "text": [
      "My car name is Tesla\n",
      "and model name is 3211\n",
      "made in 2020\n"
     ]
    }
   ],
   "source": [
    "class Electric_car(Car):\n",
    "    def __init__(self,name ,model,year):\n",
    "        super().__init__(name,model,year) # This will inherit name ,model ,year\n",
    "            \n",
    "# lets call it\n",
    "my_tesla = Electric_car('Tesla',3211,2020)\n",
    "my_tesla.desc()"
   ]
  },
  {
   "cell_type": "code",
   "execution_count": 5,
   "metadata": {},
   "outputs": [],
   "source": [
    "# Car class\n",
    "class Car():\n",
    "    def __init__(self,name,model,year):\n",
    "        self.n = name\n",
    "        self.m = model\n",
    "        self.y = year\n",
    "        self.mil = 0 # we want to change it further\n",
    "    def desc(self):\n",
    "        info = print(f\"My car name is {self.m}\\nand model name is {self.m}\\nmade in {self.y}\")\n",
    "        return info\n",
    "\n",
    "    def up_milage(self,m):\n",
    "        self.mil=m\n",
    "        return self.mil\n",
    "#child\n",
    "class Electric_car(Car):\n",
    "    def __init__(self,name ,model,year):\n",
    "        super().__init__(name,model,year)\n",
    "        self.battery = '200 km'\n",
    "    # method of Electric class\n",
    "    def battery_backup(self):\n",
    "        print('4 ghanta charge krna pdega isko')\n",
    "        return self.battery"
   ]
  },
  {
   "cell_type": "code",
   "execution_count": 6,
   "metadata": {},
   "outputs": [
    {
     "name": "stdout",
     "output_type": "stream",
     "text": [
      "My car name is 3211\n",
      "and model name is 3211\n",
      "made in 2020\n",
      "None\n",
      "4 ghanta charge krna pdega isko\n"
     ]
    },
    {
     "data": {
      "text/plain": [
       "'200 km'"
      ]
     },
     "execution_count": 6,
     "metadata": {},
     "output_type": "execute_result"
    }
   ],
   "source": [
    "# lets call it\n",
    "my_tesla = Electric_car('Tesla',3211,2020)\n",
    "print(my_tesla.desc())\n",
    "my_tesla.battery_backup()"
   ]
  },
  {
   "cell_type": "markdown",
   "metadata": {},
   "source": [
    "## Overriding method of the parent class\n",
    "* In Python we can override any method from parent class that does not fit with what we are trying to model with .\n",
    "* To do this we define a method in the child class with same name as that method is defined in parent class ."
   ]
  },
  {
   "cell_type": "code",
   "execution_count": 7,
   "metadata": {},
   "outputs": [],
   "source": [
    "# Car class\n",
    "class Car():\n",
    "    def __init__(self,name,model,year):\n",
    "        self.n = name\n",
    "        self.m = model\n",
    "        self.y = year\n",
    "        self.mil = 0 # we want to change it further\n",
    "    def desc(self):\n",
    "        info = print(f\"My car name is {self.m}\\nand model name is {self.m}\\nmade in {self.y}\")\n",
    "        return info\n",
    "\n",
    "    def milage(self,m):\n",
    "        self.mil=m\n",
    "        return self.mil\n",
    "#child\n",
    "class Electric_car(Car):\n",
    "    def __init__(self,name ,model,year):\n",
    "        super().__init__(name,model,year)\n",
    "        self.battery = '200 km'\n",
    "    # method of Electric class\n",
    "    def battery_backup(self):\n",
    "        print('4 ghanta charge krna pdega isko')\n",
    "        return self.battery\n",
    "    def milage(self):\n",
    "        print(\"Ye to hota hi nahi hai ☻\")\n"
   ]
  },
  {
   "cell_type": "code",
   "execution_count": 8,
   "metadata": {},
   "outputs": [
    {
     "name": "stdout",
     "output_type": "stream",
     "text": [
      "My car name is 3211\n",
      "and model name is 3211\n",
      "made in 2020\n",
      "None\n",
      "4 ghanta charge krna pdega isko\n",
      "200 km\n",
      "Ye to hota hi nahi hai ☻\n",
      "None\n"
     ]
    }
   ],
   "source": [
    "# lets call it\n",
    "my_tesla = Electric_car('Tesla',3211,2020)\n",
    "print(my_tesla.desc())\n",
    "print(my_tesla.battery_backup())\n",
    "print(my_tesla.milage())"
   ]
  },
  {
   "cell_type": "markdown",
   "metadata": {},
   "source": [
    "## Polymorphism"
   ]
  },
  {
   "cell_type": "code",
   "execution_count": 9,
   "metadata": {},
   "outputs": [
    {
     "name": "stdout",
     "output_type": "stream",
     "text": [
      "Parrots cannot swim\n",
      "Parrots can fly\n",
      "Penguins can swim\n",
      "Penguins cannot fly\n"
     ]
    }
   ],
   "source": [
    "class Parrot:\n",
    "    \n",
    "    def swim(self):\n",
    "        print(\"Parrots cannot swim\")\n",
    "        \n",
    "    def fly(self):\n",
    "        print(\"Parrots can fly\")\n",
    "        \n",
    "class Penguin:\n",
    "    \n",
    "    def swim(self):\n",
    "        print(\"Penguins can swim\")\n",
    "        \n",
    "    def fly(self):\n",
    "        print(\"Penguins cannot fly\")\n",
    "        \n",
    "par = Parrot()\n",
    "pen = Penguin()\n",
    "\n",
    "\n",
    "\n",
    "for i in (par,pen):\n",
    "    i.swim()\n",
    "    i.fly()\n"
   ]
  },
  {
   "cell_type": "code",
   "execution_count": null,
   "metadata": {},
   "outputs": [],
   "source": [
    "+"
   ]
  }
 ],
 "metadata": {
  "kernelspec": {
   "display_name": "Python 3",
   "language": "python",
   "name": "python3"
  },
  "language_info": {
   "codemirror_mode": {
    "name": "ipython",
    "version": 3
   },
   "file_extension": ".py",
   "mimetype": "text/x-python",
   "name": "python",
   "nbconvert_exporter": "python",
   "pygments_lexer": "ipython3",
   "version": "3.8.3rc1"
  }
 },
 "nbformat": 4,
 "nbformat_minor": 4
}
