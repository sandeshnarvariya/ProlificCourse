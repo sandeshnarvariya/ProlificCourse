{
 "cells": [
  {
   "cell_type": "code",
   "execution_count": 4,
   "id": "e3302761",
   "metadata": {},
   "outputs": [],
   "source": [
    "class Data:\n",
    "    pass"
   ]
  },
  {
   "cell_type": "code",
   "execution_count": 6,
   "id": "be6ee563",
   "metadata": {},
   "outputs": [],
   "source": [
    "d = Data()\n",
    "d.sandesh = \"sandesh\""
   ]
  },
  {
   "cell_type": "code",
   "execution_count": 7,
   "id": "21ff7bcf",
   "metadata": {},
   "outputs": [
    {
     "data": {
      "text/plain": [
       "'sandesh'"
      ]
     },
     "execution_count": 7,
     "metadata": {},
     "output_type": "execute_result"
    }
   ],
   "source": [
    "d.sandesh"
   ]
  },
  {
   "cell_type": "code",
   "execution_count": 8,
   "id": "420f9fba",
   "metadata": {},
   "outputs": [
    {
     "ename": "TypeError",
     "evalue": "Data() takes no arguments",
     "output_type": "error",
     "traceback": [
      "\u001b[1;31m---------------------------------------------------------------------------\u001b[0m",
      "\u001b[1;31mTypeError\u001b[0m                                 Traceback (most recent call last)",
      "\u001b[1;32m<ipython-input-8-b322d017b166>\u001b[0m in \u001b[0;36m<module>\u001b[1;34m\u001b[0m\n\u001b[1;32m----> 1\u001b[1;33m \u001b[0mc\u001b[0m\u001b[1;33m=\u001b[0m \u001b[0mData\u001b[0m\u001b[1;33m(\u001b[0m\u001b[1;34m'HH'\u001b[0m\u001b[1;33m,\u001b[0m\u001b[1;34m'.txt'\u001b[0m\u001b[1;33m,\u001b[0m\u001b[1;34m\"I am a coader\"\u001b[0m\u001b[1;33m)\u001b[0m\u001b[1;33m\u001b[0m\u001b[1;33m\u001b[0m\u001b[0m\n\u001b[0m",
      "\u001b[1;31mTypeError\u001b[0m: Data() takes no arguments"
     ]
    }
   ],
   "source": [
    "c= Data('HH','.txt',\"I am a coader\")"
   ]
  },
  {
   "cell_type": "code",
   "execution_count": 9,
   "id": "928bebfb",
   "metadata": {},
   "outputs": [],
   "source": [
    "# Task\n",
    "class Car():\n",
    "    def __init__(self,name,model,year):\n",
    "        self.n = name\n",
    "        self.m = model\n",
    "        self.y = year\n",
    "        self.mil = 10 # we want to change it further\n",
    "    def desc(self):\n",
    "        info = print(f\"My car name is {self.n}\\nand model name is {self.m}\\nmade in {self.y}\")\n",
    "        return info\n",
    "\n",
    "    def update_mil(self,new_mil):\n",
    "        if new_mil > self.mil:\n",
    "            self.mil = new_mil\n",
    "        return self.mil"
   ]
  },
  {
   "cell_type": "code",
   "execution_count": 11,
   "id": "be5ae610",
   "metadata": {},
   "outputs": [],
   "source": [
    "c = Car('mar800','vdi',2011)"
   ]
  },
  {
   "cell_type": "code",
   "execution_count": 12,
   "id": "565e7605",
   "metadata": {
    "scrolled": true
   },
   "outputs": [
    {
     "name": "stdout",
     "output_type": "stream",
     "text": [
      "My car name is mar800\n",
      "and model name is vdi\n",
      "made in 2011\n"
     ]
    }
   ],
   "source": [
    "c.desc()"
   ]
  },
  {
   "cell_type": "code",
   "execution_count": 13,
   "id": "02e069a1",
   "metadata": {},
   "outputs": [
    {
     "data": {
      "text/plain": [
       "10"
      ]
     },
     "execution_count": 13,
     "metadata": {},
     "output_type": "execute_result"
    }
   ],
   "source": [
    "c.mil"
   ]
  },
  {
   "cell_type": "code",
   "execution_count": 14,
   "id": "6a5d467c",
   "metadata": {},
   "outputs": [
    {
     "data": {
      "text/plain": [
       "90"
      ]
     },
     "execution_count": 14,
     "metadata": {},
     "output_type": "execute_result"
    }
   ],
   "source": [
    "c.update_mil(90)"
   ]
  },
  {
   "cell_type": "code",
   "execution_count": 15,
   "id": "a3bfebe9",
   "metadata": {},
   "outputs": [
    {
     "data": {
      "text/plain": [
       "90"
      ]
     },
     "execution_count": 15,
     "metadata": {},
     "output_type": "execute_result"
    }
   ],
   "source": [
    "c.mil"
   ]
  },
  {
   "cell_type": "code",
   "execution_count": 1,
   "id": "f96d3f5d",
   "metadata": {},
   "outputs": [],
   "source": [
    "class Dekho:\n",
    "    def __init__(self,data):\n",
    "        self.data = data\n",
    "        print(\"Ye har ek object ke bn ne pr run hoga\")\n",
    "\n",
    "    def data(self):\n",
    "        d = self.data\n",
    "        return d"
   ]
  },
  {
   "cell_type": "code",
   "execution_count": 2,
   "id": "c19b63b0",
   "metadata": {},
   "outputs": [
    {
     "name": "stdout",
     "output_type": "stream",
     "text": [
      "Ye har ek object ke bn ne pr run hoga\n"
     ]
    }
   ],
   "source": [
    "d=Dekho(\"Dikhao\")\n"
   ]
  },
  {
   "cell_type": "code",
   "execution_count": 3,
   "id": "32076c01",
   "metadata": {},
   "outputs": [
    {
     "ename": "TypeError",
     "evalue": "'str' object is not callable",
     "output_type": "error",
     "traceback": [
      "\u001b[1;31m---------------------------------------------------------------------------\u001b[0m",
      "\u001b[1;31mTypeError\u001b[0m                                 Traceback (most recent call last)",
      "\u001b[1;32m<ipython-input-3-9b847ffe4ef8>\u001b[0m in \u001b[0;36m<module>\u001b[1;34m\u001b[0m\n\u001b[1;32m----> 1\u001b[1;33m \u001b[0md\u001b[0m\u001b[1;33m.\u001b[0m\u001b[0mdata\u001b[0m\u001b[1;33m(\u001b[0m\u001b[1;33m)\u001b[0m\u001b[1;33m\u001b[0m\u001b[1;33m\u001b[0m\u001b[0m\n\u001b[0m",
      "\u001b[1;31mTypeError\u001b[0m: 'str' object is not callable"
     ]
    }
   ],
   "source": [
    "d.data()"
   ]
  },
  {
   "cell_type": "code",
   "execution_count": 4,
   "id": "4cf6033d",
   "metadata": {},
   "outputs": [
    {
     "name": "stdout",
     "output_type": "stream",
     "text": [
      "Ye har ek object ke bn ne pr run hoga\n"
     ]
    }
   ],
   "source": [
    "d1=Dekho('df')"
   ]
  },
  {
   "cell_type": "code",
   "execution_count": 5,
   "id": "692b066c",
   "metadata": {},
   "outputs": [
    {
     "name": "stdout",
     "output_type": "stream",
     "text": [
      "Ye har ek object ke bn ne pr run hoga\n"
     ]
    }
   ],
   "source": [
    "d2 = Dekho(\"Data\")"
   ]
  },
  {
   "cell_type": "markdown",
   "id": "7d100360",
   "metadata": {},
   "source": [
    "# OS module:"
   ]
  },
  {
   "cell_type": "code",
   "execution_count": 4,
   "id": "f52812ec",
   "metadata": {},
   "outputs": [],
   "source": [
    "import os"
   ]
  },
  {
   "cell_type": "code",
   "execution_count": 5,
   "id": "b825c3ae",
   "metadata": {},
   "outputs": [
    {
     "data": {
      "text/plain": [
       "'C:\\\\Users\\\\DELL\\\\Desktop\\\\python\\\\prolific\\\\Python'"
      ]
     },
     "execution_count": 5,
     "metadata": {},
     "output_type": "execute_result"
    }
   ],
   "source": [
    "pwd()# Present working directoary"
   ]
  },
  {
   "cell_type": "code",
   "execution_count": 6,
   "id": "aa861cab",
   "metadata": {},
   "outputs": [
    {
     "data": {
      "text/plain": [
       "'C:\\\\Users\\\\DELL\\\\Desktop\\\\python\\\\prolific\\\\Python'"
      ]
     },
     "execution_count": 6,
     "metadata": {},
     "output_type": "execute_result"
    }
   ],
   "source": [
    "os.getcwd()#  Current working directory"
   ]
  },
  {
   "cell_type": "code",
   "execution_count": 7,
   "id": "250d4b77",
   "metadata": {
    "collapsed": true
   },
   "outputs": [
    {
     "data": {
      "text/plain": [
       "['.ipynb_checkpoints',\n",
       " '03_List.ipynb',\n",
       " '04_If_elif_else_loops.ipynb',\n",
       " '05_Loops.ipynb',\n",
       " '06_Patterns_Loops.ipynb',\n",
       " '07_Set_Dictionary.ipynb',\n",
       " '08_Python_Functions_BuiltIns.ipynb',\n",
       " '09_UserDefinedFunction_part_1.ipynb',\n",
       " '09_UserDefinedFunction_part_2.ipynb',\n",
       " '10_Python_Modules.ipynb',\n",
       " '11_Regular_Expressions.ipynb',\n",
       " '12_Python_File_Handling (1).ipynb',\n",
       " '12_Python_File_Handling.ipynb',\n",
       " '13_Exception_Handling.ipynb',\n",
       " '14_Webscraping.ipynb',\n",
       " '15_OOPs.ipynb',\n",
       " '16_Itretor_Generator_Decorator.ipynb',\n",
       " '25-may(OS .ipynb',\n",
       " '2_DayPractice.ipynb',\n",
       " 'area.csv',\n",
       " 'areaprice.csv',\n",
       " 'array_rotate.ipynb',\n",
       " 'Day_1.ipynb',\n",
       " 'Day_2.ipynb',\n",
       " 'dot.png',\n",
       " 'Encoading.ipynb',\n",
       " 'File_Handling.ipynb',\n",
       " 'Gradiant Descent.ipynb',\n",
       " 'hirings.csv',\n",
       " 'homeprices.csv',\n",
       " 'insurance_data.csv',\n",
       " 'LINEAR_REGREESION_MULTIVARIABLE_2PM_BATCH.ipynb',\n",
       " 'Lin_Reg.ipynb',\n",
       " 'Logistic_Regreesion.ipynb',\n",
       " 'ml.ipynb',\n",
       " 'MY !_Day Prolific.ipynb',\n",
       " 'mydatafile.txt',\n",
       " 'MyDoubt.ipynb',\n",
       " 'np.png',\n",
       " 'Numpy.zip',\n",
       " 'OOPs.zip',\n",
       " 'oops_.ipynb',\n",
       " 'Pandas_1.ipynb',\n",
       " 'Pandas_2.ipynb',\n",
       " 'Pandas_Matplot.ipynb',\n",
       " 'Python Numpy_1.ipynb',\n",
       " 'Python Numpy_2.ipynb',\n",
       " 'Python Numpy_3.ipynb',\n",
       " 'Python Numpy_4.ipynb',\n",
       " 'Python Numpy_5.ipynb',\n",
       " 'salaries.csv',\n",
       " 'test.txt',\n",
       " 'townprice.csv',\n",
       " 'Untitled.ipynb',\n",
       " 'Untitled1.ipynb',\n",
       " 'Untitled2.ipynb',\n",
       " 'Untitled3.ipynb',\n",
       " 'Visualization.ipynb',\n",
       " 'web_scraping.ipynb']"
      ]
     },
     "execution_count": 7,
     "metadata": {},
     "output_type": "execute_result"
    }
   ],
   "source": [
    "# IMP\n",
    "os.listdir()"
   ]
  },
  {
   "cell_type": "code",
   "execution_count": 8,
   "id": "e453154f",
   "metadata": {
    "collapsed": true
   },
   "outputs": [
    {
     "name": "stdout",
     "output_type": "stream",
     "text": [
      ".ipynb_checkpoints\n",
      "03_List.ipynb\n",
      "04_If_elif_else_loops.ipynb\n",
      "05_Loops.ipynb\n",
      "06_Patterns_Loops.ipynb\n",
      "07_Set_Dictionary.ipynb\n",
      "08_Python_Functions_BuiltIns.ipynb\n",
      "09_UserDefinedFunction_part_1.ipynb\n",
      "09_UserDefinedFunction_part_2.ipynb\n",
      "10_Python_Modules.ipynb\n",
      "11_Regular_Expressions.ipynb\n",
      "12_Python_File_Handling (1).ipynb\n",
      "12_Python_File_Handling.ipynb\n",
      "13_Exception_Handling.ipynb\n",
      "14_Webscraping.ipynb\n",
      "15_OOPs.ipynb\n",
      "16_Itretor_Generator_Decorator.ipynb\n",
      "25-may(OS .ipynb\n",
      "2_DayPractice.ipynb\n",
      "area.csv\n",
      "areaprice.csv\n",
      "array_rotate.ipynb\n",
      "Day_1.ipynb\n",
      "Day_2.ipynb\n",
      "dot.png\n",
      "Encoading.ipynb\n",
      "File_Handling.ipynb\n",
      "Gradiant Descent.ipynb\n",
      "hirings.csv\n",
      "homeprices.csv\n",
      "insurance_data.csv\n",
      "LINEAR_REGREESION_MULTIVARIABLE_2PM_BATCH.ipynb\n",
      "Lin_Reg.ipynb\n",
      "Logistic_Regreesion.ipynb\n",
      "ml.ipynb\n",
      "MY !_Day Prolific.ipynb\n",
      "mydatafile.txt\n",
      "MyDoubt.ipynb\n",
      "np.png\n",
      "Numpy.zip\n",
      "OOPs.zip\n",
      "oops_.ipynb\n",
      "Pandas_1.ipynb\n",
      "Pandas_2.ipynb\n",
      "Pandas_Matplot.ipynb\n",
      "Python Numpy_1.ipynb\n",
      "Python Numpy_2.ipynb\n",
      "Python Numpy_3.ipynb\n",
      "Python Numpy_4.ipynb\n",
      "Python Numpy_5.ipynb\n",
      "salaries.csv\n",
      "test.txt\n",
      "townprice.csv\n",
      "Untitled.ipynb\n",
      "Untitled1.ipynb\n",
      "Untitled2.ipynb\n",
      "Untitled3.ipynb\n",
      "Visualization.ipynb\n",
      "web_scraping.ipynb\n"
     ]
    }
   ],
   "source": [
    "for i in os.listdir():\n",
    "    print(i)"
   ]
  },
  {
   "cell_type": "code",
   "execution_count": 9,
   "id": "2136a732",
   "metadata": {},
   "outputs": [
    {
     "data": {
      "text/plain": [
       "59"
      ]
     },
     "execution_count": 9,
     "metadata": {},
     "output_type": "execute_result"
    }
   ],
   "source": [
    "len(os.listdir())"
   ]
  },
  {
   "cell_type": "code",
   "execution_count": 10,
   "id": "0df8ef21",
   "metadata": {},
   "outputs": [
    {
     "data": {
      "text/plain": [
       "['dataset-converted.docx',\n",
       " 'kaal.csv',\n",
       " 'kal.pdf',\n",
       " 'klfile.csv',\n",
       " 'kriti.xlsx',\n",
       " 'SampleData.xlsx']"
      ]
     },
     "execution_count": 10,
     "metadata": {},
     "output_type": "execute_result"
    }
   ],
   "source": [
    "os.listdir(r'C:\\Users\\DELL\\Desktop\\SampleData')"
   ]
  },
  {
   "cell_type": "code",
   "execution_count": 11,
   "id": "45927186",
   "metadata": {},
   "outputs": [
    {
     "data": {
      "text/plain": [
       "'C:\\\\Users\\\\DELL\\\\Desktop\\\\python\\\\prolific\\\\Python'"
      ]
     },
     "execution_count": 11,
     "metadata": {},
     "output_type": "execute_result"
    }
   ],
   "source": [
    "pwd()"
   ]
  },
  {
   "cell_type": "code",
   "execution_count": 13,
   "id": "cc423d95",
   "metadata": {},
   "outputs": [],
   "source": [
    "# I can change my current working directory\n",
    "os.chdir(\"../\")"
   ]
  },
  {
   "cell_type": "code",
   "execution_count": 14,
   "id": "3809856c",
   "metadata": {},
   "outputs": [
    {
     "data": {
      "text/plain": [
       "'C:\\\\Users\\\\DELL\\\\Desktop\\\\python\\\\prolific'"
      ]
     },
     "execution_count": 14,
     "metadata": {},
     "output_type": "execute_result"
    }
   ],
   "source": [
    "pwd()"
   ]
  },
  {
   "cell_type": "code",
   "execution_count": 15,
   "id": "cc12688b",
   "metadata": {},
   "outputs": [],
   "source": [
    "os.chdir('C:\\\\Users\\\\DELL\\\\Desktop\\\\python\\\\prolific\\\\Python')"
   ]
  },
  {
   "cell_type": "code",
   "execution_count": 16,
   "id": "7a98472e",
   "metadata": {},
   "outputs": [
    {
     "data": {
      "text/plain": [
       "'C:\\\\Users\\\\DELL\\\\Desktop\\\\python\\\\prolific\\\\Python'"
      ]
     },
     "execution_count": 16,
     "metadata": {},
     "output_type": "execute_result"
    }
   ],
   "source": [
    "pwd()"
   ]
  },
  {
   "cell_type": "code",
   "execution_count": 17,
   "id": "c97416bb",
   "metadata": {},
   "outputs": [],
   "source": [
    "# we can create a new directory .\n",
    "os.mkdir(\"New_dir\")"
   ]
  },
  {
   "cell_type": "code",
   "execution_count": 18,
   "id": "d6956c47",
   "metadata": {
    "collapsed": true
   },
   "outputs": [
    {
     "data": {
      "text/plain": [
       "['.ipynb_checkpoints',\n",
       " '03_List.ipynb',\n",
       " '04_If_elif_else_loops.ipynb',\n",
       " '05_Loops.ipynb',\n",
       " '06_Patterns_Loops.ipynb',\n",
       " '07_Set_Dictionary.ipynb',\n",
       " '08_Python_Functions_BuiltIns.ipynb',\n",
       " '09_UserDefinedFunction_part_1.ipynb',\n",
       " '09_UserDefinedFunction_part_2.ipynb',\n",
       " '10_Python_Modules.ipynb',\n",
       " '11_Regular_Expressions.ipynb',\n",
       " '12_Python_File_Handling (1).ipynb',\n",
       " '12_Python_File_Handling.ipynb',\n",
       " '13_Exception_Handling.ipynb',\n",
       " '14_Webscraping.ipynb',\n",
       " '15_OOPs.ipynb',\n",
       " '16_Itretor_Generator_Decorator.ipynb',\n",
       " '25-may(OS .ipynb',\n",
       " '2_DayPractice.ipynb',\n",
       " 'area.csv',\n",
       " 'areaprice.csv',\n",
       " 'array_rotate.ipynb',\n",
       " 'Day_1.ipynb',\n",
       " 'Day_2.ipynb',\n",
       " 'dot.png',\n",
       " 'Encoading.ipynb',\n",
       " 'File_Handling.ipynb',\n",
       " 'Gradiant Descent.ipynb',\n",
       " 'hirings.csv',\n",
       " 'homeprices.csv',\n",
       " 'insurance_data.csv',\n",
       " 'LINEAR_REGREESION_MULTIVARIABLE_2PM_BATCH.ipynb',\n",
       " 'Lin_Reg.ipynb',\n",
       " 'Logistic_Regreesion.ipynb',\n",
       " 'ml.ipynb',\n",
       " 'MY !_Day Prolific.ipynb',\n",
       " 'mydatafile.txt',\n",
       " 'MyDoubt.ipynb',\n",
       " 'New_dir',\n",
       " 'np.png',\n",
       " 'Numpy.zip',\n",
       " 'OOPs.zip',\n",
       " 'oops_.ipynb',\n",
       " 'Pandas_1.ipynb',\n",
       " 'Pandas_2.ipynb',\n",
       " 'Pandas_Matplot.ipynb',\n",
       " 'Python Numpy_1.ipynb',\n",
       " 'Python Numpy_2.ipynb',\n",
       " 'Python Numpy_3.ipynb',\n",
       " 'Python Numpy_4.ipynb',\n",
       " 'Python Numpy_5.ipynb',\n",
       " 'salaries.csv',\n",
       " 'test.txt',\n",
       " 'townprice.csv',\n",
       " 'Untitled.ipynb',\n",
       " 'Untitled1.ipynb',\n",
       " 'Untitled2.ipynb',\n",
       " 'Untitled3.ipynb',\n",
       " 'Visualization.ipynb',\n",
       " 'web_scraping.ipynb']"
      ]
     },
     "execution_count": 18,
     "metadata": {},
     "output_type": "execute_result"
    }
   ],
   "source": [
    "# how to check\n",
    "os.listdir()"
   ]
  },
  {
   "cell_type": "code",
   "execution_count": 22,
   "id": "5b0595b7",
   "metadata": {},
   "outputs": [
    {
     "name": "stdout",
     "output_type": "stream",
     "text": [
      "Already Exists\n"
     ]
    }
   ],
   "source": [
    "if 'New_dir4' not in os.listdir():\n",
    "    os.mkdir(\"New_dir4\")\n",
    "    print(os.listdir())\n",
    "else:\n",
    "    print(\"Already Exists\")"
   ]
  },
  {
   "cell_type": "code",
   "execution_count": null,
   "id": "069a0956",
   "metadata": {},
   "outputs": [],
   "source": [
    "#HW : Dir name wo user ke through liya jaye"
   ]
  },
  {
   "cell_type": "code",
   "execution_count": 25,
   "id": "52e5657c",
   "metadata": {},
   "outputs": [
    {
     "name": "stdout",
     "output_type": "stream",
     "text": [
      "True\n"
     ]
    },
    {
     "data": {
      "text/plain": [
       "False"
      ]
     },
     "execution_count": 25,
     "metadata": {},
     "output_type": "execute_result"
    }
   ],
   "source": [
    "#Lets check whether directory exist or not\n",
    "print(os.path.isdir(\"New_dir4\"))\n",
    "#or\n",
    "os.path.exists('New_dir2')"
   ]
  },
  {
   "cell_type": "code",
   "execution_count": 27,
   "id": "c46e1aad",
   "metadata": {},
   "outputs": [
    {
     "name": "stdout",
     "output_type": "stream",
     "text": [
      "Already Present\n",
      "Hello how are you ?\n",
      "\n",
      " i am fine\n",
      "\n",
      "KHjyggg\n",
      "\n",
      "jhjggg\n"
     ]
    }
   ],
   "source": [
    "# ex\n",
    "if 'HHHH.txt' not in os.listdir():\n",
    "    print(\"Not present so we are creating it\")\n",
    "    f = open('HHHH.txt','a')\n",
    "    f.write(\"Hello how are you ?\\n i am fine\")\n",
    "    f.close()\n",
    "    f=open('HHHH.txt','r')\n",
    "    l = f.readlines()\n",
    "    for i in l:\n",
    "        print(i)\n",
    "    f.close()\n",
    "else :\n",
    "    print(\"Already Present\")\n",
    "    f = open(\"HHHH.txt\",'a')\n",
    "    f.write('\\nKHjyggg\\njhjggg')\n",
    "    f.close()\n",
    "    f = open(\"HHHH.txt\",'r')\n",
    "    l = f.readlines()\n",
    "    for i in l:\n",
    "        print(i)\n",
    "    f.close()\n",
    "            \n",
    "    "
   ]
  },
  {
   "cell_type": "code",
   "execution_count": 28,
   "id": "093c5ae9",
   "metadata": {
    "collapsed": true
   },
   "outputs": [
    {
     "data": {
      "text/plain": [
       "['.ipynb_checkpoints',\n",
       " '03_List.ipynb',\n",
       " '04_If_elif_else_loops.ipynb',\n",
       " '05_Loops.ipynb',\n",
       " '06_Patterns_Loops.ipynb',\n",
       " '07_Set_Dictionary.ipynb',\n",
       " '08_Python_Functions_BuiltIns.ipynb',\n",
       " '09_UserDefinedFunction_part_1.ipynb',\n",
       " '09_UserDefinedFunction_part_2.ipynb',\n",
       " '10_Python_Modules.ipynb',\n",
       " '11_Regular_Expressions.ipynb',\n",
       " '12_Python_File_Handling (1).ipynb',\n",
       " '12_Python_File_Handling.ipynb',\n",
       " '13_Exception_Handling.ipynb',\n",
       " '14_Webscraping.ipynb',\n",
       " '15_OOPs.ipynb',\n",
       " '16_Itretor_Generator_Decorator.ipynb',\n",
       " '25-may(OS .ipynb',\n",
       " '2_DayPractice.ipynb',\n",
       " 'area.csv',\n",
       " 'areaprice.csv',\n",
       " 'array_rotate.ipynb',\n",
       " 'Day_1.ipynb',\n",
       " 'Day_2.ipynb',\n",
       " 'dot.png',\n",
       " 'Encoading.ipynb',\n",
       " 'File_Handling.ipynb',\n",
       " 'Gradiant Descent.ipynb',\n",
       " 'HHHH.txt',\n",
       " 'hirings.csv',\n",
       " 'homeprices.csv',\n",
       " 'insurance_data.csv',\n",
       " 'LINEAR_REGREESION_MULTIVARIABLE_2PM_BATCH.ipynb',\n",
       " 'Lin_Reg.ipynb',\n",
       " 'Logistic_Regreesion.ipynb',\n",
       " 'ml.ipynb',\n",
       " 'MY !_Day Prolific.ipynb',\n",
       " 'mydatafile.txt',\n",
       " 'MyDoubt.ipynb',\n",
       " 'New_dir',\n",
       " 'New_dir4',\n",
       " 'np.png',\n",
       " 'Numpy.zip',\n",
       " 'OOPs.zip',\n",
       " 'oops_.ipynb',\n",
       " 'Pandas_1.ipynb',\n",
       " 'Pandas_2.ipynb',\n",
       " 'Pandas_Matplot.ipynb',\n",
       " 'Python Numpy_1.ipynb',\n",
       " 'Python Numpy_2.ipynb',\n",
       " 'Python Numpy_3.ipynb',\n",
       " 'Python Numpy_4.ipynb',\n",
       " 'Python Numpy_5.ipynb',\n",
       " 'salaries.csv',\n",
       " 'test.txt',\n",
       " 'townprice.csv',\n",
       " 'Untitled.ipynb',\n",
       " 'Untitled1.ipynb',\n",
       " 'Untitled2.ipynb',\n",
       " 'Untitled3.ipynb',\n",
       " 'Visualization.ipynb',\n",
       " 'web_scraping.ipynb']"
      ]
     },
     "execution_count": 28,
     "metadata": {},
     "output_type": "execute_result"
    }
   ],
   "source": [
    "os.listdir()"
   ]
  },
  {
   "cell_type": "code",
   "execution_count": 29,
   "id": "5ff999cc",
   "metadata": {},
   "outputs": [],
   "source": [
    "# os.rename('old','new')\n",
    "os.rename('HHHH.txt','hghg.txt')"
   ]
  },
  {
   "cell_type": "code",
   "execution_count": 30,
   "id": "b6c4f33d",
   "metadata": {
    "collapsed": true
   },
   "outputs": [
    {
     "data": {
      "text/plain": [
       "['.ipynb_checkpoints',\n",
       " '03_List.ipynb',\n",
       " '04_If_elif_else_loops.ipynb',\n",
       " '05_Loops.ipynb',\n",
       " '06_Patterns_Loops.ipynb',\n",
       " '07_Set_Dictionary.ipynb',\n",
       " '08_Python_Functions_BuiltIns.ipynb',\n",
       " '09_UserDefinedFunction_part_1.ipynb',\n",
       " '09_UserDefinedFunction_part_2.ipynb',\n",
       " '10_Python_Modules.ipynb',\n",
       " '11_Regular_Expressions.ipynb',\n",
       " '12_Python_File_Handling (1).ipynb',\n",
       " '12_Python_File_Handling.ipynb',\n",
       " '13_Exception_Handling.ipynb',\n",
       " '14_Webscraping.ipynb',\n",
       " '15_OOPs.ipynb',\n",
       " '16_Itretor_Generator_Decorator.ipynb',\n",
       " '25-may(OS .ipynb',\n",
       " '2_DayPractice.ipynb',\n",
       " 'area.csv',\n",
       " 'areaprice.csv',\n",
       " 'array_rotate.ipynb',\n",
       " 'Day_1.ipynb',\n",
       " 'Day_2.ipynb',\n",
       " 'dot.png',\n",
       " 'Encoading.ipynb',\n",
       " 'File_Handling.ipynb',\n",
       " 'Gradiant Descent.ipynb',\n",
       " 'hghg.txt',\n",
       " 'hirings.csv',\n",
       " 'homeprices.csv',\n",
       " 'insurance_data.csv',\n",
       " 'LINEAR_REGREESION_MULTIVARIABLE_2PM_BATCH.ipynb',\n",
       " 'Lin_Reg.ipynb',\n",
       " 'Logistic_Regreesion.ipynb',\n",
       " 'ml.ipynb',\n",
       " 'MY !_Day Prolific.ipynb',\n",
       " 'mydatafile.txt',\n",
       " 'MyDoubt.ipynb',\n",
       " 'New_dir',\n",
       " 'New_dir4',\n",
       " 'np.png',\n",
       " 'Numpy.zip',\n",
       " 'OOPs.zip',\n",
       " 'oops_.ipynb',\n",
       " 'Pandas_1.ipynb',\n",
       " 'Pandas_2.ipynb',\n",
       " 'Pandas_Matplot.ipynb',\n",
       " 'Python Numpy_1.ipynb',\n",
       " 'Python Numpy_2.ipynb',\n",
       " 'Python Numpy_3.ipynb',\n",
       " 'Python Numpy_4.ipynb',\n",
       " 'Python Numpy_5.ipynb',\n",
       " 'salaries.csv',\n",
       " 'test.txt',\n",
       " 'townprice.csv',\n",
       " 'Untitled.ipynb',\n",
       " 'Untitled1.ipynb',\n",
       " 'Untitled2.ipynb',\n",
       " 'Untitled3.ipynb',\n",
       " 'Visualization.ipynb',\n",
       " 'web_scraping.ipynb']"
      ]
     },
     "execution_count": 30,
     "metadata": {},
     "output_type": "execute_result"
    }
   ],
   "source": [
    "os.listdir()"
   ]
  },
  {
   "cell_type": "code",
   "execution_count": 31,
   "id": "f15bbe7e",
   "metadata": {},
   "outputs": [],
   "source": [
    "# remove\n",
    "os.rmdir('New_dir')"
   ]
  },
  {
   "cell_type": "code",
   "execution_count": 32,
   "id": "3d74db48",
   "metadata": {
    "collapsed": true
   },
   "outputs": [
    {
     "ename": "NameError",
     "evalue": "name 'folder' is not defined",
     "output_type": "error",
     "traceback": [
      "\u001b[1;31m---------------------------------------------------------------------------\u001b[0m",
      "\u001b[1;31mNameError\u001b[0m                                 Traceback (most recent call last)",
      "\u001b[1;32m<ipython-input-32-a9909b47e7bf>\u001b[0m in \u001b[0;36m<module>\u001b[1;34m\u001b[0m\n\u001b[1;32m----> 1\u001b[1;33m \u001b[0mdir\u001b[0m \u001b[1;33m=\u001b[0m \u001b[0mfolder\u001b[0m\u001b[1;33m\u001b[0m\u001b[1;33m\u001b[0m\u001b[0m\n\u001b[0m",
      "\u001b[1;31mNameError\u001b[0m: name 'folder' is not defined"
     ]
    }
   ],
   "source": [
    "dir = folder"
   ]
  },
  {
   "cell_type": "code",
   "execution_count": 33,
   "id": "3df95de9",
   "metadata": {
    "collapsed": true
   },
   "outputs": [
    {
     "data": {
      "text/plain": [
       "['.ipynb_checkpoints',\n",
       " '03_List.ipynb',\n",
       " '04_If_elif_else_loops.ipynb',\n",
       " '05_Loops.ipynb',\n",
       " '06_Patterns_Loops.ipynb',\n",
       " '07_Set_Dictionary.ipynb',\n",
       " '08_Python_Functions_BuiltIns.ipynb',\n",
       " '09_UserDefinedFunction_part_1.ipynb',\n",
       " '09_UserDefinedFunction_part_2.ipynb',\n",
       " '10_Python_Modules.ipynb',\n",
       " '11_Regular_Expressions.ipynb',\n",
       " '12_Python_File_Handling (1).ipynb',\n",
       " '12_Python_File_Handling.ipynb',\n",
       " '13_Exception_Handling.ipynb',\n",
       " '14_Webscraping.ipynb',\n",
       " '15_OOPs.ipynb',\n",
       " '16_Itretor_Generator_Decorator.ipynb',\n",
       " '25-may(OS .ipynb',\n",
       " '2_DayPractice.ipynb',\n",
       " 'area.csv',\n",
       " 'areaprice.csv',\n",
       " 'array_rotate.ipynb',\n",
       " 'Day_1.ipynb',\n",
       " 'Day_2.ipynb',\n",
       " 'dot.png',\n",
       " 'Encoading.ipynb',\n",
       " 'File_Handling.ipynb',\n",
       " 'Gradiant Descent.ipynb',\n",
       " 'hghg.txt',\n",
       " 'hirings.csv',\n",
       " 'homeprices.csv',\n",
       " 'insurance_data.csv',\n",
       " 'LINEAR_REGREESION_MULTIVARIABLE_2PM_BATCH.ipynb',\n",
       " 'Lin_Reg.ipynb',\n",
       " 'Logistic_Regreesion.ipynb',\n",
       " 'ml.ipynb',\n",
       " 'MY !_Day Prolific.ipynb',\n",
       " 'mydatafile.txt',\n",
       " 'MyDoubt.ipynb',\n",
       " 'New_dir4',\n",
       " 'np.png',\n",
       " 'Numpy.zip',\n",
       " 'OOPs.zip',\n",
       " 'oops_.ipynb',\n",
       " 'Pandas_1.ipynb',\n",
       " 'Pandas_2.ipynb',\n",
       " 'Pandas_Matplot.ipynb',\n",
       " 'Python Numpy_1.ipynb',\n",
       " 'Python Numpy_2.ipynb',\n",
       " 'Python Numpy_3.ipynb',\n",
       " 'Python Numpy_4.ipynb',\n",
       " 'Python Numpy_5.ipynb',\n",
       " 'salaries.csv',\n",
       " 'test.txt',\n",
       " 'townprice.csv',\n",
       " 'Untitled.ipynb',\n",
       " 'Untitled1.ipynb',\n",
       " 'Untitled2.ipynb',\n",
       " 'Untitled3.ipynb',\n",
       " 'Visualization.ipynb',\n",
       " 'web_scraping.ipynb']"
      ]
     },
     "execution_count": 33,
     "metadata": {},
     "output_type": "execute_result"
    }
   ],
   "source": [
    "os.listdir()"
   ]
  },
  {
   "cell_type": "code",
   "execution_count": 34,
   "id": "592c5977",
   "metadata": {},
   "outputs": [],
   "source": [
    "import shutil\n",
    "# for cut and paste"
   ]
  },
  {
   "cell_type": "code",
   "execution_count": 35,
   "id": "1ad33092",
   "metadata": {},
   "outputs": [
    {
     "data": {
      "text/plain": [
       "'C:\\\\Users\\\\DELL\\\\Desktop\\\\python\\\\prolific\\\\Python'"
      ]
     },
     "execution_count": 35,
     "metadata": {},
     "output_type": "execute_result"
    }
   ],
   "source": [
    "os.getcwd()"
   ]
  },
  {
   "cell_type": "code",
   "execution_count": 39,
   "id": "91ac0132",
   "metadata": {},
   "outputs": [
    {
     "data": {
      "text/plain": [
       "'C:\\\\Users\\\\DELL\\\\Desktop\\\\SampleData\\\\hghg.txt'"
      ]
     },
     "execution_count": 39,
     "metadata": {},
     "output_type": "execute_result"
    }
   ],
   "source": [
    "shutil.move(\"C:\\\\Users\\\\DELL\\\\Desktop\\\\python\\\\prolific\\\\Python\\\\hghg.txt\",\"C:\\\\Users\\\\DELL\\\\Desktop\\\\SampleData\")"
   ]
  },
  {
   "cell_type": "code",
   "execution_count": 40,
   "id": "20388ee3",
   "metadata": {},
   "outputs": [
    {
     "data": {
      "text/plain": [
       "['.ipynb_checkpoints',\n",
       " '03_List.ipynb',\n",
       " '04_If_elif_else_loops.ipynb',\n",
       " '05_Loops.ipynb',\n",
       " '06_Patterns_Loops.ipynb',\n",
       " '07_Set_Dictionary.ipynb',\n",
       " '08_Python_Functions_BuiltIns.ipynb',\n",
       " '09_UserDefinedFunction_part_1.ipynb',\n",
       " '09_UserDefinedFunction_part_2.ipynb',\n",
       " '10_Python_Modules.ipynb',\n",
       " '11_Regular_Expressions.ipynb',\n",
       " '12_Python_File_Handling (1).ipynb',\n",
       " '12_Python_File_Handling.ipynb',\n",
       " '13_Exception_Handling.ipynb',\n",
       " '14_Webscraping.ipynb',\n",
       " '15_OOPs.ipynb',\n",
       " '16_Itretor_Generator_Decorator.ipynb',\n",
       " '25-may(OS .ipynb',\n",
       " '2_DayPractice.ipynb',\n",
       " 'area.csv',\n",
       " 'areaprice.csv',\n",
       " 'array_rotate.ipynb',\n",
       " 'Day_1.ipynb',\n",
       " 'Day_2.ipynb',\n",
       " 'dot.png',\n",
       " 'Encoading.ipynb',\n",
       " 'File_Handling.ipynb',\n",
       " 'Gradiant Descent.ipynb',\n",
       " 'hirings.csv',\n",
       " 'homeprices.csv',\n",
       " 'insurance_data.csv',\n",
       " 'LINEAR_REGREESION_MULTIVARIABLE_2PM_BATCH.ipynb',\n",
       " 'Lin_Reg.ipynb',\n",
       " 'Logistic_Regreesion.ipynb',\n",
       " 'ml.ipynb',\n",
       " 'MY !_Day Prolific.ipynb',\n",
       " 'mydatafile.txt',\n",
       " 'MyDoubt.ipynb',\n",
       " 'New_dir4',\n",
       " 'np.png',\n",
       " 'Numpy.zip',\n",
       " 'OOPs.zip',\n",
       " 'oops_.ipynb',\n",
       " 'Pandas_1.ipynb',\n",
       " 'Pandas_2.ipynb',\n",
       " 'Pandas_Matplot.ipynb',\n",
       " 'Python Numpy_1.ipynb',\n",
       " 'Python Numpy_2.ipynb',\n",
       " 'Python Numpy_3.ipynb',\n",
       " 'Python Numpy_4.ipynb',\n",
       " 'Python Numpy_5.ipynb',\n",
       " 'salaries.csv',\n",
       " 'test.txt',\n",
       " 'townprice.csv',\n",
       " 'Untitled.ipynb',\n",
       " 'Untitled1.ipynb',\n",
       " 'Untitled2.ipynb',\n",
       " 'Untitled3.ipynb',\n",
       " 'Visualization.ipynb',\n",
       " 'web_scraping.ipynb']"
      ]
     },
     "execution_count": 40,
     "metadata": {},
     "output_type": "execute_result"
    }
   ],
   "source": [
    "os.listdir()"
   ]
  },
  {
   "cell_type": "markdown",
   "id": "52628ef4",
   "metadata": {},
   "source": [
    "## Task ()\n",
    "* * Use only Python codes . . . . . \n",
    "* Creat a directory,\n",
    "* Creat 10 text files and write some data in all the files at a time\n",
    "* Read all the data from files and print That .\n",
    "* Hold all the data(from all files) in a single list \n",
    "* Write all the data in a new_file from list .\n",
    "* Keep only a new_file in Present directory and move rest 10 files in other location."
   ]
  },
  {
   "cell_type": "code",
   "execution_count": 41,
   "id": "fc6ae953",
   "metadata": {},
   "outputs": [],
   "source": [
    "os.listdir()\n",
    "os.makedirs(\"ggg/sss/yyy\")"
   ]
  },
  {
   "cell_type": "code",
   "execution_count": 42,
   "id": "e4eab7a8",
   "metadata": {
    "collapsed": true
   },
   "outputs": [
    {
     "data": {
      "text/plain": [
       "['.ipynb_checkpoints',\n",
       " '03_List.ipynb',\n",
       " '04_If_elif_else_loops.ipynb',\n",
       " '05_Loops.ipynb',\n",
       " '06_Patterns_Loops.ipynb',\n",
       " '07_Set_Dictionary.ipynb',\n",
       " '08_Python_Functions_BuiltIns.ipynb',\n",
       " '09_UserDefinedFunction_part_1.ipynb',\n",
       " '09_UserDefinedFunction_part_2.ipynb',\n",
       " '10_Python_Modules.ipynb',\n",
       " '11_Regular_Expressions.ipynb',\n",
       " '12_Python_File_Handling (1).ipynb',\n",
       " '12_Python_File_Handling.ipynb',\n",
       " '13_Exception_Handling.ipynb',\n",
       " '14_Webscraping.ipynb',\n",
       " '15_OOPs.ipynb',\n",
       " '16_Itretor_Generator_Decorator.ipynb',\n",
       " '25-may(OS .ipynb',\n",
       " '2_DayPractice.ipynb',\n",
       " 'area.csv',\n",
       " 'areaprice.csv',\n",
       " 'array_rotate.ipynb',\n",
       " 'Day_1.ipynb',\n",
       " 'Day_2.ipynb',\n",
       " 'dot.png',\n",
       " 'Encoading.ipynb',\n",
       " 'File_Handling.ipynb',\n",
       " 'ggg',\n",
       " 'Gradiant Descent.ipynb',\n",
       " 'hirings.csv',\n",
       " 'homeprices.csv',\n",
       " 'insurance_data.csv',\n",
       " 'LINEAR_REGREESION_MULTIVARIABLE_2PM_BATCH.ipynb',\n",
       " 'Lin_Reg.ipynb',\n",
       " 'Logistic_Regreesion.ipynb',\n",
       " 'ml.ipynb',\n",
       " 'MY !_Day Prolific.ipynb',\n",
       " 'mydatafile.txt',\n",
       " 'MyDoubt.ipynb',\n",
       " 'New_dir4',\n",
       " 'np.png',\n",
       " 'Numpy.zip',\n",
       " 'OOPs.zip',\n",
       " 'oops_.ipynb',\n",
       " 'Pandas_1.ipynb',\n",
       " 'Pandas_2.ipynb',\n",
       " 'Pandas_Matplot.ipynb',\n",
       " 'Python Numpy_1.ipynb',\n",
       " 'Python Numpy_2.ipynb',\n",
       " 'Python Numpy_3.ipynb',\n",
       " 'Python Numpy_4.ipynb',\n",
       " 'Python Numpy_5.ipynb',\n",
       " 'salaries.csv',\n",
       " 'test.txt',\n",
       " 'townprice.csv',\n",
       " 'Untitled.ipynb',\n",
       " 'Untitled1.ipynb',\n",
       " 'Untitled2.ipynb',\n",
       " 'Untitled3.ipynb',\n",
       " 'Visualization.ipynb',\n",
       " 'web_scraping.ipynb']"
      ]
     },
     "execution_count": 42,
     "metadata": {},
     "output_type": "execute_result"
    }
   ],
   "source": [
    "os.listdir()"
   ]
  },
  {
   "cell_type": "code",
   "execution_count": null,
   "id": "d5ee095d",
   "metadata": {},
   "outputs": [],
   "source": [
    "os.listdir()\n",
    "os.makedirs(\"DD/FF/JJ/KK\")"
   ]
  },
  {
   "cell_type": "code",
   "execution_count": null,
   "id": "d34dafb1",
   "metadata": {
    "scrolled": false
   },
   "outputs": [],
   "source": [
    "os.listdir()"
   ]
  },
  {
   "cell_type": "code",
   "execution_count": null,
   "id": "64967082",
   "metadata": {},
   "outputs": [],
   "source": [
    "pwd()"
   ]
  },
  {
   "cell_type": "code",
   "execution_count": null,
   "id": "9c9be126",
   "metadata": {},
   "outputs": [],
   "source": [
    "os.chdir('C:\\\\Users\\\\Admin\\\\Desktop\\\\Prophilic\\\\Online_Class\\\\Python\\\\DD')\n",
    "os.listdir()"
   ]
  },
  {
   "cell_type": "code",
   "execution_count": null,
   "id": "9847c7d8",
   "metadata": {},
   "outputs": [],
   "source": [
    "os.chdir('C:\\\\Users\\\\Admin\\\\Desktop\\\\Prophilic\\\\Online_Class\\\\Python\\\\DD\\\\FF')\n",
    "os.listdir()"
   ]
  },
  {
   "cell_type": "code",
   "execution_count": null,
   "id": "a6d828a6",
   "metadata": {},
   "outputs": [],
   "source": [
    "os.error()"
   ]
  },
  {
   "cell_type": "code",
   "execution_count": null,
   "id": "5d02530c",
   "metadata": {},
   "outputs": [],
   "source": []
  }
 ],
 "metadata": {
  "kernelspec": {
   "display_name": "Python 3",
   "language": "python",
   "name": "python3"
  },
  "language_info": {
   "codemirror_mode": {
    "name": "ipython",
    "version": 3
   },
   "file_extension": ".py",
   "mimetype": "text/x-python",
   "name": "python",
   "nbconvert_exporter": "python",
   "pygments_lexer": "ipython3",
   "version": "3.8.5"
  }
 },
 "nbformat": 4,
 "nbformat_minor": 5
}
