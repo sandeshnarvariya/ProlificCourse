{
 "cells": [
  {
   "cell_type": "markdown",
   "metadata": {},
   "source": [
    "# Data type in Python"
   ]
  },
  {
   "cell_type": "markdown",
   "metadata": {},
   "source": [
    "### Number\n",
    "* int\n",
    "* float\n",
    "* complex"
   ]
  },
  {
   "cell_type": "code",
   "execution_count": 1,
   "metadata": {},
   "outputs": [
    {
     "name": "stdout",
     "output_type": "stream",
     "text": [
      "5 <class 'int'>\n"
     ]
    }
   ],
   "source": [
    "a = 5\n",
    "print(a, type(a))"
   ]
  },
  {
   "cell_type": "code",
   "execution_count": null,
   "metadata": {},
   "outputs": [],
   "source": []
  },
  {
   "cell_type": "code",
   "execution_count": 2,
   "metadata": {},
   "outputs": [
    {
     "name": "stdout",
     "output_type": "stream",
     "text": [
      "5.65 <class 'float'>\n"
     ]
    }
   ],
   "source": [
    "a = 5.65\n",
    "print(a,type(a))"
   ]
  },
  {
   "cell_type": "code",
   "execution_count": 3,
   "metadata": {},
   "outputs": [
    {
     "name": "stdout",
     "output_type": "stream",
     "text": [
      "ANT*RTICA\n"
     ]
    }
   ],
   "source": [
    "a = 'ANTARTICA'\n",
    "b = a.replace('A','*',2)\n",
    "a = b.replace('*','A',1)\n",
    "print(a)"
   ]
  },
  {
   "cell_type": "code",
   "execution_count": null,
   "metadata": {},
   "outputs": [],
   "source": []
  },
  {
   "cell_type": "markdown",
   "metadata": {},
   "source": [
    "  ### String problems\n",
    "  ##### * Program to count the total number of punctuation characters exists in a string"
   ]
  },
  {
   "cell_type": "code",
   "execution_count": 4,
   "metadata": {},
   "outputs": [
    {
     "name": "stdout",
     "output_type": "stream",
     "text": [
      "! . . ? \n",
      "Total number of punctuatuin characters:  4\n"
     ]
    }
   ],
   "source": [
    "char_str = \"Good morning! Mr. James Potter. Hed your breakfast?\"\n",
    "alphbet = \"abcdefghijklmnopqrstuvwxyzABCDEFGHIJKLMNOPQRSTUVWXYZ \"\n",
    "count = 0\n",
    "for i in range(0,len(char_str)):\n",
    "    if char_str[i] not in alphbet:\n",
    "        print(char_str[i], end=\" \")\n",
    "        count+=1\n",
    "print(\"\\nTotal number of punctuatuin characters: \",count)    \n",
    "    \n",
    "#print(char_str)"
   ]
  },
  {
   "cell_type": "markdown",
   "metadata": {},
   "source": [
    "#### * Program to count the total number of vowels and consonants in a string"
   ]
  },
  {
   "cell_type": "code",
   "execution_count": 5,
   "metadata": {},
   "outputs": [
    {
     "name": "stdout",
     "output_type": "stream",
     "text": [
      "Enter and copy sentence for count vowels and consonantsabc\n",
      "Your sentence is \n",
      " [abc]\n",
      "Total vowels is  1  and total consonnts is 2 in this sentence\n"
     ]
    }
   ],
   "source": [
    "str1 = input(\"Enter and copy sentence for count vowels and consonants\")\n",
    "vowels = \"aeiou\"\n",
    "#consonants = \"bcdfghjklmnpqrstvwxyz\"\n",
    "con_vowels = []\n",
    "con_consonants = []\n",
    "str_lower = str1.lower()\n",
    "# for i in range(len(str_lower)):\n",
    "#     if str_lower[i] in vowels:\n",
    "#         con_vowels.append(str_lower[i])\n",
    "#     else:\n",
    "#         con_consonants.append(\"str_lower[i]\")\n",
    "for i in str_lower:\n",
    "    if i in vowels:\n",
    "        con_vowels.append(i)\n",
    "    else:\n",
    "        con_consonants.append(i)\n",
    "print(f\"Your sentence is \\n [{str1}]\")\n",
    "print(\"Total vowels is \",len(con_vowels),\" and total consonnts is\",len(con_consonants), \"in this sentence\")\n",
    "# print(\"Total vowels is \", con_vowels, \" this sentence is :\", len(con_vowels))\n",
    "# print(\"Total consonants in this sentence is \", len(con_consonants))"
   ]
  },
  {
   "cell_type": "markdown",
   "metadata": {},
   "source": [
    "#### * Program to determine whether two strings are the anagram"
   ]
  },
  {
   "cell_type": "code",
   "execution_count": null,
   "metadata": {},
   "outputs": [],
   "source": []
  },
  {
   "cell_type": "code",
   "execution_count": null,
   "metadata": {},
   "outputs": [],
   "source": []
  }
 ],
 "metadata": {
  "kernelspec": {
   "display_name": "Python 3",
   "language": "python",
   "name": "python3"
  },
  "language_info": {
   "codemirror_mode": {
    "name": "ipython",
    "version": 3
   },
   "file_extension": ".py",
   "mimetype": "text/x-python",
   "name": "python",
   "nbconvert_exporter": "python",
   "pygments_lexer": "ipython3",
   "version": "3.8.5"
  }
 },
 "nbformat": 4,
 "nbformat_minor": 4
}
