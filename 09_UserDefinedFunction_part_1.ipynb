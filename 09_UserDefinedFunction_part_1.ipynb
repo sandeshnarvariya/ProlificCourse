{
 "cells": [
  {
   "cell_type": "markdown",
   "metadata": {},
   "source": [
    "### User Defined Functions (UDF)\n",
    "\n",
    "#### Syntax\n",
    "\n",
    "def function_name(optional_arguments):\n",
    "\n",
    "    '''Optional Documentation String'''\n",
    "    \n",
    "    Body of the function\n",
    "    \n",
    "    \n",
    "* By default a function returns None until otherwise specified\n",
    "* There are 6 Types of UDF and one anonymous function:\n",
    "    * No arguments\n",
    "    * Required arguments\n",
    "    * Default arguments\n",
    "    * Keyword arguments\n",
    "    * Variable length arguments\n",
    "    * Keyowrd variable length arguments\n",
    "    * lambda -> anonymous function"
   ]
  },
  {
   "cell_type": "code",
   "execution_count": 1,
   "metadata": {},
   "outputs": [],
   "source": [
    "#1. No arguments\n",
    "\n",
    "def say_hello():\n",
    "    '''This function prints Hello back\n",
    "    to the user'''\n",
    "    \n",
    "    print(\"HELLO\")"
   ]
  },
  {
   "cell_type": "code",
   "execution_count": 2,
   "metadata": {},
   "outputs": [
    {
     "name": "stdout",
     "output_type": "stream",
     "text": [
      "Help on function say_hello in module __main__:\n",
      "\n",
      "say_hello()\n",
      "    This function prints Hello back\n",
      "    to the user\n",
      "\n"
     ]
    }
   ],
   "source": [
    "help(say_hello)"
   ]
  },
  {
   "cell_type": "code",
   "execution_count": 5,
   "metadata": {},
   "outputs": [
    {
     "name": "stdout",
     "output_type": "stream",
     "text": [
      "<class 'function'>\n",
      "HELLO\n",
      "10\n"
     ]
    }
   ],
   "source": [
    "#1. No arguments\n",
    "\n",
    "def say_hello():\n",
    "    '''This function prints Hello back\n",
    "    to the user'''\n",
    "    \n",
    "    print(\"HELLO\")\n",
    "    return 10\n",
    "\n",
    "# In python everything is an object\n",
    "print(type(say_hello))\n",
    "a = say_hello()\n",
    "\n",
    "# Uncomment the return statement and the value will be stored in a\n",
    "print(a)"
   ]
  },
  {
   "cell_type": "code",
   "execution_count": 6,
   "metadata": {},
   "outputs": [
    {
     "name": "stdout",
     "output_type": "stream",
     "text": [
      "HELLO\n"
     ]
    },
    {
     "data": {
      "text/plain": [
       "10"
      ]
     },
     "execution_count": 6,
     "metadata": {},
     "output_type": "execute_result"
    }
   ],
   "source": [
    "#how to call a function\n",
    "say_hello()"
   ]
  },
  {
   "cell_type": "code",
   "execution_count": 8,
   "metadata": {},
   "outputs": [
    {
     "name": "stdout",
     "output_type": "stream",
     "text": [
      "HELLO\n",
      "10\n"
     ]
    }
   ],
   "source": [
    "b=say_hello()\n",
    "print(b)"
   ]
  },
  {
   "cell_type": "code",
   "execution_count": 9,
   "metadata": {},
   "outputs": [
    {
     "name": "stdout",
     "output_type": "stream",
     "text": [
      "40\n",
      "50\n",
      "280\n"
     ]
    }
   ],
   "source": [
    "# 2. Required Arguments\n",
    "# Arguments are placed positionally\n",
    "\n",
    "def add(a,b):\n",
    "    return 2*a + 4*b\n",
    "\n",
    "x = add(10,5)\n",
    "print(x)\n",
    "y = add(5,10)\n",
    "print(y)\n",
    "\n",
    "print(add(x,y))\n",
    "\n",
    "# Below statement will give an error as function takes only 2 arguments\n",
    "# but three arguments were given\n",
    "#print(add(10,20,30))"
   ]
  },
  {
   "cell_type": "code",
   "execution_count": 10,
   "metadata": {},
   "outputs": [
    {
     "name": "stdout",
     "output_type": "stream",
     "text": [
      "Help on function add in module __main__:\n",
      "\n",
      "add(a, b)\n",
      "\n"
     ]
    }
   ],
   "source": [
    "# As no docstring was given so help on the function will not have any\n",
    "# documentation. It is a good practice to have docstring present in\n",
    "# you defined functions.\n",
    "help(add)"
   ]
  },
  {
   "cell_type": "code",
   "execution_count": 11,
   "metadata": {},
   "outputs": [
    {
     "name": "stdout",
     "output_type": "stream",
     "text": [
      "15\n",
      "9\n",
      "16\n"
     ]
    }
   ],
   "source": [
    "#3. Default arguments\n",
    "\n",
    "def add(a,b=10):\n",
    "    print(a+b)\n",
    "    \n",
    "add(5)\n",
    "add(5,4)\n",
    "add(6)"
   ]
  },
  {
   "cell_type": "code",
   "execution_count": 12,
   "metadata": {},
   "outputs": [
    {
     "name": "stdout",
     "output_type": "stream",
     "text": [
      "40\n",
      "30\n"
     ]
    }
   ],
   "source": [
    "#. Keyword arguments\n",
    "\n",
    "def add(a,b):\n",
    "    print(2*a+b)\n",
    "    \n",
    "add(10,20)\n",
    "add(b=10,a = 10)"
   ]
  },
  {
   "cell_type": "code",
   "execution_count": 13,
   "metadata": {},
   "outputs": [
    {
     "name": "stdout",
     "output_type": "stream",
     "text": [
      "Hi Billy Butcher how are you?\n",
      "Hi Butcher Billy how are you?\n"
     ]
    }
   ],
   "source": [
    "# Keyword arguments\n",
    "#4. Keyword arguments\n",
    "\n",
    "def name(first,last):\n",
    "    print(\"Hi {} {} how are you?\".format(first,last))\n",
    "    \n",
    "name('Billy','Butcher')\n",
    "name(last='Billy',first='Butcher')"
   ]
  },
  {
   "cell_type": "code",
   "execution_count": 14,
   "metadata": {},
   "outputs": [
    {
     "name": "stdout",
     "output_type": "stream",
     "text": [
      "(10, 20, 30) <class 'tuple'>\n",
      "(10, 20) <class 'tuple'>\n",
      "() <class 'tuple'>\n"
     ]
    }
   ],
   "source": [
    "#5 . Varaible length arguments\n",
    "\n",
    "def func(*x):\n",
    "    print(x,type(x))\n",
    "    \n",
    "func(10,20,30)\n",
    "func(10,20)\n",
    "func()"
   ]
  },
  {
   "cell_type": "code",
   "execution_count": 15,
   "metadata": {},
   "outputs": [
    {
     "name": "stdout",
     "output_type": "stream",
     "text": [
      "(10, 20, 30) <class 'tuple'>\n",
      "60\n",
      "(10, 20, 30, 40, 50) <class 'tuple'>\n",
      "150\n",
      "() <class 'tuple'>\n",
      "0\n"
     ]
    }
   ],
   "source": [
    "def own_sum(*x):\n",
    "    print(x,type(x))\n",
    "    return sum(x)\n",
    "\n",
    "print(own_sum(10,20,30))\n",
    "print(own_sum(10,20,30,40,50))\n",
    "print(own_sum())"
   ]
  },
  {
   "cell_type": "code",
   "execution_count": null,
   "metadata": {},
   "outputs": [],
   "source": []
  },
  {
   "cell_type": "code",
   "execution_count": 16,
   "metadata": {},
   "outputs": [
    {
     "name": "stdout",
     "output_type": "stream",
     "text": [
      "{'a': 10, 'b': 20, 'c': 40}\n",
      "{'a': 10}\n",
      "{}\n"
     ]
    }
   ],
   "source": [
    "\n",
    "def func(**x):\n",
    "    print(x)\n",
    "    \n",
    "func(a=10,b=20,c=40)\n",
    "func(a=10)\n",
    "func()"
   ]
  },
  {
   "cell_type": "markdown",
   "metadata": {},
   "source": [
    "# General Definition of Function"
   ]
  },
  {
   "cell_type": "code",
   "execution_count": 17,
   "metadata": {},
   "outputs": [
    {
     "name": "stdout",
     "output_type": "stream",
     "text": [
      "(10, 20, 30) {}\n",
      "() {'a': 10, 'b': 20}\n",
      "(10, 20, 30) {'a': 10, 'b': 20}\n"
     ]
    }
   ],
   "source": [
    "def func(*args,**kwargs):\n",
    "    print(args,kwargs)\n",
    "    \n",
    "func(10,20,30)\n",
    "func(a=10,b=20)\n",
    "func(10,20,30,a=10,b=20)"
   ]
  },
  {
   "cell_type": "markdown",
   "metadata": {},
   "source": [
    "### Question\n",
    "\n",
    "Write a function to calculate factorial of a number\n",
    "* Example 4! = 4*3*2*1 = 1*2*3*4"
   ]
  },
  {
   "cell_type": "code",
   "execution_count": 18,
   "metadata": {},
   "outputs": [
    {
     "data": {
      "text/plain": [
       "120"
      ]
     },
     "execution_count": 18,
     "metadata": {},
     "output_type": "execute_result"
    }
   ],
   "source": [
    "n=5\n",
    "m = 1\n",
    "for i in range(1,n+1):\n",
    "    m *= i  # m = m*i\n",
    "m"
   ]
  },
  {
   "cell_type": "code",
   "execution_count": 19,
   "metadata": {},
   "outputs": [
    {
     "name": "stdout",
     "output_type": "stream",
     "text": [
      "24\n",
      "120\n"
     ]
    }
   ],
   "source": [
    "def factorial(n):\n",
    "    m = 1\n",
    "    for i in range(1,n+1):\n",
    "        m *= i\n",
    "    return m\n",
    "\n",
    "print(factorial(4))\n",
    "print(factorial(5))"
   ]
  },
  {
   "cell_type": "code",
   "execution_count": 20,
   "metadata": {},
   "outputs": [
    {
     "name": "stdout",
     "output_type": "stream",
     "text": [
      "24\n",
      "120\n"
     ]
    }
   ],
   "source": [
    "def factorial(n):\n",
    "    m = 1\n",
    "    for i in range(n,0,-1):\n",
    "        m *= i\n",
    "    return m\n",
    "\n",
    "print(factorial(4))\n",
    "print(factorial(5))"
   ]
  },
  {
   "cell_type": "code",
   "execution_count": 21,
   "metadata": {},
   "outputs": [
    {
     "data": {
      "text/plain": [
       "120"
      ]
     },
     "execution_count": 21,
     "metadata": {},
     "output_type": "execute_result"
    }
   ],
   "source": [
    "n=5\n",
    "f=1\n",
    "while n:\n",
    "    f*=n\n",
    "    n-=1\n",
    "f"
   ]
  },
  {
   "cell_type": "markdown",
   "metadata": {},
   "source": [
    "### Question\n",
    "\n",
    "Write a function to check if a number is a prime number or not. Return True if number is Prime else return False"
   ]
  },
  {
   "cell_type": "code",
   "execution_count": 22,
   "metadata": {},
   "outputs": [
    {
     "name": "stdout",
     "output_type": "stream",
     "text": [
      "True\n",
      "False\n"
     ]
    }
   ],
   "source": [
    "def isprime(n):\n",
    "    for i in range(2,n//2 + 1):\n",
    "        if n%i == 0:\n",
    "            return False\n",
    "        else:\n",
    "            return True\n",
    "\n",
    "print(isprime(23))\n",
    "print(isprime(12))"
   ]
  },
  {
   "cell_type": "code",
   "execution_count": null,
   "metadata": {},
   "outputs": [],
   "source": [
    "def isprime(n):\n",
    "    for i in range(2,n//2 + 1):\n",
    "        if n%i == 0:\n",
    "            return False\n",
    "    return True\n",
    "\n",
    "print(isprime(23))\n",
    "print(isprime(12))"
   ]
  },
  {
   "cell_type": "markdown",
   "metadata": {},
   "source": [
    "### Question\n",
    "\n",
    "Write a Function to return a list of all prime numbers between a given range"
   ]
  },
  {
   "cell_type": "code",
   "execution_count": null,
   "metadata": {},
   "outputs": [],
   "source": [
    "def allprime(low,high):\n",
    "    primes = []\n",
    "    for n in range(low,high+1):\n",
    "        for i in range(2,n//2 +1):\n",
    "            if n%i == 0:\n",
    "                break\n",
    "        else:\n",
    "            primes.append(n)\n",
    "    return primes\n",
    "\n",
    "print(allprime(2,10))\n",
    "print(allprime(2,20))"
   ]
  },
  {
   "cell_type": "code",
   "execution_count": null,
   "metadata": {},
   "outputs": [],
   "source": [
    "def isprime(n):\n",
    "    for i in range(2,n//2 + 1):\n",
    "        if n%i == 0:\n",
    "            return False\n",
    "    return True\n",
    "\n",
    "def allprime(low,high):\n",
    "    primes = []\n",
    "    for n in range(low,high+1):\n",
    "        if isprime(n):\n",
    "            primes.append(n)\n",
    "    return primes\n",
    "\n",
    "print(allprime(2,10))\n",
    "print(allprime(2,20))"
   ]
  },
  {
   "cell_type": "markdown",
   "metadata": {},
   "source": [
    "## Scope of a function"
   ]
  },
  {
   "cell_type": "code",
   "execution_count": 24,
   "metadata": {},
   "outputs": [
    {
     "name": "stdout",
     "output_type": "stream",
     "text": [
      "10\n",
      "100\n",
      "10\n"
     ]
    },
    {
     "ename": "NameError",
     "evalue": "name 'xx' is not defined",
     "output_type": "error",
     "traceback": [
      "\u001b[1;31m---------------------------------------------------------------------------\u001b[0m",
      "\u001b[1;31mNameError\u001b[0m                                 Traceback (most recent call last)",
      "\u001b[1;32m<ipython-input-24-257b8ede3e47>\u001b[0m in \u001b[0;36m<module>\u001b[1;34m\u001b[0m\n\u001b[0;32m     12\u001b[0m \u001b[1;31m# Below statement will give an error as x is defined in the scope of\u001b[0m\u001b[1;33m\u001b[0m\u001b[1;33m\u001b[0m\u001b[1;33m\u001b[0m\u001b[0m\n\u001b[0;32m     13\u001b[0m \u001b[1;31m# the function which is not in global scope\u001b[0m\u001b[1;33m\u001b[0m\u001b[1;33m\u001b[0m\u001b[1;33m\u001b[0m\u001b[0m\n\u001b[1;32m---> 14\u001b[1;33m \u001b[0mprint\u001b[0m\u001b[1;33m(\u001b[0m\u001b[0mxx\u001b[0m\u001b[1;33m)\u001b[0m\u001b[1;33m\u001b[0m\u001b[1;33m\u001b[0m\u001b[0m\n\u001b[0m",
      "\u001b[1;31mNameError\u001b[0m: name 'xx' is not defined"
     ]
    }
   ],
   "source": [
    "a = 10\n",
    "b = 30\n",
    "\n",
    "def func():\n",
    "    a = 50\n",
    "    xx = 20\n",
    "    print(a+b+xx)\n",
    "    \n",
    "print(a)\n",
    "func()\n",
    "print(a)\n",
    "# Below statement will give an error as x is defined in the scope of\n",
    "# the function which is not in global scope\n",
    "print(xx)"
   ]
  },
  {
   "cell_type": "code",
   "execution_count": 25,
   "metadata": {},
   "outputs": [
    {
     "name": "stdout",
     "output_type": "stream",
     "text": [
      "10\n",
      "100\n",
      "50\n",
      "20\n"
     ]
    },
    {
     "data": {
      "text/plain": [
       "50"
      ]
     },
     "execution_count": 25,
     "metadata": {},
     "output_type": "execute_result"
    }
   ],
   "source": [
    "a = 10\n",
    "b = 30\n",
    "\n",
    "def func():\n",
    "    global a,xx\n",
    "    a = 50\n",
    "    xx = 20\n",
    "    print(a+b+xx)\n",
    "    \n",
    "print(a)\n",
    "func()\n",
    "print(a)\n",
    "print(xx)\n"
   ]
  },
  {
   "cell_type": "code",
   "execution_count": null,
   "metadata": {},
   "outputs": [],
   "source": []
  }
 ],
 "metadata": {
  "kernelspec": {
   "display_name": "Python 3",
   "language": "python",
   "name": "python3"
  },
  "language_info": {
   "codemirror_mode": {
    "name": "ipython",
    "version": 3
   },
   "file_extension": ".py",
   "mimetype": "text/x-python",
   "name": "python",
   "nbconvert_exporter": "python",
   "pygments_lexer": "ipython3",
   "version": "3.8.3rc1"
  }
 },
 "nbformat": 4,
 "nbformat_minor": 4
}
