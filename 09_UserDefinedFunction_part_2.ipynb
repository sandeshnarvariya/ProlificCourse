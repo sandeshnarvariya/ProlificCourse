{
 "cells": [
  {
   "cell_type": "markdown",
   "metadata": {},
   "source": [
    "### User Defined Functions (UDF)\n",
    "\n",
    "#### Syntax\n",
    "\n",
    "def function_name(optional_arguments):\n",
    "\n",
    "    '''Optional Documentation String'''\n",
    "    \n",
    "    Body of the function\n",
    "    \n",
    "    \n",
    "* By default a function returns None until otherwise specified\n",
    "* There are 6 Types of UDF and one anonymous function:\n",
    "    * No arguments\n",
    "    * Required arguments\n",
    "    * Default arguments\n",
    "    * Keyword arguments\n",
    "    * Variable length arguments\n",
    "    * Keyowrd variable length arguments\n",
    "    * lambda -> anonymous function"
   ]
  },
  {
   "cell_type": "code",
   "execution_count": null,
   "metadata": {},
   "outputs": [],
   "source": [
    "%whos"
   ]
  },
  {
   "cell_type": "markdown",
   "metadata": {},
   "source": [
    "A namespace is a simple system to control the names in a program. It ensures that names are unique and won't lead to any conflict. Python implements namespaces in the form of dictionaries. It maintains a name-to-object mapping where names act as keys and the objects as values."
   ]
  },
  {
   "cell_type": "code",
   "execution_count": null,
   "metadata": {},
   "outputs": [],
   "source": [
    "%whos"
   ]
  },
  {
   "cell_type": "code",
   "execution_count": null,
   "metadata": {},
   "outputs": [],
   "source": [
    "help(say_hello)"
   ]
  },
  {
   "cell_type": "markdown",
   "metadata": {},
   "source": [
    "### General Definition of Function"
   ]
  },
  {
   "cell_type": "code",
   "execution_count": null,
   "metadata": {},
   "outputs": [],
   "source": [
    "def func(*args,**kwargs):\n",
    "    print(args,kwargs)\n",
    "    \n",
    "func(10,20,30)\n",
    "func(a=10,b=20)\n",
    "func(10,20,30,a=10,b=20)"
   ]
  },
  {
   "cell_type": "markdown",
   "metadata": {},
   "source": [
    "### Question\n",
    "\n",
    "Write a function to calculate factorial of a number\n",
    "* Example 4! = 4*3*2*1 = 1*2*3*4"
   ]
  },
  {
   "cell_type": "markdown",
   "metadata": {},
   "source": [
    "### Question\n",
    "\n",
    "Write a function to check if a number is a prime number or not. Return True if number is Prime else return False"
   ]
  },
  {
   "cell_type": "markdown",
   "metadata": {},
   "source": [
    "### Question\n",
    "\n",
    "Write a Function to return a list of all prime numbers between a given range"
   ]
  },
  {
   "cell_type": "markdown",
   "metadata": {},
   "source": [
    "## Scope of a function"
   ]
  },
  {
   "cell_type": "code",
   "execution_count": null,
   "metadata": {},
   "outputs": [],
   "source": [
    "a = 10\n",
    "b = 30\n",
    "\n",
    "def func():\n",
    "    global a,xx\n",
    "    a = 50\n",
    "    xx = 20\n",
    "    print(a+b+xx)\n",
    "    \n",
    "print(a,id(a))\n",
    "func()\n",
    "print(a,id(a))\n",
    "print(xx,id(xx))\n",
    "a"
   ]
  },
  {
   "cell_type": "markdown",
   "metadata": {},
   "source": [
    "## Lambda Function -> Anonymous Function\n",
    "\n",
    "##### Syntax\n",
    "\n",
    "<h4 style=\"color:green\">lambda arguments: Expression</h4>\n",
    "\n",
    "Note: Restart kernel once before running below blocks"
   ]
  },
  {
   "cell_type": "markdown",
   "metadata": {},
   "source": [
    "<h2 style=\"color:navy\">In Python, an anonymous function means that a function is without a name </h2>\n",
    "<h3 style=\"color:purple\">    > def keyword is used to define a normal function .</h3>\n",
    "<h3 style=\"color:purple\">    >lambda keyword is used to define an anonymous function"
   ]
  },
  {
   "cell_type": "code",
   "execution_count": null,
   "metadata": {},
   "outputs": [],
   "source": [
    "def xxxx(x):\n",
    "    return x\n",
    "xxxx(5)"
   ]
  },
  {
   "cell_type": "code",
   "execution_count": null,
   "metadata": {},
   "outputs": [],
   "source": [
    "# single variable lambda function\n",
    "xxxx=lambda x:x\n",
    "xxxx(4)"
   ]
  },
  {
   "cell_type": "code",
   "execution_count": null,
   "metadata": {},
   "outputs": [],
   "source": [
    "def xx(x):\n",
    "    return x+1\n",
    "xx(1)"
   ]
  },
  {
   "cell_type": "code",
   "execution_count": null,
   "metadata": {},
   "outputs": [],
   "source": [
    "xx = lambda x:x+1\n",
    "xx(4)"
   ]
  },
  {
   "cell_type": "code",
   "execution_count": null,
   "metadata": {},
   "outputs": [],
   "source": [
    "def full_name(f,l):\n",
    "    return f+\" \"+l\n",
    "full_name(\"Guido\",\"Rossum\")"
   ]
  },
  {
   "cell_type": "code",
   "execution_count": null,
   "metadata": {},
   "outputs": [],
   "source": [
    "full_na = lambda f,l : f+\" \"+l\n",
    "full_na(\"Guido\",\"Rossum\")"
   ]
  },
  {
   "cell_type": "code",
   "execution_count": null,
   "metadata": {},
   "outputs": [],
   "source": [
    "#Immediately Invoked Function Expression\n",
    "#we can pass an argument by surrounding the function and its argument with parentheses:\n",
    "# This is the concept of java script\n",
    "(lambda x :x-1)(3)"
   ]
  },
  {
   "cell_type": "code",
   "execution_count": null,
   "metadata": {},
   "outputs": [],
   "source": [
    "(lambda x:x**2)(5)"
   ]
  },
  {
   "cell_type": "code",
   "execution_count": null,
   "metadata": {},
   "outputs": [],
   "source": [
    "# We can also use function as avariable in lambda function\n",
    "ex = lambda x,func : x + func(x)\n",
    "\n",
    "ex(9,lambda x:x+2)"
   ]
  },
  {
   "cell_type": "code",
   "execution_count": null,
   "metadata": {},
   "outputs": [],
   "source": [
    "def add(a,b):\n",
    "    return a+b\n",
    "add(10,5)"
   ]
  },
  {
   "cell_type": "code",
   "execution_count": null,
   "metadata": {},
   "outputs": [],
   "source": [
    "add = lambda a,b:a+b\n",
    "add(10,5)"
   ]
  },
  {
   "cell_type": "code",
   "execution_count": null,
   "metadata": {},
   "outputs": [],
   "source": [
    "(lambda a,b:a+b)(2,3)"
   ]
  },
  {
   "cell_type": "code",
   "execution_count": null,
   "metadata": {},
   "outputs": [],
   "source": [
    "# year = int(input(\"Enter a year: \"))\n",
    "# if year < 1582:\n",
    "#     print(\"Not within the Gregorian calendar period\")\n",
    "# else:\n",
    "#     if year%4==0 and year%100!=0 or year%400==0:\n",
    "#         print(\"leap year\")\n",
    "    \n",
    "#     else:\n",
    "#         print(\"common year\")\n",
    "(lambda year : print(\"leap year\") if (year%4==0 and year%100!=0 or year%400==0) else print(\"common year\"))(2008)"
   ]
  },
  {
   "cell_type": "code",
   "execution_count": null,
   "metadata": {},
   "outputs": [],
   "source": [
    "def sq(n):\n",
    "    return n**2\n",
    "print(sq(2))\n",
    "\n",
    "sq_Lambda = lambda n : n**2\n",
    "sq_Lambda(2)"
   ]
  },
  {
   "cell_type": "code",
   "execution_count": null,
   "metadata": {},
   "outputs": [],
   "source": [
    "li=list(range(5))#[0,1,2,3,4]\n",
    "sq_Lambda = list(map(lambda n : n**2,li))\n",
    "sq_Lambda"
   ]
  },
  {
   "cell_type": "code",
   "execution_count": null,
   "metadata": {},
   "outputs": [],
   "source": [
    "li=list(range(5))\n",
    "sq_Lambda = list(filter(lambda n : n**2,li))\n",
    "sq_Lambda"
   ]
  },
  {
   "cell_type": "code",
   "execution_count": null,
   "metadata": {},
   "outputs": [],
   "source": [
    "li=list(range(10))\n",
    "odd = list(filter(lambda x : (x%2!=0) ,li))\n",
    "odd"
   ]
  },
  {
   "cell_type": "code",
   "execution_count": null,
   "metadata": {},
   "outputs": [],
   "source": [
    "li=list(range(10))\n",
    "odd = list(map(lambda x : (x%2!=0) ,li))\n",
    "odd"
   ]
  },
  {
   "cell_type": "code",
   "execution_count": null,
   "metadata": {},
   "outputs": [],
   "source": [
    "li=list(range(7,100,3))\n",
    "Sr_ctz = list(filter(lambda age : age>60,li))\n",
    "Sr_ctz"
   ]
  },
  {
   "cell_type": "code",
   "execution_count": null,
   "metadata": {},
   "outputs": [],
   "source": [
    "li=list(range(7,100,3))\n",
    "Sr_ctz = list(map(lambda age : age>60,li))\n",
    "Sr_ctz"
   ]
  },
  {
   "cell_type": "code",
   "execution_count": null,
   "metadata": {},
   "outputs": [],
   "source": [
    "%whos"
   ]
  },
  {
   "cell_type": "markdown",
   "metadata": {},
   "source": [
    "### Adding two lists mathematically"
   ]
  },
  {
   "cell_type": "code",
   "execution_count": 3,
   "metadata": {},
   "outputs": [
    {
     "name": "stdout",
     "output_type": "stream",
     "text": [
      "[1, 2, 3] + [4, 5, 6] = [5, 7, 9]\n"
     ]
    },
    {
     "data": {
      "text/plain": [
       "[5, 7, 9]"
      ]
     },
     "execution_count": 3,
     "metadata": {},
     "output_type": "execute_result"
    }
   ],
   "source": [
    "# 1st Way\n",
    "a = [1,2,3]\n",
    "b = [4,5,6]\n",
    "\n",
    "c = []\n",
    "n = min(len(a),len(b))\n",
    "for i in range(n):\n",
    "    c.append(a[i]+b[i])\n",
    "print(f\"{a} + {b} = {c}\")\n",
    "\n",
    "l=[(a[i]+b[i]) for i in range( min(len(a),len(b))) ]\n",
    "l"
   ]
  },
  {
   "cell_type": "code",
   "execution_count": 4,
   "metadata": {},
   "outputs": [
    {
     "name": "stdout",
     "output_type": "stream",
     "text": [
      "[(1, 4), (2, 5), (3, 6)]\n",
      "5\n",
      "7\n",
      "9\n"
     ]
    },
    {
     "data": {
      "text/plain": [
       "[5, 7, 9]"
      ]
     },
     "execution_count": 4,
     "metadata": {},
     "output_type": "execute_result"
    }
   ],
   "source": [
    "# 2nd Way\n",
    "a = [1,2,3]\n",
    "b = [4,5,6]\n",
    "\n",
    "c = list(zip(a,b))\n",
    "d=[]\n",
    "print(c)\n",
    "for x,y in c:\n",
    "    print(x+y)\n",
    "    d.append(x+y)\n",
    "d"
   ]
  },
  {
   "cell_type": "code",
   "execution_count": 8,
   "metadata": {},
   "outputs": [
    {
     "name": "stdout",
     "output_type": "stream",
     "text": [
      "[(1, 4), (2, 5), (3, 6)]\n"
     ]
    },
    {
     "data": {
      "text/plain": [
       "[5, 7, 9]"
      ]
     },
     "execution_count": 8,
     "metadata": {},
     "output_type": "execute_result"
    }
   ],
   "source": [
    "a = [1,2,3]\n",
    "b = [4,5,6]\n",
    "c = list(zip(a,b))\n",
    "print(c)\n",
    "c = [x+y for x,y in zip(a,b)]\n",
    "c"
   ]
  },
  {
   "cell_type": "code",
   "execution_count": 9,
   "metadata": {},
   "outputs": [
    {
     "name": "stdout",
     "output_type": "stream",
     "text": [
      "[5, 7, 9]\n"
     ]
    }
   ],
   "source": [
    "# 3rd Way - > Using Map function\n",
    "# Restart Kernel Before running this block\n",
    "a = [1,2,3]\n",
    "b = [4,5,6]\n",
    "\n",
    "def add(x,y):\n",
    "    return x+y\n",
    "\n",
    "c = list(map(add,a,b))\n",
    "print(c)"
   ]
  },
  {
   "cell_type": "code",
   "execution_count": 2,
   "metadata": {},
   "outputs": [
    {
     "name": "stdout",
     "output_type": "stream",
     "text": [
      "Interactive namespace is empty.\n"
     ]
    }
   ],
   "source": [
    "%whos"
   ]
  },
  {
   "cell_type": "code",
   "execution_count": 4,
   "metadata": {},
   "outputs": [
    {
     "data": {
      "text/plain": [
       "3"
      ]
     },
     "execution_count": 4,
     "metadata": {},
     "output_type": "execute_result"
    }
   ],
   "source": [
    "s=lambda x,y:x+y\n",
    "s(1,2)"
   ]
  },
  {
   "cell_type": "code",
   "execution_count": 5,
   "metadata": {},
   "outputs": [
    {
     "name": "stdout",
     "output_type": "stream",
     "text": [
      "[5, 7, 9]\n"
     ]
    }
   ],
   "source": [
    "# 3rd Way - > Using Map function and lambda\n",
    "# Restart Kernel Before running this block\n",
    "a = [1,2,3]\n",
    "b = [4,5,6]\n",
    "\n",
    "c = list(map(lambda x,y:x+y,a,b))\n",
    "print(c)"
   ]
  },
  {
   "cell_type": "code",
   "execution_count": 6,
   "metadata": {},
   "outputs": [
    {
     "name": "stdout",
     "output_type": "stream",
     "text": [
      "Variable   Type        Data/Info\n",
      "--------------------------------\n",
      "a          list        n=3\n",
      "b          list        n=3\n",
      "c          list        n=3\n",
      "s          function    <function <lambda> at 0x00000000051F63A0>\n"
     ]
    }
   ],
   "source": [
    "%whos"
   ]
  },
  {
   "cell_type": "markdown",
   "metadata": {},
   "source": [
    "### Filter Function"
   ]
  },
  {
   "cell_type": "code",
   "execution_count": 7,
   "metadata": {},
   "outputs": [
    {
     "name": "stdout",
     "output_type": "stream",
     "text": [
      "Help on class filter in module builtins:\n",
      "\n",
      "class filter(object)\n",
      " |  filter(function or None, iterable) --> filter object\n",
      " |  \n",
      " |  Return an iterator yielding those items of iterable for which function(item)\n",
      " |  is true. If function is None, return the items that are true.\n",
      " |  \n",
      " |  Methods defined here:\n",
      " |  \n",
      " |  __getattribute__(self, name, /)\n",
      " |      Return getattr(self, name).\n",
      " |  \n",
      " |  __iter__(self, /)\n",
      " |      Implement iter(self).\n",
      " |  \n",
      " |  __next__(self, /)\n",
      " |      Implement next(self).\n",
      " |  \n",
      " |  __reduce__(...)\n",
      " |      Return state information for pickling.\n",
      " |  \n",
      " |  ----------------------------------------------------------------------\n",
      " |  Static methods defined here:\n",
      " |  \n",
      " |  __new__(*args, **kwargs) from builtins.type\n",
      " |      Create and return a new object.  See help(type) for accurate signature.\n",
      "\n"
     ]
    }
   ],
   "source": [
    "help(filter)"
   ]
  },
  {
   "cell_type": "code",
   "execution_count": 8,
   "metadata": {},
   "outputs": [
    {
     "name": "stdout",
     "output_type": "stream",
     "text": [
      "[False, False, False, False, False, True, False, False]\n",
      "[6]\n"
     ]
    }
   ],
   "source": [
    "a = [1,2,3,4,5,6,7,8]\n",
    "\n",
    "def func(x):\n",
    "    if x%2 == 0 and x%3 == 0:\n",
    "        return True\n",
    "    else:\n",
    "        return False\n",
    "    \n",
    "b = list(map(func,a))\n",
    "print(b)\n",
    "c = list(filter(func,a))\n",
    "print(c)"
   ]
  },
  {
   "cell_type": "code",
   "execution_count": 9,
   "metadata": {},
   "outputs": [
    {
     "name": "stdout",
     "output_type": "stream",
     "text": [
      "[0, 0, 0, 0, 0, 1, 0, 0]\n",
      "[6]\n"
     ]
    }
   ],
   "source": []
  },
  {
   "cell_type": "code",
   "execution_count": 7,
   "metadata": {},
   "outputs": [
    {
     "data": {
      "text/plain": [
       "[3, 7]"
      ]
     },
     "execution_count": 7,
     "metadata": {},
     "output_type": "execute_result"
    }
   ],
   "source": [
    "# manually define of filter function\n",
    "op=[]\n",
    "def own_filter(func,itr):\n",
    "\n",
    "    for i in itr:\n",
    "        if func(i):\n",
    "            op.append(i)           \n",
    "    return op\n",
    "def func(x):\n",
    "    for i in range(2,x):\n",
    "        if x % i != 0:\n",
    "            return 1\n",
    "        else :\n",
    "            return 0\n",
    "l=[1,2,3,4,54,6,7,8] \n",
    "own_filter(func,l)"
   ]
  },
  {
   "cell_type": "code",
   "execution_count": 5,
   "metadata": {},
   "outputs": [],
   "source": [
    "res=[]\n",
    "def own_filter(func,itr):\n",
    "    for i in itr:\n",
    "        if func(i):\n",
    "            res.append(i)\n",
    "    return res\n",
    "def func(x):\n",
    "    for i in range(2,x):\n",
    "        if x % i != 0:\n",
    "            return 1\n",
    "        else :\n",
    "            return 0"
   ]
  },
  {
   "cell_type": "code",
   "execution_count": 6,
   "metadata": {},
   "outputs": [
    {
     "data": {
      "text/plain": [
       "[3, 5, 7]"
      ]
     },
     "execution_count": 6,
     "metadata": {},
     "output_type": "execute_result"
    }
   ],
   "source": [
    "a=[1,2,3,4,5,6,7] \n",
    "own_filter(func,a)"
   ]
  },
  {
   "cell_type": "code",
   "execution_count": 8,
   "metadata": {},
   "outputs": [],
   "source": [
    "res=[]\n",
    "def own_map(func,itr):\n",
    "    for i in itr:\n",
    "        res.append(func(i))\n",
    "    return res\n",
    "def func(x):\n",
    "    return x**2"
   ]
  },
  {
   "cell_type": "code",
   "execution_count": 9,
   "metadata": {},
   "outputs": [
    {
     "data": {
      "text/plain": [
       "[1, 4, 9, 16, 36, 49, 64]"
      ]
     },
     "execution_count": 9,
     "metadata": {},
     "output_type": "execute_result"
    }
   ],
   "source": [
    "a=[1,2,3,4,6,7,8]\n",
    "own_map(func,a)"
   ]
  },
  {
   "cell_type": "code",
   "execution_count": 11,
   "metadata": {},
   "outputs": [
    {
     "name": "stdout",
     "output_type": "stream",
     "text": [
      "[False, False, False, False, False, True, False, False]\n",
      "[6]\n"
     ]
    }
   ],
   "source": [
    "a = [1,2,3,4,5,6,7,8] \n",
    "\n",
    "\n",
    "b = list(map(lambda x:x%2 == 0 and x%3 == 0,a))\n",
    "print(b)\n",
    "c = list(filter(lambda x:x%2 == 0 and x%3 == 0,a))\n",
    "print(c)"
   ]
  },
  {
   "cell_type": "code",
   "execution_count": 12,
   "metadata": {},
   "outputs": [
    {
     "name": "stdout",
     "output_type": "stream",
     "text": [
      "[2, 3, 4, 5, 6]\n",
      "[2, 3, 4, 5, 6]\n"
     ]
    }
   ],
   "source": [
    "a = [1,2,3,4,5]\n",
    "#print(a)\n",
    "def func(x):\n",
    "    return x+1\n",
    "\n",
    "b = list(map(func,a))\n",
    "print(b)\n",
    "\n",
    "c = list(map(lambda x:x+1,a))\n",
    "print(c)"
   ]
  },
  {
   "cell_type": "markdown",
   "metadata": {},
   "source": [
    "### Question\n",
    "\n",
    "Write a function which returns n terms of the fibonacci series in form of a list and then using map function display the list of the series with its numbers cubed"
   ]
  },
  {
   "cell_type": "code",
   "execution_count": 3,
   "metadata": {},
   "outputs": [
    {
     "data": {
      "text/plain": [
       "[0, 1, 1, 2, 3]"
      ]
     },
     "execution_count": 3,
     "metadata": {},
     "output_type": "execute_result"
    }
   ],
   "source": []
  },
  {
   "cell_type": "markdown",
   "metadata": {},
   "source": [
    "<h2 style=\"color:navy\"> Recursive function</h2>\n",
    "<h4 style=\"color:orange\">Function calls itself"
   ]
  },
  {
   "cell_type": "code",
   "execution_count": 1,
   "metadata": {},
   "outputs": [
    {
     "name": "stdout",
     "output_type": "stream",
     "text": [
      "24\n"
     ]
    }
   ],
   "source": [
    "def fact_r(n):\n",
    "    if n<0:\n",
    "        return \"Invalid number\"\n",
    "    elif n ==1 or n == 0:\n",
    "        return 1\n",
    "    else:\n",
    "        return n* fact_r(n-1)\n",
    "print(fact_r(4))"
   ]
  },
  {
   "cell_type": "code",
   "execution_count": null,
   "metadata": {},
   "outputs": [],
   "source": []
  }
 ],
 "metadata": {
  "kernelspec": {
   "display_name": "Python 3",
   "language": "python",
   "name": "python3"
  },
  "language_info": {
   "codemirror_mode": {
    "name": "ipython",
    "version": 3
   },
   "file_extension": ".py",
   "mimetype": "text/x-python",
   "name": "python",
   "nbconvert_exporter": "python",
   "pygments_lexer": "ipython3",
   "version": "3.8.3rc1"
  }
 },
 "nbformat": 4,
 "nbformat_minor": 2
}
