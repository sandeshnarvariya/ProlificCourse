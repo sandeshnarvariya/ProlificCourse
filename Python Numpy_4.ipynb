{
 "cells": [
  {
   "cell_type": "markdown",
   "metadata": {},
   "source": [
    "<h2 style=\"color:navy\" > Searching Arrays </h2>\n",
    "\n",
    "* You can search an array for a certain value, and return the indexes that get a match.\n",
    "\n",
    "* To search an array, use the where() method."
   ]
  },
  {
   "cell_type": "code",
   "execution_count": 1,
   "metadata": {},
   "outputs": [
    {
     "name": "stdout",
     "output_type": "stream",
     "text": [
      "(array([3, 5, 6], dtype=int64),)\n"
     ]
    }
   ],
   "source": [
    "#Find the indexes where the value is 4:\n",
    "\n",
    "import numpy as np\n",
    "\n",
    "arr = np.array([1, 2, 3, 4, 5, 4, 4])\n",
    "\n",
    "x = np.where(arr == 4)\n",
    "\n",
    "print(x)"
   ]
  },
  {
   "cell_type": "code",
   "execution_count": 2,
   "metadata": {},
   "outputs": [
    {
     "name": "stdout",
     "output_type": "stream",
     "text": [
      "(array([1, 3, 5, 7], dtype=int64),)\n"
     ]
    }
   ],
   "source": [
    "#Find the indexes where the values are even:\n",
    "\n",
    "import numpy as np\n",
    "\n",
    "arr = np.array([1, 2, 3, 4, 5, 6, 7, 8])\n",
    "\n",
    "x = np.where(arr%2 == 0)\n",
    "\n",
    "print(x)"
   ]
  },
  {
   "cell_type": "code",
   "execution_count": 3,
   "metadata": {},
   "outputs": [
    {
     "name": "stdout",
     "output_type": "stream",
     "text": [
      "(array([0, 2, 4, 6], dtype=int64),)\n"
     ]
    }
   ],
   "source": [
    "#Find the indexes where the values are odd:\n",
    "\n",
    "import numpy as np\n",
    "\n",
    "arr = np.array([1, 2, 3, 4, 5, 6, 7, 8])\n",
    "\n",
    "x = np.where(arr%2 != 0)\n",
    "\n",
    "print(x)"
   ]
  },
  {
   "cell_type": "code",
   "execution_count": 4,
   "metadata": {},
   "outputs": [
    {
     "name": "stdout",
     "output_type": "stream",
     "text": [
      "(array([1], dtype=int64), array([0], dtype=int64))\n"
     ]
    }
   ],
   "source": [
    "arr = np.array([[1, 2, 3], [4, 5, 6]])\n",
    "print(np.where(arr==4))"
   ]
  },
  {
   "cell_type": "code",
   "execution_count": 5,
   "metadata": {},
   "outputs": [
    {
     "name": "stdout",
     "output_type": "stream",
     "text": [
      "(array([0], dtype=int64), array([2], dtype=int64))\n"
     ]
    }
   ],
   "source": [
    "arr = np.array([[1, 2, 3], [4, 5, 6]])\n",
    "print(np.where(arr==3))"
   ]
  },
  {
   "cell_type": "markdown",
   "metadata": {},
   "source": [
    "<h2 style=\"color:navy\" > Search Sorted </h2>\n",
    "\n",
    "* There is a method called searchsorted() which performs a binary search in the array, and returns the index where the specified value would be inserted to maintain the search order.\n",
    "\n",
    "* The searchsorted() method is assumed to be used on sorted arrays."
   ]
  },
  {
   "cell_type": "code",
   "execution_count": 6,
   "metadata": {},
   "outputs": [
    {
     "name": "stdout",
     "output_type": "stream",
     "text": [
      "0\n"
     ]
    }
   ],
   "source": [
    "#Find the indexes where the value 5 should be inserted:\n",
    "\n",
    "import numpy as np\n",
    "\n",
    "arr = np.array([6, 7, 8, 9])\n",
    "\n",
    "x = np.searchsorted(arr, 5)\n",
    "\n",
    "print(x)"
   ]
  },
  {
   "cell_type": "raw",
   "metadata": {},
   "source": [
    "explaination: The number 5 should be inserted on index 0 to remain the sort order.\n",
    "\n",
    "The method starts the search from the left and returns the first index where the number 5 is no longer larger than the next value."
   ]
  },
  {
   "cell_type": "code",
   "execution_count": 7,
   "metadata": {},
   "outputs": [
    {
     "name": "stdout",
     "output_type": "stream",
     "text": [
      "1\n"
     ]
    }
   ],
   "source": [
    "arr = np.array([3, 7, 8, 9])\n",
    "\n",
    "x = np.searchsorted(arr, 5)\n",
    "\n",
    "print(x)"
   ]
  },
  {
   "cell_type": "code",
   "execution_count": 8,
   "metadata": {},
   "outputs": [
    {
     "name": "stdout",
     "output_type": "stream",
     "text": [
      "4\n"
     ]
    }
   ],
   "source": [
    "arr = np.array([6, 7, 8, 9])\n",
    "\n",
    "x = np.searchsorted(arr, 12)\n",
    "\n",
    "print(x)"
   ]
  },
  {
   "cell_type": "code",
   "execution_count": 9,
   "metadata": {},
   "outputs": [
    {
     "name": "stdout",
     "output_type": "stream",
     "text": [
      "3\n"
     ]
    }
   ],
   "source": [
    "import numpy as np\n",
    "\n",
    "arr = np.array([6, 17, 28, 33])\n",
    "\n",
    "x = np.searchsorted(arr, 30, side='right')\n",
    "\n",
    "print(x)"
   ]
  },
  {
   "cell_type": "raw",
   "metadata": {},
   "source": [
    "The method starts the search from the right and returns the first index where the number 30 is no longer less than the next value."
   ]
  },
  {
   "cell_type": "code",
   "execution_count": 10,
   "metadata": {},
   "outputs": [
    {
     "name": "stdout",
     "output_type": "stream",
     "text": [
      "[1 2 3]\n"
     ]
    }
   ],
   "source": [
    "#Find the indexes where the values 2, 4, and 6 should be inserted:\n",
    "\n",
    "import numpy as np\n",
    "\n",
    "arr = np.array([1, 3, 5, 7])\n",
    "\n",
    "x = np.searchsorted(arr, [2, 4, 6])\n",
    "\n",
    "print(x)"
   ]
  },
  {
   "cell_type": "code",
   "execution_count": 11,
   "metadata": {},
   "outputs": [
    {
     "name": "stdout",
     "output_type": "stream",
     "text": [
      "[1 4 4]\n"
     ]
    }
   ],
   "source": [
    "arr = np.array([6, 17, 28, 33])\n",
    "\n",
    "x = np.searchsorted(arr, [12, 34, 36])\n",
    "\n",
    "print(x)"
   ]
  },
  {
   "cell_type": "markdown",
   "metadata": {},
   "source": [
    "<h2 style=\"color:navy\" > Sorting Arrays </h2>\n",
    "\n",
    "* Sorting means putting elements in an ordered sequence.\n",
    "\n",
    "* The NumPy ndarray object has a function called sort(), that will sort a specified array."
   ]
  },
  {
   "cell_type": "code",
   "execution_count": 1,
   "metadata": {},
   "outputs": [
    {
     "name": "stdout",
     "output_type": "stream",
     "text": [
      "[0 1 2 3]\n"
     ]
    }
   ],
   "source": [
    "#Sort the array:\n",
    "\n",
    "import numpy as np\n",
    "\n",
    "arr = np.array([3, 2, 0, 1])\n",
    "\n",
    "print(np.sort(arr))"
   ]
  },
  {
   "cell_type": "code",
   "execution_count": 2,
   "metadata": {},
   "outputs": [
    {
     "name": "stdout",
     "output_type": "stream",
     "text": [
      "[0 1 2 3]\n",
      "\n",
      "None\n",
      "If it returns elements of arr then it will be 'view' and\n",
      " If it returns 'None' then it will be copy.\n"
     ]
    }
   ],
   "source": [
    "#Check whether it returns copy or view\n",
    "arr = np.array([3, 2, 0, 1])\n",
    "sort = np.sort(arr)\n",
    "print(sort)\n",
    "print()\n",
    "print(sort.base)\n",
    "print(\"If it returns elements of arr then it will be 'view' and\\n If it returns 'None' then it will be copy.\")"
   ]
  },
  {
   "cell_type": "code",
   "execution_count": 3,
   "metadata": {},
   "outputs": [
    {
     "name": "stdout",
     "output_type": "stream",
     "text": [
      "['H' 'N' 'O' 'P' 'T' 'Y']\n"
     ]
    }
   ],
   "source": [
    "st = np.array(['P','Y','T','H','O','N'])\n",
    "print(np.sort(st))"
   ]
  },
  {
   "cell_type": "code",
   "execution_count": 4,
   "metadata": {},
   "outputs": [
    {
     "name": "stdout",
     "output_type": "stream",
     "text": [
      "[[2 3 4]\n",
      " [0 1 5]]\n"
     ]
    }
   ],
   "source": [
    "#Sort a 2-D array:\n",
    "\n",
    "import numpy as np\n",
    "\n",
    "arr = np.array([[3, 2, 4], [5, 0, 1]])\n",
    "\n",
    "print(np.sort(arr))"
   ]
  },
  {
   "cell_type": "markdown",
   "metadata": {},
   "source": [
    "<h2 style=\"color:navy\" > Random Numbers in NumPy </h2>\n",
    "* NumPy offers the random module to work with random numbers."
   ]
  },
  {
   "cell_type": "code",
   "execution_count": 7,
   "metadata": {},
   "outputs": [
    {
     "name": "stdout",
     "output_type": "stream",
     "text": [
      "60\n"
     ]
    }
   ],
   "source": [
    "# Generate a random integer from 0 to 100:\n",
    "\n",
    "from numpy import random\n",
    "\n",
    "x = random.randint(100)\n",
    "\n",
    "print(x)"
   ]
  },
  {
   "cell_type": "code",
   "execution_count": 9,
   "metadata": {},
   "outputs": [
    {
     "name": "stdout",
     "output_type": "stream",
     "text": [
      "0.953037079210312\n"
     ]
    }
   ],
   "source": [
    "#Generate a random float from 0 to 1:\n",
    "x = random.rand()\n",
    "\n",
    "print(x)"
   ]
  },
  {
   "cell_type": "code",
   "execution_count": 10,
   "metadata": {},
   "outputs": [
    {
     "name": "stdout",
     "output_type": "stream",
     "text": [
      "Enter how many random intigers you want :5\n",
      "1 random number is :9308617\n",
      "2 random number is :4657556\n",
      "3 random number is :8292601\n",
      "4 random number is :2544918\n",
      "5 random number is :7212512\n"
     ]
    }
   ],
   "source": [
    "from numpy import random\n",
    "n = int(input(\"Enter how many random intigers you want :\"))\n",
    "for i in range(n):\n",
    "    r = random.randint(10000,9999999)\n",
    "    print(f\"{i+1} random number is :{r}\")"
   ]
  },
  {
   "cell_type": "code",
   "execution_count": 11,
   "metadata": {},
   "outputs": [
    {
     "name": "stdout",
     "output_type": "stream",
     "text": [
      "Enter how many random float you want :8\n",
      "1 random number is :0.6682900047661395\n",
      "2 random number is :0.5156106834764825\n",
      "3 random number is :0.9063707366835165\n",
      "4 random number is :0.4234126496960847\n",
      "5 random number is :0.12053569067654923\n",
      "6 random number is :0.933272858065866\n",
      "7 random number is :0.3647381523466482\n",
      "8 random number is :0.631422939321073\n"
     ]
    }
   ],
   "source": [
    "from numpy import random\n",
    "\n",
    "n = int(input(\"Enter how many random float you want :\"))\n",
    "for i in range(n):\n",
    "    r = random.rand()\n",
    "    print(f\"{i+1} random number is :{r}\")"
   ]
  },
  {
   "cell_type": "code",
   "execution_count": 12,
   "metadata": {},
   "outputs": [
    {
     "name": "stdout",
     "output_type": "stream",
     "text": [
      "[143 475 353 209 281]\n"
     ]
    }
   ],
   "source": [
    "# Generate a 1-D array containing 5 random integers from 0 to 100:\n",
    "\n",
    "from numpy import random\n",
    "\n",
    "x=random.randint(100,500, size=(5))\n",
    "\n",
    "print(x)"
   ]
  },
  {
   "cell_type": "code",
   "execution_count": 13,
   "metadata": {},
   "outputs": [
    {
     "name": "stdout",
     "output_type": "stream",
     "text": [
      "[[14 11 41]\n",
      " [19 25 44]\n",
      " [48 30 31]\n",
      " [13 43 31]\n",
      " [41 21 43]]\n"
     ]
    }
   ],
   "source": [
    "# Generate a 2-D array with 5 rows, each row containing 3 random integers from 0 to 100:\n",
    "\n",
    "from numpy import random\n",
    "\n",
    "x = random.randint(10,50, size=(5, 3))\n",
    "\n",
    "print(x)"
   ]
  },
  {
   "cell_type": "code",
   "execution_count": 14,
   "metadata": {},
   "outputs": [
    {
     "name": "stdout",
     "output_type": "stream",
     "text": [
      "[[[33 33]\n",
      "  [43 31]\n",
      "  [16 26]]\n",
      "\n",
      " [[10 30]\n",
      "  [16 12]\n",
      "  [48 14]]]\n"
     ]
    }
   ],
   "source": [
    "x = random.randint(10,50, size=(2, 3, 2))\n",
    "\n",
    "print(x)"
   ]
  },
  {
   "cell_type": "code",
   "execution_count": 15,
   "metadata": {},
   "outputs": [
    {
     "name": "stdout",
     "output_type": "stream",
     "text": [
      "[0.39513452 0.25034377 0.39901775 0.35519272 0.4364896  0.16481298]\n"
     ]
    }
   ],
   "source": [
    "# Generate a 1-D array containing 5 random floats:\n",
    "\n",
    "from numpy import random\n",
    "\n",
    "x = random.rand(6)\n",
    "\n",
    "print(x)"
   ]
  },
  {
   "cell_type": "code",
   "execution_count": 16,
   "metadata": {},
   "outputs": [
    {
     "name": "stdout",
     "output_type": "stream",
     "text": [
      "[[0.3824383  0.59620827]\n",
      " [0.405095   0.07188873]\n",
      " [0.51388565 0.19861028]]\n"
     ]
    }
   ],
   "source": [
    "x = random.rand(3,2)\n",
    "\n",
    "print(x)"
   ]
  },
  {
   "cell_type": "code",
   "execution_count": 17,
   "metadata": {},
   "outputs": [
    {
     "name": "stdout",
     "output_type": "stream",
     "text": [
      "[[[0.40438901 0.8281296  0.34416713 0.97575481 0.85932906 0.00528823]\n",
      "  [0.32730471 0.61496282 0.18170636 0.26899457 0.17978506 0.21556424]]\n",
      "\n",
      " [[0.06080636 0.03172081 0.18721367 0.47508388 0.92651954 0.9677774 ]\n",
      "  [0.95133722 0.18462911 0.99004766 0.61178076 0.45998466 0.17880406]]]\n"
     ]
    }
   ],
   "source": [
    "x = random.rand(2, 2, 6)\n",
    "\n",
    "print(x)"
   ]
  },
  {
   "cell_type": "markdown",
   "metadata": {},
   "source": [
    "<h2 style=\"color:navy\" >Generate Random Number From Array </h2>\n",
    "\n",
    "* The choice() method allows you to generate a random value based on an array of values.\n",
    "\n",
    "* The choice() method takes an array as a parameter and randomly returns one of the values."
   ]
  },
  {
   "cell_type": "code",
   "execution_count": 28,
   "metadata": {},
   "outputs": [
    {
     "name": "stdout",
     "output_type": "stream",
     "text": [
      "5\n"
     ]
    }
   ],
   "source": [
    "#Return one of the values in an array:\n",
    "\n",
    "from numpy import random\n",
    "\n",
    "x = random.choice([3, 5, 7, 9])\n",
    "\n",
    "print(x)"
   ]
  },
  {
   "cell_type": "code",
   "execution_count": 32,
   "metadata": {},
   "outputs": [
    {
     "name": "stdout",
     "output_type": "stream",
     "text": [
      "[[74  5 92 60 54]\n",
      " [34 70 50 91 50]\n",
      " [60 54 70 39 65]]\n"
     ]
    }
   ],
   "source": [
    "# Generate a 2-D array\n",
    "\n",
    "from numpy import random\n",
    "\n",
    "x = random.choice(np.array(100), size=(3, 5))\n",
    "\n",
    "print(x)"
   ]
  },
  {
   "cell_type": "code",
   "execution_count": 33,
   "metadata": {
    "scrolled": true
   },
   "outputs": [
    {
     "name": "stdout",
     "output_type": "stream",
     "text": [
      "[[[75 51 74 60  7]\n",
      "  [13 58 44 48 88]\n",
      "  [55 73 81 64 20]]\n",
      "\n",
      " [[36 28 40 55 57]\n",
      "  [95 81  0 46 30]\n",
      "  [33 34 62  2 60]]\n",
      "\n",
      " [[ 2 75 24  5 82]\n",
      "  [16 22 30  6 29]\n",
      "  [ 3 82 10 65 28]]]\n"
     ]
    }
   ],
   "source": [
    "x = random.choice(np.array(100), size=(3, 3, 5))\n",
    "\n",
    "print(x)"
   ]
  },
  {
   "cell_type": "code",
   "execution_count": 34,
   "metadata": {},
   "outputs": [
    {
     "name": "stdout",
     "output_type": "stream",
     "text": [
      "[[ 1.88003818  1.87386286 -0.09863372]\n",
      " [ 0.93489957  0.35515056 -0.79071258]\n",
      " [-0.97929031  2.4366965   1.85070343]\n",
      " [ 0.09635005  1.34839153 -0.77433036]\n",
      " [ 1.02871677  0.32991945  0.56985007]]\n"
     ]
    }
   ],
   "source": [
    "#Generate a random normal distribution of size 2x3:\n",
    "\n",
    "from numpy import random\n",
    "\n",
    "x = random.normal(size=(5, 3))\n",
    "\n",
    "print(x)"
   ]
  },
  {
   "cell_type": "code",
   "execution_count": 35,
   "metadata": {},
   "outputs": [
    {
     "name": "stderr",
     "output_type": "stream",
     "text": [
      "c:\\users\\abishake\\appdata\\local\\programs\\python\\python38\\lib\\site-packages\\seaborn\\distributions.py:2551: FutureWarning: `distplot` is a deprecated function and will be removed in a future version. Please adapt your code to use either `displot` (a figure-level function with similar flexibility) or `kdeplot` (an axes-level function for kernel density plots).\n",
      "  warnings.warn(msg, FutureWarning)\n"
     ]
    },
    {
     "data": {
      "image/png": "[encoded data removed]",
      "text/plain": [
       "<Figure size 432x288 with 1 Axes>"
      ]
     },
     "metadata": {
      "needs_background": "light"
     },
     "output_type": "display_data"
    }
   ],
   "source": [
    "from numpy import random\n",
    "import matplotlib.pyplot as plt\n",
    "import seaborn as sns\n",
    "\n",
    "sns.distplot(random.normal(size=1000), hist=False)\n",
    "\n",
    "plt.show()"
   ]
  },
  {
   "cell_type": "code",
   "execution_count": null,
   "metadata": {},
   "outputs": [],
   "source": []
  }
 ],
 "metadata": {
  "kernelspec": {
   "display_name": "Python 3",
   "language": "python",
   "name": "python3"
  },
  "language_info": {
   "codemirror_mode": {
    "name": "ipython",
    "version": 3
   },
   "file_extension": ".py",
   "mimetype": "text/x-python",
   "name": "python",
   "nbconvert_exporter": "python",
   "pygments_lexer": "ipython3",
   "version": "3.8.3rc1"
  }
 },
 "nbformat": 4,
 "nbformat_minor": 4
}
